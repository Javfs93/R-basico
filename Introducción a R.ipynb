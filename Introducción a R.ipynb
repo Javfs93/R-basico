{
 "cells": [
  {
   "cell_type": "markdown",
   "metadata": {},
   "source": [
    "# Bienvenidos al curso de R básico con CCOL \n",
    "Impartido por Javier Fernández <br>\n",
    "Conecta conmigo en mi Linkedin: https://www.linkedin.com/in/qfbtjavierfernandezsegura/<br>\n",
    "Síguenos en nuestras redes sociales: https://www.facebook.com/CCOLMX/ \n",
    "\n",
    "En este curso abordaremos los principios básicos del lenguaje de programación R, el cual es un proyecto open source (gratuito y extensible) que se especializa en computo estadístico y la elaboración de gráficas. \n",
    "\n",
    "El lenguaje R es muy fácil de aprender y utilizar, así que al final de éstas sesiones, tengo la esperanza de que tengas una noción mucho más clara del lenguaje para que puedas leerlo y escribirlo e incluso comiences a utilizarlo en tu trabajo, escuela o proyectos de investigación. \n",
    "\n",
    "Iniciemos por lo más básico, ¿vale? <br>\n",
    "Empecemos por instalar R y RStudio en tu computadora, esto lo podrás hacer a través de estos url<br> R:   https://cran.r-project.org/ <br> Rstudio: https://rstudio.com/products/rstudio/download/#download <br>\n",
    "Un tutorial de cómo instalarlos podrás encontrarlo aquí https://medium.com/datos-y-ciencia/tutorial-instalaci%C3%B3n-r-y-rstudio-563771a29289 <br>\n",
    "\n",
    "También existe una versión en la nube a la que puedes acceder a través del siguiente enlace: https://rstudio.cloud/ <br>\n",
    "\n",
    "Lo único que debes hacer es crear una cuenta, verificar tu correo electrónico y podrás acceder a la versión web de RStudio desde tu navegador\n",
    "\n",
    "Perfecto! Una vez instalado abran RStudio, den click en Archivo -> Nuevo -> Script y comencemos a jugar con R.\n",
    "\n",
    "### Aritmética con R\n",
    "\n",
    "R puede ser utilizado como una calculadora, solo basta con ingresar los números y los operadores de suma (+), resta (-), multiplicación (*), división (/) y presionar ctrl (o cmd en mac) seguido de la tecla enter para ejecutar la operación"
   ]
  },
  {
   "cell_type": "code",
   "execution_count": 1,
   "metadata": {},
   "outputs": [
    {
     "data": {
      "text/html": [
       "7"
      ],
      "text/latex": [
       "7"
      ],
      "text/markdown": [
       "7"
      ],
      "text/plain": [
       "[1] 7"
      ]
     },
     "metadata": {},
     "output_type": "display_data"
    },
    {
     "data": {
      "text/html": [
       "18"
      ],
      "text/latex": [
       "18"
      ],
      "text/markdown": [
       "18"
      ],
      "text/plain": [
       "[1] 18"
      ]
     },
     "metadata": {},
     "output_type": "display_data"
    },
    {
     "data": {
      "text/html": [
       "10"
      ],
      "text/latex": [
       "10"
      ],
      "text/markdown": [
       "10"
      ],
      "text/plain": [
       "[1] 10"
      ]
     },
     "metadata": {},
     "output_type": "display_data"
    },
    {
     "data": {
      "text/html": [
       "0"
      ],
      "text/latex": [
       "0"
      ],
      "text/markdown": [
       "0"
      ],
      "text/plain": [
       "[1] 0"
      ]
     },
     "metadata": {},
     "output_type": "display_data"
    },
    {
     "data": {
      "text/html": [
       "15"
      ],
      "text/latex": [
       "15"
      ],
      "text/markdown": [
       "15"
      ],
      "text/plain": [
       "[1] 15"
      ]
     },
     "metadata": {},
     "output_type": "display_data"
    },
    {
     "data": {
      "text/html": [
       "5"
      ],
      "text/latex": [
       "5"
      ],
      "text/markdown": [
       "5"
      ],
      "text/plain": [
       "[1] 5"
      ]
     },
     "metadata": {},
     "output_type": "display_data"
    }
   ],
   "source": [
    "# Probemos unas operaciones sencillas\n",
    "3 + 4\n",
    "6 + 12\n",
    "5 + 5 \n",
    "5 - 5 \n",
    "3 * 5\n",
    "(5 + 5) / 2 "
   ]
  },
  {
   "cell_type": "markdown",
   "metadata": {},
   "source": [
    "También podemos hacer operaciones un poco más elaboradas como calcular la raíz cuadrada, hacer operaciones con pi, potenciar un número con otro, calcular el exponencial, el logaritmo o incluso convertir un valor en absoluto con los siguientes operadores"
   ]
  },
  {
   "cell_type": "code",
   "execution_count": 2,
   "metadata": {},
   "outputs": [
    {
     "data": {
      "text/html": [
       "23.2379000772445"
      ],
      "text/latex": [
       "23.2379000772445"
      ],
      "text/markdown": [
       "23.2379000772445"
      ],
      "text/plain": [
       "[1] 23.2379"
      ]
     },
     "metadata": {},
     "output_type": "display_data"
    },
    {
     "data": {
      "text/html": [
       "148.413159102577"
      ],
      "text/latex": [
       "148.413159102577"
      ],
      "text/markdown": [
       "148.413159102577"
      ],
      "text/plain": [
       "[1] 148.4132"
      ]
     },
     "metadata": {},
     "output_type": "display_data"
    },
    {
     "data": {
      "text/html": [
       "9765625"
      ],
      "text/latex": [
       "9765625"
      ],
      "text/markdown": [
       "9765625"
      ],
      "text/plain": [
       "[1] 9765625"
      ]
     },
     "metadata": {},
     "output_type": "display_data"
    },
    {
     "data": {
      "text/html": [
       "3.14159265358979"
      ],
      "text/latex": [
       "3.14159265358979"
      ],
      "text/markdown": [
       "3.14159265358979"
      ],
      "text/plain": [
       "[1] 3.141593"
      ]
     },
     "metadata": {},
     "output_type": "display_data"
    },
    {
     "data": {
      "text/html": [
       "1.1447298858494"
      ],
      "text/latex": [
       "1.1447298858494"
      ],
      "text/markdown": [
       "1.1447298858494"
      ],
      "text/plain": [
       "[1] 1.14473"
      ]
     },
     "metadata": {},
     "output_type": "display_data"
    },
    {
     "data": {
      "text/html": [
       "33.5"
      ],
      "text/latex": [
       "33.5"
      ],
      "text/markdown": [
       "33.5"
      ],
      "text/plain": [
       "[1] 33.5"
      ]
     },
     "metadata": {},
     "output_type": "display_data"
    }
   ],
   "source": [
    "# Raíz cuadrada\n",
    "sqrt(540)\n",
    "\n",
    "# Exponencial\n",
    "exp(5)\n",
    "\n",
    "# Potenciación\n",
    "5 ^ 10\n",
    "\n",
    "# pi\n",
    "pi\n",
    "\n",
    "# logaritmo\n",
    "log(pi)\n",
    "\n",
    "# valores absolutos\n",
    "abs(-33.5)\n"
   ]
  },
  {
   "cell_type": "markdown",
   "metadata": {},
   "source": [
    "Ahora sabemos como utilizar R como una calculadora, escribiendo las operaciones y ejecutandolas para imprimirlas en la consola de Rstudio.\n",
    "\n",
    "Muchas veces durante su trabajo con programación van a necesitar el guardar algunos de los resultados de esas operaciones en valores que se les conoce como **variables**.\n",
    "\n",
    "Estas variables te permiten guardar valores u objetos para que puedas acceder a ellos fácilmente después sin tener que ejecutar la operación nuevamente.\n",
    "\n",
    "Hagamos la prueba con un el área de un círculo, como sabremos de nuestras clases de geometría el área se calcula como Pi x radio al cuadrado.  Así que calculemos el area de un circulo con radio de 5 y guardemos ese valor en una variable que se llame **adc** por área del círculo.\n",
    "\n",
    "Para hacer esto ponemos el nombre de la variable seguido del simbolo  <-  y después escribimos nuestra operación.\n",
    "Este símbolo se puede colocar fácilmente con alt + - ó con los simbolos < y - uno despues del otro.\n",
    "\n",
    "Después para acceder al valor guardado en nuestra variable basta con poner el nombre de nuestra variable et voilà! el valor se imprimirá en nuestra consola tras ejecutar."
   ]
  },
  {
   "cell_type": "code",
   "execution_count": 3,
   "metadata": {},
   "outputs": [
    {
     "data": {
      "text/html": [
       "78.5398163397448"
      ],
      "text/latex": [
       "78.5398163397448"
      ],
      "text/markdown": [
       "78.5398163397448"
      ],
      "text/plain": [
       "[1] 78.53982"
      ]
     },
     "metadata": {},
     "output_type": "display_data"
    }
   ],
   "source": [
    "adc  <-  pi * (5^2)\n",
    "adc"
   ]
  },
  {
   "cell_type": "markdown",
   "metadata": {},
   "source": [
    "Para poner en práctica estos principios básicos quiero que hagas lo siguiente:\n",
    "\n",
    "- Asigna el valor 5 a la variable **manzanas** e imprímela\n",
    "- Asigna el valor 6 a la variable **naranjas** e imprímela"
   ]
  },
  {
   "cell_type": "markdown",
   "metadata": {},
   "source": [
    "Además de sólo guardar y mostrar los valores en tus variables, puedes hacer operaciones aritméticas con la variables, prueba sumando manzanas y naranjas."
   ]
  },
  {
   "cell_type": "markdown",
   "metadata": {},
   "source": [
    "Ahora asigna esa operación a la variable **frutas** e imprimelas. <br>\n",
    "\n",
    "Excelente, ahora que has aprendido sobre como hacer aritmética con R quiero que aprendamos sobre los tipos de datos básicos que tiene R.\n",
    "\n",
    "### Tipos de datos básicos\n",
    "\n",
    "R puede trabajar con muchos tipos de datos los básicos y más utilizados son:<br>\n",
    "\n",
    "- Numeric \n",
    "\n",
    "y estos a su vez se dividen en floats (decimales) e integers (enteros)\n",
    "\n",
    "- Boolean\n",
    "\n",
    "Estos se les conoce como valores lógicos y son TRUE o FALSE\n",
    "\n",
    "- Character\n",
    "\n",
    "Estos son texto o cadenas de texto conocidas como *strings*\n",
    "\n",
    "   "
   ]
  },
  {
   "cell_type": "code",
   "execution_count": 4,
   "metadata": {},
   "outputs": [],
   "source": [
    "a  <-  43\n",
    "\n",
    "b <- \"Cinco\"\n",
    "\n",
    "c <- TRUE\n",
    "\n",
    "d <- FALSE"
   ]
  },
  {
   "cell_type": "markdown",
   "metadata": {},
   "source": [
    "Si quisieramos saber qué tipo de valor está guardado en una variable, podemos hacer uso de la función class(Nombre de la variable). Por ejemplo:\n"
   ]
  },
  {
   "cell_type": "code",
   "execution_count": 5,
   "metadata": {},
   "outputs": [
    {
     "data": {
      "text/html": [
       "'numeric'"
      ],
      "text/latex": [
       "'numeric'"
      ],
      "text/markdown": [
       "'numeric'"
      ],
      "text/plain": [
       "[1] \"numeric\""
      ]
     },
     "metadata": {},
     "output_type": "display_data"
    },
    {
     "data": {
      "text/html": [
       "'character'"
      ],
      "text/latex": [
       "'character'"
      ],
      "text/markdown": [
       "'character'"
      ],
      "text/plain": [
       "[1] \"character\""
      ]
     },
     "metadata": {},
     "output_type": "display_data"
    },
    {
     "data": {
      "text/html": [
       "'logical'"
      ],
      "text/latex": [
       "'logical'"
      ],
      "text/markdown": [
       "'logical'"
      ],
      "text/plain": [
       "[1] \"logical\""
      ]
     },
     "metadata": {},
     "output_type": "display_data"
    },
    {
     "data": {
      "text/html": [
       "'logical'"
      ],
      "text/latex": [
       "'logical'"
      ],
      "text/markdown": [
       "'logical'"
      ],
      "text/plain": [
       "[1] \"logical\""
      ]
     },
     "metadata": {},
     "output_type": "display_data"
    }
   ],
   "source": [
    "class(a)\n",
    "class(b)\n",
    "class(c)\n",
    "class(d)"
   ]
  },
  {
   "cell_type": "markdown",
   "metadata": {},
   "source": [
    "Si quisieramos hacer operaciones con ellos por ejemplo **a + b** osea 43 más cinco"
   ]
  },
  {
   "cell_type": "code",
   "execution_count": 6,
   "metadata": {},
   "outputs": [
    {
     "ename": "ERROR",
     "evalue": "Error in a + b: argumento no-numérico para operador binario\n",
     "output_type": "error",
     "traceback": [
      "Error in a + b: argumento no-numérico para operador binario\nTraceback:\n"
     ]
    }
   ],
   "source": [
    "a + b"
   ]
  },
  {
   "cell_type": "markdown",
   "metadata": {},
   "source": [
    "R nos va a marcar un error ya que no son del mismo tipo de dato. Pero si por ejemplo ejecutamos "
   ]
  },
  {
   "cell_type": "code",
   "execution_count": 24,
   "metadata": {},
   "outputs": [
    {
     "data": {
      "text/html": [
       "1"
      ],
      "text/latex": [
       "1"
      ],
      "text/markdown": [
       "1"
      ],
      "text/plain": [
       "[1] 1"
      ]
     },
     "metadata": {},
     "output_type": "display_data"
    }
   ],
   "source": [
    "c + d"
   ]
  },
  {
   "cell_type": "markdown",
   "metadata": {},
   "source": [
    "Nos regresa un 1 ya que nos permite ejecutar la operación booleana sin problema alguno. <br>\n",
    "\n",
    "En más de una ocasión vamos a necesitar acomodar una serie de números o caracteres uno seguido del otro. Para eso utilizamos objectos que en R se les conoce como **vectores**\n",
    "\n",
    "### Vectores\n",
    "\n",
    "Para iniciar un vector la sintaxis es la siguiente: <br>\n",
    "\n",
    "c(1,2,3,4) <br>\n",
    "\n",
    "En caso de usar caracteres necesitaras encerrarlos entre comillas dobles<br>\n",
    "\n",
    "c(\"a\",\"b\",\"c\",\"d\") <br>\n",
    "\n",
    "Intenta creando un vectores con los siguientes valores: <br>\n",
    "\n",
    "Un vector llamado **numericos** con los valores 7,8,9 y 10 <br>\n",
    "Un vector llamado **caracteres** con las letras CCOL <br>\n",
    "Un vector llamado **booleanos** con los valores TRUE, FALSE,TRUE,TRUE <br>\n",
    "    "
   ]
  },
  {
   "cell_type": "markdown",
   "metadata": {},
   "source": [
    "Ahora hagamos un ejercicio con vectores. \n",
    "Imagina que vas a un casino una semana de lunes a viernes y que jugaste poker y ruleta. Decidiste colectar lo que ganaste y perdiste en los 5 dias.\n",
    "\n",
    "En el poker: <br>\n",
    "\n",
    "- El Lunes ganaste 140 \n",
    "- El Martes perdiste 50\n",
    "- El Miércoles ganaste 20\n",
    "- EL Jueves perdiste 120\n",
    "- El Viernes ganaste 240\n",
    "\n",
    "En la ruleta: <br>\n",
    "\n",
    "- El Lunes perdiste 24\n",
    "- El Martes perdiste 50\n",
    "- El Miércoles ganaste 100\n",
    "- El Jueves perdiste 350\n",
    "- El Viernes ganaste 10\n",
    "\n",
    "Para poder utilizar estos valores crea 2 vectores uno que se llame **ruleta** y otro que se llame **poker**"
   ]
  },
  {
   "cell_type": "code",
   "execution_count": 25,
   "metadata": {},
   "outputs": [],
   "source": [
    "poker <- c(140, -50, 20, -120, 240)\n",
    "\n",
    "ruleta <- c(-24,-50,100,-350,10)"
   ]
  },
  {
   "cell_type": "code",
   "execution_count": 26,
   "metadata": {},
   "outputs": [
    {
     "data": {
      "text/html": [
       "<style>\n",
       ".list-inline {list-style: none; margin:0; padding: 0}\n",
       ".list-inline>li {display: inline-block}\n",
       ".list-inline>li:not(:last-child)::after {content: \"\\00b7\"; padding: 0 .5ex}\n",
       "</style>\n",
       "<ol class=list-inline><li>140</li><li>-50</li><li>20</li><li>-120</li><li>240</li></ol>\n"
      ],
      "text/latex": [
       "\\begin{enumerate*}\n",
       "\\item 140\n",
       "\\item -50\n",
       "\\item 20\n",
       "\\item -120\n",
       "\\item 240\n",
       "\\end{enumerate*}\n"
      ],
      "text/markdown": [
       "1. 140\n",
       "2. -50\n",
       "3. 20\n",
       "4. -120\n",
       "5. 240\n",
       "\n",
       "\n"
      ],
      "text/plain": [
       "[1]  140  -50   20 -120  240"
      ]
     },
     "metadata": {},
     "output_type": "display_data"
    },
    {
     "data": {
      "text/html": [
       "<style>\n",
       ".list-inline {list-style: none; margin:0; padding: 0}\n",
       ".list-inline>li {display: inline-block}\n",
       ".list-inline>li:not(:last-child)::after {content: \"\\00b7\"; padding: 0 .5ex}\n",
       "</style>\n",
       "<ol class=list-inline><li>-24</li><li>-50</li><li>100</li><li>-350</li><li>10</li></ol>\n"
      ],
      "text/latex": [
       "\\begin{enumerate*}\n",
       "\\item -24\n",
       "\\item -50\n",
       "\\item 100\n",
       "\\item -350\n",
       "\\item 10\n",
       "\\end{enumerate*}\n"
      ],
      "text/markdown": [
       "1. -24\n",
       "2. -50\n",
       "3. 100\n",
       "4. -350\n",
       "5. 10\n",
       "\n",
       "\n"
      ],
      "text/plain": [
       "[1]  -24  -50  100 -350   10"
      ]
     },
     "metadata": {},
     "output_type": "display_data"
    }
   ],
   "source": [
    "poker\n",
    "ruleta"
   ]
  },
  {
   "cell_type": "markdown",
   "metadata": {},
   "source": [
    "Ahora crea un vector llamado **dias** con los días de la semana en que jugaste"
   ]
  },
  {
   "cell_type": "code",
   "execution_count": 27,
   "metadata": {},
   "outputs": [],
   "source": [
    "dias <- c(\"Lunes\",\"Martes\",\"Miércoles\",\"Jueves\",\"Viernes\")"
   ]
  },
  {
   "cell_type": "markdown",
   "metadata": {},
   "source": [
    "Como una lista de número no nos dice mucho, empecemos por rotular estos número con la función `names(Nombre del objeto)` podemos extraer el encabezado de un vector"
   ]
  },
  {
   "cell_type": "code",
   "execution_count": 28,
   "metadata": {},
   "outputs": [
    {
     "data": {
      "text/plain": [
       "NULL"
      ]
     },
     "metadata": {},
     "output_type": "display_data"
    },
    {
     "data": {
      "text/plain": [
       "NULL"
      ]
     },
     "metadata": {},
     "output_type": "display_data"
    },
    {
     "data": {
      "text/plain": [
       "NULL"
      ]
     },
     "metadata": {},
     "output_type": "display_data"
    }
   ],
   "source": [
    "names(poker)\n",
    "names(ruleta)\n",
    "names(dias)"
   ]
  },
  {
   "cell_type": "markdown",
   "metadata": {},
   "source": [
    "Como podrás los vectores aun no tienen encabezados, por lo que podemos añadirselos, asignandole a names(Objecto) un vector con el titulo de cada valor, en este caso el vector **dias** que ya creamos. "
   ]
  },
  {
   "cell_type": "code",
   "execution_count": 29,
   "metadata": {},
   "outputs": [],
   "source": [
    "names(poker)  <- dias\n",
    "names(ruleta) <- dias    "
   ]
  },
  {
   "cell_type": "code",
   "execution_count": 30,
   "metadata": {},
   "outputs": [
    {
     "data": {
      "text/html": [
       "<style>\n",
       ".list-inline {list-style: none; margin:0; padding: 0}\n",
       ".list-inline>li {display: inline-block}\n",
       ".list-inline>li:not(:last-child)::after {content: \"\\00b7\"; padding: 0 .5ex}\n",
       "</style>\n",
       "<ol class=list-inline><li>'Lunes'</li><li>'Martes'</li><li>'Miércoles'</li><li>'Jueves'</li><li>'Viernes'</li></ol>\n"
      ],
      "text/latex": [
       "\\begin{enumerate*}\n",
       "\\item 'Lunes'\n",
       "\\item 'Martes'\n",
       "\\item 'Miércoles'\n",
       "\\item 'Jueves'\n",
       "\\item 'Viernes'\n",
       "\\end{enumerate*}\n"
      ],
      "text/markdown": [
       "1. 'Lunes'\n",
       "2. 'Martes'\n",
       "3. 'Miércoles'\n",
       "4. 'Jueves'\n",
       "5. 'Viernes'\n",
       "\n",
       "\n"
      ],
      "text/plain": [
       "[1] \"Lunes\"     \"Martes\"    \"Miércoles\" \"Jueves\"    \"Viernes\"  "
      ]
     },
     "metadata": {},
     "output_type": "display_data"
    },
    {
     "data": {
      "text/html": [
       "<style>\n",
       ".list-inline {list-style: none; margin:0; padding: 0}\n",
       ".list-inline>li {display: inline-block}\n",
       ".list-inline>li:not(:last-child)::after {content: \"\\00b7\"; padding: 0 .5ex}\n",
       "</style>\n",
       "<ol class=list-inline><li>'Lunes'</li><li>'Martes'</li><li>'Miércoles'</li><li>'Jueves'</li><li>'Viernes'</li></ol>\n"
      ],
      "text/latex": [
       "\\begin{enumerate*}\n",
       "\\item 'Lunes'\n",
       "\\item 'Martes'\n",
       "\\item 'Miércoles'\n",
       "\\item 'Jueves'\n",
       "\\item 'Viernes'\n",
       "\\end{enumerate*}\n"
      ],
      "text/markdown": [
       "1. 'Lunes'\n",
       "2. 'Martes'\n",
       "3. 'Miércoles'\n",
       "4. 'Jueves'\n",
       "5. 'Viernes'\n",
       "\n",
       "\n"
      ],
      "text/plain": [
       "[1] \"Lunes\"     \"Martes\"    \"Miércoles\" \"Jueves\"    \"Viernes\"  "
      ]
     },
     "metadata": {},
     "output_type": "display_data"
    }
   ],
   "source": [
    "names(poker)\n",
    "names(ruleta)"
   ]
  },
  {
   "cell_type": "markdown",
   "metadata": {},
   "source": [
    "Ahora veamos como luce nuestros vectores **poker** y **ruleta**"
   ]
  },
  {
   "cell_type": "code",
   "execution_count": 31,
   "metadata": {},
   "outputs": [
    {
     "data": {
      "text/html": [
       "<style>\n",
       ".dl-inline {width: auto; margin:0; padding: 0}\n",
       ".dl-inline>dt, .dl-inline>dd {float: none; width: auto; display: inline-block}\n",
       ".dl-inline>dt::after {content: \":\\0020\"; padding-right: .5ex}\n",
       ".dl-inline>dt:not(:first-of-type) {padding-left: .5ex}\n",
       "</style><dl class=dl-inline><dt>Lunes</dt><dd>140</dd><dt>Martes</dt><dd>-50</dd><dt>Miércoles</dt><dd>20</dd><dt>Jueves</dt><dd>-120</dd><dt>Viernes</dt><dd>240</dd></dl>\n"
      ],
      "text/latex": [
       "\\begin{description*}\n",
       "\\item[Lunes] 140\n",
       "\\item[Martes] -50\n",
       "\\item[Miércoles] 20\n",
       "\\item[Jueves] -120\n",
       "\\item[Viernes] 240\n",
       "\\end{description*}\n"
      ],
      "text/markdown": [
       "Lunes\n",
       ":   140Martes\n",
       ":   -50Miércoles\n",
       ":   20Jueves\n",
       ":   -120Viernes\n",
       ":   240\n",
       "\n"
      ],
      "text/plain": [
       "    Lunes    Martes Miércoles    Jueves   Viernes \n",
       "      140       -50        20      -120       240 "
      ]
     },
     "metadata": {},
     "output_type": "display_data"
    },
    {
     "data": {
      "text/html": [
       "<style>\n",
       ".dl-inline {width: auto; margin:0; padding: 0}\n",
       ".dl-inline>dt, .dl-inline>dd {float: none; width: auto; display: inline-block}\n",
       ".dl-inline>dt::after {content: \":\\0020\"; padding-right: .5ex}\n",
       ".dl-inline>dt:not(:first-of-type) {padding-left: .5ex}\n",
       "</style><dl class=dl-inline><dt>Lunes</dt><dd>-24</dd><dt>Martes</dt><dd>-50</dd><dt>Miércoles</dt><dd>100</dd><dt>Jueves</dt><dd>-350</dd><dt>Viernes</dt><dd>10</dd></dl>\n"
      ],
      "text/latex": [
       "\\begin{description*}\n",
       "\\item[Lunes] -24\n",
       "\\item[Martes] -50\n",
       "\\item[Miércoles] 100\n",
       "\\item[Jueves] -350\n",
       "\\item[Viernes] 10\n",
       "\\end{description*}\n"
      ],
      "text/markdown": [
       "Lunes\n",
       ":   -24Martes\n",
       ":   -50Miércoles\n",
       ":   100Jueves\n",
       ":   -350Viernes\n",
       ":   10\n",
       "\n"
      ],
      "text/plain": [
       "    Lunes    Martes Miércoles    Jueves   Viernes \n",
       "      -24       -50       100      -350        10 "
      ]
     },
     "metadata": {},
     "output_type": "display_data"
    }
   ],
   "source": [
    "poker\n",
    "ruleta"
   ]
  },
  {
   "cell_type": "markdown",
   "metadata": {},
   "source": [
    "Otra cosa interesante de los vectores es que, siempre y cuando sean numéricos, podemos hacer operaciones con ellos, veamos"
   ]
  },
  {
   "cell_type": "code",
   "execution_count": 32,
   "metadata": {},
   "outputs": [
    {
     "data": {
      "text/html": [
       "<style>\n",
       ".dl-inline {width: auto; margin:0; padding: 0}\n",
       ".dl-inline>dt, .dl-inline>dd {float: none; width: auto; display: inline-block}\n",
       ".dl-inline>dt::after {content: \":\\0020\"; padding-right: .5ex}\n",
       ".dl-inline>dt:not(:first-of-type) {padding-left: .5ex}\n",
       "</style><dl class=dl-inline><dt>Lunes</dt><dd>116</dd><dt>Martes</dt><dd>-100</dd><dt>Miércoles</dt><dd>120</dd><dt>Jueves</dt><dd>-470</dd><dt>Viernes</dt><dd>250</dd></dl>\n"
      ],
      "text/latex": [
       "\\begin{description*}\n",
       "\\item[Lunes] 116\n",
       "\\item[Martes] -100\n",
       "\\item[Miércoles] 120\n",
       "\\item[Jueves] -470\n",
       "\\item[Viernes] 250\n",
       "\\end{description*}\n"
      ],
      "text/markdown": [
       "Lunes\n",
       ":   116Martes\n",
       ":   -100Miércoles\n",
       ":   120Jueves\n",
       ":   -470Viernes\n",
       ":   250\n",
       "\n"
      ],
      "text/plain": [
       "    Lunes    Martes Miércoles    Jueves   Viernes \n",
       "      116      -100       120      -470       250 "
      ]
     },
     "metadata": {},
     "output_type": "display_data"
    }
   ],
   "source": [
    "poker + ruleta"
   ]
  },
  {
   "cell_type": "markdown",
   "metadata": {},
   "source": [
    "Como vemos podemos apreciar cuanto es lo que ganamos y perdimos en cada días. Y ¿si quisieramos hacer la sumatoria de cada juego por separado? podríamos hacer lo siguiente: <br>\n",
    "Ver el vector poker"
   ]
  },
  {
   "cell_type": "code",
   "execution_count": 33,
   "metadata": {},
   "outputs": [
    {
     "data": {
      "text/html": [
       "<style>\n",
       ".dl-inline {width: auto; margin:0; padding: 0}\n",
       ".dl-inline>dt, .dl-inline>dd {float: none; width: auto; display: inline-block}\n",
       ".dl-inline>dt::after {content: \":\\0020\"; padding-right: .5ex}\n",
       ".dl-inline>dt:not(:first-of-type) {padding-left: .5ex}\n",
       "</style><dl class=dl-inline><dt>Lunes</dt><dd>140</dd><dt>Martes</dt><dd>-50</dd><dt>Miércoles</dt><dd>20</dd><dt>Jueves</dt><dd>-120</dd><dt>Viernes</dt><dd>240</dd></dl>\n"
      ],
      "text/latex": [
       "\\begin{description*}\n",
       "\\item[Lunes] 140\n",
       "\\item[Martes] -50\n",
       "\\item[Miércoles] 20\n",
       "\\item[Jueves] -120\n",
       "\\item[Viernes] 240\n",
       "\\end{description*}\n"
      ],
      "text/markdown": [
       "Lunes\n",
       ":   140Martes\n",
       ":   -50Miércoles\n",
       ":   20Jueves\n",
       ":   -120Viernes\n",
       ":   240\n",
       "\n"
      ],
      "text/plain": [
       "    Lunes    Martes Miércoles    Jueves   Viernes \n",
       "      140       -50        20      -120       240 "
      ]
     },
     "metadata": {},
     "output_type": "display_data"
    }
   ],
   "source": [
    "poker"
   ]
  },
  {
   "cell_type": "markdown",
   "metadata": {},
   "source": [
    "Y luego hacer la aritmética"
   ]
  },
  {
   "cell_type": "code",
   "execution_count": 34,
   "metadata": {},
   "outputs": [
    {
     "data": {
      "text/html": [
       "230"
      ],
      "text/latex": [
       "230"
      ],
      "text/markdown": [
       "230"
      ],
      "text/plain": [
       "[1] 230"
      ]
     },
     "metadata": {},
     "output_type": "display_data"
    }
   ],
   "source": [
    "140-50+20-120+240"
   ]
  },
  {
   "cell_type": "markdown",
   "metadata": {},
   "source": [
    "Pero, seamos honesto, eso es muy lento y muy propenso a errores, imagínate que tuvieras un vector con miles de números. ¡Qué flojera! Pero, afortunadamente, R cuenta con una función llamada `sum()` que nos ayuda a hacer la sumatoria de todos los elementos de un vector numérico de forma muy práctica"
   ]
  },
  {
   "cell_type": "code",
   "execution_count": 35,
   "metadata": {},
   "outputs": [
    {
     "data": {
      "text/html": [
       "230"
      ],
      "text/latex": [
       "230"
      ],
      "text/markdown": [
       "230"
      ],
      "text/plain": [
       "[1] 230"
      ]
     },
     "metadata": {},
     "output_type": "display_data"
    }
   ],
   "source": [
    "sum(poker)"
   ]
  },
  {
   "cell_type": "markdown",
   "metadata": {},
   "source": [
    "Ahora que ya sabes esto, quiero que hagas los siguiente:<br>\n",
    "- Calcula el total ganado en poker y guárdalo como **total_poker**\n",
    "- Haz lo mismo para ruleta y guárdalo como **total_ruleta**\n",
    "- Luego haz el cálculo de lo ganado en total durante la semana, tanto en poker como en ruleta.\n",
    "\n",
    "¿Qué valor te da? ¿Ganaste o perdiste dinero?"
   ]
  },
  {
   "cell_type": "markdown",
   "metadata": {},
   "source": [
    "Bien, ¿y si quisieramos comparar en cual juego nos fue mejor? <br>\n",
    "Para eso podemos usar los símbolos:<br>\n",
    "- mayor que ( < )\n",
    "- menor que ( > )\n",
    "- igual que ( == )\n",
    "- distinto que ( != ) <br>\n",
    "\n",
    "Podemos preguntarle a R, por ejemplo, ¿Ganamos lo mismo en poker que en ruleta?"
   ]
  },
  {
   "cell_type": "code",
   "execution_count": 36,
   "metadata": {},
   "outputs": [],
   "source": [
    "total_poker <-sum(poker)\n",
    "total_ruleta <-sum(ruleta)"
   ]
  },
  {
   "cell_type": "code",
   "execution_count": 37,
   "metadata": {},
   "outputs": [
    {
     "data": {
      "text/html": [
       "FALSE"
      ],
      "text/latex": [
       "FALSE"
      ],
      "text/markdown": [
       "FALSE"
      ],
      "text/plain": [
       "[1] FALSE"
      ]
     },
     "metadata": {},
     "output_type": "display_data"
    }
   ],
   "source": [
    "total_poker == total_ruleta"
   ]
  },
  {
   "cell_type": "markdown",
   "metadata": {},
   "source": [
    "Entonces, de ser así probemos a ver si ganamos más en ruleta que en poker"
   ]
  },
  {
   "cell_type": "code",
   "execution_count": 38,
   "metadata": {},
   "outputs": [
    {
     "data": {
      "text/html": [
       "FALSE"
      ],
      "text/latex": [
       "FALSE"
      ],
      "text/markdown": [
       "FALSE"
      ],
      "text/plain": [
       "[1] FALSE"
      ]
     },
     "metadata": {},
     "output_type": "display_data"
    }
   ],
   "source": [
    "total_poker < total_ruleta"
   ]
  },
  {
   "cell_type": "markdown",
   "metadata": {},
   "source": [
    "OK, veamos el caso contrario"
   ]
  },
  {
   "cell_type": "code",
   "execution_count": 39,
   "metadata": {},
   "outputs": [
    {
     "data": {
      "text/html": [
       "TRUE"
      ],
      "text/latex": [
       "TRUE"
      ],
      "text/markdown": [
       "TRUE"
      ],
      "text/plain": [
       "[1] TRUE"
      ]
     },
     "metadata": {},
     "output_type": "display_data"
    }
   ],
   "source": [
    "total_poker > total_ruleta"
   ]
  },
  {
   "cell_type": "markdown",
   "metadata": {},
   "source": [
    "Como vemos, con unas sencillas operaciones de lógica podemos determinar si un valor es identico, distinto, mayor o menor que otro.\n",
    "¡Genial! ahora, ¿qué harías si quisieras seleccionar un valor específico de un vector? <br>\n",
    "Bueno, para eso podemos usar la siguiente notación:<br>\n",
    "                       \n",
    "      nombredelvector[número o nombre de la posición]\n",
    "                    \n",
    "Veamos un ejemplo        "
   ]
  },
  {
   "cell_type": "code",
   "execution_count": 40,
   "metadata": {},
   "outputs": [
    {
     "data": {
      "text/html": [
       "<strong>Miércoles:</strong> 20"
      ],
      "text/latex": [
       "\\textbf{Miércoles:} 20"
      ],
      "text/markdown": [
       "**Miércoles:** 20"
      ],
      "text/plain": [
       "Miércoles \n",
       "       20 "
      ]
     },
     "metadata": {},
     "output_type": "display_data"
    },
    {
     "data": {
      "text/html": [
       "<strong>Jueves:</strong> -120"
      ],
      "text/latex": [
       "\\textbf{Jueves:} -120"
      ],
      "text/markdown": [
       "**Jueves:** -120"
      ],
      "text/plain": [
       "Jueves \n",
       "  -120 "
      ]
     },
     "metadata": {},
     "output_type": "display_data"
    }
   ],
   "source": [
    "poker[3]\n",
    "poker[\"Jueves\"]"
   ]
  },
  {
   "cell_type": "markdown",
   "metadata": {},
   "source": [
    "Como ves, es muy fácil seleccionar un elemento de un vector. En caso de querer hacer la selección de múltiples elementos, puedes dentro de los corchetes poner otro vector de número con las posiciones que quieras seleccionar. Por ejemplo, elijamos el lunes, miercoles y viernes"
   ]
  },
  {
   "cell_type": "code",
   "execution_count": 41,
   "metadata": {},
   "outputs": [
    {
     "data": {
      "text/html": [
       "<style>\n",
       ".dl-inline {width: auto; margin:0; padding: 0}\n",
       ".dl-inline>dt, .dl-inline>dd {float: none; width: auto; display: inline-block}\n",
       ".dl-inline>dt::after {content: \":\\0020\"; padding-right: .5ex}\n",
       ".dl-inline>dt:not(:first-of-type) {padding-left: .5ex}\n",
       "</style><dl class=dl-inline><dt>Lunes</dt><dd>140</dd><dt>Miércoles</dt><dd>20</dd><dt>Viernes</dt><dd>240</dd></dl>\n"
      ],
      "text/latex": [
       "\\begin{description*}\n",
       "\\item[Lunes] 140\n",
       "\\item[Miércoles] 20\n",
       "\\item[Viernes] 240\n",
       "\\end{description*}\n"
      ],
      "text/markdown": [
       "Lunes\n",
       ":   140Miércoles\n",
       ":   20Viernes\n",
       ":   240\n",
       "\n"
      ],
      "text/plain": [
       "    Lunes Miércoles   Viernes \n",
       "      140        20       240 "
      ]
     },
     "metadata": {},
     "output_type": "display_data"
    }
   ],
   "source": [
    "poker[c(1,3,5)]"
   ]
  },
  {
   "cell_type": "markdown",
   "metadata": {},
   "source": [
    "De quererlo hacer con número consecutivos puede usar la notación:<br>\n",
    "\n",
    "       nombre del vector[numeroinicial:numerofinal]\n",
    "                 \n",
    "Veamos, elijamos de martes a jueves"
   ]
  },
  {
   "cell_type": "code",
   "execution_count": 42,
   "metadata": {},
   "outputs": [
    {
     "data": {
      "text/html": [
       "<style>\n",
       ".dl-inline {width: auto; margin:0; padding: 0}\n",
       ".dl-inline>dt, .dl-inline>dd {float: none; width: auto; display: inline-block}\n",
       ".dl-inline>dt::after {content: \":\\0020\"; padding-right: .5ex}\n",
       ".dl-inline>dt:not(:first-of-type) {padding-left: .5ex}\n",
       "</style><dl class=dl-inline><dt>Martes</dt><dd>-50</dd><dt>Miércoles</dt><dd>20</dd><dt>Jueves</dt><dd>-120</dd></dl>\n"
      ],
      "text/latex": [
       "\\begin{description*}\n",
       "\\item[Martes] -50\n",
       "\\item[Miércoles] 20\n",
       "\\item[Jueves] -120\n",
       "\\end{description*}\n"
      ],
      "text/markdown": [
       "Martes\n",
       ":   -50Miércoles\n",
       ":   20Jueves\n",
       ":   -120\n",
       "\n"
      ],
      "text/plain": [
       "   Martes Miércoles    Jueves \n",
       "      -50        20      -120 "
      ]
     },
     "metadata": {},
     "output_type": "display_data"
    }
   ],
   "source": [
    "poker[2:4]"
   ]
  },
  {
   "cell_type": "markdown",
   "metadata": {},
   "source": [
    "¡Excelente! Como ves es muy sencillo, ahora me gustaría que hicieras el siguiente ejercicio:<br>\n",
    "- Con el vector **ruleta** selecciona los valores de Lunes, Martes y Jueves y guardarlos en un vector llamado **LMJ** e imprimelos\n",
    "- Con el vector poker selecciona Lunes, Martes y Miércoles y guárdalos como **LMM*\n",
    "- Calcula la media del vector **LMM** \n",
    "\n",
    "Para calcular la media existe una función llamada `mean()`, se usa tal y como se usa `sum()`"
   ]
  },
  {
   "cell_type": "markdown",
   "metadata": {},
   "source": [
    "Ahora continuemos con algo interesante, ¿Qué tal si quisiera saber en qué dias gane y en cuales perdí? Bueno, para determinar eso necesitamos saber si lo que ganamos en cierto día es más que 0, entonces podemos hacer esa operación en R de la siguiente forma"
   ]
  },
  {
   "cell_type": "code",
   "execution_count": 43,
   "metadata": {},
   "outputs": [
    {
     "data": {
      "text/html": [
       "<style>\n",
       ".dl-inline {width: auto; margin:0; padding: 0}\n",
       ".dl-inline>dt, .dl-inline>dd {float: none; width: auto; display: inline-block}\n",
       ".dl-inline>dt::after {content: \":\\0020\"; padding-right: .5ex}\n",
       ".dl-inline>dt:not(:first-of-type) {padding-left: .5ex}\n",
       "</style><dl class=dl-inline><dt>Lunes</dt><dd>TRUE</dd><dt>Martes</dt><dd>FALSE</dd><dt>Miércoles</dt><dd>TRUE</dd><dt>Jueves</dt><dd>FALSE</dd><dt>Viernes</dt><dd>TRUE</dd></dl>\n"
      ],
      "text/latex": [
       "\\begin{description*}\n",
       "\\item[Lunes] TRUE\n",
       "\\item[Martes] FALSE\n",
       "\\item[Miércoles] TRUE\n",
       "\\item[Jueves] FALSE\n",
       "\\item[Viernes] TRUE\n",
       "\\end{description*}\n"
      ],
      "text/markdown": [
       "Lunes\n",
       ":   TRUEMartes\n",
       ":   FALSEMiércoles\n",
       ":   TRUEJueves\n",
       ":   FALSEViernes\n",
       ":   TRUE\n",
       "\n"
      ],
      "text/plain": [
       "    Lunes    Martes Miércoles    Jueves   Viernes \n",
       "     TRUE     FALSE      TRUE     FALSE      TRUE "
      ]
     },
     "metadata": {},
     "output_type": "display_data"
    }
   ],
   "source": [
    "poker > 0"
   ]
  },
  {
   "cell_type": "markdown",
   "metadata": {},
   "source": [
    "¡Sencillito! Entonces podemos hacer esas mismas operaciones, para saber los días, por ejemplo, en que perdimos :( <br>\n",
    "Inténtalo\n"
   ]
  },
  {
   "cell_type": "markdown",
   "metadata": {},
   "source": [
    "Ahora probemos guardar el resultado de los días en que perdimos en el poker en un vector llamado **perdidas** y seleccionemos usando la notación que ya conocemos para seleccionar elementos de vectores, solo que en lugar de un número o el nombre de un encabezado, coloquemos el nombre del nuevo vector. ¿Qué resultado esperarías?"
   ]
  },
  {
   "cell_type": "code",
   "execution_count": 44,
   "metadata": {},
   "outputs": [
    {
     "data": {
      "text/html": [
       "<style>\n",
       ".dl-inline {width: auto; margin:0; padding: 0}\n",
       ".dl-inline>dt, .dl-inline>dd {float: none; width: auto; display: inline-block}\n",
       ".dl-inline>dt::after {content: \":\\0020\"; padding-right: .5ex}\n",
       ".dl-inline>dt:not(:first-of-type) {padding-left: .5ex}\n",
       "</style><dl class=dl-inline><dt>Martes</dt><dd>-50</dd><dt>Jueves</dt><dd>-120</dd></dl>\n"
      ],
      "text/latex": [
       "\\begin{description*}\n",
       "\\item[Martes] -50\n",
       "\\item[Jueves] -120\n",
       "\\end{description*}\n"
      ],
      "text/markdown": [
       "Martes\n",
       ":   -50Jueves\n",
       ":   -120\n",
       "\n"
      ],
      "text/plain": [
       "Martes Jueves \n",
       "   -50   -120 "
      ]
     },
     "metadata": {},
     "output_type": "display_data"
    }
   ],
   "source": [
    "perdidas <- poker < 0\n",
    "poker[perdidas]"
   ]
  },
  {
   "cell_type": "markdown",
   "metadata": {},
   "source": [
    "### Matrices"
   ]
  },
  {
   "cell_type": "markdown",
   "metadata": {},
   "source": [
    "Ahora veremos otro tipo de objeto utilizado en R, que consiste de una colección de elementos del mismo tipo de dato (númerico, carácter y lógicos) acomodados en un arreglo fijo de columnas y filas, o 2 dimensiones. Para construir una matriz en R usamos la función `matrix()` <br>\n",
    "A continuación un ejemplo"
   ]
  },
  {
   "cell_type": "code",
   "execution_count": 45,
   "metadata": {},
   "outputs": [
    {
     "data": {
      "text/html": [
       "<table>\n",
       "<caption>A matrix: 3 × 3 of type int</caption>\n",
       "<tbody>\n",
       "\t<tr><td>1</td><td>2</td><td>3</td></tr>\n",
       "\t<tr><td>4</td><td>5</td><td>6</td></tr>\n",
       "\t<tr><td>7</td><td>8</td><td>9</td></tr>\n",
       "</tbody>\n",
       "</table>\n"
      ],
      "text/latex": [
       "A matrix: 3 × 3 of type int\n",
       "\\begin{tabular}{lll}\n",
       "\t 1 & 2 & 3\\\\\n",
       "\t 4 & 5 & 6\\\\\n",
       "\t 7 & 8 & 9\\\\\n",
       "\\end{tabular}\n"
      ],
      "text/markdown": [
       "\n",
       "A matrix: 3 × 3 of type int\n",
       "\n",
       "| 1 | 2 | 3 |\n",
       "| 4 | 5 | 6 |\n",
       "| 7 | 8 | 9 |\n",
       "\n"
      ],
      "text/plain": [
       "     [,1] [,2] [,3]\n",
       "[1,] 1    2    3   \n",
       "[2,] 4    5    6   \n",
       "[3,] 7    8    9   "
      ]
     },
     "metadata": {},
     "output_type": "display_data"
    }
   ],
   "source": [
    "matrix(1:9, byrow = TRUE, nrow = 3)\n"
   ]
  },
  {
   "cell_type": "markdown",
   "metadata": {},
   "source": [
    "Para prácticar con la construcción y manipulación de matrices, hagamos el siguiente ejercicio con los números de las ganacias en taquilla de las películas de Star Wars en Estados Unidos y fuera de Estados Unidos. Estos están guardados en los siguientes vectores"
   ]
  },
  {
   "cell_type": "code",
   "execution_count": 46,
   "metadata": {},
   "outputs": [],
   "source": [
    "new_hope <- c(460.998, 314.4)\n",
    "empire_strikes <- c(290.475, 247.900)\n",
    "return_jedi <- c(309.306, 165.8)"
   ]
  },
  {
   "cell_type": "markdown",
   "metadata": {},
   "source": [
    "Guarda esos 3 vectores en una variable llamada **box_office**. <br>\n",
    "Ahora construye una matriz de 3 filas con cada una de las películas y llámala **starwars_matrix**"
   ]
  },
  {
   "cell_type": "code",
   "execution_count": 47,
   "metadata": {},
   "outputs": [],
   "source": [
    "box_office <- c(new_hope, empire_strikes, return_jedi)\n",
    "starwars_matrix <- matrix(box_office, nrow= 3, byrow = TRUE)"
   ]
  },
  {
   "cell_type": "code",
   "execution_count": 48,
   "metadata": {},
   "outputs": [
    {
     "data": {
      "text/html": [
       "<style>\n",
       ".list-inline {list-style: none; margin:0; padding: 0}\n",
       ".list-inline>li {display: inline-block}\n",
       ".list-inline>li:not(:last-child)::after {content: \"\\00b7\"; padding: 0 .5ex}\n",
       "</style>\n",
       "<ol class=list-inline><li>460.998</li><li>314.4</li><li>290.475</li><li>247.9</li><li>309.306</li><li>165.8</li></ol>\n"
      ],
      "text/latex": [
       "\\begin{enumerate*}\n",
       "\\item 460.998\n",
       "\\item 314.4\n",
       "\\item 290.475\n",
       "\\item 247.9\n",
       "\\item 309.306\n",
       "\\item 165.8\n",
       "\\end{enumerate*}\n"
      ],
      "text/markdown": [
       "1. 460.998\n",
       "2. 314.4\n",
       "3. 290.475\n",
       "4. 247.9\n",
       "5. 309.306\n",
       "6. 165.8\n",
       "\n",
       "\n"
      ],
      "text/plain": [
       "[1] 460.998 314.400 290.475 247.900 309.306 165.800"
      ]
     },
     "metadata": {},
     "output_type": "display_data"
    }
   ],
   "source": [
    "box_office"
   ]
  },
  {
   "cell_type": "code",
   "execution_count": 49,
   "metadata": {},
   "outputs": [
    {
     "data": {
      "text/html": [
       "<table>\n",
       "<caption>A matrix: 3 × 2 of type dbl</caption>\n",
       "<tbody>\n",
       "\t<tr><td>460.998</td><td>314.4</td></tr>\n",
       "\t<tr><td>290.475</td><td>247.9</td></tr>\n",
       "\t<tr><td>309.306</td><td>165.8</td></tr>\n",
       "</tbody>\n",
       "</table>\n"
      ],
      "text/latex": [
       "A matrix: 3 × 2 of type dbl\n",
       "\\begin{tabular}{ll}\n",
       "\t 460.998 & 314.4\\\\\n",
       "\t 290.475 & 247.9\\\\\n",
       "\t 309.306 & 165.8\\\\\n",
       "\\end{tabular}\n"
      ],
      "text/markdown": [
       "\n",
       "A matrix: 3 × 2 of type dbl\n",
       "\n",
       "| 460.998 | 314.4 |\n",
       "| 290.475 | 247.9 |\n",
       "| 309.306 | 165.8 |\n",
       "\n"
      ],
      "text/plain": [
       "     [,1]    [,2] \n",
       "[1,] 460.998 314.4\n",
       "[2,] 290.475 247.9\n",
       "[3,] 309.306 165.8"
      ]
     },
     "metadata": {},
     "output_type": "display_data"
    }
   ],
   "source": [
    "starwars_matrix"
   ]
  },
  {
   "cell_type": "markdown",
   "metadata": {},
   "source": [
    "Con la función `colnames()` podemos extraer los nombres de las columnas de una matriz y con la función `rownames()` podemos ver los nombres de filas, o como vimos en el caso de los vectores, podemos añadirle nombres.<br> Añade los títulos de filas y columnas con los siguientes vectores:"
   ]
  },
  {
   "cell_type": "code",
   "execution_count": 50,
   "metadata": {},
   "outputs": [],
   "source": [
    "region <- c(\"US\", \"non-US\")\n",
    "titles <- c(\"A New Hope\", \"The Empire Strikes Back\", \"Return of the Jedi\")"
   ]
  },
  {
   "cell_type": "markdown",
   "metadata": {},
   "source": [
    "Ahora imprime la matriz, debe verse así:\n",
    "\n",
    "                                 US  non-US\n",
    "    A New Hope              460.998  314.4\n",
    "    The Empire Strikes Back 290.475  247.9\n",
    "    Return of the Jedi      309.306  165.8\n",
    "    "
   ]
  },
  {
   "cell_type": "code",
   "execution_count": 51,
   "metadata": {},
   "outputs": [
    {
     "data": {
      "text/html": [
       "<table>\n",
       "<caption>A matrix: 3 × 2 of type dbl</caption>\n",
       "<thead>\n",
       "\t<tr><th></th><th scope=col>US</th><th scope=col>non-US</th></tr>\n",
       "</thead>\n",
       "<tbody>\n",
       "\t<tr><th scope=row>A New Hope</th><td>460.998</td><td>314.4</td></tr>\n",
       "\t<tr><th scope=row>The Empire Strikes Back</th><td>290.475</td><td>247.9</td></tr>\n",
       "\t<tr><th scope=row>Return of the Jedi</th><td>309.306</td><td>165.8</td></tr>\n",
       "</tbody>\n",
       "</table>\n"
      ],
      "text/latex": [
       "A matrix: 3 × 2 of type dbl\n",
       "\\begin{tabular}{r|ll}\n",
       "  & US & non-US\\\\\n",
       "\\hline\n",
       "\tA New Hope & 460.998 & 314.4\\\\\n",
       "\tThe Empire Strikes Back & 290.475 & 247.9\\\\\n",
       "\tReturn of the Jedi & 309.306 & 165.8\\\\\n",
       "\\end{tabular}\n"
      ],
      "text/markdown": [
       "\n",
       "A matrix: 3 × 2 of type dbl\n",
       "\n",
       "| <!--/--> | US | non-US |\n",
       "|---|---|---|\n",
       "| A New Hope | 460.998 | 314.4 |\n",
       "| The Empire Strikes Back | 290.475 | 247.9 |\n",
       "| Return of the Jedi | 309.306 | 165.8 |\n",
       "\n"
      ],
      "text/plain": [
       "                        US      non-US\n",
       "A New Hope              460.998 314.4 \n",
       "The Empire Strikes Back 290.475 247.9 \n",
       "Return of the Jedi      309.306 165.8 "
      ]
     },
     "metadata": {},
     "output_type": "display_data"
    }
   ],
   "source": [
    "rownames(starwars_matrix) <- titles\n",
    "colnames(starwars_matrix) <- region\n",
    "starwars_matrix"
   ]
  },
  {
   "cell_type": "markdown",
   "metadata": {},
   "source": [
    "También podemos hacer la suma de los valores de las filas con la función `rowSums()` probemos la función"
   ]
  },
  {
   "cell_type": "code",
   "execution_count": 52,
   "metadata": {},
   "outputs": [
    {
     "data": {
      "text/html": [
       "<style>\n",
       ".dl-inline {width: auto; margin:0; padding: 0}\n",
       ".dl-inline>dt, .dl-inline>dd {float: none; width: auto; display: inline-block}\n",
       ".dl-inline>dt::after {content: \":\\0020\"; padding-right: .5ex}\n",
       ".dl-inline>dt:not(:first-of-type) {padding-left: .5ex}\n",
       "</style><dl class=dl-inline><dt>A New Hope</dt><dd>775.398</dd><dt>The Empire Strikes Back</dt><dd>538.375</dd><dt>Return of the Jedi</dt><dd>475.106</dd></dl>\n"
      ],
      "text/latex": [
       "\\begin{description*}\n",
       "\\item[A New Hope] 775.398\n",
       "\\item[The Empire Strikes Back] 538.375\n",
       "\\item[Return of the Jedi] 475.106\n",
       "\\end{description*}\n"
      ],
      "text/markdown": [
       "A New Hope\n",
       ":   775.398The Empire Strikes Back\n",
       ":   538.375Return of the Jedi\n",
       ":   475.106\n",
       "\n"
      ],
      "text/plain": [
       "             A New Hope The Empire Strikes Back      Return of the Jedi \n",
       "                775.398                 538.375                 475.106 "
      ]
     },
     "metadata": {},
     "output_type": "display_data"
    }
   ],
   "source": [
    "rowSums(starwars_matrix)"
   ]
  },
  {
   "cell_type": "markdown",
   "metadata": {},
   "source": [
    "Guardemos los resultados en una variable llamada **totales**"
   ]
  },
  {
   "cell_type": "code",
   "execution_count": 53,
   "metadata": {},
   "outputs": [],
   "source": [
    "totales <- rowSums(starwars_matrix)"
   ]
  },
  {
   "cell_type": "markdown",
   "metadata": {},
   "source": [
    "Exploremos ahora una función llamada `cbind()` que conjuga matrices o vectores juntos por columnas. <br> Probemosla"
   ]
  },
  {
   "cell_type": "code",
   "execution_count": 54,
   "metadata": {},
   "outputs": [
    {
     "data": {
      "text/html": [
       "<table>\n",
       "<caption>A matrix: 3 × 3 of type dbl</caption>\n",
       "<thead>\n",
       "\t<tr><th></th><th scope=col>US</th><th scope=col>non-US</th><th scope=col>totales</th></tr>\n",
       "</thead>\n",
       "<tbody>\n",
       "\t<tr><th scope=row>A New Hope</th><td>460.998</td><td>314.4</td><td>775.398</td></tr>\n",
       "\t<tr><th scope=row>The Empire Strikes Back</th><td>290.475</td><td>247.9</td><td>538.375</td></tr>\n",
       "\t<tr><th scope=row>Return of the Jedi</th><td>309.306</td><td>165.8</td><td>475.106</td></tr>\n",
       "</tbody>\n",
       "</table>\n"
      ],
      "text/latex": [
       "A matrix: 3 × 3 of type dbl\n",
       "\\begin{tabular}{r|lll}\n",
       "  & US & non-US & totales\\\\\n",
       "\\hline\n",
       "\tA New Hope & 460.998 & 314.4 & 775.398\\\\\n",
       "\tThe Empire Strikes Back & 290.475 & 247.9 & 538.375\\\\\n",
       "\tReturn of the Jedi & 309.306 & 165.8 & 475.106\\\\\n",
       "\\end{tabular}\n"
      ],
      "text/markdown": [
       "\n",
       "A matrix: 3 × 3 of type dbl\n",
       "\n",
       "| <!--/--> | US | non-US | totales |\n",
       "|---|---|---|---|\n",
       "| A New Hope | 460.998 | 314.4 | 775.398 |\n",
       "| The Empire Strikes Back | 290.475 | 247.9 | 538.375 |\n",
       "| Return of the Jedi | 309.306 | 165.8 | 475.106 |\n",
       "\n"
      ],
      "text/plain": [
       "                        US      non-US totales\n",
       "A New Hope              460.998 314.4  775.398\n",
       "The Empire Strikes Back 290.475 247.9  538.375\n",
       "Return of the Jedi      309.306 165.8  475.106"
      ]
     },
     "metadata": {},
     "output_type": "display_data"
    }
   ],
   "source": [
    "cbind(starwars_matrix, totales)"
   ]
  },
  {
   "cell_type": "markdown",
   "metadata": {},
   "source": [
    "Guardemos esa matriz como **starwars_total**. <br> Ahora para que práctiquemos, construye la siguiente matriz y guardalo como **starwars_matrix2**:\n",
    "\n",
    "                            US non-US\n",
    "    The Phantom Menace   474.5  552.5\n",
    "    Attack of the Clones 310.7  338.7\n",
    "    Revenge of the Sith  380.3  468.5"
   ]
  },
  {
   "cell_type": "code",
   "execution_count": 55,
   "metadata": {},
   "outputs": [
    {
     "data": {
      "text/html": [
       "<table>\n",
       "<caption>A matrix: 3 × 2 of type dbl</caption>\n",
       "<thead>\n",
       "\t<tr><th></th><th scope=col>US</th><th scope=col>non-US</th></tr>\n",
       "</thead>\n",
       "<tbody>\n",
       "\t<tr><th scope=row>The Phantom Menace</th><td>474.5</td><td>552.5</td></tr>\n",
       "\t<tr><th scope=row>Attack of the Clones</th><td>310.7</td><td>338.7</td></tr>\n",
       "\t<tr><th scope=row>Revenge of the Sith</th><td>380.3</td><td>468.5</td></tr>\n",
       "</tbody>\n",
       "</table>\n"
      ],
      "text/latex": [
       "A matrix: 3 × 2 of type dbl\n",
       "\\begin{tabular}{r|ll}\n",
       "  & US & non-US\\\\\n",
       "\\hline\n",
       "\tThe Phantom Menace & 474.5 & 552.5\\\\\n",
       "\tAttack of the Clones & 310.7 & 338.7\\\\\n",
       "\tRevenge of the Sith & 380.3 & 468.5\\\\\n",
       "\\end{tabular}\n"
      ],
      "text/markdown": [
       "\n",
       "A matrix: 3 × 2 of type dbl\n",
       "\n",
       "| <!--/--> | US | non-US |\n",
       "|---|---|---|\n",
       "| The Phantom Menace | 474.5 | 552.5 |\n",
       "| Attack of the Clones | 310.7 | 338.7 |\n",
       "| Revenge of the Sith | 380.3 | 468.5 |\n",
       "\n"
      ],
      "text/plain": [
       "                     US    non-US\n",
       "The Phantom Menace   474.5 552.5 \n",
       "Attack of the Clones 310.7 338.7 \n",
       "Revenge of the Sith  380.3 468.5 "
      ]
     },
     "metadata": {},
     "output_type": "display_data"
    }
   ],
   "source": [
    "The_Phantom_Menace <- c(474.500, 552.500)\n",
    "Attack_of_the_clones <- c(310.700, 338.700)\n",
    "Revenge_of_the_Sith  <-  c(380.300, 468.500)\n",
    "taquilla <- c(The_Phantom_Menace, Attack_of_the_clones, Revenge_of_the_Sith)\n",
    "titles2 <- c(\"The Phantom Menace\", \"Attack of the Clones\", \"Revenge of the Sith\")\n",
    "starwars_matrix2 <- matrix(taquilla, nrow = 3, byrow = TRUE)\n",
    "colnames(starwars_matrix2) <- region\n",
    "rownames(starwars_matrix2) <- titles2\n",
    "starwars_matrix2"
   ]
  },
  {
   "cell_type": "markdown",
   "metadata": {},
   "source": [
    "Si quisieramos unir las filas de uno con el otro, podemos usar la función `rbind(matriz1, matriz2, ...)` "
   ]
  },
  {
   "cell_type": "code",
   "execution_count": 56,
   "metadata": {},
   "outputs": [
    {
     "data": {
      "text/html": [
       "<table>\n",
       "<caption>A matrix: 6 × 2 of type dbl</caption>\n",
       "<thead>\n",
       "\t<tr><th></th><th scope=col>US</th><th scope=col>non-US</th></tr>\n",
       "</thead>\n",
       "<tbody>\n",
       "\t<tr><th scope=row>A New Hope</th><td>460.998</td><td>314.4</td></tr>\n",
       "\t<tr><th scope=row>The Empire Strikes Back</th><td>290.475</td><td>247.9</td></tr>\n",
       "\t<tr><th scope=row>Return of the Jedi</th><td>309.306</td><td>165.8</td></tr>\n",
       "\t<tr><th scope=row>The Phantom Menace</th><td>474.500</td><td>552.5</td></tr>\n",
       "\t<tr><th scope=row>Attack of the Clones</th><td>310.700</td><td>338.7</td></tr>\n",
       "\t<tr><th scope=row>Revenge of the Sith</th><td>380.300</td><td>468.5</td></tr>\n",
       "</tbody>\n",
       "</table>\n"
      ],
      "text/latex": [
       "A matrix: 6 × 2 of type dbl\n",
       "\\begin{tabular}{r|ll}\n",
       "  & US & non-US\\\\\n",
       "\\hline\n",
       "\tA New Hope & 460.998 & 314.4\\\\\n",
       "\tThe Empire Strikes Back & 290.475 & 247.9\\\\\n",
       "\tReturn of the Jedi & 309.306 & 165.8\\\\\n",
       "\tThe Phantom Menace & 474.500 & 552.5\\\\\n",
       "\tAttack of the Clones & 310.700 & 338.7\\\\\n",
       "\tRevenge of the Sith & 380.300 & 468.5\\\\\n",
       "\\end{tabular}\n"
      ],
      "text/markdown": [
       "\n",
       "A matrix: 6 × 2 of type dbl\n",
       "\n",
       "| <!--/--> | US | non-US |\n",
       "|---|---|---|\n",
       "| A New Hope | 460.998 | 314.4 |\n",
       "| The Empire Strikes Back | 290.475 | 247.9 |\n",
       "| Return of the Jedi | 309.306 | 165.8 |\n",
       "| The Phantom Menace | 474.500 | 552.5 |\n",
       "| Attack of the Clones | 310.700 | 338.7 |\n",
       "| Revenge of the Sith | 380.300 | 468.5 |\n",
       "\n"
      ],
      "text/plain": [
       "                        US      non-US\n",
       "A New Hope              460.998 314.4 \n",
       "The Empire Strikes Back 290.475 247.9 \n",
       "Return of the Jedi      309.306 165.8 \n",
       "The Phantom Menace      474.500 552.5 \n",
       "Attack of the Clones    310.700 338.7 \n",
       "Revenge of the Sith     380.300 468.5 "
      ]
     },
     "metadata": {},
     "output_type": "display_data"
    }
   ],
   "source": [
    "rbind(starwars_matrix, starwars_matrix2)"
   ]
  },
  {
   "cell_type": "markdown",
   "metadata": {},
   "source": [
    "Guardemos esa matrix como **starwars_todas**"
   ]
  },
  {
   "cell_type": "code",
   "execution_count": 57,
   "metadata": {},
   "outputs": [],
   "source": [
    "starwars_todas <- rbind(starwars_matrix, starwars_matrix2)"
   ]
  },
  {
   "cell_type": "markdown",
   "metadata": {},
   "source": [
    "Y así como existe una función para sumar filas, también podemos sumar columnas con la función `colSums()`.<br> Probemosla con nuestra nueva matriz"
   ]
  },
  {
   "cell_type": "code",
   "execution_count": 58,
   "metadata": {},
   "outputs": [
    {
     "data": {
      "text/html": [
       "<style>\n",
       ".dl-inline {width: auto; margin:0; padding: 0}\n",
       ".dl-inline>dt, .dl-inline>dd {float: none; width: auto; display: inline-block}\n",
       ".dl-inline>dt::after {content: \":\\0020\"; padding-right: .5ex}\n",
       ".dl-inline>dt:not(:first-of-type) {padding-left: .5ex}\n",
       "</style><dl class=dl-inline><dt>US</dt><dd>2226.279</dd><dt>non-US</dt><dd>2087.8</dd></dl>\n"
      ],
      "text/latex": [
       "\\begin{description*}\n",
       "\\item[US] 2226.279\n",
       "\\item[non-US] 2087.8\n",
       "\\end{description*}\n"
      ],
      "text/markdown": [
       "US\n",
       ":   2226.279non-US\n",
       ":   2087.8\n",
       "\n"
      ],
      "text/plain": [
       "      US   non-US \n",
       "2226.279 2087.800 "
      ]
     },
     "metadata": {},
     "output_type": "display_data"
    }
   ],
   "source": [
    "colSums(starwars_todas)\n"
   ]
  },
  {
   "cell_type": "markdown",
   "metadata": {},
   "source": [
    "Ahora pongámos a prueba lo aprendido con la construcción de una matriz como la siguiente: <br>\n",
    "\n",
    "                                US   non-US  totales\n",
    "    A New Hope               460.998  314.400  775.398\n",
    "    The Empire Strikes Back  290.475  247.919  538.394\n",
    "    Return of the Jedi       309.306  165.800  475.106\n",
    "    The Phantom Menace       474.500  552.500 1027.000\n",
    "    Attack of the Clones     310.700  338.700  649.400\n",
    "    Revenge of the Sith      380.300  468.500  848.800\n",
    "    totales_globales         2226.279 2087.819 4314.098\n",
    "\n",
    "Y guardalo como **starwars_totales**\n"
   ]
  },
  {
   "cell_type": "code",
   "execution_count": 59,
   "metadata": {},
   "outputs": [
    {
     "data": {
      "text/html": [
       "<table>\n",
       "<caption>A matrix: 7 × 3 of type dbl</caption>\n",
       "<thead>\n",
       "\t<tr><th></th><th scope=col>US</th><th scope=col>non-US</th><th scope=col>totales</th></tr>\n",
       "</thead>\n",
       "<tbody>\n",
       "\t<tr><th scope=row>A New Hope</th><td> 460.998</td><td> 314.4</td><td> 775.398</td></tr>\n",
       "\t<tr><th scope=row>The Empire Strikes Back</th><td> 290.475</td><td> 247.9</td><td> 538.375</td></tr>\n",
       "\t<tr><th scope=row>Return of the Jedi</th><td> 309.306</td><td> 165.8</td><td> 475.106</td></tr>\n",
       "\t<tr><th scope=row>The Phantom Menace</th><td> 474.500</td><td> 552.5</td><td>1027.000</td></tr>\n",
       "\t<tr><th scope=row>Attack of the Clones</th><td> 310.700</td><td> 338.7</td><td> 649.400</td></tr>\n",
       "\t<tr><th scope=row>Revenge of the Sith</th><td> 380.300</td><td> 468.5</td><td> 848.800</td></tr>\n",
       "\t<tr><th scope=row>totales_globales</th><td>2226.279</td><td>2087.8</td><td>4314.079</td></tr>\n",
       "</tbody>\n",
       "</table>\n"
      ],
      "text/latex": [
       "A matrix: 7 × 3 of type dbl\n",
       "\\begin{tabular}{r|lll}\n",
       "  & US & non-US & totales\\\\\n",
       "\\hline\n",
       "\tA New Hope &  460.998 &  314.4 &  775.398\\\\\n",
       "\tThe Empire Strikes Back &  290.475 &  247.9 &  538.375\\\\\n",
       "\tReturn of the Jedi &  309.306 &  165.8 &  475.106\\\\\n",
       "\tThe Phantom Menace &  474.500 &  552.5 & 1027.000\\\\\n",
       "\tAttack of the Clones &  310.700 &  338.7 &  649.400\\\\\n",
       "\tRevenge of the Sith &  380.300 &  468.5 &  848.800\\\\\n",
       "\ttotales\\_globales & 2226.279 & 2087.8 & 4314.079\\\\\n",
       "\\end{tabular}\n"
      ],
      "text/markdown": [
       "\n",
       "A matrix: 7 × 3 of type dbl\n",
       "\n",
       "| <!--/--> | US | non-US | totales |\n",
       "|---|---|---|---|\n",
       "| A New Hope |  460.998 |  314.4 |  775.398 |\n",
       "| The Empire Strikes Back |  290.475 |  247.9 |  538.375 |\n",
       "| Return of the Jedi |  309.306 |  165.8 |  475.106 |\n",
       "| The Phantom Menace |  474.500 |  552.5 | 1027.000 |\n",
       "| Attack of the Clones |  310.700 |  338.7 |  649.400 |\n",
       "| Revenge of the Sith |  380.300 |  468.5 |  848.800 |\n",
       "| totales_globales | 2226.279 | 2087.8 | 4314.079 |\n",
       "\n"
      ],
      "text/plain": [
       "                        US       non-US totales \n",
       "A New Hope               460.998  314.4  775.398\n",
       "The Empire Strikes Back  290.475  247.9  538.375\n",
       "Return of the Jedi       309.306  165.8  475.106\n",
       "The Phantom Menace       474.500  552.5 1027.000\n",
       "Attack of the Clones     310.700  338.7  649.400\n",
       "Revenge of the Sith      380.300  468.5  848.800\n",
       "totales_globales        2226.279 2087.8 4314.079"
      ]
     },
     "metadata": {},
     "output_type": "display_data"
    }
   ],
   "source": [
    "totales_globales <- colSums(starwars_todas)\n",
    "starwars_globales <- rbind(starwars_todas, totales_globales)\n",
    "totales <- rowSums(starwars_globales)\n",
    "starwars_totales <- cbind(starwars_globales, totales)\n",
    "starwars_totales\n"
   ]
  },
  {
   "cell_type": "markdown",
   "metadata": {},
   "source": [
    "¡Genial! Ahora, ¿cómo haríamos la selección de un elemento dentro de una matriz? Bien, pues de una forma muy similar a la de los vectores, con el nombres del objeto seguido de corchetes o brackets `[]`pero al ser una matriz un objeto de 2 dimensiones debemos seleccionar de la siguiente forma:<br> \n",
    "\n",
    "            NombreMatriz[NúmeroFila,NúmeroColuma]\n",
    "            \n",
    "En caso de querer seleccionar todas las filas o todas la columnas, dejamos el espacio en blanco, ya sea antes o después de la coma, respectivamente. <br>\n",
    "\n",
    "Probemoslo seleccionando las ganancias de todas la peliculas fuera de los US."
   ]
  },
  {
   "cell_type": "code",
   "execution_count": 60,
   "metadata": {},
   "outputs": [
    {
     "data": {
      "text/html": [
       "<style>\n",
       ".dl-inline {width: auto; margin:0; padding: 0}\n",
       ".dl-inline>dt, .dl-inline>dd {float: none; width: auto; display: inline-block}\n",
       ".dl-inline>dt::after {content: \":\\0020\"; padding-right: .5ex}\n",
       ".dl-inline>dt:not(:first-of-type) {padding-left: .5ex}\n",
       "</style><dl class=dl-inline><dt>A New Hope</dt><dd>314.4</dd><dt>The Empire Strikes Back</dt><dd>247.9</dd><dt>Return of the Jedi</dt><dd>165.8</dd><dt>The Phantom Menace</dt><dd>552.5</dd><dt>Attack of the Clones</dt><dd>338.7</dd><dt>Revenge of the Sith</dt><dd>468.5</dd></dl>\n"
      ],
      "text/latex": [
       "\\begin{description*}\n",
       "\\item[A New Hope] 314.4\n",
       "\\item[The Empire Strikes Back] 247.9\n",
       "\\item[Return of the Jedi] 165.8\n",
       "\\item[The Phantom Menace] 552.5\n",
       "\\item[Attack of the Clones] 338.7\n",
       "\\item[Revenge of the Sith] 468.5\n",
       "\\end{description*}\n"
      ],
      "text/markdown": [
       "A New Hope\n",
       ":   314.4The Empire Strikes Back\n",
       ":   247.9Return of the Jedi\n",
       ":   165.8The Phantom Menace\n",
       ":   552.5Attack of the Clones\n",
       ":   338.7Revenge of the Sith\n",
       ":   468.5\n",
       "\n"
      ],
      "text/plain": [
       "             A New Hope The Empire Strikes Back      Return of the Jedi \n",
       "                  314.4                   247.9                   165.8 \n",
       "     The Phantom Menace    Attack of the Clones     Revenge of the Sith \n",
       "                  552.5                   338.7                   468.5 "
      ]
     },
     "metadata": {},
     "output_type": "display_data"
    }
   ],
   "source": [
    "starwars_todas[ ,2]"
   ]
  },
  {
   "cell_type": "markdown",
   "metadata": {},
   "source": [
    "Podemos así, hacer cálculos con esos valores, por ejemplo, podemos cálcular la media o el total"
   ]
  },
  {
   "cell_type": "code",
   "execution_count": 61,
   "metadata": {},
   "outputs": [
    {
     "data": {
      "text/html": [
       "347.966666666667"
      ],
      "text/latex": [
       "347.966666666667"
      ],
      "text/markdown": [
       "347.966666666667"
      ],
      "text/plain": [
       "[1] 347.9667"
      ]
     },
     "metadata": {},
     "output_type": "display_data"
    },
    {
     "data": {
      "text/html": [
       "2087.8"
      ],
      "text/latex": [
       "2087.8"
      ],
      "text/markdown": [
       "2087.8"
      ],
      "text/plain": [
       "[1] 2087.8"
      ]
     },
     "metadata": {},
     "output_type": "display_data"
    }
   ],
   "source": [
    "mean(starwars_todas[ ,2])\n",
    "sum(starwars_todas[ ,2])"
   ]
  },
  {
   "cell_type": "markdown",
   "metadata": {},
   "source": [
    "También podemos hacer aritmética con estas matrices, por ejemplo, imaginemos que el boleto vale en promedio 5 dolares por persona, entonces podemos dividir la ganancia entre el costo y obtener el número de visitantes"
   ]
  },
  {
   "cell_type": "code",
   "execution_count": 62,
   "metadata": {},
   "outputs": [
    {
     "data": {
      "text/html": [
       "<table>\n",
       "<caption>A matrix: 6 × 2 of type dbl</caption>\n",
       "<thead>\n",
       "\t<tr><th></th><th scope=col>US</th><th scope=col>non-US</th></tr>\n",
       "</thead>\n",
       "<tbody>\n",
       "\t<tr><th scope=row>A New Hope</th><td>92.1996</td><td> 62.88</td></tr>\n",
       "\t<tr><th scope=row>The Empire Strikes Back</th><td>58.0950</td><td> 49.58</td></tr>\n",
       "\t<tr><th scope=row>Return of the Jedi</th><td>61.8612</td><td> 33.16</td></tr>\n",
       "\t<tr><th scope=row>The Phantom Menace</th><td>94.9000</td><td>110.50</td></tr>\n",
       "\t<tr><th scope=row>Attack of the Clones</th><td>62.1400</td><td> 67.74</td></tr>\n",
       "\t<tr><th scope=row>Revenge of the Sith</th><td>76.0600</td><td> 93.70</td></tr>\n",
       "</tbody>\n",
       "</table>\n"
      ],
      "text/latex": [
       "A matrix: 6 × 2 of type dbl\n",
       "\\begin{tabular}{r|ll}\n",
       "  & US & non-US\\\\\n",
       "\\hline\n",
       "\tA New Hope & 92.1996 &  62.88\\\\\n",
       "\tThe Empire Strikes Back & 58.0950 &  49.58\\\\\n",
       "\tReturn of the Jedi & 61.8612 &  33.16\\\\\n",
       "\tThe Phantom Menace & 94.9000 & 110.50\\\\\n",
       "\tAttack of the Clones & 62.1400 &  67.74\\\\\n",
       "\tRevenge of the Sith & 76.0600 &  93.70\\\\\n",
       "\\end{tabular}\n"
      ],
      "text/markdown": [
       "\n",
       "A matrix: 6 × 2 of type dbl\n",
       "\n",
       "| <!--/--> | US | non-US |\n",
       "|---|---|---|\n",
       "| A New Hope | 92.1996 |  62.88 |\n",
       "| The Empire Strikes Back | 58.0950 |  49.58 |\n",
       "| Return of the Jedi | 61.8612 |  33.16 |\n",
       "| The Phantom Menace | 94.9000 | 110.50 |\n",
       "| Attack of the Clones | 62.1400 |  67.74 |\n",
       "| Revenge of the Sith | 76.0600 |  93.70 |\n",
       "\n"
      ],
      "text/plain": [
       "                        US      non-US\n",
       "A New Hope              92.1996  62.88\n",
       "The Empire Strikes Back 58.0950  49.58\n",
       "Return of the Jedi      61.8612  33.16\n",
       "The Phantom Menace      94.9000 110.50\n",
       "Attack of the Clones    62.1400  67.74\n",
       "Revenge of the Sith     76.0600  93.70"
      ]
     },
     "metadata": {},
     "output_type": "display_data"
    }
   ],
   "source": [
    "starwars_todas / 5"
   ]
  },
  {
   "cell_type": "markdown",
   "metadata": {},
   "source": [
    "Ahora tú calcula la média de visitante en estados unidos"
   ]
  },
  {
   "cell_type": "code",
   "execution_count": 63,
   "metadata": {},
   "outputs": [
    {
     "data": {
      "text/html": [
       "71.9013166666667"
      ],
      "text/latex": [
       "71.9013166666667"
      ],
      "text/markdown": [
       "71.9013166666667"
      ],
      "text/plain": [
       "[1] 71.90132"
      ]
     },
     "metadata": {},
     "output_type": "display_data"
    }
   ],
   "source": [
    "visitantes <- starwars_todas / 5\n",
    "mean(visitantes)"
   ]
  },
  {
   "cell_type": "markdown",
   "metadata": {},
   "source": [
    "### Factores"
   ]
  },
  {
   "cell_type": "markdown",
   "metadata": {},
   "source": [
    "El término factor se refiere a un tipo de dato estadísticos utilizado para almacenar variables categóricas. La diferencia entre una variable categórica y una variable continua es que una variable categórica puede pertenecer a un número limitado de categorías. Una variable continua, por otro lado, puede corresponder a un número infinito de valores.<br>\n",
    "\n",
    "Es importante que R sepa si se trata de una variable continua o categórica, ya que los modelos estadísticos que desarrollará en el futuro tratan a ambos tipos de manera diferente.<br>\n",
    " \n",
    "Un buen ejemplo de una variable categórica es el sexo. En muchas circunstancias, puede limitar las categorías de sexo a \"Masculino\" o \"Femenino\". (A veces puede necesitar diferentes categorías. Por ejemplo, es posible que deba considerar la variación cromosómica, los animales hermafroditas o las diferentes normas culturales, pero siempre tendrá un número finito de categorías).\n",
    "\n",
    "Para convertir una variable a factor usamos la función factor de la siguiente forma:<br>\n",
    "\n",
    "                    factor(NombreVariable) \n",
    "                    \n",
    " Experimentemos con los siguientes vector\n"
   ]
  },
  {
   "cell_type": "code",
   "execution_count": 64,
   "metadata": {},
   "outputs": [],
   "source": [
    "sexo <- c(\"Hombre\",\"Mujer\",\"Hombre\",\"Mujer\",\"Mujer\",\"Hombre\")\n",
    "animales <- c(\"Elefante\",\"Jirafa\",\"Burro\",\"Caballo\")\n",
    "temperaturas <- c(\"Alta\",\"Baja\",\"Alta\",\"Media\",\"Baja\")"
   ]
  },
  {
   "cell_type": "code",
   "execution_count": 65,
   "metadata": {},
   "outputs": [
    {
     "data": {
      "text/html": [
       "<style>\n",
       ".list-inline {list-style: none; margin:0; padding: 0}\n",
       ".list-inline>li {display: inline-block}\n",
       ".list-inline>li:not(:last-child)::after {content: \"\\00b7\"; padding: 0 .5ex}\n",
       "</style>\n",
       "<ol class=list-inline><li>Hombre</li><li>Mujer</li><li>Hombre</li><li>Mujer</li><li>Mujer</li><li>Hombre</li></ol>\n",
       "\n",
       "<details>\n",
       "\t<summary style=display:list-item;cursor:pointer>\n",
       "\t\t<strong>Levels</strong>:\n",
       "\t</summary>\n",
       "\t<style>\n",
       "\t.list-inline {list-style: none; margin:0; padding: 0}\n",
       "\t.list-inline>li {display: inline-block}\n",
       "\t.list-inline>li:not(:last-child)::after {content: \"\\00b7\"; padding: 0 .5ex}\n",
       "\t</style>\n",
       "\t<ol class=list-inline><li>'Hombre'</li><li>'Mujer'</li></ol>\n",
       "</details>"
      ],
      "text/latex": [
       "\\begin{enumerate*}\n",
       "\\item Hombre\n",
       "\\item Mujer\n",
       "\\item Hombre\n",
       "\\item Mujer\n",
       "\\item Mujer\n",
       "\\item Hombre\n",
       "\\end{enumerate*}\n",
       "\n",
       "\\emph{Levels}: \\begin{enumerate*}\n",
       "\\item 'Hombre'\n",
       "\\item 'Mujer'\n",
       "\\end{enumerate*}\n"
      ],
      "text/markdown": [
       "1. Hombre\n",
       "2. Mujer\n",
       "3. Hombre\n",
       "4. Mujer\n",
       "5. Mujer\n",
       "6. Hombre\n",
       "\n",
       "\n",
       "\n",
       "**Levels**: 1. 'Hombre'\n",
       "2. 'Mujer'\n",
       "\n",
       "\n"
      ],
      "text/plain": [
       "[1] Hombre Mujer  Hombre Mujer  Mujer  Hombre\n",
       "Levels: Hombre Mujer"
      ]
     },
     "metadata": {},
     "output_type": "display_data"
    },
    {
     "data": {
      "text/html": [
       "<style>\n",
       ".list-inline {list-style: none; margin:0; padding: 0}\n",
       ".list-inline>li {display: inline-block}\n",
       ".list-inline>li:not(:last-child)::after {content: \"\\00b7\"; padding: 0 .5ex}\n",
       "</style>\n",
       "<ol class=list-inline><li>Elefante</li><li>Jirafa</li><li>Burro</li><li>Caballo</li></ol>\n",
       "\n",
       "<details>\n",
       "\t<summary style=display:list-item;cursor:pointer>\n",
       "\t\t<strong>Levels</strong>:\n",
       "\t</summary>\n",
       "\t<style>\n",
       "\t.list-inline {list-style: none; margin:0; padding: 0}\n",
       "\t.list-inline>li {display: inline-block}\n",
       "\t.list-inline>li:not(:last-child)::after {content: \"\\00b7\"; padding: 0 .5ex}\n",
       "\t</style>\n",
       "\t<ol class=list-inline><li>'Burro'</li><li>'Caballo'</li><li>'Elefante'</li><li>'Jirafa'</li></ol>\n",
       "</details>"
      ],
      "text/latex": [
       "\\begin{enumerate*}\n",
       "\\item Elefante\n",
       "\\item Jirafa\n",
       "\\item Burro\n",
       "\\item Caballo\n",
       "\\end{enumerate*}\n",
       "\n",
       "\\emph{Levels}: \\begin{enumerate*}\n",
       "\\item 'Burro'\n",
       "\\item 'Caballo'\n",
       "\\item 'Elefante'\n",
       "\\item 'Jirafa'\n",
       "\\end{enumerate*}\n"
      ],
      "text/markdown": [
       "1. Elefante\n",
       "2. Jirafa\n",
       "3. Burro\n",
       "4. Caballo\n",
       "\n",
       "\n",
       "\n",
       "**Levels**: 1. 'Burro'\n",
       "2. 'Caballo'\n",
       "3. 'Elefante'\n",
       "4. 'Jirafa'\n",
       "\n",
       "\n"
      ],
      "text/plain": [
       "[1] Elefante Jirafa   Burro    Caballo \n",
       "Levels: Burro Caballo Elefante Jirafa"
      ]
     },
     "metadata": {},
     "output_type": "display_data"
    },
    {
     "data": {
      "text/html": [
       "<style>\n",
       ".list-inline {list-style: none; margin:0; padding: 0}\n",
       ".list-inline>li {display: inline-block}\n",
       ".list-inline>li:not(:last-child)::after {content: \"\\00b7\"; padding: 0 .5ex}\n",
       "</style>\n",
       "<ol class=list-inline><li>Alta</li><li>Baja</li><li>Alta</li><li>Media</li><li>Baja</li></ol>\n",
       "\n",
       "<details>\n",
       "\t<summary style=display:list-item;cursor:pointer>\n",
       "\t\t<strong>Levels</strong>:\n",
       "\t</summary>\n",
       "\t<style>\n",
       "\t.list-inline {list-style: none; margin:0; padding: 0}\n",
       "\t.list-inline>li {display: inline-block}\n",
       "\t.list-inline>li:not(:last-child)::after {content: \"\\00b7\"; padding: 0 .5ex}\n",
       "\t</style>\n",
       "\t<ol class=list-inline><li>'Alta'</li><li>'Baja'</li><li>'Media'</li></ol>\n",
       "</details>"
      ],
      "text/latex": [
       "\\begin{enumerate*}\n",
       "\\item Alta\n",
       "\\item Baja\n",
       "\\item Alta\n",
       "\\item Media\n",
       "\\item Baja\n",
       "\\end{enumerate*}\n",
       "\n",
       "\\emph{Levels}: \\begin{enumerate*}\n",
       "\\item 'Alta'\n",
       "\\item 'Baja'\n",
       "\\item 'Media'\n",
       "\\end{enumerate*}\n"
      ],
      "text/markdown": [
       "1. Alta\n",
       "2. Baja\n",
       "3. Alta\n",
       "4. Media\n",
       "5. Baja\n",
       "\n",
       "\n",
       "\n",
       "**Levels**: 1. 'Alta'\n",
       "2. 'Baja'\n",
       "3. 'Media'\n",
       "\n",
       "\n"
      ],
      "text/plain": [
       "[1] Alta  Baja  Alta  Media Baja \n",
       "Levels: Alta Baja Media"
      ]
     },
     "metadata": {},
     "output_type": "display_data"
    }
   ],
   "source": [
    "factor(sexo)\n",
    "factor(animales)\n",
    "factor(temperaturas)"
   ]
  },
  {
   "cell_type": "markdown",
   "metadata": {},
   "source": [
    "Si quisieramos ver únicamente los Levels de nuestro factor, podemos hacerlo muy facil con la función `levels()` de la siguiente forma:\n",
    "\n",
    "                   levels(NombreDelFactor)"
   ]
  },
  {
   "cell_type": "code",
   "execution_count": 66,
   "metadata": {},
   "outputs": [
    {
     "data": {
      "text/html": [
       "<style>\n",
       ".list-inline {list-style: none; margin:0; padding: 0}\n",
       ".list-inline>li {display: inline-block}\n",
       ".list-inline>li:not(:last-child)::after {content: \"\\00b7\"; padding: 0 .5ex}\n",
       "</style>\n",
       "<ol class=list-inline><li>'Burro'</li><li>'Caballo'</li><li>'Elefante'</li><li>'Jirafa'</li></ol>\n"
      ],
      "text/latex": [
       "\\begin{enumerate*}\n",
       "\\item 'Burro'\n",
       "\\item 'Caballo'\n",
       "\\item 'Elefante'\n",
       "\\item 'Jirafa'\n",
       "\\end{enumerate*}\n"
      ],
      "text/markdown": [
       "1. 'Burro'\n",
       "2. 'Caballo'\n",
       "3. 'Elefante'\n",
       "4. 'Jirafa'\n",
       "\n",
       "\n"
      ],
      "text/plain": [
       "[1] \"Burro\"    \"Caballo\"  \"Elefante\" \"Jirafa\"  "
      ]
     },
     "metadata": {},
     "output_type": "display_data"
    }
   ],
   "source": [
    "animales <- factor(animales)\n",
    "levels(animales)"
   ]
  },
  {
   "cell_type": "markdown",
   "metadata": {},
   "source": [
    "Pero algunas veces, categorías como el sexo van a estar codificados como M para mujer Y H para hombre."
   ]
  },
  {
   "cell_type": "code",
   "execution_count": 67,
   "metadata": {},
   "outputs": [],
   "source": [
    "sexo <- c(\"H\", \"M\", \"M\", \"H\", \"M\")"
   ]
  },
  {
   "cell_type": "code",
   "execution_count": 68,
   "metadata": {},
   "outputs": [
    {
     "data": {
      "text/html": [
       "<style>\n",
       ".list-inline {list-style: none; margin:0; padding: 0}\n",
       ".list-inline>li {display: inline-block}\n",
       ".list-inline>li:not(:last-child)::after {content: \"\\00b7\"; padding: 0 .5ex}\n",
       "</style>\n",
       "<ol class=list-inline><li>H</li><li>M</li><li>M</li><li>H</li><li>M</li></ol>\n",
       "\n",
       "<details>\n",
       "\t<summary style=display:list-item;cursor:pointer>\n",
       "\t\t<strong>Levels</strong>:\n",
       "\t</summary>\n",
       "\t<style>\n",
       "\t.list-inline {list-style: none; margin:0; padding: 0}\n",
       "\t.list-inline>li {display: inline-block}\n",
       "\t.list-inline>li:not(:last-child)::after {content: \"\\00b7\"; padding: 0 .5ex}\n",
       "\t</style>\n",
       "\t<ol class=list-inline><li>'H'</li><li>'M'</li></ol>\n",
       "</details>"
      ],
      "text/latex": [
       "\\begin{enumerate*}\n",
       "\\item H\n",
       "\\item M\n",
       "\\item M\n",
       "\\item H\n",
       "\\item M\n",
       "\\end{enumerate*}\n",
       "\n",
       "\\emph{Levels}: \\begin{enumerate*}\n",
       "\\item 'H'\n",
       "\\item 'M'\n",
       "\\end{enumerate*}\n"
      ],
      "text/markdown": [
       "1. H\n",
       "2. M\n",
       "3. M\n",
       "4. H\n",
       "5. M\n",
       "\n",
       "\n",
       "\n",
       "**Levels**: 1. 'H'\n",
       "2. 'M'\n",
       "\n",
       "\n"
      ],
      "text/plain": [
       "[1] H M M H M\n",
       "Levels: H M"
      ]
     },
     "metadata": {},
     "output_type": "display_data"
    }
   ],
   "source": [
    "factor_sexo <- factor(sexo)\n",
    "factor_sexo"
   ]
  },
  {
   "cell_type": "markdown",
   "metadata": {},
   "source": [
    "Pero si quisieramos modificar eso podemos hacer lo siguiente:"
   ]
  },
  {
   "cell_type": "code",
   "execution_count": 69,
   "metadata": {},
   "outputs": [
    {
     "data": {
      "text/html": [
       "<style>\n",
       ".list-inline {list-style: none; margin:0; padding: 0}\n",
       ".list-inline>li {display: inline-block}\n",
       ".list-inline>li:not(:last-child)::after {content: \"\\00b7\"; padding: 0 .5ex}\n",
       "</style>\n",
       "<ol class=list-inline><li>Hombre</li><li>Mujer</li><li>Mujer</li><li>Hombre</li><li>Mujer</li></ol>\n",
       "\n",
       "<details>\n",
       "\t<summary style=display:list-item;cursor:pointer>\n",
       "\t\t<strong>Levels</strong>:\n",
       "\t</summary>\n",
       "\t<style>\n",
       "\t.list-inline {list-style: none; margin:0; padding: 0}\n",
       "\t.list-inline>li {display: inline-block}\n",
       "\t.list-inline>li:not(:last-child)::after {content: \"\\00b7\"; padding: 0 .5ex}\n",
       "\t</style>\n",
       "\t<ol class=list-inline><li>'Hombre'</li><li>'Mujer'</li></ol>\n",
       "</details>"
      ],
      "text/latex": [
       "\\begin{enumerate*}\n",
       "\\item Hombre\n",
       "\\item Mujer\n",
       "\\item Mujer\n",
       "\\item Hombre\n",
       "\\item Mujer\n",
       "\\end{enumerate*}\n",
       "\n",
       "\\emph{Levels}: \\begin{enumerate*}\n",
       "\\item 'Hombre'\n",
       "\\item 'Mujer'\n",
       "\\end{enumerate*}\n"
      ],
      "text/markdown": [
       "1. Hombre\n",
       "2. Mujer\n",
       "3. Mujer\n",
       "4. Hombre\n",
       "5. Mujer\n",
       "\n",
       "\n",
       "\n",
       "**Levels**: 1. 'Hombre'\n",
       "2. 'Mujer'\n",
       "\n",
       "\n"
      ],
      "text/plain": [
       "[1] Hombre Mujer  Mujer  Hombre Mujer \n",
       "Levels: Hombre Mujer"
      ]
     },
     "metadata": {},
     "output_type": "display_data"
    }
   ],
   "source": [
    "levels(factor_sexo) <- c(\"Hombre\",\"Mujer\")\n",
    "factor_sexo"
   ]
  },
  {
   "cell_type": "markdown",
   "metadata": {},
   "source": [
    "Igual podemos hacer hacer de forma muy sencilla resúmenes con la función `summary()` de la siguiente manera: \n",
    "\n",
    "               summary(NombreDeLaVariable)\n",
    " \n",
    " Por ejemplo:"
   ]
  },
  {
   "cell_type": "code",
   "execution_count": 70,
   "metadata": {},
   "outputs": [
    {
     "data": {
      "text/html": [
       "<style>\n",
       ".dl-inline {width: auto; margin:0; padding: 0}\n",
       ".dl-inline>dt, .dl-inline>dd {float: none; width: auto; display: inline-block}\n",
       ".dl-inline>dt::after {content: \":\\0020\"; padding-right: .5ex}\n",
       ".dl-inline>dt:not(:first-of-type) {padding-left: .5ex}\n",
       "</style><dl class=dl-inline><dt>Hombre</dt><dd>2</dd><dt>Mujer</dt><dd>3</dd></dl>\n"
      ],
      "text/latex": [
       "\\begin{description*}\n",
       "\\item[Hombre] 2\n",
       "\\item[Mujer] 3\n",
       "\\end{description*}\n"
      ],
      "text/markdown": [
       "Hombre\n",
       ":   2Mujer\n",
       ":   3\n",
       "\n"
      ],
      "text/plain": [
       "Hombre  Mujer \n",
       "     2      3 "
      ]
     },
     "metadata": {},
     "output_type": "display_data"
    },
    {
     "data": {
      "text/plain": [
       "   Length     Class      Mode \n",
       "        5 character character "
      ]
     },
     "metadata": {},
     "output_type": "display_data"
    }
   ],
   "source": [
    "summary(factor_sexo)\n",
    "summary(temperaturas)"
   ]
  },
  {
   "cell_type": "markdown",
   "metadata": {},
   "source": [
    "Ahora prueba haciendo la selección del vector factor_sexo y guarda cada uno de los niveles como variables **Hombre** y **Mujer** "
   ]
  },
  {
   "cell_type": "code",
   "execution_count": 71,
   "metadata": {},
   "outputs": [],
   "source": [
    "Hombre <- factor_sexo[1]\n",
    "Mujer <- factor_sexo[2]"
   ]
  },
  {
   "cell_type": "markdown",
   "metadata": {},
   "source": [
    "¿Qué pasa si los comparamos?"
   ]
  },
  {
   "cell_type": "code",
   "execution_count": 72,
   "metadata": {},
   "outputs": [
    {
     "name": "stderr",
     "output_type": "stream",
     "text": [
      "Warning message in Ops.factor(Hombre, Mujer):\n",
      "“‘<’ not meaningful for factors”\n"
     ]
    },
    {
     "data": {
      "text/html": [
       "&lt;NA&gt;"
      ],
      "text/latex": [
       "<NA>"
      ],
      "text/markdown": [
       "&lt;NA&gt;"
      ],
      "text/plain": [
       "[1] NA"
      ]
     },
     "metadata": {},
     "output_type": "display_data"
    }
   ],
   "source": [
    "Hombre < Mujer"
   ]
  },
  {
   "cell_type": "markdown",
   "metadata": {},
   "source": [
    "Como podrás ver, no se pueden hacer comparaciones con factores, así que debes procurar tener muy en cuenta si los valores con los que estás tratando son factores o no. <br>\n",
    "\n",
    "Ahora práctiquemos, crea un vector llamada **rendimiento** para almacenar las pruebas a 5 analistas, cuyos resultados  nos dicen los rendimientos con la que trabajan.\n",
    "\n",
    "- Analista 1 es medio\n",
    "- Analista 2 es bajo\n",
    "- Analista 3 es bajo\n",
    "- Analista 4 es medio\n",
    "- Analista 5 es alto\n",
    "\n",
    "No es necesario, aún, que especifiques que es un factor"
   ]
  },
  {
   "cell_type": "code",
   "execution_count": 73,
   "metadata": {},
   "outputs": [],
   "source": [
    "rendimiento <- c(\"medio\",\"bajo\",\"bajo\",\"medio\",\"alto\")"
   ]
  },
  {
   "cell_type": "markdown",
   "metadata": {},
   "source": [
    "Ahora convierte la variable a factor y guardala como **factor_rendimiento**, imprímela y saca un resumen"
   ]
  },
  {
   "cell_type": "code",
   "execution_count": 74,
   "metadata": {},
   "outputs": [
    {
     "data": {
      "text/html": [
       "<style>\n",
       ".list-inline {list-style: none; margin:0; padding: 0}\n",
       ".list-inline>li {display: inline-block}\n",
       ".list-inline>li:not(:last-child)::after {content: \"\\00b7\"; padding: 0 .5ex}\n",
       "</style>\n",
       "<ol class=list-inline><li>medio</li><li>bajo</li><li>bajo</li><li>medio</li><li>alto</li></ol>\n",
       "\n",
       "<details>\n",
       "\t<summary style=display:list-item;cursor:pointer>\n",
       "\t\t<strong>Levels</strong>:\n",
       "\t</summary>\n",
       "\t<style>\n",
       "\t.list-inline {list-style: none; margin:0; padding: 0}\n",
       "\t.list-inline>li {display: inline-block}\n",
       "\t.list-inline>li:not(:last-child)::after {content: \"\\00b7\"; padding: 0 .5ex}\n",
       "\t</style>\n",
       "\t<ol class=list-inline><li>'alto'</li><li>'bajo'</li><li>'medio'</li></ol>\n",
       "</details>"
      ],
      "text/latex": [
       "\\begin{enumerate*}\n",
       "\\item medio\n",
       "\\item bajo\n",
       "\\item bajo\n",
       "\\item medio\n",
       "\\item alto\n",
       "\\end{enumerate*}\n",
       "\n",
       "\\emph{Levels}: \\begin{enumerate*}\n",
       "\\item 'alto'\n",
       "\\item 'bajo'\n",
       "\\item 'medio'\n",
       "\\end{enumerate*}\n"
      ],
      "text/markdown": [
       "1. medio\n",
       "2. bajo\n",
       "3. bajo\n",
       "4. medio\n",
       "5. alto\n",
       "\n",
       "\n",
       "\n",
       "**Levels**: 1. 'alto'\n",
       "2. 'bajo'\n",
       "3. 'medio'\n",
       "\n",
       "\n"
      ],
      "text/plain": [
       "[1] medio bajo  bajo  medio alto \n",
       "Levels: alto bajo medio"
      ]
     },
     "metadata": {},
     "output_type": "display_data"
    },
    {
     "data": {
      "text/html": [
       "<style>\n",
       ".dl-inline {width: auto; margin:0; padding: 0}\n",
       ".dl-inline>dt, .dl-inline>dd {float: none; width: auto; display: inline-block}\n",
       ".dl-inline>dt::after {content: \":\\0020\"; padding-right: .5ex}\n",
       ".dl-inline>dt:not(:first-of-type) {padding-left: .5ex}\n",
       "</style><dl class=dl-inline><dt>alto</dt><dd>1</dd><dt>bajo</dt><dd>2</dd><dt>medio</dt><dd>2</dd></dl>\n"
      ],
      "text/latex": [
       "\\begin{description*}\n",
       "\\item[alto] 1\n",
       "\\item[bajo] 2\n",
       "\\item[medio] 2\n",
       "\\end{description*}\n"
      ],
      "text/markdown": [
       "alto\n",
       ":   1bajo\n",
       ":   2medio\n",
       ":   2\n",
       "\n"
      ],
      "text/plain": [
       " alto  bajo medio \n",
       "    1     2     2 "
      ]
     },
     "metadata": {},
     "output_type": "display_data"
    }
   ],
   "source": [
    "factor_rendimiento <- factor(rendimiento)\n",
    "factor_rendimiento\n",
    "summary(factor_rendimiento)"
   ]
  },
  {
   "cell_type": "markdown",
   "metadata": {},
   "source": [
    "¿Qué vemos en los niveles?<br> \n",
    "<br> \n",
    "<br> \n",
    "<br> \n",
    "\n",
    "\n",
    "\n",
    "¿Qué si quisieramos cambiar el orden de los nivel? <br> \n",
    "Por fortuna la función `factor()`nos admite más de un argumento (los argumentos son las cosas con las que computa una función) Veamos los argumentos que admite `factor()` poniendo ?factor."
   ]
  },
  {
   "cell_type": "code",
   "execution_count": 75,
   "metadata": {},
   "outputs": [],
   "source": [
    "?factor"
   ]
  },
  {
   "cell_type": "code",
   "execution_count": 76,
   "metadata": {},
   "outputs": [
    {
     "data": {
      "text/html": [
       "<style>\n",
       ".list-inline {list-style: none; margin:0; padding: 0}\n",
       ".list-inline>li {display: inline-block}\n",
       ".list-inline>li:not(:last-child)::after {content: \"\\00b7\"; padding: 0 .5ex}\n",
       "</style>\n",
       "<ol class=list-inline><li>medio</li><li>bajo</li><li>bajo</li><li>medio</li><li>alto</li></ol>\n",
       "\n",
       "<details>\n",
       "\t<summary style=display:list-item;cursor:pointer>\n",
       "\t\t<strong>Levels</strong>:\n",
       "\t</summary>\n",
       "\t<style>\n",
       "\t.list-inline {list-style: none; margin:0; padding: 0}\n",
       "\t.list-inline>li {display: inline-block}\n",
       "\t.list-inline>li:not(:last-child)::after {content: \"\\00b7\"; padding: 0 .5ex}\n",
       "\t</style>\n",
       "\t<ol class=list-inline><li>'bajo'</li><li>'medio'</li><li>'alto'</li></ol>\n",
       "</details>"
      ],
      "text/latex": [
       "\\begin{enumerate*}\n",
       "\\item medio\n",
       "\\item bajo\n",
       "\\item bajo\n",
       "\\item medio\n",
       "\\item alto\n",
       "\\end{enumerate*}\n",
       "\n",
       "\\emph{Levels}: \\begin{enumerate*}\n",
       "\\item 'bajo'\n",
       "\\item 'medio'\n",
       "\\item 'alto'\n",
       "\\end{enumerate*}\n"
      ],
      "text/markdown": [
       "1. medio\n",
       "2. bajo\n",
       "3. bajo\n",
       "4. medio\n",
       "5. alto\n",
       "\n",
       "\n",
       "\n",
       "**Levels**: 1. 'bajo'\n",
       "2. 'medio'\n",
       "3. 'alto'\n",
       "\n",
       "\n"
      ],
      "text/plain": [
       "[1] medio bajo  bajo  medio alto \n",
       "Levels: bajo < medio < alto"
      ]
     },
     "metadata": {},
     "output_type": "display_data"
    }
   ],
   "source": [
    "factor_rendimiento <- factor(rendimiento,\n",
    "                       ordered = TRUE,\n",
    "                       levels = c(\"bajo\", \"medio\", \"alto\"))\n",
    "factor_rendimiento"
   ]
  },
  {
   "cell_type": "code",
   "execution_count": 77,
   "metadata": {},
   "outputs": [
    {
     "data": {
      "text/html": [
       "<style>\n",
       ".dl-inline {width: auto; margin:0; padding: 0}\n",
       ".dl-inline>dt, .dl-inline>dd {float: none; width: auto; display: inline-block}\n",
       ".dl-inline>dt::after {content: \":\\0020\"; padding-right: .5ex}\n",
       ".dl-inline>dt:not(:first-of-type) {padding-left: .5ex}\n",
       "</style><dl class=dl-inline><dt>bajo</dt><dd>2</dd><dt>medio</dt><dd>2</dd><dt>alto</dt><dd>1</dd></dl>\n"
      ],
      "text/latex": [
       "\\begin{description*}\n",
       "\\item[bajo] 2\n",
       "\\item[medio] 2\n",
       "\\item[alto] 1\n",
       "\\end{description*}\n"
      ],
      "text/markdown": [
       "bajo\n",
       ":   2medio\n",
       ":   2alto\n",
       ":   1\n",
       "\n"
      ],
      "text/plain": [
       " bajo medio  alto \n",
       "    2     2     1 "
      ]
     },
     "metadata": {},
     "output_type": "display_data"
    }
   ],
   "source": [
    "summary(factor_rendimiento)"
   ]
  },
  {
   "cell_type": "markdown",
   "metadata": {},
   "source": [
    "Algo importante de tener nuestros factores ordenados es que nos permite hacer comparaciones por ejemplo, respóndeme usando R lo siguiente. \n",
    "Es el analista 4 mejor que el analista 2?"
   ]
  },
  {
   "cell_type": "code",
   "execution_count": 78,
   "metadata": {},
   "outputs": [
    {
     "data": {
      "text/html": [
       "FALSE"
      ],
      "text/latex": [
       "FALSE"
      ],
      "text/markdown": [
       "FALSE"
      ],
      "text/plain": [
       "[1] FALSE"
      ]
     },
     "metadata": {},
     "output_type": "display_data"
    }
   ],
   "source": [
    "analista2 <- factor_rendimiento[2]\n",
    "analista4 <- factor_rendimiento[4]\n",
    "analista2 > analista4"
   ]
  },
  {
   "cell_type": "markdown",
   "metadata": {},
   "source": [
    "\n",
    "### Data Frames \n",
    "\n",
    "Puedes recordar cuando hablamos sobre matrices que todos los elementos que se colocan en una matriz deben ser del mismo tipo. Entonces, el conjunto de datos en Star Wars solo contenía elementos numéricos. Pero al hacer un estudio se hacen diferentes preguntas que pueden tener diferentes tipos de valores.<br>\n",
    "En un estudio de mercado, por ejemplo, a menudo tienes preguntas como:\n",
    "\n",
    "- '¿Estás casado?' o preguntas 'sí / no' (lógico)\n",
    "- '¿Cuantos años tienes?' (numérico)\n",
    "- ¿Cuál es su opinión sobre este producto? u otras preguntas 'abiertas' (personaje)\n",
    "\n",
    "El resultado, es decir, las respuestas de los encuestados a las preguntas formuladas anteriormente, es un conjunto de datos de diferentes tipos de datos. A menudo se encontrará trabajando con conjuntos de datos que contienen diferentes tipos de datos en lugar de solo uno.\n",
    "\n",
    "Un data frame tiene las variables de un conjunto de datos como columnas y las observaciones como filas. Este será un concepto familiar para quienes provengan de diferentes paquetes de software estadístico como SAS o SPSS.\n",
    "\n",
    "Un ejemplo de un data frame lo podemos ver al teclear y ejecutar `mtcars` "
   ]
  },
  {
   "cell_type": "code",
   "execution_count": 79,
   "metadata": {},
   "outputs": [
    {
     "data": {
      "text/html": [
       "<table>\n",
       "<caption>A data.frame: 32 × 11</caption>\n",
       "<thead>\n",
       "\t<tr><th></th><th scope=col>mpg</th><th scope=col>cyl</th><th scope=col>disp</th><th scope=col>hp</th><th scope=col>drat</th><th scope=col>wt</th><th scope=col>qsec</th><th scope=col>vs</th><th scope=col>am</th><th scope=col>gear</th><th scope=col>carb</th></tr>\n",
       "\t<tr><th></th><th scope=col>&lt;dbl&gt;</th><th scope=col>&lt;dbl&gt;</th><th scope=col>&lt;dbl&gt;</th><th scope=col>&lt;dbl&gt;</th><th scope=col>&lt;dbl&gt;</th><th scope=col>&lt;dbl&gt;</th><th scope=col>&lt;dbl&gt;</th><th scope=col>&lt;dbl&gt;</th><th scope=col>&lt;dbl&gt;</th><th scope=col>&lt;dbl&gt;</th><th scope=col>&lt;dbl&gt;</th></tr>\n",
       "</thead>\n",
       "<tbody>\n",
       "\t<tr><th scope=row>Mazda RX4</th><td>21.0</td><td>6</td><td>160.0</td><td>110</td><td>3.90</td><td>2.620</td><td>16.46</td><td>0</td><td>1</td><td>4</td><td>4</td></tr>\n",
       "\t<tr><th scope=row>Mazda RX4 Wag</th><td>21.0</td><td>6</td><td>160.0</td><td>110</td><td>3.90</td><td>2.875</td><td>17.02</td><td>0</td><td>1</td><td>4</td><td>4</td></tr>\n",
       "\t<tr><th scope=row>Datsun 710</th><td>22.8</td><td>4</td><td>108.0</td><td> 93</td><td>3.85</td><td>2.320</td><td>18.61</td><td>1</td><td>1</td><td>4</td><td>1</td></tr>\n",
       "\t<tr><th scope=row>Hornet 4 Drive</th><td>21.4</td><td>6</td><td>258.0</td><td>110</td><td>3.08</td><td>3.215</td><td>19.44</td><td>1</td><td>0</td><td>3</td><td>1</td></tr>\n",
       "\t<tr><th scope=row>Hornet Sportabout</th><td>18.7</td><td>8</td><td>360.0</td><td>175</td><td>3.15</td><td>3.440</td><td>17.02</td><td>0</td><td>0</td><td>3</td><td>2</td></tr>\n",
       "\t<tr><th scope=row>Valiant</th><td>18.1</td><td>6</td><td>225.0</td><td>105</td><td>2.76</td><td>3.460</td><td>20.22</td><td>1</td><td>0</td><td>3</td><td>1</td></tr>\n",
       "\t<tr><th scope=row>Duster 360</th><td>14.3</td><td>8</td><td>360.0</td><td>245</td><td>3.21</td><td>3.570</td><td>15.84</td><td>0</td><td>0</td><td>3</td><td>4</td></tr>\n",
       "\t<tr><th scope=row>Merc 240D</th><td>24.4</td><td>4</td><td>146.7</td><td> 62</td><td>3.69</td><td>3.190</td><td>20.00</td><td>1</td><td>0</td><td>4</td><td>2</td></tr>\n",
       "\t<tr><th scope=row>Merc 230</th><td>22.8</td><td>4</td><td>140.8</td><td> 95</td><td>3.92</td><td>3.150</td><td>22.90</td><td>1</td><td>0</td><td>4</td><td>2</td></tr>\n",
       "\t<tr><th scope=row>Merc 280</th><td>19.2</td><td>6</td><td>167.6</td><td>123</td><td>3.92</td><td>3.440</td><td>18.30</td><td>1</td><td>0</td><td>4</td><td>4</td></tr>\n",
       "\t<tr><th scope=row>Merc 280C</th><td>17.8</td><td>6</td><td>167.6</td><td>123</td><td>3.92</td><td>3.440</td><td>18.90</td><td>1</td><td>0</td><td>4</td><td>4</td></tr>\n",
       "\t<tr><th scope=row>Merc 450SE</th><td>16.4</td><td>8</td><td>275.8</td><td>180</td><td>3.07</td><td>4.070</td><td>17.40</td><td>0</td><td>0</td><td>3</td><td>3</td></tr>\n",
       "\t<tr><th scope=row>Merc 450SL</th><td>17.3</td><td>8</td><td>275.8</td><td>180</td><td>3.07</td><td>3.730</td><td>17.60</td><td>0</td><td>0</td><td>3</td><td>3</td></tr>\n",
       "\t<tr><th scope=row>Merc 450SLC</th><td>15.2</td><td>8</td><td>275.8</td><td>180</td><td>3.07</td><td>3.780</td><td>18.00</td><td>0</td><td>0</td><td>3</td><td>3</td></tr>\n",
       "\t<tr><th scope=row>Cadillac Fleetwood</th><td>10.4</td><td>8</td><td>472.0</td><td>205</td><td>2.93</td><td>5.250</td><td>17.98</td><td>0</td><td>0</td><td>3</td><td>4</td></tr>\n",
       "\t<tr><th scope=row>Lincoln Continental</th><td>10.4</td><td>8</td><td>460.0</td><td>215</td><td>3.00</td><td>5.424</td><td>17.82</td><td>0</td><td>0</td><td>3</td><td>4</td></tr>\n",
       "\t<tr><th scope=row>Chrysler Imperial</th><td>14.7</td><td>8</td><td>440.0</td><td>230</td><td>3.23</td><td>5.345</td><td>17.42</td><td>0</td><td>0</td><td>3</td><td>4</td></tr>\n",
       "\t<tr><th scope=row>Fiat 128</th><td>32.4</td><td>4</td><td> 78.7</td><td> 66</td><td>4.08</td><td>2.200</td><td>19.47</td><td>1</td><td>1</td><td>4</td><td>1</td></tr>\n",
       "\t<tr><th scope=row>Honda Civic</th><td>30.4</td><td>4</td><td> 75.7</td><td> 52</td><td>4.93</td><td>1.615</td><td>18.52</td><td>1</td><td>1</td><td>4</td><td>2</td></tr>\n",
       "\t<tr><th scope=row>Toyota Corolla</th><td>33.9</td><td>4</td><td> 71.1</td><td> 65</td><td>4.22</td><td>1.835</td><td>19.90</td><td>1</td><td>1</td><td>4</td><td>1</td></tr>\n",
       "\t<tr><th scope=row>Toyota Corona</th><td>21.5</td><td>4</td><td>120.1</td><td> 97</td><td>3.70</td><td>2.465</td><td>20.01</td><td>1</td><td>0</td><td>3</td><td>1</td></tr>\n",
       "\t<tr><th scope=row>Dodge Challenger</th><td>15.5</td><td>8</td><td>318.0</td><td>150</td><td>2.76</td><td>3.520</td><td>16.87</td><td>0</td><td>0</td><td>3</td><td>2</td></tr>\n",
       "\t<tr><th scope=row>AMC Javelin</th><td>15.2</td><td>8</td><td>304.0</td><td>150</td><td>3.15</td><td>3.435</td><td>17.30</td><td>0</td><td>0</td><td>3</td><td>2</td></tr>\n",
       "\t<tr><th scope=row>Camaro Z28</th><td>13.3</td><td>8</td><td>350.0</td><td>245</td><td>3.73</td><td>3.840</td><td>15.41</td><td>0</td><td>0</td><td>3</td><td>4</td></tr>\n",
       "\t<tr><th scope=row>Pontiac Firebird</th><td>19.2</td><td>8</td><td>400.0</td><td>175</td><td>3.08</td><td>3.845</td><td>17.05</td><td>0</td><td>0</td><td>3</td><td>2</td></tr>\n",
       "\t<tr><th scope=row>Fiat X1-9</th><td>27.3</td><td>4</td><td> 79.0</td><td> 66</td><td>4.08</td><td>1.935</td><td>18.90</td><td>1</td><td>1</td><td>4</td><td>1</td></tr>\n",
       "\t<tr><th scope=row>Porsche 914-2</th><td>26.0</td><td>4</td><td>120.3</td><td> 91</td><td>4.43</td><td>2.140</td><td>16.70</td><td>0</td><td>1</td><td>5</td><td>2</td></tr>\n",
       "\t<tr><th scope=row>Lotus Europa</th><td>30.4</td><td>4</td><td> 95.1</td><td>113</td><td>3.77</td><td>1.513</td><td>16.90</td><td>1</td><td>1</td><td>5</td><td>2</td></tr>\n",
       "\t<tr><th scope=row>Ford Pantera L</th><td>15.8</td><td>8</td><td>351.0</td><td>264</td><td>4.22</td><td>3.170</td><td>14.50</td><td>0</td><td>1</td><td>5</td><td>4</td></tr>\n",
       "\t<tr><th scope=row>Ferrari Dino</th><td>19.7</td><td>6</td><td>145.0</td><td>175</td><td>3.62</td><td>2.770</td><td>15.50</td><td>0</td><td>1</td><td>5</td><td>6</td></tr>\n",
       "\t<tr><th scope=row>Maserati Bora</th><td>15.0</td><td>8</td><td>301.0</td><td>335</td><td>3.54</td><td>3.570</td><td>14.60</td><td>0</td><td>1</td><td>5</td><td>8</td></tr>\n",
       "\t<tr><th scope=row>Volvo 142E</th><td>21.4</td><td>4</td><td>121.0</td><td>109</td><td>4.11</td><td>2.780</td><td>18.60</td><td>1</td><td>1</td><td>4</td><td>2</td></tr>\n",
       "</tbody>\n",
       "</table>\n"
      ],
      "text/latex": [
       "A data.frame: 32 × 11\n",
       "\\begin{tabular}{r|lllllllllll}\n",
       "  & mpg & cyl & disp & hp & drat & wt & qsec & vs & am & gear & carb\\\\\n",
       "  & <dbl> & <dbl> & <dbl> & <dbl> & <dbl> & <dbl> & <dbl> & <dbl> & <dbl> & <dbl> & <dbl>\\\\\n",
       "\\hline\n",
       "\tMazda RX4 & 21.0 & 6 & 160.0 & 110 & 3.90 & 2.620 & 16.46 & 0 & 1 & 4 & 4\\\\\n",
       "\tMazda RX4 Wag & 21.0 & 6 & 160.0 & 110 & 3.90 & 2.875 & 17.02 & 0 & 1 & 4 & 4\\\\\n",
       "\tDatsun 710 & 22.8 & 4 & 108.0 &  93 & 3.85 & 2.320 & 18.61 & 1 & 1 & 4 & 1\\\\\n",
       "\tHornet 4 Drive & 21.4 & 6 & 258.0 & 110 & 3.08 & 3.215 & 19.44 & 1 & 0 & 3 & 1\\\\\n",
       "\tHornet Sportabout & 18.7 & 8 & 360.0 & 175 & 3.15 & 3.440 & 17.02 & 0 & 0 & 3 & 2\\\\\n",
       "\tValiant & 18.1 & 6 & 225.0 & 105 & 2.76 & 3.460 & 20.22 & 1 & 0 & 3 & 1\\\\\n",
       "\tDuster 360 & 14.3 & 8 & 360.0 & 245 & 3.21 & 3.570 & 15.84 & 0 & 0 & 3 & 4\\\\\n",
       "\tMerc 240D & 24.4 & 4 & 146.7 &  62 & 3.69 & 3.190 & 20.00 & 1 & 0 & 4 & 2\\\\\n",
       "\tMerc 230 & 22.8 & 4 & 140.8 &  95 & 3.92 & 3.150 & 22.90 & 1 & 0 & 4 & 2\\\\\n",
       "\tMerc 280 & 19.2 & 6 & 167.6 & 123 & 3.92 & 3.440 & 18.30 & 1 & 0 & 4 & 4\\\\\n",
       "\tMerc 280C & 17.8 & 6 & 167.6 & 123 & 3.92 & 3.440 & 18.90 & 1 & 0 & 4 & 4\\\\\n",
       "\tMerc 450SE & 16.4 & 8 & 275.8 & 180 & 3.07 & 4.070 & 17.40 & 0 & 0 & 3 & 3\\\\\n",
       "\tMerc 450SL & 17.3 & 8 & 275.8 & 180 & 3.07 & 3.730 & 17.60 & 0 & 0 & 3 & 3\\\\\n",
       "\tMerc 450SLC & 15.2 & 8 & 275.8 & 180 & 3.07 & 3.780 & 18.00 & 0 & 0 & 3 & 3\\\\\n",
       "\tCadillac Fleetwood & 10.4 & 8 & 472.0 & 205 & 2.93 & 5.250 & 17.98 & 0 & 0 & 3 & 4\\\\\n",
       "\tLincoln Continental & 10.4 & 8 & 460.0 & 215 & 3.00 & 5.424 & 17.82 & 0 & 0 & 3 & 4\\\\\n",
       "\tChrysler Imperial & 14.7 & 8 & 440.0 & 230 & 3.23 & 5.345 & 17.42 & 0 & 0 & 3 & 4\\\\\n",
       "\tFiat 128 & 32.4 & 4 &  78.7 &  66 & 4.08 & 2.200 & 19.47 & 1 & 1 & 4 & 1\\\\\n",
       "\tHonda Civic & 30.4 & 4 &  75.7 &  52 & 4.93 & 1.615 & 18.52 & 1 & 1 & 4 & 2\\\\\n",
       "\tToyota Corolla & 33.9 & 4 &  71.1 &  65 & 4.22 & 1.835 & 19.90 & 1 & 1 & 4 & 1\\\\\n",
       "\tToyota Corona & 21.5 & 4 & 120.1 &  97 & 3.70 & 2.465 & 20.01 & 1 & 0 & 3 & 1\\\\\n",
       "\tDodge Challenger & 15.5 & 8 & 318.0 & 150 & 2.76 & 3.520 & 16.87 & 0 & 0 & 3 & 2\\\\\n",
       "\tAMC Javelin & 15.2 & 8 & 304.0 & 150 & 3.15 & 3.435 & 17.30 & 0 & 0 & 3 & 2\\\\\n",
       "\tCamaro Z28 & 13.3 & 8 & 350.0 & 245 & 3.73 & 3.840 & 15.41 & 0 & 0 & 3 & 4\\\\\n",
       "\tPontiac Firebird & 19.2 & 8 & 400.0 & 175 & 3.08 & 3.845 & 17.05 & 0 & 0 & 3 & 2\\\\\n",
       "\tFiat X1-9 & 27.3 & 4 &  79.0 &  66 & 4.08 & 1.935 & 18.90 & 1 & 1 & 4 & 1\\\\\n",
       "\tPorsche 914-2 & 26.0 & 4 & 120.3 &  91 & 4.43 & 2.140 & 16.70 & 0 & 1 & 5 & 2\\\\\n",
       "\tLotus Europa & 30.4 & 4 &  95.1 & 113 & 3.77 & 1.513 & 16.90 & 1 & 1 & 5 & 2\\\\\n",
       "\tFord Pantera L & 15.8 & 8 & 351.0 & 264 & 4.22 & 3.170 & 14.50 & 0 & 1 & 5 & 4\\\\\n",
       "\tFerrari Dino & 19.7 & 6 & 145.0 & 175 & 3.62 & 2.770 & 15.50 & 0 & 1 & 5 & 6\\\\\n",
       "\tMaserati Bora & 15.0 & 8 & 301.0 & 335 & 3.54 & 3.570 & 14.60 & 0 & 1 & 5 & 8\\\\\n",
       "\tVolvo 142E & 21.4 & 4 & 121.0 & 109 & 4.11 & 2.780 & 18.60 & 1 & 1 & 4 & 2\\\\\n",
       "\\end{tabular}\n"
      ],
      "text/markdown": [
       "\n",
       "A data.frame: 32 × 11\n",
       "\n",
       "| <!--/--> | mpg &lt;dbl&gt; | cyl &lt;dbl&gt; | disp &lt;dbl&gt; | hp &lt;dbl&gt; | drat &lt;dbl&gt; | wt &lt;dbl&gt; | qsec &lt;dbl&gt; | vs &lt;dbl&gt; | am &lt;dbl&gt; | gear &lt;dbl&gt; | carb &lt;dbl&gt; |\n",
       "|---|---|---|---|---|---|---|---|---|---|---|---|\n",
       "| Mazda RX4 | 21.0 | 6 | 160.0 | 110 | 3.90 | 2.620 | 16.46 | 0 | 1 | 4 | 4 |\n",
       "| Mazda RX4 Wag | 21.0 | 6 | 160.0 | 110 | 3.90 | 2.875 | 17.02 | 0 | 1 | 4 | 4 |\n",
       "| Datsun 710 | 22.8 | 4 | 108.0 |  93 | 3.85 | 2.320 | 18.61 | 1 | 1 | 4 | 1 |\n",
       "| Hornet 4 Drive | 21.4 | 6 | 258.0 | 110 | 3.08 | 3.215 | 19.44 | 1 | 0 | 3 | 1 |\n",
       "| Hornet Sportabout | 18.7 | 8 | 360.0 | 175 | 3.15 | 3.440 | 17.02 | 0 | 0 | 3 | 2 |\n",
       "| Valiant | 18.1 | 6 | 225.0 | 105 | 2.76 | 3.460 | 20.22 | 1 | 0 | 3 | 1 |\n",
       "| Duster 360 | 14.3 | 8 | 360.0 | 245 | 3.21 | 3.570 | 15.84 | 0 | 0 | 3 | 4 |\n",
       "| Merc 240D | 24.4 | 4 | 146.7 |  62 | 3.69 | 3.190 | 20.00 | 1 | 0 | 4 | 2 |\n",
       "| Merc 230 | 22.8 | 4 | 140.8 |  95 | 3.92 | 3.150 | 22.90 | 1 | 0 | 4 | 2 |\n",
       "| Merc 280 | 19.2 | 6 | 167.6 | 123 | 3.92 | 3.440 | 18.30 | 1 | 0 | 4 | 4 |\n",
       "| Merc 280C | 17.8 | 6 | 167.6 | 123 | 3.92 | 3.440 | 18.90 | 1 | 0 | 4 | 4 |\n",
       "| Merc 450SE | 16.4 | 8 | 275.8 | 180 | 3.07 | 4.070 | 17.40 | 0 | 0 | 3 | 3 |\n",
       "| Merc 450SL | 17.3 | 8 | 275.8 | 180 | 3.07 | 3.730 | 17.60 | 0 | 0 | 3 | 3 |\n",
       "| Merc 450SLC | 15.2 | 8 | 275.8 | 180 | 3.07 | 3.780 | 18.00 | 0 | 0 | 3 | 3 |\n",
       "| Cadillac Fleetwood | 10.4 | 8 | 472.0 | 205 | 2.93 | 5.250 | 17.98 | 0 | 0 | 3 | 4 |\n",
       "| Lincoln Continental | 10.4 | 8 | 460.0 | 215 | 3.00 | 5.424 | 17.82 | 0 | 0 | 3 | 4 |\n",
       "| Chrysler Imperial | 14.7 | 8 | 440.0 | 230 | 3.23 | 5.345 | 17.42 | 0 | 0 | 3 | 4 |\n",
       "| Fiat 128 | 32.4 | 4 |  78.7 |  66 | 4.08 | 2.200 | 19.47 | 1 | 1 | 4 | 1 |\n",
       "| Honda Civic | 30.4 | 4 |  75.7 |  52 | 4.93 | 1.615 | 18.52 | 1 | 1 | 4 | 2 |\n",
       "| Toyota Corolla | 33.9 | 4 |  71.1 |  65 | 4.22 | 1.835 | 19.90 | 1 | 1 | 4 | 1 |\n",
       "| Toyota Corona | 21.5 | 4 | 120.1 |  97 | 3.70 | 2.465 | 20.01 | 1 | 0 | 3 | 1 |\n",
       "| Dodge Challenger | 15.5 | 8 | 318.0 | 150 | 2.76 | 3.520 | 16.87 | 0 | 0 | 3 | 2 |\n",
       "| AMC Javelin | 15.2 | 8 | 304.0 | 150 | 3.15 | 3.435 | 17.30 | 0 | 0 | 3 | 2 |\n",
       "| Camaro Z28 | 13.3 | 8 | 350.0 | 245 | 3.73 | 3.840 | 15.41 | 0 | 0 | 3 | 4 |\n",
       "| Pontiac Firebird | 19.2 | 8 | 400.0 | 175 | 3.08 | 3.845 | 17.05 | 0 | 0 | 3 | 2 |\n",
       "| Fiat X1-9 | 27.3 | 4 |  79.0 |  66 | 4.08 | 1.935 | 18.90 | 1 | 1 | 4 | 1 |\n",
       "| Porsche 914-2 | 26.0 | 4 | 120.3 |  91 | 4.43 | 2.140 | 16.70 | 0 | 1 | 5 | 2 |\n",
       "| Lotus Europa | 30.4 | 4 |  95.1 | 113 | 3.77 | 1.513 | 16.90 | 1 | 1 | 5 | 2 |\n",
       "| Ford Pantera L | 15.8 | 8 | 351.0 | 264 | 4.22 | 3.170 | 14.50 | 0 | 1 | 5 | 4 |\n",
       "| Ferrari Dino | 19.7 | 6 | 145.0 | 175 | 3.62 | 2.770 | 15.50 | 0 | 1 | 5 | 6 |\n",
       "| Maserati Bora | 15.0 | 8 | 301.0 | 335 | 3.54 | 3.570 | 14.60 | 0 | 1 | 5 | 8 |\n",
       "| Volvo 142E | 21.4 | 4 | 121.0 | 109 | 4.11 | 2.780 | 18.60 | 1 | 1 | 4 | 2 |\n",
       "\n"
      ],
      "text/plain": [
       "                    mpg  cyl disp  hp  drat wt    qsec  vs am gear carb\n",
       "Mazda RX4           21.0 6   160.0 110 3.90 2.620 16.46 0  1  4    4   \n",
       "Mazda RX4 Wag       21.0 6   160.0 110 3.90 2.875 17.02 0  1  4    4   \n",
       "Datsun 710          22.8 4   108.0  93 3.85 2.320 18.61 1  1  4    1   \n",
       "Hornet 4 Drive      21.4 6   258.0 110 3.08 3.215 19.44 1  0  3    1   \n",
       "Hornet Sportabout   18.7 8   360.0 175 3.15 3.440 17.02 0  0  3    2   \n",
       "Valiant             18.1 6   225.0 105 2.76 3.460 20.22 1  0  3    1   \n",
       "Duster 360          14.3 8   360.0 245 3.21 3.570 15.84 0  0  3    4   \n",
       "Merc 240D           24.4 4   146.7  62 3.69 3.190 20.00 1  0  4    2   \n",
       "Merc 230            22.8 4   140.8  95 3.92 3.150 22.90 1  0  4    2   \n",
       "Merc 280            19.2 6   167.6 123 3.92 3.440 18.30 1  0  4    4   \n",
       "Merc 280C           17.8 6   167.6 123 3.92 3.440 18.90 1  0  4    4   \n",
       "Merc 450SE          16.4 8   275.8 180 3.07 4.070 17.40 0  0  3    3   \n",
       "Merc 450SL          17.3 8   275.8 180 3.07 3.730 17.60 0  0  3    3   \n",
       "Merc 450SLC         15.2 8   275.8 180 3.07 3.780 18.00 0  0  3    3   \n",
       "Cadillac Fleetwood  10.4 8   472.0 205 2.93 5.250 17.98 0  0  3    4   \n",
       "Lincoln Continental 10.4 8   460.0 215 3.00 5.424 17.82 0  0  3    4   \n",
       "Chrysler Imperial   14.7 8   440.0 230 3.23 5.345 17.42 0  0  3    4   \n",
       "Fiat 128            32.4 4    78.7  66 4.08 2.200 19.47 1  1  4    1   \n",
       "Honda Civic         30.4 4    75.7  52 4.93 1.615 18.52 1  1  4    2   \n",
       "Toyota Corolla      33.9 4    71.1  65 4.22 1.835 19.90 1  1  4    1   \n",
       "Toyota Corona       21.5 4   120.1  97 3.70 2.465 20.01 1  0  3    1   \n",
       "Dodge Challenger    15.5 8   318.0 150 2.76 3.520 16.87 0  0  3    2   \n",
       "AMC Javelin         15.2 8   304.0 150 3.15 3.435 17.30 0  0  3    2   \n",
       "Camaro Z28          13.3 8   350.0 245 3.73 3.840 15.41 0  0  3    4   \n",
       "Pontiac Firebird    19.2 8   400.0 175 3.08 3.845 17.05 0  0  3    2   \n",
       "Fiat X1-9           27.3 4    79.0  66 4.08 1.935 18.90 1  1  4    1   \n",
       "Porsche 914-2       26.0 4   120.3  91 4.43 2.140 16.70 0  1  5    2   \n",
       "Lotus Europa        30.4 4    95.1 113 3.77 1.513 16.90 1  1  5    2   \n",
       "Ford Pantera L      15.8 8   351.0 264 4.22 3.170 14.50 0  1  5    4   \n",
       "Ferrari Dino        19.7 6   145.0 175 3.62 2.770 15.50 0  1  5    6   \n",
       "Maserati Bora       15.0 8   301.0 335 3.54 3.570 14.60 0  1  5    8   \n",
       "Volvo 142E          21.4 4   121.0 109 4.11 2.780 18.60 1  1  4    2   "
      ]
     },
     "metadata": {},
     "output_type": "display_data"
    }
   ],
   "source": [
    "mtcars"
   ]
  },
  {
   "cell_type": "markdown",
   "metadata": {},
   "source": [
    "Trabajar con grandes conjuntos de datos no es raro en el análisis de datos. Cuando se trabaja con conjuntos de datos y data frames(extremadamente) grandes, su primera tarea como analista de datos es desarrollar una comprensión clara de su estructura y elementos principales. Por lo tanto, a menudo es útil mostrar solo una pequeña parte de todo el conjunto de datos.\n",
    "\n",
    "Entonces, ¿cómo hacer esto en R? Bueno, la función `head()` le permite mostrar las primeras observaciones de un marco de datos. Del mismo modo, la función `tail()` imprime las últimas observaciones en su conjunto de datos.\n",
    "\n",
    "Tanto `head()` como `tail()` imprimen una línea superior llamada 'encabezado', que contiene los nombres de las diferentes variables en su conjunto de datos.\n",
    "\n",
    "Probemos estas funciones con el data frame mtcars"
   ]
  },
  {
   "cell_type": "code",
   "execution_count": 80,
   "metadata": {},
   "outputs": [
    {
     "data": {
      "text/html": [
       "<table>\n",
       "<caption>A data.frame: 6 × 11</caption>\n",
       "<thead>\n",
       "\t<tr><th></th><th scope=col>mpg</th><th scope=col>cyl</th><th scope=col>disp</th><th scope=col>hp</th><th scope=col>drat</th><th scope=col>wt</th><th scope=col>qsec</th><th scope=col>vs</th><th scope=col>am</th><th scope=col>gear</th><th scope=col>carb</th></tr>\n",
       "\t<tr><th></th><th scope=col>&lt;dbl&gt;</th><th scope=col>&lt;dbl&gt;</th><th scope=col>&lt;dbl&gt;</th><th scope=col>&lt;dbl&gt;</th><th scope=col>&lt;dbl&gt;</th><th scope=col>&lt;dbl&gt;</th><th scope=col>&lt;dbl&gt;</th><th scope=col>&lt;dbl&gt;</th><th scope=col>&lt;dbl&gt;</th><th scope=col>&lt;dbl&gt;</th><th scope=col>&lt;dbl&gt;</th></tr>\n",
       "</thead>\n",
       "<tbody>\n",
       "\t<tr><th scope=row>Mazda RX4</th><td>21.0</td><td>6</td><td>160</td><td>110</td><td>3.90</td><td>2.620</td><td>16.46</td><td>0</td><td>1</td><td>4</td><td>4</td></tr>\n",
       "\t<tr><th scope=row>Mazda RX4 Wag</th><td>21.0</td><td>6</td><td>160</td><td>110</td><td>3.90</td><td>2.875</td><td>17.02</td><td>0</td><td>1</td><td>4</td><td>4</td></tr>\n",
       "\t<tr><th scope=row>Datsun 710</th><td>22.8</td><td>4</td><td>108</td><td> 93</td><td>3.85</td><td>2.320</td><td>18.61</td><td>1</td><td>1</td><td>4</td><td>1</td></tr>\n",
       "\t<tr><th scope=row>Hornet 4 Drive</th><td>21.4</td><td>6</td><td>258</td><td>110</td><td>3.08</td><td>3.215</td><td>19.44</td><td>1</td><td>0</td><td>3</td><td>1</td></tr>\n",
       "\t<tr><th scope=row>Hornet Sportabout</th><td>18.7</td><td>8</td><td>360</td><td>175</td><td>3.15</td><td>3.440</td><td>17.02</td><td>0</td><td>0</td><td>3</td><td>2</td></tr>\n",
       "\t<tr><th scope=row>Valiant</th><td>18.1</td><td>6</td><td>225</td><td>105</td><td>2.76</td><td>3.460</td><td>20.22</td><td>1</td><td>0</td><td>3</td><td>1</td></tr>\n",
       "</tbody>\n",
       "</table>\n"
      ],
      "text/latex": [
       "A data.frame: 6 × 11\n",
       "\\begin{tabular}{r|lllllllllll}\n",
       "  & mpg & cyl & disp & hp & drat & wt & qsec & vs & am & gear & carb\\\\\n",
       "  & <dbl> & <dbl> & <dbl> & <dbl> & <dbl> & <dbl> & <dbl> & <dbl> & <dbl> & <dbl> & <dbl>\\\\\n",
       "\\hline\n",
       "\tMazda RX4 & 21.0 & 6 & 160 & 110 & 3.90 & 2.620 & 16.46 & 0 & 1 & 4 & 4\\\\\n",
       "\tMazda RX4 Wag & 21.0 & 6 & 160 & 110 & 3.90 & 2.875 & 17.02 & 0 & 1 & 4 & 4\\\\\n",
       "\tDatsun 710 & 22.8 & 4 & 108 &  93 & 3.85 & 2.320 & 18.61 & 1 & 1 & 4 & 1\\\\\n",
       "\tHornet 4 Drive & 21.4 & 6 & 258 & 110 & 3.08 & 3.215 & 19.44 & 1 & 0 & 3 & 1\\\\\n",
       "\tHornet Sportabout & 18.7 & 8 & 360 & 175 & 3.15 & 3.440 & 17.02 & 0 & 0 & 3 & 2\\\\\n",
       "\tValiant & 18.1 & 6 & 225 & 105 & 2.76 & 3.460 & 20.22 & 1 & 0 & 3 & 1\\\\\n",
       "\\end{tabular}\n"
      ],
      "text/markdown": [
       "\n",
       "A data.frame: 6 × 11\n",
       "\n",
       "| <!--/--> | mpg &lt;dbl&gt; | cyl &lt;dbl&gt; | disp &lt;dbl&gt; | hp &lt;dbl&gt; | drat &lt;dbl&gt; | wt &lt;dbl&gt; | qsec &lt;dbl&gt; | vs &lt;dbl&gt; | am &lt;dbl&gt; | gear &lt;dbl&gt; | carb &lt;dbl&gt; |\n",
       "|---|---|---|---|---|---|---|---|---|---|---|---|\n",
       "| Mazda RX4 | 21.0 | 6 | 160 | 110 | 3.90 | 2.620 | 16.46 | 0 | 1 | 4 | 4 |\n",
       "| Mazda RX4 Wag | 21.0 | 6 | 160 | 110 | 3.90 | 2.875 | 17.02 | 0 | 1 | 4 | 4 |\n",
       "| Datsun 710 | 22.8 | 4 | 108 |  93 | 3.85 | 2.320 | 18.61 | 1 | 1 | 4 | 1 |\n",
       "| Hornet 4 Drive | 21.4 | 6 | 258 | 110 | 3.08 | 3.215 | 19.44 | 1 | 0 | 3 | 1 |\n",
       "| Hornet Sportabout | 18.7 | 8 | 360 | 175 | 3.15 | 3.440 | 17.02 | 0 | 0 | 3 | 2 |\n",
       "| Valiant | 18.1 | 6 | 225 | 105 | 2.76 | 3.460 | 20.22 | 1 | 0 | 3 | 1 |\n",
       "\n"
      ],
      "text/plain": [
       "                  mpg  cyl disp hp  drat wt    qsec  vs am gear carb\n",
       "Mazda RX4         21.0 6   160  110 3.90 2.620 16.46 0  1  4    4   \n",
       "Mazda RX4 Wag     21.0 6   160  110 3.90 2.875 17.02 0  1  4    4   \n",
       "Datsun 710        22.8 4   108   93 3.85 2.320 18.61 1  1  4    1   \n",
       "Hornet 4 Drive    21.4 6   258  110 3.08 3.215 19.44 1  0  3    1   \n",
       "Hornet Sportabout 18.7 8   360  175 3.15 3.440 17.02 0  0  3    2   \n",
       "Valiant           18.1 6   225  105 2.76 3.460 20.22 1  0  3    1   "
      ]
     },
     "metadata": {},
     "output_type": "display_data"
    },
    {
     "data": {
      "text/html": [
       "<table>\n",
       "<caption>A data.frame: 6 × 11</caption>\n",
       "<thead>\n",
       "\t<tr><th></th><th scope=col>mpg</th><th scope=col>cyl</th><th scope=col>disp</th><th scope=col>hp</th><th scope=col>drat</th><th scope=col>wt</th><th scope=col>qsec</th><th scope=col>vs</th><th scope=col>am</th><th scope=col>gear</th><th scope=col>carb</th></tr>\n",
       "\t<tr><th></th><th scope=col>&lt;dbl&gt;</th><th scope=col>&lt;dbl&gt;</th><th scope=col>&lt;dbl&gt;</th><th scope=col>&lt;dbl&gt;</th><th scope=col>&lt;dbl&gt;</th><th scope=col>&lt;dbl&gt;</th><th scope=col>&lt;dbl&gt;</th><th scope=col>&lt;dbl&gt;</th><th scope=col>&lt;dbl&gt;</th><th scope=col>&lt;dbl&gt;</th><th scope=col>&lt;dbl&gt;</th></tr>\n",
       "</thead>\n",
       "<tbody>\n",
       "\t<tr><th scope=row>Porsche 914-2</th><td>26.0</td><td>4</td><td>120.3</td><td> 91</td><td>4.43</td><td>2.140</td><td>16.7</td><td>0</td><td>1</td><td>5</td><td>2</td></tr>\n",
       "\t<tr><th scope=row>Lotus Europa</th><td>30.4</td><td>4</td><td> 95.1</td><td>113</td><td>3.77</td><td>1.513</td><td>16.9</td><td>1</td><td>1</td><td>5</td><td>2</td></tr>\n",
       "\t<tr><th scope=row>Ford Pantera L</th><td>15.8</td><td>8</td><td>351.0</td><td>264</td><td>4.22</td><td>3.170</td><td>14.5</td><td>0</td><td>1</td><td>5</td><td>4</td></tr>\n",
       "\t<tr><th scope=row>Ferrari Dino</th><td>19.7</td><td>6</td><td>145.0</td><td>175</td><td>3.62</td><td>2.770</td><td>15.5</td><td>0</td><td>1</td><td>5</td><td>6</td></tr>\n",
       "\t<tr><th scope=row>Maserati Bora</th><td>15.0</td><td>8</td><td>301.0</td><td>335</td><td>3.54</td><td>3.570</td><td>14.6</td><td>0</td><td>1</td><td>5</td><td>8</td></tr>\n",
       "\t<tr><th scope=row>Volvo 142E</th><td>21.4</td><td>4</td><td>121.0</td><td>109</td><td>4.11</td><td>2.780</td><td>18.6</td><td>1</td><td>1</td><td>4</td><td>2</td></tr>\n",
       "</tbody>\n",
       "</table>\n"
      ],
      "text/latex": [
       "A data.frame: 6 × 11\n",
       "\\begin{tabular}{r|lllllllllll}\n",
       "  & mpg & cyl & disp & hp & drat & wt & qsec & vs & am & gear & carb\\\\\n",
       "  & <dbl> & <dbl> & <dbl> & <dbl> & <dbl> & <dbl> & <dbl> & <dbl> & <dbl> & <dbl> & <dbl>\\\\\n",
       "\\hline\n",
       "\tPorsche 914-2 & 26.0 & 4 & 120.3 &  91 & 4.43 & 2.140 & 16.7 & 0 & 1 & 5 & 2\\\\\n",
       "\tLotus Europa & 30.4 & 4 &  95.1 & 113 & 3.77 & 1.513 & 16.9 & 1 & 1 & 5 & 2\\\\\n",
       "\tFord Pantera L & 15.8 & 8 & 351.0 & 264 & 4.22 & 3.170 & 14.5 & 0 & 1 & 5 & 4\\\\\n",
       "\tFerrari Dino & 19.7 & 6 & 145.0 & 175 & 3.62 & 2.770 & 15.5 & 0 & 1 & 5 & 6\\\\\n",
       "\tMaserati Bora & 15.0 & 8 & 301.0 & 335 & 3.54 & 3.570 & 14.6 & 0 & 1 & 5 & 8\\\\\n",
       "\tVolvo 142E & 21.4 & 4 & 121.0 & 109 & 4.11 & 2.780 & 18.6 & 1 & 1 & 4 & 2\\\\\n",
       "\\end{tabular}\n"
      ],
      "text/markdown": [
       "\n",
       "A data.frame: 6 × 11\n",
       "\n",
       "| <!--/--> | mpg &lt;dbl&gt; | cyl &lt;dbl&gt; | disp &lt;dbl&gt; | hp &lt;dbl&gt; | drat &lt;dbl&gt; | wt &lt;dbl&gt; | qsec &lt;dbl&gt; | vs &lt;dbl&gt; | am &lt;dbl&gt; | gear &lt;dbl&gt; | carb &lt;dbl&gt; |\n",
       "|---|---|---|---|---|---|---|---|---|---|---|---|\n",
       "| Porsche 914-2 | 26.0 | 4 | 120.3 |  91 | 4.43 | 2.140 | 16.7 | 0 | 1 | 5 | 2 |\n",
       "| Lotus Europa | 30.4 | 4 |  95.1 | 113 | 3.77 | 1.513 | 16.9 | 1 | 1 | 5 | 2 |\n",
       "| Ford Pantera L | 15.8 | 8 | 351.0 | 264 | 4.22 | 3.170 | 14.5 | 0 | 1 | 5 | 4 |\n",
       "| Ferrari Dino | 19.7 | 6 | 145.0 | 175 | 3.62 | 2.770 | 15.5 | 0 | 1 | 5 | 6 |\n",
       "| Maserati Bora | 15.0 | 8 | 301.0 | 335 | 3.54 | 3.570 | 14.6 | 0 | 1 | 5 | 8 |\n",
       "| Volvo 142E | 21.4 | 4 | 121.0 | 109 | 4.11 | 2.780 | 18.6 | 1 | 1 | 4 | 2 |\n",
       "\n"
      ],
      "text/plain": [
       "               mpg  cyl disp  hp  drat wt    qsec vs am gear carb\n",
       "Porsche 914-2  26.0 4   120.3  91 4.43 2.140 16.7 0  1  5    2   \n",
       "Lotus Europa   30.4 4    95.1 113 3.77 1.513 16.9 1  1  5    2   \n",
       "Ford Pantera L 15.8 8   351.0 264 4.22 3.170 14.5 0  1  5    4   \n",
       "Ferrari Dino   19.7 6   145.0 175 3.62 2.770 15.5 0  1  5    6   \n",
       "Maserati Bora  15.0 8   301.0 335 3.54 3.570 14.6 0  1  5    8   \n",
       "Volvo 142E     21.4 4   121.0 109 4.11 2.780 18.6 1  1  4    2   "
      ]
     },
     "metadata": {},
     "output_type": "display_data"
    }
   ],
   "source": [
    "head(mtcars)\n",
    "tail(mtcars)"
   ]
  },
  {
   "cell_type": "markdown",
   "metadata": {},
   "source": [
    "Como podrás ver nos devuelve las primeras y últimas 6 observaciones del data frame, esto lo podemos modificar. por ejemplo, si quisieramos ver los primeros 10 podemos agregar un segundo argumento con el número específico de filas a desplegar"
   ]
  },
  {
   "cell_type": "code",
   "execution_count": 81,
   "metadata": {},
   "outputs": [
    {
     "data": {
      "text/html": [
       "<table>\n",
       "<caption>A data.frame: 10 × 11</caption>\n",
       "<thead>\n",
       "\t<tr><th></th><th scope=col>mpg</th><th scope=col>cyl</th><th scope=col>disp</th><th scope=col>hp</th><th scope=col>drat</th><th scope=col>wt</th><th scope=col>qsec</th><th scope=col>vs</th><th scope=col>am</th><th scope=col>gear</th><th scope=col>carb</th></tr>\n",
       "\t<tr><th></th><th scope=col>&lt;dbl&gt;</th><th scope=col>&lt;dbl&gt;</th><th scope=col>&lt;dbl&gt;</th><th scope=col>&lt;dbl&gt;</th><th scope=col>&lt;dbl&gt;</th><th scope=col>&lt;dbl&gt;</th><th scope=col>&lt;dbl&gt;</th><th scope=col>&lt;dbl&gt;</th><th scope=col>&lt;dbl&gt;</th><th scope=col>&lt;dbl&gt;</th><th scope=col>&lt;dbl&gt;</th></tr>\n",
       "</thead>\n",
       "<tbody>\n",
       "\t<tr><th scope=row>Mazda RX4</th><td>21.0</td><td>6</td><td>160.0</td><td>110</td><td>3.90</td><td>2.620</td><td>16.46</td><td>0</td><td>1</td><td>4</td><td>4</td></tr>\n",
       "\t<tr><th scope=row>Mazda RX4 Wag</th><td>21.0</td><td>6</td><td>160.0</td><td>110</td><td>3.90</td><td>2.875</td><td>17.02</td><td>0</td><td>1</td><td>4</td><td>4</td></tr>\n",
       "\t<tr><th scope=row>Datsun 710</th><td>22.8</td><td>4</td><td>108.0</td><td> 93</td><td>3.85</td><td>2.320</td><td>18.61</td><td>1</td><td>1</td><td>4</td><td>1</td></tr>\n",
       "\t<tr><th scope=row>Hornet 4 Drive</th><td>21.4</td><td>6</td><td>258.0</td><td>110</td><td>3.08</td><td>3.215</td><td>19.44</td><td>1</td><td>0</td><td>3</td><td>1</td></tr>\n",
       "\t<tr><th scope=row>Hornet Sportabout</th><td>18.7</td><td>8</td><td>360.0</td><td>175</td><td>3.15</td><td>3.440</td><td>17.02</td><td>0</td><td>0</td><td>3</td><td>2</td></tr>\n",
       "\t<tr><th scope=row>Valiant</th><td>18.1</td><td>6</td><td>225.0</td><td>105</td><td>2.76</td><td>3.460</td><td>20.22</td><td>1</td><td>0</td><td>3</td><td>1</td></tr>\n",
       "\t<tr><th scope=row>Duster 360</th><td>14.3</td><td>8</td><td>360.0</td><td>245</td><td>3.21</td><td>3.570</td><td>15.84</td><td>0</td><td>0</td><td>3</td><td>4</td></tr>\n",
       "\t<tr><th scope=row>Merc 240D</th><td>24.4</td><td>4</td><td>146.7</td><td> 62</td><td>3.69</td><td>3.190</td><td>20.00</td><td>1</td><td>0</td><td>4</td><td>2</td></tr>\n",
       "\t<tr><th scope=row>Merc 230</th><td>22.8</td><td>4</td><td>140.8</td><td> 95</td><td>3.92</td><td>3.150</td><td>22.90</td><td>1</td><td>0</td><td>4</td><td>2</td></tr>\n",
       "\t<tr><th scope=row>Merc 280</th><td>19.2</td><td>6</td><td>167.6</td><td>123</td><td>3.92</td><td>3.440</td><td>18.30</td><td>1</td><td>0</td><td>4</td><td>4</td></tr>\n",
       "</tbody>\n",
       "</table>\n"
      ],
      "text/latex": [
       "A data.frame: 10 × 11\n",
       "\\begin{tabular}{r|lllllllllll}\n",
       "  & mpg & cyl & disp & hp & drat & wt & qsec & vs & am & gear & carb\\\\\n",
       "  & <dbl> & <dbl> & <dbl> & <dbl> & <dbl> & <dbl> & <dbl> & <dbl> & <dbl> & <dbl> & <dbl>\\\\\n",
       "\\hline\n",
       "\tMazda RX4 & 21.0 & 6 & 160.0 & 110 & 3.90 & 2.620 & 16.46 & 0 & 1 & 4 & 4\\\\\n",
       "\tMazda RX4 Wag & 21.0 & 6 & 160.0 & 110 & 3.90 & 2.875 & 17.02 & 0 & 1 & 4 & 4\\\\\n",
       "\tDatsun 710 & 22.8 & 4 & 108.0 &  93 & 3.85 & 2.320 & 18.61 & 1 & 1 & 4 & 1\\\\\n",
       "\tHornet 4 Drive & 21.4 & 6 & 258.0 & 110 & 3.08 & 3.215 & 19.44 & 1 & 0 & 3 & 1\\\\\n",
       "\tHornet Sportabout & 18.7 & 8 & 360.0 & 175 & 3.15 & 3.440 & 17.02 & 0 & 0 & 3 & 2\\\\\n",
       "\tValiant & 18.1 & 6 & 225.0 & 105 & 2.76 & 3.460 & 20.22 & 1 & 0 & 3 & 1\\\\\n",
       "\tDuster 360 & 14.3 & 8 & 360.0 & 245 & 3.21 & 3.570 & 15.84 & 0 & 0 & 3 & 4\\\\\n",
       "\tMerc 240D & 24.4 & 4 & 146.7 &  62 & 3.69 & 3.190 & 20.00 & 1 & 0 & 4 & 2\\\\\n",
       "\tMerc 230 & 22.8 & 4 & 140.8 &  95 & 3.92 & 3.150 & 22.90 & 1 & 0 & 4 & 2\\\\\n",
       "\tMerc 280 & 19.2 & 6 & 167.6 & 123 & 3.92 & 3.440 & 18.30 & 1 & 0 & 4 & 4\\\\\n",
       "\\end{tabular}\n"
      ],
      "text/markdown": [
       "\n",
       "A data.frame: 10 × 11\n",
       "\n",
       "| <!--/--> | mpg &lt;dbl&gt; | cyl &lt;dbl&gt; | disp &lt;dbl&gt; | hp &lt;dbl&gt; | drat &lt;dbl&gt; | wt &lt;dbl&gt; | qsec &lt;dbl&gt; | vs &lt;dbl&gt; | am &lt;dbl&gt; | gear &lt;dbl&gt; | carb &lt;dbl&gt; |\n",
       "|---|---|---|---|---|---|---|---|---|---|---|---|\n",
       "| Mazda RX4 | 21.0 | 6 | 160.0 | 110 | 3.90 | 2.620 | 16.46 | 0 | 1 | 4 | 4 |\n",
       "| Mazda RX4 Wag | 21.0 | 6 | 160.0 | 110 | 3.90 | 2.875 | 17.02 | 0 | 1 | 4 | 4 |\n",
       "| Datsun 710 | 22.8 | 4 | 108.0 |  93 | 3.85 | 2.320 | 18.61 | 1 | 1 | 4 | 1 |\n",
       "| Hornet 4 Drive | 21.4 | 6 | 258.0 | 110 | 3.08 | 3.215 | 19.44 | 1 | 0 | 3 | 1 |\n",
       "| Hornet Sportabout | 18.7 | 8 | 360.0 | 175 | 3.15 | 3.440 | 17.02 | 0 | 0 | 3 | 2 |\n",
       "| Valiant | 18.1 | 6 | 225.0 | 105 | 2.76 | 3.460 | 20.22 | 1 | 0 | 3 | 1 |\n",
       "| Duster 360 | 14.3 | 8 | 360.0 | 245 | 3.21 | 3.570 | 15.84 | 0 | 0 | 3 | 4 |\n",
       "| Merc 240D | 24.4 | 4 | 146.7 |  62 | 3.69 | 3.190 | 20.00 | 1 | 0 | 4 | 2 |\n",
       "| Merc 230 | 22.8 | 4 | 140.8 |  95 | 3.92 | 3.150 | 22.90 | 1 | 0 | 4 | 2 |\n",
       "| Merc 280 | 19.2 | 6 | 167.6 | 123 | 3.92 | 3.440 | 18.30 | 1 | 0 | 4 | 4 |\n",
       "\n"
      ],
      "text/plain": [
       "                  mpg  cyl disp  hp  drat wt    qsec  vs am gear carb\n",
       "Mazda RX4         21.0 6   160.0 110 3.90 2.620 16.46 0  1  4    4   \n",
       "Mazda RX4 Wag     21.0 6   160.0 110 3.90 2.875 17.02 0  1  4    4   \n",
       "Datsun 710        22.8 4   108.0  93 3.85 2.320 18.61 1  1  4    1   \n",
       "Hornet 4 Drive    21.4 6   258.0 110 3.08 3.215 19.44 1  0  3    1   \n",
       "Hornet Sportabout 18.7 8   360.0 175 3.15 3.440 17.02 0  0  3    2   \n",
       "Valiant           18.1 6   225.0 105 2.76 3.460 20.22 1  0  3    1   \n",
       "Duster 360        14.3 8   360.0 245 3.21 3.570 15.84 0  0  3    4   \n",
       "Merc 240D         24.4 4   146.7  62 3.69 3.190 20.00 1  0  4    2   \n",
       "Merc 230          22.8 4   140.8  95 3.92 3.150 22.90 1  0  4    2   \n",
       "Merc 280          19.2 6   167.6 123 3.92 3.440 18.30 1  0  4    4   "
      ]
     },
     "metadata": {},
     "output_type": "display_data"
    }
   ],
   "source": [
    "head(mtcars,10)"
   ]
  },
  {
   "cell_type": "markdown",
   "metadata": {},
   "source": [
    "Otro método que se usa a menudo para obtener una visión general rápida de sus datos es la función `str()`. La función `str()` le muestra la estructura de su conjunto de datos. Para un data frame te dice:\n",
    "\n",
    "- El número total de observaciones (por ejemplo, 32 tipos de automóviles)\n",
    "- El número total de variables (por ejemplo, 11 características del automóvil)\n",
    "- Una lista completa de los nombres de las variables (por ejemplo, mpg, cyl, etc...)\n",
    "- El tipo de datos de cada variable (por ejemplo, num)\n",
    "- Las primeras observaciones\n",
    "\n",
    "La aplicación de la función `str()` suele ser lo primero que hace al recibir un nuevo conjunto de datos o data frame. Es una excelente manera de obtener más información sobre su conjunto de datos antes de sumergirse en el análisis real.<br>\n",
    "\n",
    "Probemos esta función"
   ]
  },
  {
   "cell_type": "code",
   "execution_count": 82,
   "metadata": {},
   "outputs": [
    {
     "name": "stdout",
     "output_type": "stream",
     "text": [
      "'data.frame':\t32 obs. of  11 variables:\n",
      " $ mpg : num  21 21 22.8 21.4 18.7 18.1 14.3 24.4 22.8 19.2 ...\n",
      " $ cyl : num  6 6 4 6 8 6 8 4 4 6 ...\n",
      " $ disp: num  160 160 108 258 360 ...\n",
      " $ hp  : num  110 110 93 110 175 105 245 62 95 123 ...\n",
      " $ drat: num  3.9 3.9 3.85 3.08 3.15 2.76 3.21 3.69 3.92 3.92 ...\n",
      " $ wt  : num  2.62 2.88 2.32 3.21 3.44 ...\n",
      " $ qsec: num  16.5 17 18.6 19.4 17 ...\n",
      " $ vs  : num  0 0 1 1 0 1 0 1 1 1 ...\n",
      " $ am  : num  1 1 1 0 0 0 0 0 0 0 ...\n",
      " $ gear: num  4 4 4 3 3 3 3 4 4 4 ...\n",
      " $ carb: num  4 4 1 1 2 1 4 2 2 4 ...\n"
     ]
    }
   ],
   "source": [
    "str(mtcars)"
   ]
  },
  {
   "cell_type": "markdown",
   "metadata": {},
   "source": [
    "Dado que el uso de conjuntos de datos integrados no es ni siquiera la mitad de la diversión de crear tus propios conjuntos de datos, hablaremos de como desarrollar conjunto de datos personalmente.<br>\n",
    "\n",
    "Como primer objetivo, construyamos un data frame que describa las características principales de ocho planetas en nuestro sistema solar. Las características principales de un planeta son:\n",
    "\n",
    "- El tipo de planeta (terrestre o gaseoso).\n",
    "- El diámetro del planeta en relación con el diámetro de la   Tierra.\n",
    "- La rotación del planeta a través del sol en relación con   la de la Tierra.\n",
    "- Si el planeta tiene anillos o no (VERDADERO o FALSO).\n",
    "\n",
    "Después de hacer una investigación rápida en Wikipedia https://en.wikipedia.org/wiki/Planet, se pueden crear los vectores necesarios: nombre, tipo, diámetro, rotación y anillos; Estos vectores ya los he codificado para ahorrar tiempo. El primer elemento en cada uno de estos vectores corresponde a la primera observación.\n",
    "\n",
    "Construye un data frame con la función `data.frame()`. Como argumentos, pasa los vectores de antes: se convertirán en las diferentes columnas de su marco de datos. Debido a que cada columna tiene la misma longitud, los vectores que pasa también deben tener la misma longitud. Pero no olvides que es posible (y probable) que contengan diferentes tipos de datos. Guarda el data frame en una variable llamada **planetas** e imprímelo"
   ]
  },
  {
   "cell_type": "code",
   "execution_count": 83,
   "metadata": {},
   "outputs": [],
   "source": [
    "nombre <- c(\"Mercurio\", \"Venus\", \"Tierra\", \"Marte\", \"Jupiter\", \"Saturno\", \"Urano\", \"Neptuno\")\n",
    "tipo <- c(\"Terrestre\", \"Terrestre\", \"Terrestre\", \n",
    "          \"Terrestre\", \"Gaseoso\", \"Gaseoso\", \"Gaseoso\", \"Gaseoso\")\n",
    "diametro <- c(0.382, 0.949, 1, 0.532, 11.209, 9.449, 4.007, 3.883)\n",
    "rotacion <- c(58.64, -243.02, 1, 1.03, 0.41, 0.43, -0.72, 0.67)\n",
    "anillos <- c(FALSE, FALSE, FALSE, FALSE, TRUE, TRUE, TRUE, TRUE)\n"
   ]
  },
  {
   "cell_type": "code",
   "execution_count": 84,
   "metadata": {},
   "outputs": [
    {
     "data": {
      "text/html": [
       "<table>\n",
       "<caption>A data.frame: 8 × 5</caption>\n",
       "<thead>\n",
       "\t<tr><th scope=col>nombre</th><th scope=col>tipo</th><th scope=col>diametro</th><th scope=col>rotacion</th><th scope=col>anillos</th></tr>\n",
       "\t<tr><th scope=col>&lt;fct&gt;</th><th scope=col>&lt;fct&gt;</th><th scope=col>&lt;dbl&gt;</th><th scope=col>&lt;dbl&gt;</th><th scope=col>&lt;lgl&gt;</th></tr>\n",
       "</thead>\n",
       "<tbody>\n",
       "\t<tr><td>Mercurio</td><td>Terrestre</td><td> 0.382</td><td>  58.64</td><td>FALSE</td></tr>\n",
       "\t<tr><td>Venus   </td><td>Terrestre</td><td> 0.949</td><td>-243.02</td><td>FALSE</td></tr>\n",
       "\t<tr><td>Tierra  </td><td>Terrestre</td><td> 1.000</td><td>   1.00</td><td>FALSE</td></tr>\n",
       "\t<tr><td>Marte   </td><td>Terrestre</td><td> 0.532</td><td>   1.03</td><td>FALSE</td></tr>\n",
       "\t<tr><td>Jupiter </td><td>Gaseoso  </td><td>11.209</td><td>   0.41</td><td> TRUE</td></tr>\n",
       "\t<tr><td>Saturno </td><td>Gaseoso  </td><td> 9.449</td><td>   0.43</td><td> TRUE</td></tr>\n",
       "\t<tr><td>Urano   </td><td>Gaseoso  </td><td> 4.007</td><td>  -0.72</td><td> TRUE</td></tr>\n",
       "\t<tr><td>Neptuno </td><td>Gaseoso  </td><td> 3.883</td><td>   0.67</td><td> TRUE</td></tr>\n",
       "</tbody>\n",
       "</table>\n"
      ],
      "text/latex": [
       "A data.frame: 8 × 5\n",
       "\\begin{tabular}{lllll}\n",
       " nombre & tipo & diametro & rotacion & anillos\\\\\n",
       " <fct> & <fct> & <dbl> & <dbl> & <lgl>\\\\\n",
       "\\hline\n",
       "\t Mercurio & Terrestre &  0.382 &   58.64 & FALSE\\\\\n",
       "\t Venus    & Terrestre &  0.949 & -243.02 & FALSE\\\\\n",
       "\t Tierra   & Terrestre &  1.000 &    1.00 & FALSE\\\\\n",
       "\t Marte    & Terrestre &  0.532 &    1.03 & FALSE\\\\\n",
       "\t Jupiter  & Gaseoso   & 11.209 &    0.41 &  TRUE\\\\\n",
       "\t Saturno  & Gaseoso   &  9.449 &    0.43 &  TRUE\\\\\n",
       "\t Urano    & Gaseoso   &  4.007 &   -0.72 &  TRUE\\\\\n",
       "\t Neptuno  & Gaseoso   &  3.883 &    0.67 &  TRUE\\\\\n",
       "\\end{tabular}\n"
      ],
      "text/markdown": [
       "\n",
       "A data.frame: 8 × 5\n",
       "\n",
       "| nombre &lt;fct&gt; | tipo &lt;fct&gt; | diametro &lt;dbl&gt; | rotacion &lt;dbl&gt; | anillos &lt;lgl&gt; |\n",
       "|---|---|---|---|---|\n",
       "| Mercurio | Terrestre |  0.382 |   58.64 | FALSE |\n",
       "| Venus    | Terrestre |  0.949 | -243.02 | FALSE |\n",
       "| Tierra   | Terrestre |  1.000 |    1.00 | FALSE |\n",
       "| Marte    | Terrestre |  0.532 |    1.03 | FALSE |\n",
       "| Jupiter  | Gaseoso   | 11.209 |    0.41 |  TRUE |\n",
       "| Saturno  | Gaseoso   |  9.449 |    0.43 |  TRUE |\n",
       "| Urano    | Gaseoso   |  4.007 |   -0.72 |  TRUE |\n",
       "| Neptuno  | Gaseoso   |  3.883 |    0.67 |  TRUE |\n",
       "\n"
      ],
      "text/plain": [
       "  nombre   tipo      diametro rotacion anillos\n",
       "1 Mercurio Terrestre  0.382     58.64  FALSE  \n",
       "2 Venus    Terrestre  0.949   -243.02  FALSE  \n",
       "3 Tierra   Terrestre  1.000      1.00  FALSE  \n",
       "4 Marte    Terrestre  0.532      1.03  FALSE  \n",
       "5 Jupiter  Gaseoso   11.209      0.41   TRUE  \n",
       "6 Saturno  Gaseoso    9.449      0.43   TRUE  \n",
       "7 Urano    Gaseoso    4.007     -0.72   TRUE  \n",
       "8 Neptuno  Gaseoso    3.883      0.67   TRUE  "
      ]
     },
     "metadata": {},
     "output_type": "display_data"
    }
   ],
   "source": [
    "planetas <- data.frame(nombre,tipo,diametro,rotacion,anillos)\n",
    "planetas"
   ]
  },
  {
   "cell_type": "markdown",
   "metadata": {},
   "source": [
    "Checa su estructura"
   ]
  },
  {
   "cell_type": "code",
   "execution_count": 85,
   "metadata": {},
   "outputs": [
    {
     "name": "stdout",
     "output_type": "stream",
     "text": [
      "'data.frame':\t8 obs. of  5 variables:\n",
      " $ nombre  : Factor w/ 8 levels \"Jupiter\",\"Marte\",..: 3 8 6 2 1 5 7 4\n",
      " $ tipo    : Factor w/ 2 levels \"Gaseoso\",\"Terrestre\": 2 2 2 2 1 1 1 1\n",
      " $ diametro: num  0.382 0.949 1 0.532 11.209 ...\n",
      " $ rotacion: num  58.64 -243.02 1 1.03 0.41 ...\n",
      " $ anillos : logi  FALSE FALSE FALSE FALSE TRUE TRUE ...\n"
     ]
    }
   ],
   "source": [
    "str(planetas)"
   ]
  },
  {
   "cell_type": "markdown",
   "metadata": {},
   "source": [
    "Similar a los vectores y las matrices, selecciona elementos de un data frame con la ayuda de corchetes []. Al usar una coma, puede indicar qué seleccionar de las filas y las columnas, respectivamente. Por ejemplo:\n",
    "\n",
    "- my_df[1,2] selecciona el valor en la primera fila y la segunda columna en my_df.\n",
    "- my_df[1: 3,2: 4] selecciona las filas 1, 2, 3 y las columnas 2, 3, 4 en my_df.\n",
    "\n",
    "A veces desea seleccionar todos los elementos de una fila o columna. Por ejemplo, my_df[1,] selecciona todos los elementos de la primera fila. Ahora apliquemos esta técnica en planetas"
   ]
  },
  {
   "cell_type": "code",
   "execution_count": 86,
   "metadata": {},
   "outputs": [
    {
     "data": {
      "text/html": [
       "0.382"
      ],
      "text/latex": [
       "0.382"
      ],
      "text/markdown": [
       "0.382"
      ],
      "text/plain": [
       "[1] 0.382"
      ]
     },
     "metadata": {},
     "output_type": "display_data"
    },
    {
     "data": {
      "text/html": [
       "<table>\n",
       "<caption>A data.frame: 1 × 5</caption>\n",
       "<thead>\n",
       "\t<tr><th></th><th scope=col>nombre</th><th scope=col>tipo</th><th scope=col>diametro</th><th scope=col>rotacion</th><th scope=col>anillos</th></tr>\n",
       "\t<tr><th></th><th scope=col>&lt;fct&gt;</th><th scope=col>&lt;fct&gt;</th><th scope=col>&lt;dbl&gt;</th><th scope=col>&lt;dbl&gt;</th><th scope=col>&lt;lgl&gt;</th></tr>\n",
       "</thead>\n",
       "<tbody>\n",
       "\t<tr><th scope=row>4</th><td>Marte</td><td>Terrestre</td><td>0.532</td><td>1.03</td><td>FALSE</td></tr>\n",
       "</tbody>\n",
       "</table>\n"
      ],
      "text/latex": [
       "A data.frame: 1 × 5\n",
       "\\begin{tabular}{r|lllll}\n",
       "  & nombre & tipo & diametro & rotacion & anillos\\\\\n",
       "  & <fct> & <fct> & <dbl> & <dbl> & <lgl>\\\\\n",
       "\\hline\n",
       "\t4 & Marte & Terrestre & 0.532 & 1.03 & FALSE\\\\\n",
       "\\end{tabular}\n"
      ],
      "text/markdown": [
       "\n",
       "A data.frame: 1 × 5\n",
       "\n",
       "| <!--/--> | nombre &lt;fct&gt; | tipo &lt;fct&gt; | diametro &lt;dbl&gt; | rotacion &lt;dbl&gt; | anillos &lt;lgl&gt; |\n",
       "|---|---|---|---|---|---|\n",
       "| 4 | Marte | Terrestre | 0.532 | 1.03 | FALSE |\n",
       "\n"
      ],
      "text/plain": [
       "  nombre tipo      diametro rotacion anillos\n",
       "4 Marte  Terrestre 0.532    1.03     FALSE  "
      ]
     },
     "metadata": {},
     "output_type": "display_data"
    }
   ],
   "source": [
    "# Imprime el diámetro de Mercurio (fila 1, columna 3)\n",
    "planetas[1,3]\n",
    "# Imprime los datos para Marte (toda la cuarta fila)\n",
    "planetas[4,]"
   ]
  },
  {
   "cell_type": "markdown",
   "metadata": {},
   "source": [
    "En lugar de usar números para seleccionar elementos de un data frame, también puede usar los nombres de las variables para seleccionar columnas de un marco de datos.\n",
    "\n",
    "Suponga que desea seleccionar los primeros tres elementos de la columna 'tipo'. Una forma de hacer esto es:\n",
    "\n",
    "                  planetas_df [1: 3,2]\n",
    "                    \n",
    "Una posible desventaja de este enfoque es que debe conocer (o buscar) el número de columna 'tipo', lo que se vuelve difícil si tiene muchas variables. A menudo es más fácil usar el nombre de la variable:\n",
    "\n",
    "                planets_df [1: 3, \"tipo\"]\n",
    "Práctiquemos"
   ]
  },
  {
   "cell_type": "code",
   "execution_count": 87,
   "metadata": {},
   "outputs": [
    {
     "data": {
      "text/html": [
       "<style>\n",
       ".list-inline {list-style: none; margin:0; padding: 0}\n",
       ".list-inline>li {display: inline-block}\n",
       ".list-inline>li:not(:last-child)::after {content: \"\\00b7\"; padding: 0 .5ex}\n",
       "</style>\n",
       "<ol class=list-inline><li>0.382</li><li>0.949</li><li>1</li><li>0.532</li><li>11.209</li></ol>\n"
      ],
      "text/latex": [
       "\\begin{enumerate*}\n",
       "\\item 0.382\n",
       "\\item 0.949\n",
       "\\item 1\n",
       "\\item 0.532\n",
       "\\item 11.209\n",
       "\\end{enumerate*}\n"
      ],
      "text/markdown": [
       "1. 0.382\n",
       "2. 0.949\n",
       "3. 1\n",
       "4. 0.532\n",
       "5. 11.209\n",
       "\n",
       "\n"
      ],
      "text/plain": [
       "[1]  0.382  0.949  1.000  0.532 11.209"
      ]
     },
     "metadata": {},
     "output_type": "display_data"
    }
   ],
   "source": [
    "# Selecciona los primeros 5 valores de la columna \n",
    "# de diámetro\n",
    "planetas[1:5, \"diametro\"]"
   ]
  },
  {
   "cell_type": "markdown",
   "metadata": {},
   "source": [
    "A menudo querrás seleccionar una columna completa, es decir, una variable específica de un data frame. Si desea seleccionar todos los elementos de la variable 'diámetro', por ejemplo, ambos harán el truco:\n",
    "\n",
    "                        planetas[, 3]\n",
    "                              ó\n",
    "                   planetas[, \"diámetro\"]\n",
    "                   \n",
    "Sin embargo, hay un atajo. Si sus columnas tienen nombres, puede usar el signo $:\n",
    "\n",
    "                     planetas$diámetro\n",
    "                     \n",
    "Probemoslo"
   ]
  },
  {
   "cell_type": "code",
   "execution_count": 88,
   "metadata": {},
   "outputs": [],
   "source": [
    "# Selecciona la variable anillos de planetas y guardala como\n",
    "# anillos\n",
    "\n",
    "\n",
    "# Imprime la variable"
   ]
  },
  {
   "cell_type": "markdown",
   "metadata": {},
   "source": [
    "Probablemente recuerdes de la escuela secundaria que algunos planetas de nuestro sistema solar tienen anillos y otros no. Lamentablemente no puedes recordar sus nombres. ¿Podría R ayudarnos?\n",
    "\n",
    "Si escribe anillos en la consola, obtendrás:\n",
    "\n",
    "         [1] FALSE FALSE FALSE FALSE TRUE TRUE                          TRUE TRUE\n",
    "         \n",
    "Esto significa que las primeras cuatro observaciones (o planetas) no tienen un anillo (FALSE), pero las otras cuatro sí (TRUE). Sin embargo, no obtienes una buena visión general de los nombres de estos planetas, su diámetro, etc. Tratemos de usar el vector **anillos** para seleccionar los datos de los cuatro planetas con anillos."
   ]
  },
  {
   "cell_type": "code",
   "execution_count": 89,
   "metadata": {},
   "outputs": [
    {
     "ename": "ERROR",
     "evalue": "Error in eval(expr, envir, enclos): objeto 'planeta' no encontrado\n",
     "output_type": "error",
     "traceback": [
      "Error in eval(expr, envir, enclos): objeto 'planeta' no encontrado\nTraceback:\n"
     ]
    }
   ],
   "source": [
    "# selecciona todas las columnas para planetas con anillos\n",
    "planeta[anillos, ]"
   ]
  },
  {
   "cell_type": "markdown",
   "metadata": {},
   "source": [
    "Entonces, ¿qué aprendiste exactamente de este ejercicio? Seleccionaste un subconjunto de un data frame (planetas) en función de si cierta condición era verdadera (anillos o no anillos) y logró extraer todos los datos relevantes.<br>\n",
    "\n",
    "Ahora, avancemos un nivel y usemos la función `subset()`. Deberias ver que la función `subset()`funciona como un atajo para hacer exactamente lo mismo que hizo en los ejercicios anteriores.\n",
    "\n",
    "        subset(my_df, subset = alguna_condición)\n",
    "        \n",
    "El primer argumento de `subset()` especifica el conjunto de datos para el que desea un subconjunto. Al agregar el segundo argumento, le da a R la información y las condiciones necesarias para seleccionar el subconjunto correcto.\n",
    "\n",
    "El siguiente código le dará exactamente el mismo resultado que obtuvo en el ejercicio anterior, pero esta vez, ¡no necesitamos el vector **anillos**!"
   ]
  },
  {
   "cell_type": "code",
   "execution_count": 90,
   "metadata": {},
   "outputs": [
    {
     "data": {
      "text/html": [
       "<table>\n",
       "<caption>A data.frame: 4 × 5</caption>\n",
       "<thead>\n",
       "\t<tr><th></th><th scope=col>nombre</th><th scope=col>tipo</th><th scope=col>diametro</th><th scope=col>rotacion</th><th scope=col>anillos</th></tr>\n",
       "\t<tr><th></th><th scope=col>&lt;fct&gt;</th><th scope=col>&lt;fct&gt;</th><th scope=col>&lt;dbl&gt;</th><th scope=col>&lt;dbl&gt;</th><th scope=col>&lt;lgl&gt;</th></tr>\n",
       "</thead>\n",
       "<tbody>\n",
       "\t<tr><th scope=row>5</th><td>Jupiter</td><td>Gaseoso</td><td>11.209</td><td> 0.41</td><td>TRUE</td></tr>\n",
       "\t<tr><th scope=row>6</th><td>Saturno</td><td>Gaseoso</td><td> 9.449</td><td> 0.43</td><td>TRUE</td></tr>\n",
       "\t<tr><th scope=row>7</th><td>Urano  </td><td>Gaseoso</td><td> 4.007</td><td>-0.72</td><td>TRUE</td></tr>\n",
       "\t<tr><th scope=row>8</th><td>Neptuno</td><td>Gaseoso</td><td> 3.883</td><td> 0.67</td><td>TRUE</td></tr>\n",
       "</tbody>\n",
       "</table>\n"
      ],
      "text/latex": [
       "A data.frame: 4 × 5\n",
       "\\begin{tabular}{r|lllll}\n",
       "  & nombre & tipo & diametro & rotacion & anillos\\\\\n",
       "  & <fct> & <fct> & <dbl> & <dbl> & <lgl>\\\\\n",
       "\\hline\n",
       "\t5 & Jupiter & Gaseoso & 11.209 &  0.41 & TRUE\\\\\n",
       "\t6 & Saturno & Gaseoso &  9.449 &  0.43 & TRUE\\\\\n",
       "\t7 & Urano   & Gaseoso &  4.007 & -0.72 & TRUE\\\\\n",
       "\t8 & Neptuno & Gaseoso &  3.883 &  0.67 & TRUE\\\\\n",
       "\\end{tabular}\n"
      ],
      "text/markdown": [
       "\n",
       "A data.frame: 4 × 5\n",
       "\n",
       "| <!--/--> | nombre &lt;fct&gt; | tipo &lt;fct&gt; | diametro &lt;dbl&gt; | rotacion &lt;dbl&gt; | anillos &lt;lgl&gt; |\n",
       "|---|---|---|---|---|---|\n",
       "| 5 | Jupiter | Gaseoso | 11.209 |  0.41 | TRUE |\n",
       "| 6 | Saturno | Gaseoso |  9.449 |  0.43 | TRUE |\n",
       "| 7 | Urano   | Gaseoso |  4.007 | -0.72 | TRUE |\n",
       "| 8 | Neptuno | Gaseoso |  3.883 |  0.67 | TRUE |\n",
       "\n"
      ],
      "text/plain": [
       "  nombre  tipo    diametro rotacion anillos\n",
       "5 Jupiter Gaseoso 11.209    0.41    TRUE   \n",
       "6 Saturno Gaseoso  9.449    0.43    TRUE   \n",
       "7 Urano   Gaseoso  4.007   -0.72    TRUE   \n",
       "8 Neptuno Gaseoso  3.883    0.67    TRUE   "
      ]
     },
     "metadata": {},
     "output_type": "display_data"
    }
   ],
   "source": [
    "subset(planetas, subset = anillos)"
   ]
  },
  {
   "cell_type": "markdown",
   "metadata": {},
   "source": [
    "Ahora un ejercicio, usa `subset()` en **planetas** para seleccionar planetas que tengan un diámetro menor que la Tierra. Debido a que la variable de diámetro es una medida relativa del diámetro del planeta Tierra, su condición es diámetro < 1."
   ]
  },
  {
   "cell_type": "code",
   "execution_count": 91,
   "metadata": {},
   "outputs": [
    {
     "ename": "ERROR",
     "evalue": "Error in subset(planeta, subset = diametro < 1): objeto 'planeta' no encontrado\n",
     "output_type": "error",
     "traceback": [
      "Error in subset(planeta, subset = diametro < 1): objeto 'planeta' no encontrado\nTraceback:\n",
      "1. subset(planeta, subset = diametro < 1)"
     ]
    }
   ],
   "source": [
    "subset(planeta, subset = diametro < 1)"
   ]
  },
  {
   "cell_type": "markdown",
   "metadata": {},
   "source": [
    "Hacer y crear clasificaciones es uno de los asuntos favoritos de la humanidad. Estas clasificaciones pueden ser útiles (las mejores universidades del mundo), entretenidas (las estrellas de cine más influyentes) o inútiles (el mejor cosplay del 2020).\n",
    "\n",
    "En el análisis de datos, puedes ordenar sus datos de acuerdo con una determinada variable en el conjunto de datos. En R, esto se hace con la ayuda de la función `order()`.\n",
    "\n",
    "`order()` es una función que le brinda la posición clasificada de cada elemento cuando se aplica a una variable, como un vector, por ejemplo:"
   ]
  },
  {
   "cell_type": "code",
   "execution_count": 92,
   "metadata": {},
   "outputs": [
    {
     "data": {
      "text/html": [
       "<style>\n",
       ".list-inline {list-style: none; margin:0; padding: 0}\n",
       ".list-inline>li {display: inline-block}\n",
       ".list-inline>li:not(:last-child)::after {content: \"\\00b7\"; padding: 0 .5ex}\n",
       "</style>\n",
       "<ol class=list-inline><li>2</li><li>1</li><li>3</li></ol>\n"
      ],
      "text/latex": [
       "\\begin{enumerate*}\n",
       "\\item 2\n",
       "\\item 1\n",
       "\\item 3\n",
       "\\end{enumerate*}\n"
      ],
      "text/markdown": [
       "1. 2\n",
       "2. 1\n",
       "3. 3\n",
       "\n",
       "\n"
      ],
      "text/plain": [
       "[1] 2 1 3"
      ]
     },
     "metadata": {},
     "output_type": "display_data"
    }
   ],
   "source": [
    "a <- c (100, 10, 1000)\n",
    "order(a) "
   ]
  },
  {
   "cell_type": "markdown",
   "metadata": {},
   "source": [
    "10, que es el segundo elemento en a, es el elemento más pequeño, por lo que 2 viene primero en el resultado de `order(a)`. 100, que es el primer elemento en a, es el segundo elemento más pequeño, por lo que 1 ocupa el segundo lugar en la salida del `order(a)`.\n",
    "Esto significa que podemos usar el resultado de `order(a)` para reorganizar:"
   ]
  },
  {
   "cell_type": "code",
   "execution_count": 93,
   "metadata": {},
   "outputs": [
    {
     "data": {
      "text/html": [
       "<style>\n",
       ".list-inline {list-style: none; margin:0; padding: 0}\n",
       ".list-inline>li {display: inline-block}\n",
       ".list-inline>li:not(:last-child)::after {content: \"\\00b7\"; padding: 0 .5ex}\n",
       "</style>\n",
       "<ol class=list-inline><li>10</li><li>100</li><li>1000</li></ol>\n"
      ],
      "text/latex": [
       "\\begin{enumerate*}\n",
       "\\item 10\n",
       "\\item 100\n",
       "\\item 1000\n",
       "\\end{enumerate*}\n"
      ],
      "text/markdown": [
       "1. 10\n",
       "2. 100\n",
       "3. 1000\n",
       "\n",
       "\n"
      ],
      "text/plain": [
       "[1]   10  100 1000"
      ]
     },
     "metadata": {},
     "output_type": "display_data"
    }
   ],
   "source": [
    "a[order(a)]"
   ]
  },
  {
   "cell_type": "markdown",
   "metadata": {},
   "source": [
    "Bien, ahora que comprendes la función `order()`, hagamos algo útil con ella. Imaginemos que necesitamos reorganizar tu data frame de modo que comience con el planeta más pequeño y termine con el más grande. Un reordenamiento de la columna 'diámetro'.\n",
    "¿Cómo le harías?"
   ]
  },
  {
   "cell_type": "code",
   "execution_count": 94,
   "metadata": {},
   "outputs": [
    {
     "data": {
      "text/html": [
       "<table>\n",
       "<caption>A data.frame: 8 × 5</caption>\n",
       "<thead>\n",
       "\t<tr><th></th><th scope=col>nombre</th><th scope=col>tipo</th><th scope=col>diametro</th><th scope=col>rotacion</th><th scope=col>anillos</th></tr>\n",
       "\t<tr><th></th><th scope=col>&lt;fct&gt;</th><th scope=col>&lt;fct&gt;</th><th scope=col>&lt;dbl&gt;</th><th scope=col>&lt;dbl&gt;</th><th scope=col>&lt;lgl&gt;</th></tr>\n",
       "</thead>\n",
       "<tbody>\n",
       "\t<tr><th scope=row>1</th><td>Mercurio</td><td>Terrestre</td><td> 0.382</td><td>  58.64</td><td>FALSE</td></tr>\n",
       "\t<tr><th scope=row>4</th><td>Marte   </td><td>Terrestre</td><td> 0.532</td><td>   1.03</td><td>FALSE</td></tr>\n",
       "\t<tr><th scope=row>2</th><td>Venus   </td><td>Terrestre</td><td> 0.949</td><td>-243.02</td><td>FALSE</td></tr>\n",
       "\t<tr><th scope=row>3</th><td>Tierra  </td><td>Terrestre</td><td> 1.000</td><td>   1.00</td><td>FALSE</td></tr>\n",
       "\t<tr><th scope=row>8</th><td>Neptuno </td><td>Gaseoso  </td><td> 3.883</td><td>   0.67</td><td> TRUE</td></tr>\n",
       "\t<tr><th scope=row>7</th><td>Urano   </td><td>Gaseoso  </td><td> 4.007</td><td>  -0.72</td><td> TRUE</td></tr>\n",
       "\t<tr><th scope=row>6</th><td>Saturno </td><td>Gaseoso  </td><td> 9.449</td><td>   0.43</td><td> TRUE</td></tr>\n",
       "\t<tr><th scope=row>5</th><td>Jupiter </td><td>Gaseoso  </td><td>11.209</td><td>   0.41</td><td> TRUE</td></tr>\n",
       "</tbody>\n",
       "</table>\n"
      ],
      "text/latex": [
       "A data.frame: 8 × 5\n",
       "\\begin{tabular}{r|lllll}\n",
       "  & nombre & tipo & diametro & rotacion & anillos\\\\\n",
       "  & <fct> & <fct> & <dbl> & <dbl> & <lgl>\\\\\n",
       "\\hline\n",
       "\t1 & Mercurio & Terrestre &  0.382 &   58.64 & FALSE\\\\\n",
       "\t4 & Marte    & Terrestre &  0.532 &    1.03 & FALSE\\\\\n",
       "\t2 & Venus    & Terrestre &  0.949 & -243.02 & FALSE\\\\\n",
       "\t3 & Tierra   & Terrestre &  1.000 &    1.00 & FALSE\\\\\n",
       "\t8 & Neptuno  & Gaseoso   &  3.883 &    0.67 &  TRUE\\\\\n",
       "\t7 & Urano    & Gaseoso   &  4.007 &   -0.72 &  TRUE\\\\\n",
       "\t6 & Saturno  & Gaseoso   &  9.449 &    0.43 &  TRUE\\\\\n",
       "\t5 & Jupiter  & Gaseoso   & 11.209 &    0.41 &  TRUE\\\\\n",
       "\\end{tabular}\n"
      ],
      "text/markdown": [
       "\n",
       "A data.frame: 8 × 5\n",
       "\n",
       "| <!--/--> | nombre &lt;fct&gt; | tipo &lt;fct&gt; | diametro &lt;dbl&gt; | rotacion &lt;dbl&gt; | anillos &lt;lgl&gt; |\n",
       "|---|---|---|---|---|---|\n",
       "| 1 | Mercurio | Terrestre |  0.382 |   58.64 | FALSE |\n",
       "| 4 | Marte    | Terrestre |  0.532 |    1.03 | FALSE |\n",
       "| 2 | Venus    | Terrestre |  0.949 | -243.02 | FALSE |\n",
       "| 3 | Tierra   | Terrestre |  1.000 |    1.00 | FALSE |\n",
       "| 8 | Neptuno  | Gaseoso   |  3.883 |    0.67 |  TRUE |\n",
       "| 7 | Urano    | Gaseoso   |  4.007 |   -0.72 |  TRUE |\n",
       "| 6 | Saturno  | Gaseoso   |  9.449 |    0.43 |  TRUE |\n",
       "| 5 | Jupiter  | Gaseoso   | 11.209 |    0.41 |  TRUE |\n",
       "\n"
      ],
      "text/plain": [
       "  nombre   tipo      diametro rotacion anillos\n",
       "1 Mercurio Terrestre  0.382     58.64  FALSE  \n",
       "4 Marte    Terrestre  0.532      1.03  FALSE  \n",
       "2 Venus    Terrestre  0.949   -243.02  FALSE  \n",
       "3 Tierra   Terrestre  1.000      1.00  FALSE  \n",
       "8 Neptuno  Gaseoso    3.883      0.67   TRUE  \n",
       "7 Urano    Gaseoso    4.007     -0.72   TRUE  \n",
       "6 Saturno  Gaseoso    9.449      0.43   TRUE  \n",
       "5 Jupiter  Gaseoso   11.209      0.41   TRUE  "
      ]
     },
     "metadata": {},
     "output_type": "display_data"
    }
   ],
   "source": [
    "# Usa order() para crear las posiciones\n",
    "posiciones <- order(planetas$diametro) \n",
    "\n",
    "# Usa posiciones para acomodar los planetas por diámetro\n",
    "planetas[posiciones, ]"
   ]
  },
  {
   "cell_type": "markdown",
   "metadata": {},
   "source": [
    "En este punto del curso ya está familiarizado con:\n",
    "\n",
    "- Vectores (matriz unidimensional): puede contener valores numéricos, de caracteres o lógicos. Todos los elementos en un vector tienen el mismo tipo de datos.\n",
    "- Matrices (matriz bidimensional): puede contener valores numéricos, de caracteres o lógicos. Todos los elementos en una matriz tienen el mismo tipo de datos.\n",
    "- Data frames (objetos bidimensionales): pueden contener valores numéricos, de caracteres o lógicos. Dentro de una columna, todos los elementos tienen el mismo tipo de datos, pero diferentes columnas pueden ser de diferentes tipos de datos."
   ]
  },
  {
   "cell_type": "markdown",
   "metadata": {},
   "source": [
    "### Listas\n",
    "Una lista en R es similar a su lista de tareas pendientes en el trabajo o la escuela: los diferentes elementos en esa lista probablemente tienen diferente duración, características y tipo de actividad que debe realizarse.\n",
    "\n",
    "Una lista en R le permite reunir una variedad de objetos bajo un nombre (es decir, el nombre de la lista) de forma ordenada. Estos objetos pueden ser matrices, vectores, marcos de datos, incluso otras listas, etc. Ni siquiera se requiere que estos objetos estén relacionados entre sí de ninguna manera.¡Puedes almacenar prácticamente cualquier información en ella!<br>\n",
    "\n",
    "¡Creemos nuestra primera lista! Para construir una lista, use la función `list()`:\n",
    "\n",
    "           mi_lista <- list(componente1, componente2 ...)\n",
    "\n",
    "Construye una lista, llamada **lista**, que contenga las variables **vector**, **matriz** y **df** como componentes de la lista.\n",
    "           \n",
    "\n"
   ]
  },
  {
   "cell_type": "code",
   "execution_count": 95,
   "metadata": {},
   "outputs": [],
   "source": [
    "vector <- 1:10 \n",
    "matriz <- matrix(1:9, ncol = 3)\n",
    "df <- mtcars[1:10,]\n",
    "\n",
    "# Construye la lista con estos diferentes elementos:\n",
    "lista<- list(vector, matrix, df)"
   ]
  },
  {
   "cell_type": "code",
   "execution_count": 96,
   "metadata": {},
   "outputs": [
    {
     "data": {
      "text/html": [
       "<ol>\n",
       "\t<li><style>\n",
       ".list-inline {list-style: none; margin:0; padding: 0}\n",
       ".list-inline>li {display: inline-block}\n",
       ".list-inline>li:not(:last-child)::after {content: \"\\00b7\"; padding: 0 .5ex}\n",
       "</style>\n",
       "<ol class=list-inline><li>1</li><li>2</li><li>3</li><li>4</li><li>5</li><li>6</li><li>7</li><li>8</li><li>9</li><li>10</li></ol>\n",
       "</li>\n",
       "\t<li><pre class=language-r><code>function (data = NA, nrow = 1, ncol = 1, byrow = FALSE, dimnames = NULL) \n",
       "{\n",
       "<span style=white-space:pre-wrap>    if (is.object(data) || !is.atomic(data)) </span>\n",
       "<span style=white-space:pre-wrap>        data &lt;- as.vector(data)</span>\n",
       "<span style=white-space:pre-wrap>    .Internal(matrix(data, nrow, ncol, byrow, dimnames, missing(nrow), </span>\n",
       "<span style=white-space:pre-wrap>        missing(ncol)))</span>\n",
       "}</code></pre></li>\n",
       "\t<li><table>\n",
       "<caption>A data.frame: 10 × 11</caption>\n",
       "<thead>\n",
       "\t<tr><th></th><th scope=col>mpg</th><th scope=col>cyl</th><th scope=col>disp</th><th scope=col>hp</th><th scope=col>drat</th><th scope=col>wt</th><th scope=col>qsec</th><th scope=col>vs</th><th scope=col>am</th><th scope=col>gear</th><th scope=col>carb</th></tr>\n",
       "\t<tr><th></th><th scope=col>&lt;dbl&gt;</th><th scope=col>&lt;dbl&gt;</th><th scope=col>&lt;dbl&gt;</th><th scope=col>&lt;dbl&gt;</th><th scope=col>&lt;dbl&gt;</th><th scope=col>&lt;dbl&gt;</th><th scope=col>&lt;dbl&gt;</th><th scope=col>&lt;dbl&gt;</th><th scope=col>&lt;dbl&gt;</th><th scope=col>&lt;dbl&gt;</th><th scope=col>&lt;dbl&gt;</th></tr>\n",
       "</thead>\n",
       "<tbody>\n",
       "\t<tr><th scope=row>Mazda RX4</th><td>21.0</td><td>6</td><td>160.0</td><td>110</td><td>3.90</td><td>2.620</td><td>16.46</td><td>0</td><td>1</td><td>4</td><td>4</td></tr>\n",
       "\t<tr><th scope=row>Mazda RX4 Wag</th><td>21.0</td><td>6</td><td>160.0</td><td>110</td><td>3.90</td><td>2.875</td><td>17.02</td><td>0</td><td>1</td><td>4</td><td>4</td></tr>\n",
       "\t<tr><th scope=row>Datsun 710</th><td>22.8</td><td>4</td><td>108.0</td><td> 93</td><td>3.85</td><td>2.320</td><td>18.61</td><td>1</td><td>1</td><td>4</td><td>1</td></tr>\n",
       "\t<tr><th scope=row>Hornet 4 Drive</th><td>21.4</td><td>6</td><td>258.0</td><td>110</td><td>3.08</td><td>3.215</td><td>19.44</td><td>1</td><td>0</td><td>3</td><td>1</td></tr>\n",
       "\t<tr><th scope=row>Hornet Sportabout</th><td>18.7</td><td>8</td><td>360.0</td><td>175</td><td>3.15</td><td>3.440</td><td>17.02</td><td>0</td><td>0</td><td>3</td><td>2</td></tr>\n",
       "\t<tr><th scope=row>Valiant</th><td>18.1</td><td>6</td><td>225.0</td><td>105</td><td>2.76</td><td>3.460</td><td>20.22</td><td>1</td><td>0</td><td>3</td><td>1</td></tr>\n",
       "\t<tr><th scope=row>Duster 360</th><td>14.3</td><td>8</td><td>360.0</td><td>245</td><td>3.21</td><td>3.570</td><td>15.84</td><td>0</td><td>0</td><td>3</td><td>4</td></tr>\n",
       "\t<tr><th scope=row>Merc 240D</th><td>24.4</td><td>4</td><td>146.7</td><td> 62</td><td>3.69</td><td>3.190</td><td>20.00</td><td>1</td><td>0</td><td>4</td><td>2</td></tr>\n",
       "\t<tr><th scope=row>Merc 230</th><td>22.8</td><td>4</td><td>140.8</td><td> 95</td><td>3.92</td><td>3.150</td><td>22.90</td><td>1</td><td>0</td><td>4</td><td>2</td></tr>\n",
       "\t<tr><th scope=row>Merc 280</th><td>19.2</td><td>6</td><td>167.6</td><td>123</td><td>3.92</td><td>3.440</td><td>18.30</td><td>1</td><td>0</td><td>4</td><td>4</td></tr>\n",
       "</tbody>\n",
       "</table>\n",
       "</li>\n",
       "</ol>\n"
      ],
      "text/latex": [
       "\\begin{enumerate}\n",
       "\\item \\begin{enumerate*}\n",
       "\\item 1\n",
       "\\item 2\n",
       "\\item 3\n",
       "\\item 4\n",
       "\\item 5\n",
       "\\item 6\n",
       "\\item 7\n",
       "\\item 8\n",
       "\\item 9\n",
       "\\item 10\n",
       "\\end{enumerate*}\n",
       "\n",
       "\\item \\begin{minted}{r}\n",
       "function (data = NA, nrow = 1, ncol = 1, byrow = FALSE, dimnames = NULL) \n",
       "\\{\n",
       "    if (is.object(data) \\textbar{}\\textbar{} !is.atomic(data)) \n",
       "        data <- as.vector(data)\n",
       "    .Internal(matrix(data, nrow, ncol, byrow, dimnames, missing(nrow), \n",
       "        missing(ncol)))\n",
       "\\}\n",
       "\\end{minted}\n",
       "\\item A data.frame: 10 × 11\n",
       "\\begin{tabular}{r|lllllllllll}\n",
       "  & mpg & cyl & disp & hp & drat & wt & qsec & vs & am & gear & carb\\\\\n",
       "  & <dbl> & <dbl> & <dbl> & <dbl> & <dbl> & <dbl> & <dbl> & <dbl> & <dbl> & <dbl> & <dbl>\\\\\n",
       "\\hline\n",
       "\tMazda RX4 & 21.0 & 6 & 160.0 & 110 & 3.90 & 2.620 & 16.46 & 0 & 1 & 4 & 4\\\\\n",
       "\tMazda RX4 Wag & 21.0 & 6 & 160.0 & 110 & 3.90 & 2.875 & 17.02 & 0 & 1 & 4 & 4\\\\\n",
       "\tDatsun 710 & 22.8 & 4 & 108.0 &  93 & 3.85 & 2.320 & 18.61 & 1 & 1 & 4 & 1\\\\\n",
       "\tHornet 4 Drive & 21.4 & 6 & 258.0 & 110 & 3.08 & 3.215 & 19.44 & 1 & 0 & 3 & 1\\\\\n",
       "\tHornet Sportabout & 18.7 & 8 & 360.0 & 175 & 3.15 & 3.440 & 17.02 & 0 & 0 & 3 & 2\\\\\n",
       "\tValiant & 18.1 & 6 & 225.0 & 105 & 2.76 & 3.460 & 20.22 & 1 & 0 & 3 & 1\\\\\n",
       "\tDuster 360 & 14.3 & 8 & 360.0 & 245 & 3.21 & 3.570 & 15.84 & 0 & 0 & 3 & 4\\\\\n",
       "\tMerc 240D & 24.4 & 4 & 146.7 &  62 & 3.69 & 3.190 & 20.00 & 1 & 0 & 4 & 2\\\\\n",
       "\tMerc 230 & 22.8 & 4 & 140.8 &  95 & 3.92 & 3.150 & 22.90 & 1 & 0 & 4 & 2\\\\\n",
       "\tMerc 280 & 19.2 & 6 & 167.6 & 123 & 3.92 & 3.440 & 18.30 & 1 & 0 & 4 & 4\\\\\n",
       "\\end{tabular}\n",
       "\n",
       "\\end{enumerate}\n"
      ],
      "text/markdown": [
       "1. 1. 1\n",
       "2. 2\n",
       "3. 3\n",
       "4. 4\n",
       "5. 5\n",
       "6. 6\n",
       "7. 7\n",
       "8. 8\n",
       "9. 9\n",
       "10. 10\n",
       "\n",
       "\n",
       "\n",
       "2. ```r\n",
       "function (data = NA, nrow = 1, ncol = 1, byrow = FALSE, dimnames = NULL) \n",
       "{\n",
       "    if (is.object(data) || !is.atomic(data)) \n",
       "        data <- as.vector(data)\n",
       "    .Internal(matrix(data, nrow, ncol, byrow, dimnames, missing(nrow), \n",
       "        missing(ncol)))\n",
       "}\n",
       "```\n",
       "3. \n",
       "A data.frame: 10 × 11\n",
       "\n",
       "| <!--/--> | mpg &lt;dbl&gt; | cyl &lt;dbl&gt; | disp &lt;dbl&gt; | hp &lt;dbl&gt; | drat &lt;dbl&gt; | wt &lt;dbl&gt; | qsec &lt;dbl&gt; | vs &lt;dbl&gt; | am &lt;dbl&gt; | gear &lt;dbl&gt; | carb &lt;dbl&gt; |\n",
       "|---|---|---|---|---|---|---|---|---|---|---|---|\n",
       "| Mazda RX4 | 21.0 | 6 | 160.0 | 110 | 3.90 | 2.620 | 16.46 | 0 | 1 | 4 | 4 |\n",
       "| Mazda RX4 Wag | 21.0 | 6 | 160.0 | 110 | 3.90 | 2.875 | 17.02 | 0 | 1 | 4 | 4 |\n",
       "| Datsun 710 | 22.8 | 4 | 108.0 |  93 | 3.85 | 2.320 | 18.61 | 1 | 1 | 4 | 1 |\n",
       "| Hornet 4 Drive | 21.4 | 6 | 258.0 | 110 | 3.08 | 3.215 | 19.44 | 1 | 0 | 3 | 1 |\n",
       "| Hornet Sportabout | 18.7 | 8 | 360.0 | 175 | 3.15 | 3.440 | 17.02 | 0 | 0 | 3 | 2 |\n",
       "| Valiant | 18.1 | 6 | 225.0 | 105 | 2.76 | 3.460 | 20.22 | 1 | 0 | 3 | 1 |\n",
       "| Duster 360 | 14.3 | 8 | 360.0 | 245 | 3.21 | 3.570 | 15.84 | 0 | 0 | 3 | 4 |\n",
       "| Merc 240D | 24.4 | 4 | 146.7 |  62 | 3.69 | 3.190 | 20.00 | 1 | 0 | 4 | 2 |\n",
       "| Merc 230 | 22.8 | 4 | 140.8 |  95 | 3.92 | 3.150 | 22.90 | 1 | 0 | 4 | 2 |\n",
       "| Merc 280 | 19.2 | 6 | 167.6 | 123 | 3.92 | 3.440 | 18.30 | 1 | 0 | 4 | 4 |\n",
       "\n",
       "\n",
       "\n",
       "\n"
      ],
      "text/plain": [
       "[[1]]\n",
       " [1]  1  2  3  4  5  6  7  8  9 10\n",
       "\n",
       "[[2]]\n",
       "function (data = NA, nrow = 1, ncol = 1, byrow = FALSE, dimnames = NULL) \n",
       "{\n",
       "    if (is.object(data) || !is.atomic(data)) \n",
       "        data <- as.vector(data)\n",
       "    .Internal(matrix(data, nrow, ncol, byrow, dimnames, missing(nrow), \n",
       "        missing(ncol)))\n",
       "}\n",
       "<bytecode: 0x7fc428354458>\n",
       "<environment: namespace:base>\n",
       "\n",
       "[[3]]\n",
       "                   mpg cyl  disp  hp drat    wt  qsec vs am gear carb\n",
       "Mazda RX4         21.0   6 160.0 110 3.90 2.620 16.46  0  1    4    4\n",
       "Mazda RX4 Wag     21.0   6 160.0 110 3.90 2.875 17.02  0  1    4    4\n",
       "Datsun 710        22.8   4 108.0  93 3.85 2.320 18.61  1  1    4    1\n",
       "Hornet 4 Drive    21.4   6 258.0 110 3.08 3.215 19.44  1  0    3    1\n",
       "Hornet Sportabout 18.7   8 360.0 175 3.15 3.440 17.02  0  0    3    2\n",
       "Valiant           18.1   6 225.0 105 2.76 3.460 20.22  1  0    3    1\n",
       "Duster 360        14.3   8 360.0 245 3.21 3.570 15.84  0  0    3    4\n",
       "Merc 240D         24.4   4 146.7  62 3.69 3.190 20.00  1  0    4    2\n",
       "Merc 230          22.8   4 140.8  95 3.92 3.150 22.90  1  0    4    2\n",
       "Merc 280          19.2   6 167.6 123 3.92 3.440 18.30  1  0    4    4\n"
      ]
     },
     "metadata": {},
     "output_type": "display_data"
    }
   ],
   "source": [
    "lista"
   ]
  },
  {
   "cell_type": "markdown",
   "metadata": {},
   "source": [
    "Al igual que en su lista de tareas pendientes, debe evitar no saber o recordar qué significan los componentes de su lista. Es por eso que debes darles nombres:\n",
    "\n",
    "            lista <- list(nombre1 = comp1,\n",
    "                          nombre2 = comp2)\n",
    "\n",
    "Esto crea una lista con componentes que se denominan nombre1, nombre2, etc. Si desea nombrar sus listas después de haberlas creado, puede usar la función `names()` como lo hiciste con los vectores. Los siguientes comandos son totalmente equivalentes a la asignación anterior:\n",
    "\n",
    "                lista <- list(comp1, comp2)\n",
    "           names(lista) <- c (\"nombre1\", \"nombre2\")\n",
    "\n",
    "Ahora añade a tu lista anterior los nombres **vector**, **matriz** y **df** e imprímela"
   ]
  },
  {
   "cell_type": "code",
   "execution_count": 97,
   "metadata": {},
   "outputs": [
    {
     "data": {
      "text/html": [
       "<dl>\n",
       "\t<dt>$vector</dt>\n",
       "\t\t<dd><style>\n",
       ".list-inline {list-style: none; margin:0; padding: 0}\n",
       ".list-inline>li {display: inline-block}\n",
       ".list-inline>li:not(:last-child)::after {content: \"\\00b7\"; padding: 0 .5ex}\n",
       "</style>\n",
       "<ol class=list-inline><li>1</li><li>2</li><li>3</li><li>4</li><li>5</li><li>6</li><li>7</li><li>8</li><li>9</li><li>10</li></ol>\n",
       "</dd>\n",
       "\t<dt>$matriz</dt>\n",
       "\t\t<dd><pre class=language-r><code>function (data = NA, nrow = 1, ncol = 1, byrow = FALSE, dimnames = NULL) \n",
       "{\n",
       "<span style=white-space:pre-wrap>    if (is.object(data) || !is.atomic(data)) </span>\n",
       "<span style=white-space:pre-wrap>        data &lt;- as.vector(data)</span>\n",
       "<span style=white-space:pre-wrap>    .Internal(matrix(data, nrow, ncol, byrow, dimnames, missing(nrow), </span>\n",
       "<span style=white-space:pre-wrap>        missing(ncol)))</span>\n",
       "}</code></pre></dd>\n",
       "\t<dt>$df</dt>\n",
       "\t\t<dd><table>\n",
       "<caption>A data.frame: 10 × 11</caption>\n",
       "<thead>\n",
       "\t<tr><th></th><th scope=col>mpg</th><th scope=col>cyl</th><th scope=col>disp</th><th scope=col>hp</th><th scope=col>drat</th><th scope=col>wt</th><th scope=col>qsec</th><th scope=col>vs</th><th scope=col>am</th><th scope=col>gear</th><th scope=col>carb</th></tr>\n",
       "\t<tr><th></th><th scope=col>&lt;dbl&gt;</th><th scope=col>&lt;dbl&gt;</th><th scope=col>&lt;dbl&gt;</th><th scope=col>&lt;dbl&gt;</th><th scope=col>&lt;dbl&gt;</th><th scope=col>&lt;dbl&gt;</th><th scope=col>&lt;dbl&gt;</th><th scope=col>&lt;dbl&gt;</th><th scope=col>&lt;dbl&gt;</th><th scope=col>&lt;dbl&gt;</th><th scope=col>&lt;dbl&gt;</th></tr>\n",
       "</thead>\n",
       "<tbody>\n",
       "\t<tr><th scope=row>Mazda RX4</th><td>21.0</td><td>6</td><td>160.0</td><td>110</td><td>3.90</td><td>2.620</td><td>16.46</td><td>0</td><td>1</td><td>4</td><td>4</td></tr>\n",
       "\t<tr><th scope=row>Mazda RX4 Wag</th><td>21.0</td><td>6</td><td>160.0</td><td>110</td><td>3.90</td><td>2.875</td><td>17.02</td><td>0</td><td>1</td><td>4</td><td>4</td></tr>\n",
       "\t<tr><th scope=row>Datsun 710</th><td>22.8</td><td>4</td><td>108.0</td><td> 93</td><td>3.85</td><td>2.320</td><td>18.61</td><td>1</td><td>1</td><td>4</td><td>1</td></tr>\n",
       "\t<tr><th scope=row>Hornet 4 Drive</th><td>21.4</td><td>6</td><td>258.0</td><td>110</td><td>3.08</td><td>3.215</td><td>19.44</td><td>1</td><td>0</td><td>3</td><td>1</td></tr>\n",
       "\t<tr><th scope=row>Hornet Sportabout</th><td>18.7</td><td>8</td><td>360.0</td><td>175</td><td>3.15</td><td>3.440</td><td>17.02</td><td>0</td><td>0</td><td>3</td><td>2</td></tr>\n",
       "\t<tr><th scope=row>Valiant</th><td>18.1</td><td>6</td><td>225.0</td><td>105</td><td>2.76</td><td>3.460</td><td>20.22</td><td>1</td><td>0</td><td>3</td><td>1</td></tr>\n",
       "\t<tr><th scope=row>Duster 360</th><td>14.3</td><td>8</td><td>360.0</td><td>245</td><td>3.21</td><td>3.570</td><td>15.84</td><td>0</td><td>0</td><td>3</td><td>4</td></tr>\n",
       "\t<tr><th scope=row>Merc 240D</th><td>24.4</td><td>4</td><td>146.7</td><td> 62</td><td>3.69</td><td>3.190</td><td>20.00</td><td>1</td><td>0</td><td>4</td><td>2</td></tr>\n",
       "\t<tr><th scope=row>Merc 230</th><td>22.8</td><td>4</td><td>140.8</td><td> 95</td><td>3.92</td><td>3.150</td><td>22.90</td><td>1</td><td>0</td><td>4</td><td>2</td></tr>\n",
       "\t<tr><th scope=row>Merc 280</th><td>19.2</td><td>6</td><td>167.6</td><td>123</td><td>3.92</td><td>3.440</td><td>18.30</td><td>1</td><td>0</td><td>4</td><td>4</td></tr>\n",
       "</tbody>\n",
       "</table>\n",
       "</dd>\n",
       "</dl>\n"
      ],
      "text/latex": [
       "\\begin{description}\n",
       "\\item[\\$vector] \\begin{enumerate*}\n",
       "\\item 1\n",
       "\\item 2\n",
       "\\item 3\n",
       "\\item 4\n",
       "\\item 5\n",
       "\\item 6\n",
       "\\item 7\n",
       "\\item 8\n",
       "\\item 9\n",
       "\\item 10\n",
       "\\end{enumerate*}\n",
       "\n",
       "\\item[\\$matriz] \\begin{minted}{r}\n",
       "function (data = NA, nrow = 1, ncol = 1, byrow = FALSE, dimnames = NULL) \n",
       "\\{\n",
       "    if (is.object(data) \\textbar{}\\textbar{} !is.atomic(data)) \n",
       "        data <- as.vector(data)\n",
       "    .Internal(matrix(data, nrow, ncol, byrow, dimnames, missing(nrow), \n",
       "        missing(ncol)))\n",
       "\\}\n",
       "\\end{minted}\n",
       "\\item[\\$df] A data.frame: 10 × 11\n",
       "\\begin{tabular}{r|lllllllllll}\n",
       "  & mpg & cyl & disp & hp & drat & wt & qsec & vs & am & gear & carb\\\\\n",
       "  & <dbl> & <dbl> & <dbl> & <dbl> & <dbl> & <dbl> & <dbl> & <dbl> & <dbl> & <dbl> & <dbl>\\\\\n",
       "\\hline\n",
       "\tMazda RX4 & 21.0 & 6 & 160.0 & 110 & 3.90 & 2.620 & 16.46 & 0 & 1 & 4 & 4\\\\\n",
       "\tMazda RX4 Wag & 21.0 & 6 & 160.0 & 110 & 3.90 & 2.875 & 17.02 & 0 & 1 & 4 & 4\\\\\n",
       "\tDatsun 710 & 22.8 & 4 & 108.0 &  93 & 3.85 & 2.320 & 18.61 & 1 & 1 & 4 & 1\\\\\n",
       "\tHornet 4 Drive & 21.4 & 6 & 258.0 & 110 & 3.08 & 3.215 & 19.44 & 1 & 0 & 3 & 1\\\\\n",
       "\tHornet Sportabout & 18.7 & 8 & 360.0 & 175 & 3.15 & 3.440 & 17.02 & 0 & 0 & 3 & 2\\\\\n",
       "\tValiant & 18.1 & 6 & 225.0 & 105 & 2.76 & 3.460 & 20.22 & 1 & 0 & 3 & 1\\\\\n",
       "\tDuster 360 & 14.3 & 8 & 360.0 & 245 & 3.21 & 3.570 & 15.84 & 0 & 0 & 3 & 4\\\\\n",
       "\tMerc 240D & 24.4 & 4 & 146.7 &  62 & 3.69 & 3.190 & 20.00 & 1 & 0 & 4 & 2\\\\\n",
       "\tMerc 230 & 22.8 & 4 & 140.8 &  95 & 3.92 & 3.150 & 22.90 & 1 & 0 & 4 & 2\\\\\n",
       "\tMerc 280 & 19.2 & 6 & 167.6 & 123 & 3.92 & 3.440 & 18.30 & 1 & 0 & 4 & 4\\\\\n",
       "\\end{tabular}\n",
       "\n",
       "\\end{description}\n"
      ],
      "text/markdown": [
       "$vector\n",
       ":   1. 1\n",
       "2. 2\n",
       "3. 3\n",
       "4. 4\n",
       "5. 5\n",
       "6. 6\n",
       "7. 7\n",
       "8. 8\n",
       "9. 9\n",
       "10. 10\n",
       "\n",
       "\n",
       "\n",
       "$matriz\n",
       ":   ```r\n",
       "function (data = NA, nrow = 1, ncol = 1, byrow = FALSE, dimnames = NULL) \n",
       "{\n",
       "    if (is.object(data) || !is.atomic(data)) \n",
       "        data <- as.vector(data)\n",
       "    .Internal(matrix(data, nrow, ncol, byrow, dimnames, missing(nrow), \n",
       "        missing(ncol)))\n",
       "}\n",
       "```\n",
       "$df\n",
       ":   \n",
       "A data.frame: 10 × 11\n",
       "\n",
       "| <!--/--> | mpg &lt;dbl&gt; | cyl &lt;dbl&gt; | disp &lt;dbl&gt; | hp &lt;dbl&gt; | drat &lt;dbl&gt; | wt &lt;dbl&gt; | qsec &lt;dbl&gt; | vs &lt;dbl&gt; | am &lt;dbl&gt; | gear &lt;dbl&gt; | carb &lt;dbl&gt; |\n",
       "|---|---|---|---|---|---|---|---|---|---|---|---|\n",
       "| Mazda RX4 | 21.0 | 6 | 160.0 | 110 | 3.90 | 2.620 | 16.46 | 0 | 1 | 4 | 4 |\n",
       "| Mazda RX4 Wag | 21.0 | 6 | 160.0 | 110 | 3.90 | 2.875 | 17.02 | 0 | 1 | 4 | 4 |\n",
       "| Datsun 710 | 22.8 | 4 | 108.0 |  93 | 3.85 | 2.320 | 18.61 | 1 | 1 | 4 | 1 |\n",
       "| Hornet 4 Drive | 21.4 | 6 | 258.0 | 110 | 3.08 | 3.215 | 19.44 | 1 | 0 | 3 | 1 |\n",
       "| Hornet Sportabout | 18.7 | 8 | 360.0 | 175 | 3.15 | 3.440 | 17.02 | 0 | 0 | 3 | 2 |\n",
       "| Valiant | 18.1 | 6 | 225.0 | 105 | 2.76 | 3.460 | 20.22 | 1 | 0 | 3 | 1 |\n",
       "| Duster 360 | 14.3 | 8 | 360.0 | 245 | 3.21 | 3.570 | 15.84 | 0 | 0 | 3 | 4 |\n",
       "| Merc 240D | 24.4 | 4 | 146.7 |  62 | 3.69 | 3.190 | 20.00 | 1 | 0 | 4 | 2 |\n",
       "| Merc 230 | 22.8 | 4 | 140.8 |  95 | 3.92 | 3.150 | 22.90 | 1 | 0 | 4 | 2 |\n",
       "| Merc 280 | 19.2 | 6 | 167.6 | 123 | 3.92 | 3.440 | 18.30 | 1 | 0 | 4 | 4 |\n",
       "\n",
       "\n",
       "\n",
       "\n"
      ],
      "text/plain": [
       "$vector\n",
       " [1]  1  2  3  4  5  6  7  8  9 10\n",
       "\n",
       "$matriz\n",
       "function (data = NA, nrow = 1, ncol = 1, byrow = FALSE, dimnames = NULL) \n",
       "{\n",
       "    if (is.object(data) || !is.atomic(data)) \n",
       "        data <- as.vector(data)\n",
       "    .Internal(matrix(data, nrow, ncol, byrow, dimnames, missing(nrow), \n",
       "        missing(ncol)))\n",
       "}\n",
       "<bytecode: 0x7fc428354458>\n",
       "<environment: namespace:base>\n",
       "\n",
       "$df\n",
       "                   mpg cyl  disp  hp drat    wt  qsec vs am gear carb\n",
       "Mazda RX4         21.0   6 160.0 110 3.90 2.620 16.46  0  1    4    4\n",
       "Mazda RX4 Wag     21.0   6 160.0 110 3.90 2.875 17.02  0  1    4    4\n",
       "Datsun 710        22.8   4 108.0  93 3.85 2.320 18.61  1  1    4    1\n",
       "Hornet 4 Drive    21.4   6 258.0 110 3.08 3.215 19.44  1  0    3    1\n",
       "Hornet Sportabout 18.7   8 360.0 175 3.15 3.440 17.02  0  0    3    2\n",
       "Valiant           18.1   6 225.0 105 2.76 3.460 20.22  1  0    3    1\n",
       "Duster 360        14.3   8 360.0 245 3.21 3.570 15.84  0  0    3    4\n",
       "Merc 240D         24.4   4 146.7  62 3.69 3.190 20.00  1  0    4    2\n",
       "Merc 230          22.8   4 140.8  95 3.92 3.150 22.90  1  0    4    2\n",
       "Merc 280          19.2   6 167.6 123 3.92 3.440 18.30  1  0    4    4\n"
      ]
     },
     "metadata": {},
     "output_type": "display_data"
    }
   ],
   "source": [
    "names(lista) <- c(\"vector\",\"matriz\", \"df\")\n",
    "lista"
   ]
  },
  {
   "cell_type": "markdown",
   "metadata": {},
   "source": [
    "Para repasar lo que hemos visto hasta ahora quiero que armes los siguientes objetos:\n",
    "\n",
    "- una variable llamada **peli** con el nombre de El resplando\n",
    "- Un vector llamado **act** con los siguientes nombres: \n",
    "        Jack Nicholson\n",
    "        Shelley Duvall\n",
    "        Danny Lloyd\n",
    "        Scatman Crothers\n",
    "        Barry Nelson\n",
    "- Un data frame con 3 columnas: \n",
    "                        puntaje\n",
    "                        fuente\n",
    "                        comentarios\n",
    "  y en cada una de ellas los siguientes valores:\n",
    "  - primera: 4.5, 4.0, 5.0\n",
    "  - segunda: IMDb1,IMDb2,IMDb3\n",
    "  - tercera: La mejor película de terror que he visto,\n",
    "           Una película realmente brillante y aterradora de Stanley Kubrick\n",
    "           Una obra maestra del horror psicológico\n",
    "\n",
    "\n"
   ]
  },
  {
   "cell_type": "code",
   "execution_count": 98,
   "metadata": {},
   "outputs": [
    {
     "data": {
      "text/html": [
       "'El resplandor'"
      ],
      "text/latex": [
       "'El resplandor'"
      ],
      "text/markdown": [
       "'El resplandor'"
      ],
      "text/plain": [
       "[1] \"El resplandor\""
      ]
     },
     "metadata": {},
     "output_type": "display_data"
    },
    {
     "data": {
      "text/html": [
       "<style>\n",
       ".list-inline {list-style: none; margin:0; padding: 0}\n",
       ".list-inline>li {display: inline-block}\n",
       ".list-inline>li:not(:last-child)::after {content: \"\\00b7\"; padding: 0 .5ex}\n",
       "</style>\n",
       "<ol class=list-inline><li>'Jack Nicholson'</li><li>'Shelley Duvall'</li><li>'Danny Lloyd'</li><li>'Scatman Crothers'</li><li>'Barry Nelson'</li></ol>\n"
      ],
      "text/latex": [
       "\\begin{enumerate*}\n",
       "\\item 'Jack Nicholson'\n",
       "\\item 'Shelley Duvall'\n",
       "\\item 'Danny Lloyd'\n",
       "\\item 'Scatman Crothers'\n",
       "\\item 'Barry Nelson'\n",
       "\\end{enumerate*}\n"
      ],
      "text/markdown": [
       "1. 'Jack Nicholson'\n",
       "2. 'Shelley Duvall'\n",
       "3. 'Danny Lloyd'\n",
       "4. 'Scatman Crothers'\n",
       "5. 'Barry Nelson'\n",
       "\n",
       "\n"
      ],
      "text/plain": [
       "[1] \"Jack Nicholson\"   \"Shelley Duvall\"   \"Danny Lloyd\"      \"Scatman Crothers\"\n",
       "[5] \"Barry Nelson\"    "
      ]
     },
     "metadata": {},
     "output_type": "display_data"
    },
    {
     "data": {
      "text/html": [
       "<table>\n",
       "<caption>A data.frame: 3 × 3</caption>\n",
       "<thead>\n",
       "\t<tr><th scope=col>puntaje</th><th scope=col>fuente</th><th scope=col>comentarios</th></tr>\n",
       "\t<tr><th scope=col>&lt;dbl&gt;</th><th scope=col>&lt;fct&gt;</th><th scope=col>&lt;fct&gt;</th></tr>\n",
       "</thead>\n",
       "<tbody>\n",
       "\t<tr><td>4.5</td><td>IMDb1</td><td>La mejor película de terror que he visto                        </td></tr>\n",
       "\t<tr><td>4.0</td><td>IMDB2</td><td>Una película realmente brillante y aterradora de Stanley Kubrick</td></tr>\n",
       "\t<tr><td>5.0</td><td>IMDB3</td><td>Una obra maestra del horror psicológico                         </td></tr>\n",
       "</tbody>\n",
       "</table>\n"
      ],
      "text/latex": [
       "A data.frame: 3 × 3\n",
       "\\begin{tabular}{lll}\n",
       " puntaje & fuente & comentarios\\\\\n",
       " <dbl> & <fct> & <fct>\\\\\n",
       "\\hline\n",
       "\t 4.5 & IMDb1 & La mejor película de terror que he visto                        \\\\\n",
       "\t 4.0 & IMDB2 & Una película realmente brillante y aterradora de Stanley Kubrick\\\\\n",
       "\t 5.0 & IMDB3 & Una obra maestra del horror psicológico                         \\\\\n",
       "\\end{tabular}\n"
      ],
      "text/markdown": [
       "\n",
       "A data.frame: 3 × 3\n",
       "\n",
       "| puntaje &lt;dbl&gt; | fuente &lt;fct&gt; | comentarios &lt;fct&gt; |\n",
       "|---|---|---|\n",
       "| 4.5 | IMDb1 | La mejor película de terror que he visto                         |\n",
       "| 4.0 | IMDB2 | Una película realmente brillante y aterradora de Stanley Kubrick |\n",
       "| 5.0 | IMDB3 | Una obra maestra del horror psicológico                          |\n",
       "\n"
      ],
      "text/plain": [
       "  puntaje fuente\n",
       "1 4.5     IMDb1 \n",
       "2 4.0     IMDB2 \n",
       "3 5.0     IMDB3 \n",
       "  comentarios                                                     \n",
       "1 La mejor película de terror que he visto                        \n",
       "2 Una película realmente brillante y aterradora de Stanley Kubrick\n",
       "3 Una obra maestra del horror psicológico                         "
      ]
     },
     "metadata": {},
     "output_type": "display_data"
    }
   ],
   "source": [
    "peli <- \"El resplandor\"\n",
    "act <- c(\"Jack Nicholson\", \"Shelley Duvall\",\"Danny Lloyd\",\"Scatman Crothers\",\"Barry Nelson\")\n",
    "rev <- data.frame(puntaje = c(4.5,4.0,5.0),\n",
    "                  fuente = c(\"IMDb1\",\"IMDB2\",\"IMDB3\"),\n",
    "                  comentarios = c(\"La mejor película de terror que he visto\",\n",
    "                                  \"Una película realmente brillante y aterradora de Stanley Kubrick\",\n",
    "                                  \"Una obra maestra del horror psicológico\"))\n",
    "\n",
    "peli\n",
    "act\n",
    "rev"
   ]
  },
  {
   "cell_type": "markdown",
   "metadata": {},
   "source": [
    "Ahora construye una lista llamada **el_resplandor** con estos 3 objectos y nombralos:\n",
    "\n",
    "- película\n",
    "- actores\n",
    "- reseñas"
   ]
  },
  {
   "cell_type": "code",
   "execution_count": 99,
   "metadata": {},
   "outputs": [
    {
     "data": {
      "text/html": [
       "<dl>\n",
       "\t<dt>$película</dt>\n",
       "\t\t<dd>'El resplandor'</dd>\n",
       "\t<dt>$actores</dt>\n",
       "\t\t<dd><style>\n",
       ".list-inline {list-style: none; margin:0; padding: 0}\n",
       ".list-inline>li {display: inline-block}\n",
       ".list-inline>li:not(:last-child)::after {content: \"\\00b7\"; padding: 0 .5ex}\n",
       "</style>\n",
       "<ol class=list-inline><li>'Jack Nicholson'</li><li>'Shelley Duvall'</li><li>'Danny Lloyd'</li><li>'Scatman Crothers'</li><li>'Barry Nelson'</li></ol>\n",
       "</dd>\n",
       "\t<dt>$reseñas</dt>\n",
       "\t\t<dd><table>\n",
       "<caption>A data.frame: 3 × 3</caption>\n",
       "<thead>\n",
       "\t<tr><th scope=col>puntaje</th><th scope=col>fuente</th><th scope=col>comentarios</th></tr>\n",
       "\t<tr><th scope=col>&lt;dbl&gt;</th><th scope=col>&lt;fct&gt;</th><th scope=col>&lt;fct&gt;</th></tr>\n",
       "</thead>\n",
       "<tbody>\n",
       "\t<tr><td>4.5</td><td>IMDb1</td><td>La mejor película de terror que he visto                        </td></tr>\n",
       "\t<tr><td>4.0</td><td>IMDB2</td><td>Una película realmente brillante y aterradora de Stanley Kubrick</td></tr>\n",
       "\t<tr><td>5.0</td><td>IMDB3</td><td>Una obra maestra del horror psicológico                         </td></tr>\n",
       "</tbody>\n",
       "</table>\n",
       "</dd>\n",
       "</dl>\n"
      ],
      "text/latex": [
       "\\begin{description}\n",
       "\\item[\\$película] 'El resplandor'\n",
       "\\item[\\$actores] \\begin{enumerate*}\n",
       "\\item 'Jack Nicholson'\n",
       "\\item 'Shelley Duvall'\n",
       "\\item 'Danny Lloyd'\n",
       "\\item 'Scatman Crothers'\n",
       "\\item 'Barry Nelson'\n",
       "\\end{enumerate*}\n",
       "\n",
       "\\item[\\$reseñas] A data.frame: 3 × 3\n",
       "\\begin{tabular}{lll}\n",
       " puntaje & fuente & comentarios\\\\\n",
       " <dbl> & <fct> & <fct>\\\\\n",
       "\\hline\n",
       "\t 4.5 & IMDb1 & La mejor película de terror que he visto                        \\\\\n",
       "\t 4.0 & IMDB2 & Una película realmente brillante y aterradora de Stanley Kubrick\\\\\n",
       "\t 5.0 & IMDB3 & Una obra maestra del horror psicológico                         \\\\\n",
       "\\end{tabular}\n",
       "\n",
       "\\end{description}\n"
      ],
      "text/markdown": [
       "$película\n",
       ":   'El resplandor'\n",
       "$actores\n",
       ":   1. 'Jack Nicholson'\n",
       "2. 'Shelley Duvall'\n",
       "3. 'Danny Lloyd'\n",
       "4. 'Scatman Crothers'\n",
       "5. 'Barry Nelson'\n",
       "\n",
       "\n",
       "\n",
       "$reseñas\n",
       ":   \n",
       "A data.frame: 3 × 3\n",
       "\n",
       "| puntaje &lt;dbl&gt; | fuente &lt;fct&gt; | comentarios &lt;fct&gt; |\n",
       "|---|---|---|\n",
       "| 4.5 | IMDb1 | La mejor película de terror que he visto                         |\n",
       "| 4.0 | IMDB2 | Una película realmente brillante y aterradora de Stanley Kubrick |\n",
       "| 5.0 | IMDB3 | Una obra maestra del horror psicológico                          |\n",
       "\n",
       "\n",
       "\n",
       "\n"
      ],
      "text/plain": [
       "$película\n",
       "[1] \"El resplandor\"\n",
       "\n",
       "$actores\n",
       "[1] \"Jack Nicholson\"   \"Shelley Duvall\"   \"Danny Lloyd\"      \"Scatman Crothers\"\n",
       "[5] \"Barry Nelson\"    \n",
       "\n",
       "$reseñas\n",
       "  puntaje fuente\n",
       "1     4.5  IMDb1\n",
       "2     4.0  IMDB2\n",
       "3     5.0  IMDB3\n",
       "                                                       comentarios\n",
       "1                         La mejor película de terror que he visto\n",
       "2 Una película realmente brillante y aterradora de Stanley Kubrick\n",
       "3                          Una obra maestra del horror psicológico\n"
      ]
     },
     "metadata": {},
     "output_type": "display_data"
    }
   ],
   "source": [
    "el_resplandor <- list(película = peli,\n",
    "                     actores = act,\n",
    "                     reseñas = rev)\n",
    "el_resplandor"
   ]
  },
  {
   "cell_type": "markdown",
   "metadata": {},
   "source": [
    "Las listas a menudo estarán compuestas de numerosos elementos y componentes. Por lo tanto, obtener un solo elemento, múltiples elementos o un componente no siempre es sencillo. <br>\n",
    "Una forma de seleccionar un componente es usar la posición numerada de ese componente. Por ejemplo, para \"agarrar\" el primer componente de la lista **el_resplandor** escriba:\n"
   ]
  },
  {
   "cell_type": "code",
   "execution_count": 100,
   "metadata": {},
   "outputs": [
    {
     "data": {
      "text/html": [
       "'El resplandor'"
      ],
      "text/latex": [
       "'El resplandor'"
      ],
      "text/markdown": [
       "'El resplandor'"
      ],
      "text/plain": [
       "[1] \"El resplandor\""
      ]
     },
     "metadata": {},
     "output_type": "display_data"
    }
   ],
   "source": [
    "el_resplandor[[1]]\n"
   ]
  },
  {
   "cell_type": "markdown",
   "metadata": {},
   "source": [
    "Para seleccionar elementos de vectores, se utilizan corchetes simples, en este caso usamos corchetes dobles.<br>\n",
    "También puede referirse a los nombres de los componentes, con [[ ]] o con el signo $. Ambos seleccionarán el data frame que representa las reseñas:"
   ]
  },
  {
   "cell_type": "code",
   "execution_count": 101,
   "metadata": {},
   "outputs": [
    {
     "data": {
      "text/html": [
       "<table>\n",
       "<caption>A data.frame: 3 × 3</caption>\n",
       "<thead>\n",
       "\t<tr><th scope=col>puntaje</th><th scope=col>fuente</th><th scope=col>comentarios</th></tr>\n",
       "\t<tr><th scope=col>&lt;dbl&gt;</th><th scope=col>&lt;fct&gt;</th><th scope=col>&lt;fct&gt;</th></tr>\n",
       "</thead>\n",
       "<tbody>\n",
       "\t<tr><td>4.5</td><td>IMDb1</td><td>La mejor película de terror que he visto                        </td></tr>\n",
       "\t<tr><td>4.0</td><td>IMDB2</td><td>Una película realmente brillante y aterradora de Stanley Kubrick</td></tr>\n",
       "\t<tr><td>5.0</td><td>IMDB3</td><td>Una obra maestra del horror psicológico                         </td></tr>\n",
       "</tbody>\n",
       "</table>\n"
      ],
      "text/latex": [
       "A data.frame: 3 × 3\n",
       "\\begin{tabular}{lll}\n",
       " puntaje & fuente & comentarios\\\\\n",
       " <dbl> & <fct> & <fct>\\\\\n",
       "\\hline\n",
       "\t 4.5 & IMDb1 & La mejor película de terror que he visto                        \\\\\n",
       "\t 4.0 & IMDB2 & Una película realmente brillante y aterradora de Stanley Kubrick\\\\\n",
       "\t 5.0 & IMDB3 & Una obra maestra del horror psicológico                         \\\\\n",
       "\\end{tabular}\n"
      ],
      "text/markdown": [
       "\n",
       "A data.frame: 3 × 3\n",
       "\n",
       "| puntaje &lt;dbl&gt; | fuente &lt;fct&gt; | comentarios &lt;fct&gt; |\n",
       "|---|---|---|\n",
       "| 4.5 | IMDb1 | La mejor película de terror que he visto                         |\n",
       "| 4.0 | IMDB2 | Una película realmente brillante y aterradora de Stanley Kubrick |\n",
       "| 5.0 | IMDB3 | Una obra maestra del horror psicológico                          |\n",
       "\n"
      ],
      "text/plain": [
       "  puntaje fuente\n",
       "1 4.5     IMDb1 \n",
       "2 4.0     IMDB2 \n",
       "3 5.0     IMDB3 \n",
       "  comentarios                                                     \n",
       "1 La mejor película de terror que he visto                        \n",
       "2 Una película realmente brillante y aterradora de Stanley Kubrick\n",
       "3 Una obra maestra del horror psicológico                         "
      ]
     },
     "metadata": {},
     "output_type": "display_data"
    },
    {
     "data": {
      "text/html": [
       "<table>\n",
       "<caption>A data.frame: 3 × 3</caption>\n",
       "<thead>\n",
       "\t<tr><th scope=col>puntaje</th><th scope=col>fuente</th><th scope=col>comentarios</th></tr>\n",
       "\t<tr><th scope=col>&lt;dbl&gt;</th><th scope=col>&lt;fct&gt;</th><th scope=col>&lt;fct&gt;</th></tr>\n",
       "</thead>\n",
       "<tbody>\n",
       "\t<tr><td>4.5</td><td>IMDb1</td><td>La mejor película de terror que he visto                        </td></tr>\n",
       "\t<tr><td>4.0</td><td>IMDB2</td><td>Una película realmente brillante y aterradora de Stanley Kubrick</td></tr>\n",
       "\t<tr><td>5.0</td><td>IMDB3</td><td>Una obra maestra del horror psicológico                         </td></tr>\n",
       "</tbody>\n",
       "</table>\n"
      ],
      "text/latex": [
       "A data.frame: 3 × 3\n",
       "\\begin{tabular}{lll}\n",
       " puntaje & fuente & comentarios\\\\\n",
       " <dbl> & <fct> & <fct>\\\\\n",
       "\\hline\n",
       "\t 4.5 & IMDb1 & La mejor película de terror que he visto                        \\\\\n",
       "\t 4.0 & IMDB2 & Una película realmente brillante y aterradora de Stanley Kubrick\\\\\n",
       "\t 5.0 & IMDB3 & Una obra maestra del horror psicológico                         \\\\\n",
       "\\end{tabular}\n"
      ],
      "text/markdown": [
       "\n",
       "A data.frame: 3 × 3\n",
       "\n",
       "| puntaje &lt;dbl&gt; | fuente &lt;fct&gt; | comentarios &lt;fct&gt; |\n",
       "|---|---|---|\n",
       "| 4.5 | IMDb1 | La mejor película de terror que he visto                         |\n",
       "| 4.0 | IMDB2 | Una película realmente brillante y aterradora de Stanley Kubrick |\n",
       "| 5.0 | IMDB3 | Una obra maestra del horror psicológico                          |\n",
       "\n"
      ],
      "text/plain": [
       "  puntaje fuente\n",
       "1 4.5     IMDb1 \n",
       "2 4.0     IMDB2 \n",
       "3 5.0     IMDB3 \n",
       "  comentarios                                                     \n",
       "1 La mejor película de terror que he visto                        \n",
       "2 Una película realmente brillante y aterradora de Stanley Kubrick\n",
       "3 Una obra maestra del horror psicológico                         "
      ]
     },
     "metadata": {},
     "output_type": "display_data"
    }
   ],
   "source": [
    "el_resplandor[[\"reseñas\"]]\n",
    "el_resplandor$reseñas"
   ]
  },
  {
   "cell_type": "markdown",
   "metadata": {},
   "source": [
    "Además de seleccionar componentes, a menudo necesita seleccionar elementos específicos de estos componentes. Por ejemplo:"
   ]
  },
  {
   "cell_type": "code",
   "execution_count": 102,
   "metadata": {},
   "outputs": [
    {
     "data": {
      "text/html": [
       "'Jack Nicholson'"
      ],
      "text/latex": [
       "'Jack Nicholson'"
      ],
      "text/markdown": [
       "'Jack Nicholson'"
      ],
      "text/plain": [
       "[1] \"Jack Nicholson\""
      ]
     },
     "metadata": {},
     "output_type": "display_data"
    }
   ],
   "source": [
    "el_resplandor[[2]][1]"
   ]
  },
  {
   "cell_type": "markdown",
   "metadata": {},
   "source": [
    "Selecciona del segundo componente, **actores** (shining_list [[2]]) y dentro de ese componente el primer elemento ([1]). <br>\n",
    "Practica seleccionando el vector de actores y de este elige el 3er elemento"
   ]
  },
  {
   "cell_type": "code",
   "execution_count": 103,
   "metadata": {},
   "outputs": [
    {
     "data": {
      "text/html": [
       "<style>\n",
       ".list-inline {list-style: none; margin:0; padding: 0}\n",
       ".list-inline>li {display: inline-block}\n",
       ".list-inline>li:not(:last-child)::after {content: \"\\00b7\"; padding: 0 .5ex}\n",
       "</style>\n",
       "<ol class=list-inline><li>'Jack Nicholson'</li><li>'Shelley Duvall'</li><li>'Danny Lloyd'</li><li>'Scatman Crothers'</li><li>'Barry Nelson'</li></ol>\n"
      ],
      "text/latex": [
       "\\begin{enumerate*}\n",
       "\\item 'Jack Nicholson'\n",
       "\\item 'Shelley Duvall'\n",
       "\\item 'Danny Lloyd'\n",
       "\\item 'Scatman Crothers'\n",
       "\\item 'Barry Nelson'\n",
       "\\end{enumerate*}\n"
      ],
      "text/markdown": [
       "1. 'Jack Nicholson'\n",
       "2. 'Shelley Duvall'\n",
       "3. 'Danny Lloyd'\n",
       "4. 'Scatman Crothers'\n",
       "5. 'Barry Nelson'\n",
       "\n",
       "\n"
      ],
      "text/plain": [
       "[1] \"Jack Nicholson\"   \"Shelley Duvall\"   \"Danny Lloyd\"      \"Scatman Crothers\"\n",
       "[5] \"Barry Nelson\"    "
      ]
     },
     "metadata": {},
     "output_type": "display_data"
    },
    {
     "data": {
      "text/html": [
       "'Danny Lloyd'"
      ],
      "text/latex": [
       "'Danny Lloyd'"
      ],
      "text/markdown": [
       "'Danny Lloyd'"
      ],
      "text/plain": [
       "[1] \"Danny Lloyd\""
      ]
     },
     "metadata": {},
     "output_type": "display_data"
    }
   ],
   "source": [
    "el_resplandor$actores\n",
    "el_resplandor[[2]][3]"
   ]
  },
  {
   "cell_type": "markdown",
   "metadata": {},
   "source": [
    "### Operadores relacionales y lógicos\n",
    "\n",
    "Muchas veces durante tu trabajo con R u otro lenguaje de programación requerirás de hacer comparaciones entre 2 o más valores. Te presento un ejemplo de cómo he aplicado estas comparaciones en mi trabajo actual. El código que te presento es en JavaScript\n"
   ]
  },
  {
   "cell_type": "code",
   "execution_count": 104,
   "metadata": {},
   "outputs": [
    {
     "ename": "ERROR",
     "evalue": "Error in parse(text = x, srcfile = src): <text>:1:119: inesperado '='\n1: if((\"{site_id}\" == '99501' || \"{site_id}\" == '99502' ||\"{site_id}\" == '99503'||\"{site_id}\" == '99504' ) && (\"{sex}\" ===\n                                                                                                                          ^\n",
     "output_type": "error",
     "traceback": [
      "Error in parse(text = x, srcfile = src): <text>:1:119: inesperado '='\n1: if((\"{site_id}\" == '99501' || \"{site_id}\" == '99502' ||\"{site_id}\" == '99503'||\"{site_id}\" == '99504' ) && (\"{sex}\" ===\n                                                                                                                          ^\nTraceback:\n"
     ]
    }
   ],
   "source": [
    "if((\"{site_id}\" == '99501' || \"{site_id}\" == '99502' ||\"{site_id}\" == '99503'||\"{site_id}\" == '99504' ) && (\"{sex}\" ==='F') && (\"{age}\" <=19)){\n",
    "  11.7;\n",
    "  } else if ((\"{site_id}\" == '99501' || \"{site_id}\" == '99502' ||\"{site_id}\" == '99503'||\"{site_id}\" == '99504' ) && (\"{sex}\" ==='F') && (\"{age}\" > 19 && \"{age}\"<= 75)){\n",
    "  11.6;\n",
    "  } else if ((\"{site_id}\" == '99501' || \"{site_id}\" == '99502' ||\"{site_id}\" == '99503'||\"{site_id}\" == '99504' ) && (\"{sex}\" ==='F') && (\"{age}\" > 75)){\n",
    "  10.9;\n",
    "  } else if ((\"{site_id}\" == '99501' || \"{site_id}\" == '99502' ||\"{site_id}\" == '99503'||\"{site_id}\" == '99504' ) && (\"{sex}\" ==='M') && (\"{age}\" <= 19)){\n",
    "  12.1;\n",
    "  } else if ((\"{site_id}\" == '99501' || \"{site_id}\" == '99502' ||\"{site_id}\" == '99503'||\"{site_id}\" == '99504' ) && (\"{sex}\" ==='M') && (\"{age}\" > 19 && \"{age}\"<=75 )){\n",
    "  11.8;\n",
    "  } else if ((\"{site_id}\" == '99501' || \"{site_id}\" == '99502' ||\"{site_id}\" == '99503'||\"{site_id}\" == '99504' ) && (\"{sex}\" ==='M') && (\"{age}\" > 75)){\n",
    "  11.6;\n",
    "  } else{\n",
    "  12;\n",
    "  }"
   ]
  },
  {
   "cell_type": "markdown",
   "metadata": {},
   "source": [
    "Este código se utilizó para configurar los valores de referencias mínimo y máximo permitidos en resultados de pruebas de laboratorio. De este código quiero que observes los simbolos `==`,`!=`, `<`, `>`, `<=`, `>=`, `||` y `&&`.<br>\n",
    "A estos símbolos se les conoce como operadores relacionales y lógicos y en R se escriben de la siguiente manera y significan lo siguiente:\n",
    "    \n",
    "- Igual `==`\n",
    "- No igual `!=`\n",
    "- Menor que `<`\n",
    "- Mayor que `>`\n",
    "- Menor o igual que `<=`\n",
    "- Mayor o igual que `>=`\n",
    "- ó `|`\n",
    "- y `&`\n",
    "- No `!`\n",
    "\n",
    "\n",
    "La forma más básica de comparación es la igualdad. Repasemos brevemente su sintaxis. Todas las siguientes declaraciones se evalúan como TRUE."
   ]
  },
  {
   "cell_type": "code",
   "execution_count": 105,
   "metadata": {},
   "outputs": [
    {
     "data": {
      "text/html": [
       "TRUE"
      ],
      "text/latex": [
       "TRUE"
      ],
      "text/markdown": [
       "TRUE"
      ],
      "text/plain": [
       "[1] TRUE"
      ]
     },
     "metadata": {},
     "output_type": "display_data"
    },
    {
     "data": {
      "text/html": [
       "TRUE"
      ],
      "text/latex": [
       "TRUE"
      ],
      "text/markdown": [
       "TRUE"
      ],
      "text/plain": [
       "[1] TRUE"
      ]
     },
     "metadata": {},
     "output_type": "display_data"
    },
    {
     "data": {
      "text/html": [
       "TRUE"
      ],
      "text/latex": [
       "TRUE"
      ],
      "text/markdown": [
       "TRUE"
      ],
      "text/plain": [
       "[1] TRUE"
      ]
     },
     "metadata": {},
     "output_type": "display_data"
    },
    {
     "data": {
      "text/html": [
       "TRUE"
      ],
      "text/latex": [
       "TRUE"
      ],
      "text/markdown": [
       "TRUE"
      ],
      "text/plain": [
       "[1] TRUE"
      ]
     },
     "metadata": {},
     "output_type": "display_data"
    }
   ],
   "source": [
    "3 == (2 + 1)\n",
    "\"intermedio\" != \"r\"\n",
    "TRUE != FALSE\n",
    "\"Rchitect\" != \"rchitect\""
   ]
  },
  {
   "cell_type": "markdown",
   "metadata": {},
   "source": [
    "Observa de la última expresión que R distingue entre mayúsculas y minúsculas: \"R\" no es igual a \"r\". ¡Ten esto en cuenta siempre!<br>\n",
    "Veamos otros ejemplos\n"
   ]
  },
  {
   "cell_type": "code",
   "execution_count": 106,
   "metadata": {},
   "outputs": [
    {
     "data": {
      "text/html": [
       "FALSE"
      ],
      "text/latex": [
       "FALSE"
      ],
      "text/markdown": [
       "FALSE"
      ],
      "text/plain": [
       "[1] FALSE"
      ]
     },
     "metadata": {},
     "output_type": "display_data"
    },
    {
     "data": {
      "text/html": [
       "FALSE"
      ],
      "text/latex": [
       "FALSE"
      ],
      "text/markdown": [
       "FALSE"
      ],
      "text/plain": [
       "[1] FALSE"
      ]
     },
     "metadata": {},
     "output_type": "display_data"
    },
    {
     "data": {
      "text/html": [
       "FALSE"
      ],
      "text/latex": [
       "FALSE"
      ],
      "text/markdown": [
       "FALSE"
      ],
      "text/plain": [
       "[1] FALSE"
      ]
     },
     "metadata": {},
     "output_type": "display_data"
    },
    {
     "data": {
      "text/html": [
       "TRUE"
      ],
      "text/latex": [
       "TRUE"
      ],
      "text/markdown": [
       "TRUE"
      ],
      "text/plain": [
       "[1] TRUE"
      ]
     },
     "metadata": {},
     "output_type": "display_data"
    }
   ],
   "source": [
    "# Comparación de lógicos\n",
    "TRUE == FALSE\n",
    "\n",
    "# Comparación de numéricos\n",
    "-6 * 14 != 17 - 101\n",
    "\n",
    "# Comparación de cadenas de texto (strings)\n",
    "\"useR\"== \"user\"\n",
    "\n",
    "# Comparando un lógico con un número\n",
    "TRUE == 1"
   ]
  },
  {
   "cell_type": "markdown",
   "metadata": {},
   "source": [
    "Además de los operadores de igualdad, podemos utilizar los operadores menor que `<` y mayor que `>`. También puede agregar un signo igual para expresar menor o igual o mayor o igual que, respectivamente. Echa un vistazo a las siguientes expresiones de R, que todas evalúan como FALSO:"
   ]
  },
  {
   "cell_type": "code",
   "execution_count": 107,
   "metadata": {},
   "outputs": [
    {
     "data": {
      "text/html": [
       "FALSE"
      ],
      "text/latex": [
       "FALSE"
      ],
      "text/markdown": [
       "FALSE"
      ],
      "text/plain": [
       "[1] FALSE"
      ]
     },
     "metadata": {},
     "output_type": "display_data"
    },
    {
     "data": {
      "text/html": [
       "FALSE"
      ],
      "text/latex": [
       "FALSE"
      ],
      "text/markdown": [
       "FALSE"
      ],
      "text/plain": [
       "[1] FALSE"
      ]
     },
     "metadata": {},
     "output_type": "display_data"
    },
    {
     "data": {
      "text/html": [
       "FALSE"
      ],
      "text/latex": [
       "FALSE"
      ],
      "text/markdown": [
       "FALSE"
      ],
      "text/plain": [
       "[1] FALSE"
      ]
     },
     "metadata": {},
     "output_type": "display_data"
    }
   ],
   "source": [
    "(1 + 2) > 4\n",
    "\"dog\" < \"Cats\"\n",
    "TRUE <= FALSE"
   ]
  },
  {
   "cell_type": "markdown",
   "metadata": {},
   "source": [
    "Recuerde que para la comparación de strings, R determina la relación mayor que en función del orden alfabético. Además, tenga en cuenta que TRUE se trata como 1 para aritmética, y FALSE se trata como 0. Por lo tanto, FALSE < TRUE es TRUE. Veamos otros ejemplos:"
   ]
  },
  {
   "cell_type": "code",
   "execution_count": 108,
   "metadata": {},
   "outputs": [
    {
     "data": {
      "text/html": [
       "FALSE"
      ],
      "text/latex": [
       "FALSE"
      ],
      "text/markdown": [
       "FALSE"
      ],
      "text/plain": [
       "[1] FALSE"
      ]
     },
     "metadata": {},
     "output_type": "display_data"
    },
    {
     "data": {
      "text/html": [
       "TRUE"
      ],
      "text/latex": [
       "TRUE"
      ],
      "text/markdown": [
       "TRUE"
      ],
      "text/plain": [
       "[1] TRUE"
      ]
     },
     "metadata": {},
     "output_type": "display_data"
    },
    {
     "data": {
      "text/html": [
       "TRUE"
      ],
      "text/latex": [
       "TRUE"
      ],
      "text/markdown": [
       "TRUE"
      ],
      "text/plain": [
       "[1] TRUE"
      ]
     },
     "metadata": {},
     "output_type": "display_data"
    }
   ],
   "source": [
    "\n",
    "# Comparando númericos\n",
    "-6 * 5 + 2 >= -10 + 1\n",
    "\n",
    "# Comparando strings\n",
    "\"raining\" <= \"raining dogs\"\n",
    "\n",
    "# Comparando lógicos\n",
    "TRUE > FALSE"
   ]
  },
  {
   "cell_type": "markdown",
   "metadata": {},
   "source": [
    "También podemos hacer también comparaciones de vectores, por ejemplo, imagina que deseas averiguar si tu actividad en las plataformas de redes sociales ha valido la pena y decides ver sus resultados para LinkedIn y Facebook. El código de muestra en el editor inicializa los vectores linkedin y facebook. Cada uno de los vectores contiene la cantidad de vistas de perfil que sus perfiles de LinkedIn y Facebook tuvieron en los últimos siete días.\n"
   ]
  },
  {
   "cell_type": "code",
   "execution_count": 12,
   "metadata": {},
   "outputs": [],
   "source": [
    "dias <- c(\"Lunes\",\"Martes\",\"Miércoles\",\"Jueves\",\"Viernes\",\"Sábado\",\"Domingo\")\n",
    "linkedin <- c(16, 9, 13, 5, 2, 17, 14)\n",
    "names(linkedin) <- dias\n",
    "facebook <- c(17, 7, 5, 16, 8, 13, 14)\n",
    "names(facebook) <- dias"
   ]
  },
  {
   "cell_type": "markdown",
   "metadata": {},
   "source": [
    "Usando operadores relacionales, encontremos una respuesta lógica, es decir, TRUE o FALSE, para las siguientes preguntas:\n",
    "\n",
    "- ¿En qué días la cantidad de visitas al perfil de LinkedIn superó los 15?\n",
    "- ¿Cuándo se vio tu perfil de LinkedIn solo 5 veces o menos?\n",
    "- ¿Cuándo se visitó tu perfil de LinkedIn con más frecuencia que tu perfil de Facebook?"
   ]
  },
  {
   "cell_type": "code",
   "execution_count": 13,
   "metadata": {},
   "outputs": [
    {
     "data": {
      "text/html": [
       "<style>\n",
       ".dl-inline {width: auto; margin:0; padding: 0}\n",
       ".dl-inline>dt, .dl-inline>dd {float: none; width: auto; display: inline-block}\n",
       ".dl-inline>dt::after {content: \":\\0020\"; padding-right: .5ex}\n",
       ".dl-inline>dt:not(:first-of-type) {padding-left: .5ex}\n",
       "</style><dl class=dl-inline><dt>Lunes</dt><dd>TRUE</dd><dt>Martes</dt><dd>FALSE</dd><dt>Miércoles</dt><dd>FALSE</dd><dt>Jueves</dt><dd>FALSE</dd><dt>Viernes</dt><dd>FALSE</dd><dt>Sábado</dt><dd>TRUE</dd><dt>Domingo</dt><dd>FALSE</dd></dl>\n"
      ],
      "text/latex": [
       "\\begin{description*}\n",
       "\\item[Lunes] TRUE\n",
       "\\item[Martes] FALSE\n",
       "\\item[Miércoles] FALSE\n",
       "\\item[Jueves] FALSE\n",
       "\\item[Viernes] FALSE\n",
       "\\item[Sábado] TRUE\n",
       "\\item[Domingo] FALSE\n",
       "\\end{description*}\n"
      ],
      "text/markdown": [
       "Lunes\n",
       ":   TRUEMartes\n",
       ":   FALSEMiércoles\n",
       ":   FALSEJueves\n",
       ":   FALSEViernes\n",
       ":   FALSESábado\n",
       ":   TRUEDomingo\n",
       ":   FALSE\n",
       "\n"
      ],
      "text/plain": [
       "    Lunes    Martes Miércoles    Jueves   Viernes    Sábado   Domingo \n",
       "     TRUE     FALSE     FALSE     FALSE     FALSE      TRUE     FALSE "
      ]
     },
     "metadata": {},
     "output_type": "display_data"
    },
    {
     "data": {
      "text/html": [
       "<style>\n",
       ".dl-inline {width: auto; margin:0; padding: 0}\n",
       ".dl-inline>dt, .dl-inline>dd {float: none; width: auto; display: inline-block}\n",
       ".dl-inline>dt::after {content: \":\\0020\"; padding-right: .5ex}\n",
       ".dl-inline>dt:not(:first-of-type) {padding-left: .5ex}\n",
       "</style><dl class=dl-inline><dt>Lunes</dt><dd>FALSE</dd><dt>Martes</dt><dd>FALSE</dd><dt>Miércoles</dt><dd>FALSE</dd><dt>Jueves</dt><dd>TRUE</dd><dt>Viernes</dt><dd>TRUE</dd><dt>Sábado</dt><dd>FALSE</dd><dt>Domingo</dt><dd>FALSE</dd></dl>\n"
      ],
      "text/latex": [
       "\\begin{description*}\n",
       "\\item[Lunes] FALSE\n",
       "\\item[Martes] FALSE\n",
       "\\item[Miércoles] FALSE\n",
       "\\item[Jueves] TRUE\n",
       "\\item[Viernes] TRUE\n",
       "\\item[Sábado] FALSE\n",
       "\\item[Domingo] FALSE\n",
       "\\end{description*}\n"
      ],
      "text/markdown": [
       "Lunes\n",
       ":   FALSEMartes\n",
       ":   FALSEMiércoles\n",
       ":   FALSEJueves\n",
       ":   TRUEViernes\n",
       ":   TRUESábado\n",
       ":   FALSEDomingo\n",
       ":   FALSE\n",
       "\n"
      ],
      "text/plain": [
       "    Lunes    Martes Miércoles    Jueves   Viernes    Sábado   Domingo \n",
       "    FALSE     FALSE     FALSE      TRUE      TRUE     FALSE     FALSE "
      ]
     },
     "metadata": {},
     "output_type": "display_data"
    },
    {
     "data": {
      "text/html": [
       "<style>\n",
       ".dl-inline {width: auto; margin:0; padding: 0}\n",
       ".dl-inline>dt, .dl-inline>dd {float: none; width: auto; display: inline-block}\n",
       ".dl-inline>dt::after {content: \":\\0020\"; padding-right: .5ex}\n",
       ".dl-inline>dt:not(:first-of-type) {padding-left: .5ex}\n",
       "</style><dl class=dl-inline><dt>Lunes</dt><dd>FALSE</dd><dt>Martes</dt><dd>TRUE</dd><dt>Miércoles</dt><dd>TRUE</dd><dt>Jueves</dt><dd>FALSE</dd><dt>Viernes</dt><dd>FALSE</dd><dt>Sábado</dt><dd>TRUE</dd><dt>Domingo</dt><dd>FALSE</dd></dl>\n"
      ],
      "text/latex": [
       "\\begin{description*}\n",
       "\\item[Lunes] FALSE\n",
       "\\item[Martes] TRUE\n",
       "\\item[Miércoles] TRUE\n",
       "\\item[Jueves] FALSE\n",
       "\\item[Viernes] FALSE\n",
       "\\item[Sábado] TRUE\n",
       "\\item[Domingo] FALSE\n",
       "\\end{description*}\n"
      ],
      "text/markdown": [
       "Lunes\n",
       ":   FALSEMartes\n",
       ":   TRUEMiércoles\n",
       ":   TRUEJueves\n",
       ":   FALSEViernes\n",
       ":   FALSESábado\n",
       ":   TRUEDomingo\n",
       ":   FALSE\n",
       "\n"
      ],
      "text/plain": [
       "    Lunes    Martes Miércoles    Jueves   Viernes    Sábado   Domingo \n",
       "    FALSE      TRUE      TRUE     FALSE     FALSE      TRUE     FALSE "
      ]
     },
     "metadata": {},
     "output_type": "display_data"
    }
   ],
   "source": [
    "# ¿En qué días la cantidad de visitas al perfil de LinkedIn superó los 15?\n",
    "linkedin > 15\n",
    "\n",
    "# ¿Cuándo se vio tu perfil de LinkedIn solo 5 veces o menos?\n",
    "linkedin <= 5\n",
    "\n",
    "# ¿Cuándo se visitó tu perfil de LinkedIn con más frecuencia que tu perfil de Facebook?\n",
    "linkedin > facebook"
   ]
  },
  {
   "cell_type": "markdown",
   "metadata": {},
   "source": [
    "La capacidad de R para lidiar con diferentes estructuras de datos para las comparaciones no se detiene en los vectores. ¡Las matrices y los operadores relacionales también funcionan juntos sin problemas!\n",
    "\n",
    "En lugar de en vectores (como en el ejercicio anterior), los datos de LinkedIn y Facebook ahora se almacenan en una matriz llamada **views**. La primera fila contiene la información de LinkedIn; la segunda fila la información de Facebook."
   ]
  },
  {
   "cell_type": "code",
   "execution_count": 14,
   "metadata": {},
   "outputs": [
    {
     "data": {
      "text/html": [
       "<table>\n",
       "<caption>A matrix: 2 × 7 of type dbl</caption>\n",
       "<thead>\n",
       "\t<tr><th></th><th scope=col>Lunes</th><th scope=col>Martes</th><th scope=col>Miércoles</th><th scope=col>Jueves</th><th scope=col>Viernes</th><th scope=col>Sábado</th><th scope=col>Domingo</th></tr>\n",
       "</thead>\n",
       "<tbody>\n",
       "\t<tr><th scope=row>Linkedin</th><td>16</td><td>9</td><td>13</td><td> 5</td><td>2</td><td>17</td><td>14</td></tr>\n",
       "\t<tr><th scope=row>Facebook</th><td>17</td><td>7</td><td> 5</td><td>16</td><td>8</td><td>13</td><td>14</td></tr>\n",
       "</tbody>\n",
       "</table>\n"
      ],
      "text/latex": [
       "A matrix: 2 × 7 of type dbl\n",
       "\\begin{tabular}{r|lllllll}\n",
       "  & Lunes & Martes & Miércoles & Jueves & Viernes & Sábado & Domingo\\\\\n",
       "\\hline\n",
       "\tLinkedin & 16 & 9 & 13 &  5 & 2 & 17 & 14\\\\\n",
       "\tFacebook & 17 & 7 &  5 & 16 & 8 & 13 & 14\\\\\n",
       "\\end{tabular}\n"
      ],
      "text/markdown": [
       "\n",
       "A matrix: 2 × 7 of type dbl\n",
       "\n",
       "| <!--/--> | Lunes | Martes | Miércoles | Jueves | Viernes | Sábado | Domingo |\n",
       "|---|---|---|---|---|---|---|---|\n",
       "| Linkedin | 16 | 9 | 13 |  5 | 2 | 17 | 14 |\n",
       "| Facebook | 17 | 7 |  5 | 16 | 8 | 13 | 14 |\n",
       "\n"
      ],
      "text/plain": [
       "         Lunes Martes Miércoles Jueves Viernes Sábado Domingo\n",
       "Linkedin 16    9      13         5     2       17     14     \n",
       "Facebook 17    7       5        16     8       13     14     "
      ]
     },
     "metadata": {},
     "output_type": "display_data"
    }
   ],
   "source": [
    "views <- matrix(c(linkedin, facebook), nrow = 2, byrow = TRUE)\n",
    "colnames(views)  <-  dias\n",
    "rownames(views) <- c(\"Linkedin\", \"Facebook\")\n",
    "views"
   ]
  },
  {
   "cell_type": "markdown",
   "metadata": {},
   "source": [
    "Usando los operadores relacionales que has aprendido hasta ahora, intenta descubrir lo siguiente:\n",
    "\n",
    "- ¿Cuándo fueron las vistas exactamente iguales a 13? Use la matriz de views para devolver una matriz lógica.\n",
    "- ¿Para qué días el número de visitas fue menor o igual a 14? Nuevamente, haz que R devuelva una matriz lógica."
   ]
  },
  {
   "cell_type": "code",
   "execution_count": 15,
   "metadata": {},
   "outputs": [
    {
     "data": {
      "text/html": [
       "<table>\n",
       "<caption>A matrix: 2 × 7 of type lgl</caption>\n",
       "<thead>\n",
       "\t<tr><th></th><th scope=col>Lunes</th><th scope=col>Martes</th><th scope=col>Miércoles</th><th scope=col>Jueves</th><th scope=col>Viernes</th><th scope=col>Sábado</th><th scope=col>Domingo</th></tr>\n",
       "</thead>\n",
       "<tbody>\n",
       "\t<tr><th scope=row>Linkedin</th><td>FALSE</td><td>FALSE</td><td> TRUE</td><td>FALSE</td><td>FALSE</td><td>FALSE</td><td>FALSE</td></tr>\n",
       "\t<tr><th scope=row>Facebook</th><td>FALSE</td><td>FALSE</td><td>FALSE</td><td>FALSE</td><td>FALSE</td><td> TRUE</td><td>FALSE</td></tr>\n",
       "</tbody>\n",
       "</table>\n"
      ],
      "text/latex": [
       "A matrix: 2 × 7 of type lgl\n",
       "\\begin{tabular}{r|lllllll}\n",
       "  & Lunes & Martes & Miércoles & Jueves & Viernes & Sábado & Domingo\\\\\n",
       "\\hline\n",
       "\tLinkedin & FALSE & FALSE &  TRUE & FALSE & FALSE & FALSE & FALSE\\\\\n",
       "\tFacebook & FALSE & FALSE & FALSE & FALSE & FALSE &  TRUE & FALSE\\\\\n",
       "\\end{tabular}\n"
      ],
      "text/markdown": [
       "\n",
       "A matrix: 2 × 7 of type lgl\n",
       "\n",
       "| <!--/--> | Lunes | Martes | Miércoles | Jueves | Viernes | Sábado | Domingo |\n",
       "|---|---|---|---|---|---|---|---|\n",
       "| Linkedin | FALSE | FALSE |  TRUE | FALSE | FALSE | FALSE | FALSE |\n",
       "| Facebook | FALSE | FALSE | FALSE | FALSE | FALSE |  TRUE | FALSE |\n",
       "\n"
      ],
      "text/plain": [
       "         Lunes Martes Miércoles Jueves Viernes Sábado Domingo\n",
       "Linkedin FALSE FALSE   TRUE     FALSE  FALSE   FALSE  FALSE  \n",
       "Facebook FALSE FALSE  FALSE     FALSE  FALSE    TRUE  FALSE  "
      ]
     },
     "metadata": {},
     "output_type": "display_data"
    },
    {
     "data": {
      "text/html": [
       "<table>\n",
       "<caption>A matrix: 2 × 7 of type lgl</caption>\n",
       "<thead>\n",
       "\t<tr><th></th><th scope=col>Lunes</th><th scope=col>Martes</th><th scope=col>Miércoles</th><th scope=col>Jueves</th><th scope=col>Viernes</th><th scope=col>Sábado</th><th scope=col>Domingo</th></tr>\n",
       "</thead>\n",
       "<tbody>\n",
       "\t<tr><th scope=row>Linkedin</th><td>FALSE</td><td>TRUE</td><td>TRUE</td><td> TRUE</td><td>TRUE</td><td>FALSE</td><td>TRUE</td></tr>\n",
       "\t<tr><th scope=row>Facebook</th><td>FALSE</td><td>TRUE</td><td>TRUE</td><td>FALSE</td><td>TRUE</td><td> TRUE</td><td>TRUE</td></tr>\n",
       "</tbody>\n",
       "</table>\n"
      ],
      "text/latex": [
       "A matrix: 2 × 7 of type lgl\n",
       "\\begin{tabular}{r|lllllll}\n",
       "  & Lunes & Martes & Miércoles & Jueves & Viernes & Sábado & Domingo\\\\\n",
       "\\hline\n",
       "\tLinkedin & FALSE & TRUE & TRUE &  TRUE & TRUE & FALSE & TRUE\\\\\n",
       "\tFacebook & FALSE & TRUE & TRUE & FALSE & TRUE &  TRUE & TRUE\\\\\n",
       "\\end{tabular}\n"
      ],
      "text/markdown": [
       "\n",
       "A matrix: 2 × 7 of type lgl\n",
       "\n",
       "| <!--/--> | Lunes | Martes | Miércoles | Jueves | Viernes | Sábado | Domingo |\n",
       "|---|---|---|---|---|---|---|---|\n",
       "| Linkedin | FALSE | TRUE | TRUE |  TRUE | TRUE | FALSE | TRUE |\n",
       "| Facebook | FALSE | TRUE | TRUE | FALSE | TRUE |  TRUE | TRUE |\n",
       "\n"
      ],
      "text/plain": [
       "         Lunes Martes Miércoles Jueves Viernes Sábado Domingo\n",
       "Linkedin FALSE TRUE   TRUE       TRUE  TRUE    FALSE  TRUE   \n",
       "Facebook FALSE TRUE   TRUE      FALSE  TRUE     TRUE  TRUE   "
      ]
     },
     "metadata": {},
     "output_type": "display_data"
    }
   ],
   "source": [
    "# ¿Cuándo fueron las vistas exactamente iguales a 13?\n",
    "views == 13\n",
    "\n",
    "# ¿Para qué días el número de visitas fue menor o igual a 14?\n",
    "views <= 14"
   ]
  },
  {
   "cell_type": "markdown",
   "metadata": {},
   "source": [
    "Ahora exploremos los operadores lógicos ó e y, que en R tienen esta sintaxis `|`, `&`"
   ]
  },
  {
   "cell_type": "code",
   "execution_count": 16,
   "metadata": {},
   "outputs": [
    {
     "data": {
      "text/html": [
       "TRUE"
      ],
      "text/latex": [
       "TRUE"
      ],
      "text/markdown": [
       "TRUE"
      ],
      "text/plain": [
       "[1] TRUE"
      ]
     },
     "metadata": {},
     "output_type": "display_data"
    },
    {
     "data": {
      "text/html": [
       "TRUE"
      ],
      "text/latex": [
       "TRUE"
      ],
      "text/markdown": [
       "TRUE"
      ],
      "text/plain": [
       "[1] TRUE"
      ]
     },
     "metadata": {},
     "output_type": "display_data"
    },
    {
     "data": {
      "text/html": [
       "TRUE"
      ],
      "text/latex": [
       "TRUE"
      ],
      "text/markdown": [
       "TRUE"
      ],
      "text/plain": [
       "[1] TRUE"
      ]
     },
     "metadata": {},
     "output_type": "display_data"
    },
    {
     "data": {
      "text/html": [
       "TRUE"
      ],
      "text/latex": [
       "TRUE"
      ],
      "text/markdown": [
       "TRUE"
      ],
      "text/plain": [
       "[1] TRUE"
      ]
     },
     "metadata": {},
     "output_type": "display_data"
    }
   ],
   "source": [
    "TRUE & TRUE\n",
    "FALSE | TRUE\n",
    "5 <= 5 & 2 < 3\n",
    "3 < 4 | 7 < 6"
   ]
  },
  {
   "cell_type": "markdown",
   "metadata": {},
   "source": [
    "En este ejercicio, trabajaremos con la variable **ultimo**. Esta variable es igual al último valor del vector de linkedin con el que has trabajado anteriormente. El vector de linkedin representa la cantidad de visitas de LinkedIn que tuvo su perfil en los últimos siete días."
   ]
  },
  {
   "cell_type": "code",
   "execution_count": 17,
   "metadata": {},
   "outputs": [],
   "source": [
    "ultimo <- tail(linkedin, 1)\n"
   ]
  },
  {
   "cell_type": "markdown",
   "metadata": {},
   "source": [
    "Escriba expresiones en R para resolver las siguientes preguntas sobre la variable **ultimo**:\n",
    "\n",
    "- ¿Tiene menos de 5 o más de 10?\n",
    "- ¿Es último entre 15 y 20, excluyendo 15 pero incluyendo 20?"
   ]
  },
  {
   "cell_type": "code",
   "execution_count": 19,
   "metadata": {},
   "outputs": [
    {
     "data": {
      "text/html": [
       "<strong>Domingo:</strong> TRUE"
      ],
      "text/latex": [
       "\\textbf{Domingo:} TRUE"
      ],
      "text/markdown": [
       "**Domingo:** TRUE"
      ],
      "text/plain": [
       "Domingo \n",
       "   TRUE "
      ]
     },
     "metadata": {},
     "output_type": "display_data"
    },
    {
     "data": {
      "text/html": [
       "<strong>Domingo:</strong> FALSE"
      ],
      "text/latex": [
       "\\textbf{Domingo:} FALSE"
      ],
      "text/markdown": [
       "**Domingo:** FALSE"
      ],
      "text/plain": [
       "Domingo \n",
       "  FALSE "
      ]
     },
     "metadata": {},
     "output_type": "display_data"
    }
   ],
   "source": [
    "# ¿Tiene menos de 5 o más de 10?\n",
    "ultimo < 5 | ultimo > 10\n",
    "\n",
    "# ¿Es último entre 15 y 20, excluyendo 15 pero incluyendo 20?\n",
    "ultimo >15 & ultimo <= 20\n"
   ]
  },
  {
   "cell_type": "markdown",
   "metadata": {},
   "source": [
    "Al igual que los operadores relacionales, los operadores lógicos funcionan perfectamente bien con vectores y matrices. Haciendo uso de estos resolvamos las siguiente preguntas:\n",
    "\n",
    "- ¿Cuándo superaron las visitas de LinkedIn 10 y las visitas de Facebook no alcanzaron 10 para un día en particular?     Utiliza los vectores de linkedin y facebook.\n",
    "- ¿Cuándo fueron visitados uno o ambos de sus perfiles de LinkedIn y Facebook al menos 12 veces?\n",
    "- ¿Cuándo es la matriz de vistas igual a un número entre 11 y 14, excluyendo 11 e incluyendo 14?"
   ]
  },
  {
   "cell_type": "code",
   "execution_count": 20,
   "metadata": {},
   "outputs": [
    {
     "data": {
      "text/html": [
       "<style>\n",
       ".dl-inline {width: auto; margin:0; padding: 0}\n",
       ".dl-inline>dt, .dl-inline>dd {float: none; width: auto; display: inline-block}\n",
       ".dl-inline>dt::after {content: \":\\0020\"; padding-right: .5ex}\n",
       ".dl-inline>dt:not(:first-of-type) {padding-left: .5ex}\n",
       "</style><dl class=dl-inline><dt>Lunes</dt><dd>FALSE</dd><dt>Martes</dt><dd>FALSE</dd><dt>Miércoles</dt><dd>TRUE</dd><dt>Jueves</dt><dd>FALSE</dd><dt>Viernes</dt><dd>FALSE</dd><dt>Sábado</dt><dd>FALSE</dd><dt>Domingo</dt><dd>FALSE</dd></dl>\n"
      ],
      "text/latex": [
       "\\begin{description*}\n",
       "\\item[Lunes] FALSE\n",
       "\\item[Martes] FALSE\n",
       "\\item[Miércoles] TRUE\n",
       "\\item[Jueves] FALSE\n",
       "\\item[Viernes] FALSE\n",
       "\\item[Sábado] FALSE\n",
       "\\item[Domingo] FALSE\n",
       "\\end{description*}\n"
      ],
      "text/markdown": [
       "Lunes\n",
       ":   FALSEMartes\n",
       ":   FALSEMiércoles\n",
       ":   TRUEJueves\n",
       ":   FALSEViernes\n",
       ":   FALSESábado\n",
       ":   FALSEDomingo\n",
       ":   FALSE\n",
       "\n"
      ],
      "text/plain": [
       "    Lunes    Martes Miércoles    Jueves   Viernes    Sábado   Domingo \n",
       "    FALSE     FALSE      TRUE     FALSE     FALSE     FALSE     FALSE "
      ]
     },
     "metadata": {},
     "output_type": "display_data"
    },
    {
     "data": {
      "text/html": [
       "<style>\n",
       ".dl-inline {width: auto; margin:0; padding: 0}\n",
       ".dl-inline>dt, .dl-inline>dd {float: none; width: auto; display: inline-block}\n",
       ".dl-inline>dt::after {content: \":\\0020\"; padding-right: .5ex}\n",
       ".dl-inline>dt:not(:first-of-type) {padding-left: .5ex}\n",
       "</style><dl class=dl-inline><dt>Lunes</dt><dd>TRUE</dd><dt>Martes</dt><dd>FALSE</dd><dt>Miércoles</dt><dd>TRUE</dd><dt>Jueves</dt><dd>TRUE</dd><dt>Viernes</dt><dd>FALSE</dd><dt>Sábado</dt><dd>TRUE</dd><dt>Domingo</dt><dd>TRUE</dd></dl>\n"
      ],
      "text/latex": [
       "\\begin{description*}\n",
       "\\item[Lunes] TRUE\n",
       "\\item[Martes] FALSE\n",
       "\\item[Miércoles] TRUE\n",
       "\\item[Jueves] TRUE\n",
       "\\item[Viernes] FALSE\n",
       "\\item[Sábado] TRUE\n",
       "\\item[Domingo] TRUE\n",
       "\\end{description*}\n"
      ],
      "text/markdown": [
       "Lunes\n",
       ":   TRUEMartes\n",
       ":   FALSEMiércoles\n",
       ":   TRUEJueves\n",
       ":   TRUEViernes\n",
       ":   FALSESábado\n",
       ":   TRUEDomingo\n",
       ":   TRUE\n",
       "\n"
      ],
      "text/plain": [
       "    Lunes    Martes Miércoles    Jueves   Viernes    Sábado   Domingo \n",
       "     TRUE     FALSE      TRUE      TRUE     FALSE      TRUE      TRUE "
      ]
     },
     "metadata": {},
     "output_type": "display_data"
    },
    {
     "data": {
      "text/html": [
       "<table>\n",
       "<caption>A matrix: 2 × 7 of type lgl</caption>\n",
       "<thead>\n",
       "\t<tr><th></th><th scope=col>Lunes</th><th scope=col>Martes</th><th scope=col>Miércoles</th><th scope=col>Jueves</th><th scope=col>Viernes</th><th scope=col>Sábado</th><th scope=col>Domingo</th></tr>\n",
       "</thead>\n",
       "<tbody>\n",
       "\t<tr><th scope=row>Linkedin</th><td>FALSE</td><td>FALSE</td><td> TRUE</td><td>FALSE</td><td>FALSE</td><td>FALSE</td><td>TRUE</td></tr>\n",
       "\t<tr><th scope=row>Facebook</th><td>FALSE</td><td>FALSE</td><td>FALSE</td><td>FALSE</td><td>FALSE</td><td> TRUE</td><td>TRUE</td></tr>\n",
       "</tbody>\n",
       "</table>\n"
      ],
      "text/latex": [
       "A matrix: 2 × 7 of type lgl\n",
       "\\begin{tabular}{r|lllllll}\n",
       "  & Lunes & Martes & Miércoles & Jueves & Viernes & Sábado & Domingo\\\\\n",
       "\\hline\n",
       "\tLinkedin & FALSE & FALSE &  TRUE & FALSE & FALSE & FALSE & TRUE\\\\\n",
       "\tFacebook & FALSE & FALSE & FALSE & FALSE & FALSE &  TRUE & TRUE\\\\\n",
       "\\end{tabular}\n"
      ],
      "text/markdown": [
       "\n",
       "A matrix: 2 × 7 of type lgl\n",
       "\n",
       "| <!--/--> | Lunes | Martes | Miércoles | Jueves | Viernes | Sábado | Domingo |\n",
       "|---|---|---|---|---|---|---|---|\n",
       "| Linkedin | FALSE | FALSE |  TRUE | FALSE | FALSE | FALSE | TRUE |\n",
       "| Facebook | FALSE | FALSE | FALSE | FALSE | FALSE |  TRUE | TRUE |\n",
       "\n"
      ],
      "text/plain": [
       "         Lunes Martes Miércoles Jueves Viernes Sábado Domingo\n",
       "Linkedin FALSE FALSE   TRUE     FALSE  FALSE   FALSE  TRUE   \n",
       "Facebook FALSE FALSE  FALSE     FALSE  FALSE    TRUE  TRUE   "
      ]
     },
     "metadata": {},
     "output_type": "display_data"
    }
   ],
   "source": [
    "# ¿Cuándo superaron las visitas de LinkedIn 10 y las visitas de Facebook no alcanzaron 10 para un día en particular?\n",
    "linkedin > 10 & facebook < 10\n",
    "\n",
    "# ¿Cuándo fueron visitados uno o ambos de sus perfiles de LinkedIn y Facebook al menos 12 veces?\n",
    "facebook >= 12 | linkedin >= 12\n",
    "\n",
    "# ¿Cuándo es la matriz de vistas igual a un número entre 11 y 14, excluyendo 11 e incluyendo 14?\n",
    "views > 11 & views <= 14"
   ]
  },
  {
   "cell_type": "markdown",
   "metadata": {},
   "source": [
    "Aparte de `&` y `|`, también aprendimos sobre el operador `!`, que niega un valor lógico. Para actualizar tu memoria, aquí hay algunas expresiones en R que lo usan. Todas evalúan a FALSE:"
   ]
  },
  {
   "cell_type": "code",
   "execution_count": 21,
   "metadata": {},
   "outputs": [
    {
     "data": {
      "text/html": [
       "FALSE"
      ],
      "text/latex": [
       "FALSE"
      ],
      "text/markdown": [
       "FALSE"
      ],
      "text/plain": [
       "[1] FALSE"
      ]
     },
     "metadata": {},
     "output_type": "display_data"
    },
    {
     "data": {
      "text/html": [
       "FALSE"
      ],
      "text/latex": [
       "FALSE"
      ],
      "text/markdown": [
       "FALSE"
      ],
      "text/plain": [
       "[1] FALSE"
      ]
     },
     "metadata": {},
     "output_type": "display_data"
    },
    {
     "data": {
      "text/html": [
       "FALSE"
      ],
      "text/latex": [
       "FALSE"
      ],
      "text/markdown": [
       "FALSE"
      ],
      "text/plain": [
       "[1] FALSE"
      ]
     },
     "metadata": {},
     "output_type": "display_data"
    }
   ],
   "source": [
    "!TRUE\n",
    "!(5> 3)\n",
    "!!FALSE"
   ]
  },
  {
   "cell_type": "markdown",
   "metadata": {},
   "source": [
    "Con las cosas que has aprendido hasta ahora, puedes resolver diferentes problemas.\n",
    "\n",
    "En lugar de registrar la cantidad de visitas para su propio perfil de LinkedIn, suponga que realizó una encuesta dentro de la empresa para la que trabaja. Le ha preguntado a cada empleado con un perfil de LinkedIn cuántas visitas ha tenido su perfil en los últimos siete días. Usted almacenó los resultados en un data frame llamado **li_df**"
   ]
  },
  {
   "cell_type": "code",
   "execution_count": 22,
   "metadata": {},
   "outputs": [
    {
     "data": {
      "text/html": [
       "<table>\n",
       "<caption>A data.frame: 50 × 8</caption>\n",
       "<thead>\n",
       "\t<tr><th scope=col>empleados</th><th scope=col>dia1</th><th scope=col>dia2</th><th scope=col>dia3</th><th scope=col>dia4</th><th scope=col>dia5</th><th scope=col>dia6</th><th scope=col>dia7</th></tr>\n",
       "\t<tr><th scope=col>&lt;fct&gt;</th><th scope=col>&lt;dbl&gt;</th><th scope=col>&lt;dbl&gt;</th><th scope=col>&lt;dbl&gt;</th><th scope=col>&lt;dbl&gt;</th><th scope=col>&lt;dbl&gt;</th><th scope=col>&lt;dbl&gt;</th><th scope=col>&lt;dbl&gt;</th></tr>\n",
       "</thead>\n",
       "<tbody>\n",
       "\t<tr><td>employee_1 </td><td>43</td><td>25</td><td>37</td><td>36</td><td>11</td><td>34</td><td> 2</td></tr>\n",
       "\t<tr><td>employee_2 </td><td>90</td><td>21</td><td>76</td><td>49</td><td> 1</td><td>23</td><td>66</td></tr>\n",
       "\t<tr><td>employee_3 </td><td>74</td><td>94</td><td>84</td><td>93</td><td>31</td><td>74</td><td>85</td></tr>\n",
       "\t<tr><td>employee_4 </td><td>67</td><td>21</td><td>21</td><td>30</td><td>22</td><td>55</td><td>44</td></tr>\n",
       "\t<tr><td>employee_5 </td><td> 1</td><td>43</td><td>58</td><td>11</td><td>24</td><td>44</td><td> 1</td></tr>\n",
       "\t<tr><td>employee_6 </td><td>99</td><td>26</td><td>81</td><td>46</td><td> 2</td><td>92</td><td>71</td></tr>\n",
       "\t<tr><td>employee_7 </td><td>10</td><td>61</td><td>68</td><td>51</td><td>24</td><td>92</td><td>87</td></tr>\n",
       "\t<tr><td>employee_8 </td><td> 5</td><td>72</td><td>93</td><td>32</td><td>28</td><td> 6</td><td>41</td></tr>\n",
       "\t<tr><td>employee_9 </td><td>33</td><td>31</td><td> 1</td><td> 1</td><td>97</td><td>22</td><td>71</td></tr>\n",
       "\t<tr><td>employee_10</td><td>87</td><td>73</td><td>77</td><td>83</td><td>23</td><td>79</td><td>61</td></tr>\n",
       "\t<tr><td>employee_11</td><td>52</td><td> 3</td><td>27</td><td>73</td><td>90</td><td>79</td><td>85</td></tr>\n",
       "\t<tr><td>employee_12</td><td>58</td><td>78</td><td>62</td><td>55</td><td>32</td><td>56</td><td>35</td></tr>\n",
       "\t<tr><td>employee_13</td><td>51</td><td>40</td><td>22</td><td>76</td><td>37</td><td>16</td><td>62</td></tr>\n",
       "\t<tr><td>employee_14</td><td>89</td><td>61</td><td>12</td><td>79</td><td>87</td><td>22</td><td>89</td></tr>\n",
       "\t<tr><td>employee_15</td><td>95</td><td>78</td><td>21</td><td>64</td><td>55</td><td> 7</td><td>32</td></tr>\n",
       "\t<tr><td>employee_16</td><td>25</td><td> 0</td><td>91</td><td>53</td><td>24</td><td>13</td><td>41</td></tr>\n",
       "\t<tr><td>employee_17</td><td>45</td><td>26</td><td>18</td><td>99</td><td>57</td><td>95</td><td>92</td></tr>\n",
       "\t<tr><td>employee_18</td><td>41</td><td>61</td><td>61</td><td>27</td><td>75</td><td>98</td><td>93</td></tr>\n",
       "\t<tr><td>employee_19</td><td>50</td><td> 5</td><td> 9</td><td>78</td><td>64</td><td>63</td><td>34</td></tr>\n",
       "\t<tr><td>employee_20</td><td>48</td><td>52</td><td>58</td><td>93</td><td>67</td><td>44</td><td> 6</td></tr>\n",
       "\t<tr><td>employee_21</td><td>64</td><td>61</td><td>24</td><td>99</td><td>23</td><td>39</td><td>17</td></tr>\n",
       "\t<tr><td>employee_22</td><td>87</td><td>84</td><td>39</td><td>43</td><td>27</td><td> 6</td><td>80</td></tr>\n",
       "\t<tr><td>employee_23</td><td>53</td><td>53</td><td>82</td><td>48</td><td>52</td><td>17</td><td>33</td></tr>\n",
       "\t<tr><td>employee_24</td><td>71</td><td>35</td><td> 4</td><td>38</td><td> 2</td><td>42</td><td>16</td></tr>\n",
       "\t<tr><td>employee_25</td><td>87</td><td>18</td><td>89</td><td>46</td><td>74</td><td>34</td><td>54</td></tr>\n",
       "\t<tr><td>employee_26</td><td>54</td><td>17</td><td>27</td><td>44</td><td>36</td><td> 6</td><td>34</td></tr>\n",
       "\t<tr><td>employee_27</td><td>67</td><td>63</td><td>19</td><td>23</td><td> 6</td><td>58</td><td>61</td></tr>\n",
       "\t<tr><td>employee_28</td><td>88</td><td>43</td><td>97</td><td>89</td><td>59</td><td>51</td><td>80</td></tr>\n",
       "\t<tr><td>employee_29</td><td>81</td><td>76</td><td>37</td><td>58</td><td>47</td><td> 1</td><td>54</td></tr>\n",
       "\t<tr><td>employee_30</td><td>81</td><td>60</td><td>38</td><td>39</td><td> 0</td><td>97</td><td> 7</td></tr>\n",
       "\t<tr><td>employee_31</td><td>18</td><td>74</td><td>53</td><td>63</td><td>69</td><td>26</td><td>83</td></tr>\n",
       "\t<tr><td>employee_32</td><td>99</td><td>55</td><td>60</td><td>58</td><td>30</td><td>21</td><td>59</td></tr>\n",
       "\t<tr><td>employee_33</td><td>22</td><td>90</td><td>68</td><td>39</td><td>34</td><td>84</td><td>87</td></tr>\n",
       "\t<tr><td>employee_34</td><td>63</td><td>53</td><td>32</td><td>38</td><td>69</td><td> 5</td><td>38</td></tr>\n",
       "\t<tr><td>employee_35</td><td>74</td><td>21</td><td>83</td><td>20</td><td>57</td><td>13</td><td>97</td></tr>\n",
       "\t<tr><td>employee_36</td><td>63</td><td>87</td><td>38</td><td>94</td><td>93</td><td> 3</td><td>36</td></tr>\n",
       "\t<tr><td>employee_37</td><td>58</td><td>34</td><td>44</td><td> 6</td><td>70</td><td>10</td><td>46</td></tr>\n",
       "\t<tr><td>employee_38</td><td>53</td><td>98</td><td>69</td><td>17</td><td>46</td><td>57</td><td>56</td></tr>\n",
       "\t<tr><td>employee_39</td><td>41</td><td> 8</td><td> 7</td><td>15</td><td> 7</td><td>70</td><td>50</td></tr>\n",
       "\t<tr><td>employee_40</td><td>33</td><td> 9</td><td>97</td><td> 0</td><td>35</td><td>32</td><td>55</td></tr>\n",
       "\t<tr><td>employee_41</td><td>17</td><td>19</td><td>10</td><td>70</td><td>66</td><td>43</td><td> 6</td></tr>\n",
       "\t<tr><td>employee_42</td><td>80</td><td>83</td><td> 4</td><td>13</td><td>42</td><td> 5</td><td>86</td></tr>\n",
       "\t<tr><td>employee_43</td><td>59</td><td> 8</td><td>65</td><td>44</td><td>75</td><td> 2</td><td>45</td></tr>\n",
       "\t<tr><td>employee_44</td><td>91</td><td>11</td><td>59</td><td> 4</td><td>13</td><td>31</td><td>19</td></tr>\n",
       "\t<tr><td>employee_45</td><td>41</td><td> 0</td><td>36</td><td>90</td><td>82</td><td>69</td><td> 6</td></tr>\n",
       "\t<tr><td>employee_46</td><td>62</td><td> 9</td><td>20</td><td>25</td><td> 5</td><td>84</td><td>30</td></tr>\n",
       "\t<tr><td>employee_47</td><td>13</td><td>74</td><td>23</td><td>98</td><td>33</td><td>73</td><td>85</td></tr>\n",
       "\t<tr><td>employee_48</td><td>11</td><td>19</td><td>92</td><td> 4</td><td>76</td><td>21</td><td> 8</td></tr>\n",
       "\t<tr><td>employee_49</td><td>95</td><td>89</td><td>23</td><td>88</td><td> 5</td><td>81</td><td>43</td></tr>\n",
       "\t<tr><td>employee_50</td><td> 6</td><td>55</td><td>88</td><td>88</td><td> 0</td><td> 0</td><td>82</td></tr>\n",
       "</tbody>\n",
       "</table>\n"
      ],
      "text/latex": [
       "A data.frame: 50 × 8\n",
       "\\begin{tabular}{llllllll}\n",
       " empleados & dia1 & dia2 & dia3 & dia4 & dia5 & dia6 & dia7\\\\\n",
       " <fct> & <dbl> & <dbl> & <dbl> & <dbl> & <dbl> & <dbl> & <dbl>\\\\\n",
       "\\hline\n",
       "\t employee\\_1  & 43 & 25 & 37 & 36 & 11 & 34 &  2\\\\\n",
       "\t employee\\_2  & 90 & 21 & 76 & 49 &  1 & 23 & 66\\\\\n",
       "\t employee\\_3  & 74 & 94 & 84 & 93 & 31 & 74 & 85\\\\\n",
       "\t employee\\_4  & 67 & 21 & 21 & 30 & 22 & 55 & 44\\\\\n",
       "\t employee\\_5  &  1 & 43 & 58 & 11 & 24 & 44 &  1\\\\\n",
       "\t employee\\_6  & 99 & 26 & 81 & 46 &  2 & 92 & 71\\\\\n",
       "\t employee\\_7  & 10 & 61 & 68 & 51 & 24 & 92 & 87\\\\\n",
       "\t employee\\_8  &  5 & 72 & 93 & 32 & 28 &  6 & 41\\\\\n",
       "\t employee\\_9  & 33 & 31 &  1 &  1 & 97 & 22 & 71\\\\\n",
       "\t employee\\_10 & 87 & 73 & 77 & 83 & 23 & 79 & 61\\\\\n",
       "\t employee\\_11 & 52 &  3 & 27 & 73 & 90 & 79 & 85\\\\\n",
       "\t employee\\_12 & 58 & 78 & 62 & 55 & 32 & 56 & 35\\\\\n",
       "\t employee\\_13 & 51 & 40 & 22 & 76 & 37 & 16 & 62\\\\\n",
       "\t employee\\_14 & 89 & 61 & 12 & 79 & 87 & 22 & 89\\\\\n",
       "\t employee\\_15 & 95 & 78 & 21 & 64 & 55 &  7 & 32\\\\\n",
       "\t employee\\_16 & 25 &  0 & 91 & 53 & 24 & 13 & 41\\\\\n",
       "\t employee\\_17 & 45 & 26 & 18 & 99 & 57 & 95 & 92\\\\\n",
       "\t employee\\_18 & 41 & 61 & 61 & 27 & 75 & 98 & 93\\\\\n",
       "\t employee\\_19 & 50 &  5 &  9 & 78 & 64 & 63 & 34\\\\\n",
       "\t employee\\_20 & 48 & 52 & 58 & 93 & 67 & 44 &  6\\\\\n",
       "\t employee\\_21 & 64 & 61 & 24 & 99 & 23 & 39 & 17\\\\\n",
       "\t employee\\_22 & 87 & 84 & 39 & 43 & 27 &  6 & 80\\\\\n",
       "\t employee\\_23 & 53 & 53 & 82 & 48 & 52 & 17 & 33\\\\\n",
       "\t employee\\_24 & 71 & 35 &  4 & 38 &  2 & 42 & 16\\\\\n",
       "\t employee\\_25 & 87 & 18 & 89 & 46 & 74 & 34 & 54\\\\\n",
       "\t employee\\_26 & 54 & 17 & 27 & 44 & 36 &  6 & 34\\\\\n",
       "\t employee\\_27 & 67 & 63 & 19 & 23 &  6 & 58 & 61\\\\\n",
       "\t employee\\_28 & 88 & 43 & 97 & 89 & 59 & 51 & 80\\\\\n",
       "\t employee\\_29 & 81 & 76 & 37 & 58 & 47 &  1 & 54\\\\\n",
       "\t employee\\_30 & 81 & 60 & 38 & 39 &  0 & 97 &  7\\\\\n",
       "\t employee\\_31 & 18 & 74 & 53 & 63 & 69 & 26 & 83\\\\\n",
       "\t employee\\_32 & 99 & 55 & 60 & 58 & 30 & 21 & 59\\\\\n",
       "\t employee\\_33 & 22 & 90 & 68 & 39 & 34 & 84 & 87\\\\\n",
       "\t employee\\_34 & 63 & 53 & 32 & 38 & 69 &  5 & 38\\\\\n",
       "\t employee\\_35 & 74 & 21 & 83 & 20 & 57 & 13 & 97\\\\\n",
       "\t employee\\_36 & 63 & 87 & 38 & 94 & 93 &  3 & 36\\\\\n",
       "\t employee\\_37 & 58 & 34 & 44 &  6 & 70 & 10 & 46\\\\\n",
       "\t employee\\_38 & 53 & 98 & 69 & 17 & 46 & 57 & 56\\\\\n",
       "\t employee\\_39 & 41 &  8 &  7 & 15 &  7 & 70 & 50\\\\\n",
       "\t employee\\_40 & 33 &  9 & 97 &  0 & 35 & 32 & 55\\\\\n",
       "\t employee\\_41 & 17 & 19 & 10 & 70 & 66 & 43 &  6\\\\\n",
       "\t employee\\_42 & 80 & 83 &  4 & 13 & 42 &  5 & 86\\\\\n",
       "\t employee\\_43 & 59 &  8 & 65 & 44 & 75 &  2 & 45\\\\\n",
       "\t employee\\_44 & 91 & 11 & 59 &  4 & 13 & 31 & 19\\\\\n",
       "\t employee\\_45 & 41 &  0 & 36 & 90 & 82 & 69 &  6\\\\\n",
       "\t employee\\_46 & 62 &  9 & 20 & 25 &  5 & 84 & 30\\\\\n",
       "\t employee\\_47 & 13 & 74 & 23 & 98 & 33 & 73 & 85\\\\\n",
       "\t employee\\_48 & 11 & 19 & 92 &  4 & 76 & 21 &  8\\\\\n",
       "\t employee\\_49 & 95 & 89 & 23 & 88 &  5 & 81 & 43\\\\\n",
       "\t employee\\_50 &  6 & 55 & 88 & 88 &  0 &  0 & 82\\\\\n",
       "\\end{tabular}\n"
      ],
      "text/markdown": [
       "\n",
       "A data.frame: 50 × 8\n",
       "\n",
       "| empleados &lt;fct&gt; | dia1 &lt;dbl&gt; | dia2 &lt;dbl&gt; | dia3 &lt;dbl&gt; | dia4 &lt;dbl&gt; | dia5 &lt;dbl&gt; | dia6 &lt;dbl&gt; | dia7 &lt;dbl&gt; |\n",
       "|---|---|---|---|---|---|---|---|\n",
       "| employee_1  | 43 | 25 | 37 | 36 | 11 | 34 |  2 |\n",
       "| employee_2  | 90 | 21 | 76 | 49 |  1 | 23 | 66 |\n",
       "| employee_3  | 74 | 94 | 84 | 93 | 31 | 74 | 85 |\n",
       "| employee_4  | 67 | 21 | 21 | 30 | 22 | 55 | 44 |\n",
       "| employee_5  |  1 | 43 | 58 | 11 | 24 | 44 |  1 |\n",
       "| employee_6  | 99 | 26 | 81 | 46 |  2 | 92 | 71 |\n",
       "| employee_7  | 10 | 61 | 68 | 51 | 24 | 92 | 87 |\n",
       "| employee_8  |  5 | 72 | 93 | 32 | 28 |  6 | 41 |\n",
       "| employee_9  | 33 | 31 |  1 |  1 | 97 | 22 | 71 |\n",
       "| employee_10 | 87 | 73 | 77 | 83 | 23 | 79 | 61 |\n",
       "| employee_11 | 52 |  3 | 27 | 73 | 90 | 79 | 85 |\n",
       "| employee_12 | 58 | 78 | 62 | 55 | 32 | 56 | 35 |\n",
       "| employee_13 | 51 | 40 | 22 | 76 | 37 | 16 | 62 |\n",
       "| employee_14 | 89 | 61 | 12 | 79 | 87 | 22 | 89 |\n",
       "| employee_15 | 95 | 78 | 21 | 64 | 55 |  7 | 32 |\n",
       "| employee_16 | 25 |  0 | 91 | 53 | 24 | 13 | 41 |\n",
       "| employee_17 | 45 | 26 | 18 | 99 | 57 | 95 | 92 |\n",
       "| employee_18 | 41 | 61 | 61 | 27 | 75 | 98 | 93 |\n",
       "| employee_19 | 50 |  5 |  9 | 78 | 64 | 63 | 34 |\n",
       "| employee_20 | 48 | 52 | 58 | 93 | 67 | 44 |  6 |\n",
       "| employee_21 | 64 | 61 | 24 | 99 | 23 | 39 | 17 |\n",
       "| employee_22 | 87 | 84 | 39 | 43 | 27 |  6 | 80 |\n",
       "| employee_23 | 53 | 53 | 82 | 48 | 52 | 17 | 33 |\n",
       "| employee_24 | 71 | 35 |  4 | 38 |  2 | 42 | 16 |\n",
       "| employee_25 | 87 | 18 | 89 | 46 | 74 | 34 | 54 |\n",
       "| employee_26 | 54 | 17 | 27 | 44 | 36 |  6 | 34 |\n",
       "| employee_27 | 67 | 63 | 19 | 23 |  6 | 58 | 61 |\n",
       "| employee_28 | 88 | 43 | 97 | 89 | 59 | 51 | 80 |\n",
       "| employee_29 | 81 | 76 | 37 | 58 | 47 |  1 | 54 |\n",
       "| employee_30 | 81 | 60 | 38 | 39 |  0 | 97 |  7 |\n",
       "| employee_31 | 18 | 74 | 53 | 63 | 69 | 26 | 83 |\n",
       "| employee_32 | 99 | 55 | 60 | 58 | 30 | 21 | 59 |\n",
       "| employee_33 | 22 | 90 | 68 | 39 | 34 | 84 | 87 |\n",
       "| employee_34 | 63 | 53 | 32 | 38 | 69 |  5 | 38 |\n",
       "| employee_35 | 74 | 21 | 83 | 20 | 57 | 13 | 97 |\n",
       "| employee_36 | 63 | 87 | 38 | 94 | 93 |  3 | 36 |\n",
       "| employee_37 | 58 | 34 | 44 |  6 | 70 | 10 | 46 |\n",
       "| employee_38 | 53 | 98 | 69 | 17 | 46 | 57 | 56 |\n",
       "| employee_39 | 41 |  8 |  7 | 15 |  7 | 70 | 50 |\n",
       "| employee_40 | 33 |  9 | 97 |  0 | 35 | 32 | 55 |\n",
       "| employee_41 | 17 | 19 | 10 | 70 | 66 | 43 |  6 |\n",
       "| employee_42 | 80 | 83 |  4 | 13 | 42 |  5 | 86 |\n",
       "| employee_43 | 59 |  8 | 65 | 44 | 75 |  2 | 45 |\n",
       "| employee_44 | 91 | 11 | 59 |  4 | 13 | 31 | 19 |\n",
       "| employee_45 | 41 |  0 | 36 | 90 | 82 | 69 |  6 |\n",
       "| employee_46 | 62 |  9 | 20 | 25 |  5 | 84 | 30 |\n",
       "| employee_47 | 13 | 74 | 23 | 98 | 33 | 73 | 85 |\n",
       "| employee_48 | 11 | 19 | 92 |  4 | 76 | 21 |  8 |\n",
       "| employee_49 | 95 | 89 | 23 | 88 |  5 | 81 | 43 |\n",
       "| employee_50 |  6 | 55 | 88 | 88 |  0 |  0 | 82 |\n",
       "\n"
      ],
      "text/plain": [
       "   empleados   dia1 dia2 dia3 dia4 dia5 dia6 dia7\n",
       "1  employee_1  43   25   37   36   11   34    2  \n",
       "2  employee_2  90   21   76   49    1   23   66  \n",
       "3  employee_3  74   94   84   93   31   74   85  \n",
       "4  employee_4  67   21   21   30   22   55   44  \n",
       "5  employee_5   1   43   58   11   24   44    1  \n",
       "6  employee_6  99   26   81   46    2   92   71  \n",
       "7  employee_7  10   61   68   51   24   92   87  \n",
       "8  employee_8   5   72   93   32   28    6   41  \n",
       "9  employee_9  33   31    1    1   97   22   71  \n",
       "10 employee_10 87   73   77   83   23   79   61  \n",
       "11 employee_11 52    3   27   73   90   79   85  \n",
       "12 employee_12 58   78   62   55   32   56   35  \n",
       "13 employee_13 51   40   22   76   37   16   62  \n",
       "14 employee_14 89   61   12   79   87   22   89  \n",
       "15 employee_15 95   78   21   64   55    7   32  \n",
       "16 employee_16 25    0   91   53   24   13   41  \n",
       "17 employee_17 45   26   18   99   57   95   92  \n",
       "18 employee_18 41   61   61   27   75   98   93  \n",
       "19 employee_19 50    5    9   78   64   63   34  \n",
       "20 employee_20 48   52   58   93   67   44    6  \n",
       "21 employee_21 64   61   24   99   23   39   17  \n",
       "22 employee_22 87   84   39   43   27    6   80  \n",
       "23 employee_23 53   53   82   48   52   17   33  \n",
       "24 employee_24 71   35    4   38    2   42   16  \n",
       "25 employee_25 87   18   89   46   74   34   54  \n",
       "26 employee_26 54   17   27   44   36    6   34  \n",
       "27 employee_27 67   63   19   23    6   58   61  \n",
       "28 employee_28 88   43   97   89   59   51   80  \n",
       "29 employee_29 81   76   37   58   47    1   54  \n",
       "30 employee_30 81   60   38   39    0   97    7  \n",
       "31 employee_31 18   74   53   63   69   26   83  \n",
       "32 employee_32 99   55   60   58   30   21   59  \n",
       "33 employee_33 22   90   68   39   34   84   87  \n",
       "34 employee_34 63   53   32   38   69    5   38  \n",
       "35 employee_35 74   21   83   20   57   13   97  \n",
       "36 employee_36 63   87   38   94   93    3   36  \n",
       "37 employee_37 58   34   44    6   70   10   46  \n",
       "38 employee_38 53   98   69   17   46   57   56  \n",
       "39 employee_39 41    8    7   15    7   70   50  \n",
       "40 employee_40 33    9   97    0   35   32   55  \n",
       "41 employee_41 17   19   10   70   66   43    6  \n",
       "42 employee_42 80   83    4   13   42    5   86  \n",
       "43 employee_43 59    8   65   44   75    2   45  \n",
       "44 employee_44 91   11   59    4   13   31   19  \n",
       "45 employee_45 41    0   36   90   82   69    6  \n",
       "46 employee_46 62    9   20   25    5   84   30  \n",
       "47 employee_47 13   74   23   98   33   73   85  \n",
       "48 employee_48 11   19   92    4   76   21    8  \n",
       "49 employee_49 95   89   23   88    5   81   43  \n",
       "50 employee_50  6   55   88   88    0    0   82  "
      ]
     },
     "metadata": {},
     "output_type": "display_data"
    }
   ],
   "source": [
    "empleados <- c(\"employee_1\",\"employee_2\",\"employee_3\",\"employee_4\" , \"employee_5\",\n",
    "              \"employee_6\", \"employee_7\", \"employee_8\", \"employee_9\",  \"employee_10\",\n",
    "              \"employee_11\", \"employee_12\", \"employee_13\", \"employee_14\", \"employee_15\",\n",
    "              \"employee_16\",\"employee_17\", \"employee_18\" ,\"employee_19\", \"employee_20\",\n",
    "              \"employee_21\", \"employee_22\", \"employee_23\", \"employee_24\", \"employee_25\",\n",
    "              \"employee_26\", \"employee_27\", \"employee_28\", \"employee_29\", \"employee_30\",\n",
    "              \"employee_31\", \"employee_32\", \"employee_33\", \"employee_34\", \"employee_35\",\n",
    "              \"employee_36\", \"employee_37\", \"employee_38\", \"employee_39\", \"employee_40\",\n",
    "              \"employee_41\", \"employee_42\", \"employee_43\", \"employee_44\", \"employee_45\",\n",
    "              \"employee_46\", \"employee_47\", \"employee_48\", \"employee_49\", \"employee_50\")\n",
    "dia1 <- c(floor(runif(50, min=0, max=100)))\n",
    "dia2 <- c(floor(runif(50, min=0, max=100)))\n",
    "dia3 <- c(floor(runif(50, min=0, max=100)))\n",
    "dia4 <- c(floor(runif(50, min=0, max=100)))\n",
    "dia5 <- c(floor(runif(50, min=0, max=100)))\n",
    "dia6 <- c(floor(runif(50, min=0, max=100)))\n",
    "dia7 <- c(floor(runif(50, min=0, max=100)))\n",
    "\n",
    "li_df <- data.frame(empleados,dia1,dia2,dia3,dia4,dia5,dia6,dia7)\n",
    "li_df"
   ]
  },
  {
   "cell_type": "markdown",
   "metadata": {},
   "source": [
    "- Seleccione la segunda columna completa, llamada día2, del data frame li_df como vector y asígnela como **segundo**.\n",
    "\n",
    "- Use el segundo para crear un vector lógico que contenga TRUE si el número correspondiente de vistas es estrictamente mayor que 25 o estrictamente menor que 5 y FALSE en caso contrario. Almacene este vector lógico como **extremos**.\n",
    "\n",
    "- Use `sum()` en el vector **extremos** para calcular la cantidad de TRUE en los extremos (es decir, para calcular la cantidad de empleados que son muy populares o de muy bajo perfil). Simplemente imprime este número en la consola."
   ]
  },
  {
   "cell_type": "code",
   "execution_count": 23,
   "metadata": {},
   "outputs": [
    {
     "data": {
      "text/html": [
       "36"
      ],
      "text/latex": [
       "36"
      ],
      "text/markdown": [
       "36"
      ],
      "text/plain": [
       "[1] 36"
      ]
     },
     "metadata": {},
     "output_type": "display_data"
    }
   ],
   "source": [
    "# Instrucción 1\n",
    "segundo <- li_df$dia2\n",
    "\n",
    "# Instrucción 2\n",
    "extremos <- segundo > 25 | segundo < 5 \n",
    "\n",
    "# Instrucción 3\n",
    "sum(extremos)"
   ]
  },
  {
   "cell_type": "markdown",
   "metadata": {},
   "source": [
    "### Enunciados Condicionales\n",
    "\n",
    "Como recordarás en el ejemplo que te dí hace un rato, usaba las palabras `if`, `else if` y `else`estos nos sirven para construir enunciados condicionales, que van a determinar el resultado que veremos en pantalla basado en una condición determinado. La sintaxis para el uso de estos es la siguiente:\n",
    "\n",
    "                                if ( test_expression1) {\n",
    "                                  statement1\n",
    "                                 } else if ( test_expression2) {\n",
    "                                  statement2\n",
    "                                 } else if ( test_expression3) {\n",
    "                                  statement3\n",
    "                                 } else {\n",
    "                                  statement4\n",
    "                                 }\n",
    "\n",
    "Veamos un ejemplo paso a paso\n"
   ]
  },
  {
   "cell_type": "code",
   "execution_count": 24,
   "metadata": {},
   "outputs": [],
   "source": [
    "medium <- \"LinkedIn\"\n",
    "num_views <- 14"
   ]
  },
  {
   "cell_type": "markdown",
   "metadata": {},
   "source": [
    "Usando estas variables construyamos un enunciado condicional que nos imprima \"Mostrando datos de Linkedin\" si la variable **medium** es igual a \"LinkedIn\""
   ]
  },
  {
   "cell_type": "code",
   "execution_count": 25,
   "metadata": {},
   "outputs": [
    {
     "name": "stdout",
     "output_type": "stream",
     "text": [
      "[1] \"Mostrando datos de Linkedin\"\n"
     ]
    }
   ],
   "source": [
    "if (medium == \"LinkedIn\") {\n",
    "  print(\"Mostrando datos de Linkedin\")\n",
    "}"
   ]
  },
  {
   "cell_type": "markdown",
   "metadata": {},
   "source": [
    "Ahora uno que nos diga \"Eres popular\" si el número de views rebasa los 15 views"
   ]
  },
  {
   "cell_type": "code",
   "execution_count": 26,
   "metadata": {},
   "outputs": [],
   "source": [
    "if (num_views > 15){\n",
    "  print(\"Eres popular\")\n",
    "}"
   ]
  },
  {
   "cell_type": "markdown",
   "metadata": {},
   "source": [
    "Ahora agreguemos un `else`. La declaración `else` no requiere una condición; su código correspondiente simplemente se ejecuta si todas las condiciones anteriores en la estructura de control son FALSE. Es importante notar que la palabra `else`va en el mismo renglón que la llave de cierre del `if`. En caso de no rebasa los 15 views imprimamos \"Procura que vean más tu perfil\""
   ]
  },
  {
   "cell_type": "code",
   "execution_count": 27,
   "metadata": {},
   "outputs": [
    {
     "name": "stdout",
     "output_type": "stream",
     "text": [
      "[1] \"Procura que vean más tu perfil\"\n"
     ]
    }
   ],
   "source": [
    "if (num_views > 15){\n",
    "  print(\"Eres popular\")\n",
    "} else{\n",
    "  print(\"Procura que vean más tu perfil\")\n",
    "}"
   ]
  },
  {
   "cell_type": "markdown",
   "metadata": {},
   "source": [
    "La instrucción `else if` nos permite personalizar aún más nuestra estructura de control. Podemos agregar tantas declaraciones `else if` como deseemos. Ten en cuenta que R ignora el resto de la estructura de control una vez que se ha encontrado una condición que es TRUE y se han ejecutado las expresiones correspondientes.<BR>\n",
    "Añadamos un condición si nuestras views están entre 10 y 15 que nos regrese el mensaje \"Tu visibilidad es promedio\"\n"
   ]
  },
  {
   "cell_type": "code",
   "execution_count": 28,
   "metadata": {},
   "outputs": [
    {
     "name": "stdout",
     "output_type": "stream",
     "text": [
      "[1] \"Tu visibilidad es promedio\"\n"
     ]
    }
   ],
   "source": [
    "if (num_views > 15){\n",
    "  print(\"Eres popular\")\n",
    "} else if (num_views <= 15 & num_views > 10) {\n",
    "  print(\"Tu visibilidad es promedio\")\n",
    "} else{\n",
    "  print(\"Procura que vean más tu perfil\")\n",
    "}\n"
   ]
  },
  {
   "cell_type": "markdown",
   "metadata": {},
   "source": [
    "Puedes hacer lo que quieras dentro de construcciones if-else. Incluso puede poner otro conjunto de declaraciones condicionales. Examina el siguiente fragmento de código:"
   ]
  },
  {
   "cell_type": "code",
   "execution_count": 29,
   "metadata": {},
   "outputs": [
    {
     "ename": "ERROR",
     "evalue": "Error in eval(expr, envir, enclos): objeto 'number' no encontrado\n",
     "output_type": "error",
     "traceback": [
      "Error in eval(expr, envir, enclos): objeto 'number' no encontrado\nTraceback:\n"
     ]
    }
   ],
   "source": [
    "if (number < 10) {\n",
    "  if (number < 5) {\n",
    "    result <- \"extra small\"\n",
    "  } else {\n",
    "    result <- \"small\"\n",
    "  }\n",
    "} else if (number < 100) {\n",
    "  result <- \"medium\"\n",
    "} else {\n",
    "  result <- \"large\"\n",
    "}\n",
    "print(result)"
   ]
  },
  {
   "cell_type": "markdown",
   "metadata": {},
   "source": [
    "Echa un vistazo a las siguientes declaraciones:\n",
    "\n",
    "Si el número se establece en 6, se imprime \"pequeño\" en la consola.<br>\n",
    "Si el número se establece en 100, R imprime \"medio\".<br>\n",
    "Si el número se establece en 4, se imprime \"extra pequeño\" en la consola.<br>\n",
    "Si el número se establece en 2500, R generará un error, ya que el resultado no se definirá.<br>\n",
    "\n",
    "¿Cúal de ellas es cierta?\n",
    "\n"
   ]
  },
  {
   "cell_type": "code",
   "execution_count": 30,
   "metadata": {},
   "outputs": [
    {
     "name": "stdout",
     "output_type": "stream",
     "text": [
      "[1] \"large\"\n"
     ]
    }
   ],
   "source": [
    "number = 100\n",
    "if (number < 10) {\n",
    "  if (number < 5) {\n",
    "    result <- \"extra small\"\n",
    "  } else {\n",
    "    result <- \"small\"\n",
    "  }\n",
    "} else if (number < 100) {\n",
    "  result <- \"medium\"\n",
    "} else {\n",
    "  result <- \"large\"\n",
    "}\n",
    "print(result)"
   ]
  },
  {
   "cell_type": "markdown",
   "metadata": {},
   "source": [
    "En este ejercicio, combinaremos todo lo que ha aprendido hasta ahora: operadores relacionales, operadores lógicos y construcciones de control. ¡Lo necesitarás todo!\n",
    "\n",
    "En el editor, hemos codificado dos valores de antemano: li y fb, que indican la cantidad de vistas de perfil que su perfil de LinkedIn y Facebook tuvo el último día de grabaciones. Sigue las instrucciones para crear un código R que genere un 'puntaje de redes sociales', con el nombre de **sms**, basado en los valores de li y fb."
   ]
  },
  {
   "cell_type": "code",
   "execution_count": 31,
   "metadata": {},
   "outputs": [],
   "source": [
    "li <- 15\n",
    "fb <- 9"
   ]
  },
  {
   "cell_type": "markdown",
   "metadata": {},
   "source": [
    "- Si tanto li como fb son 15 o más, configura sms igual al doble de la suma de li y fb.\n",
    "- Si tanto li como fb están estrictamente por debajo de 10, establece sms igual a la mitad de la suma de li y fb.\n",
    "- En todos los demás casos, configura sms igual a li + fb.\n",
    "- Finalmente, imprime la variable sms resultante en la consola."
   ]
  },
  {
   "cell_type": "code",
   "execution_count": 32,
   "metadata": {},
   "outputs": [
    {
     "name": "stdout",
     "output_type": "stream",
     "text": [
      "[1] 24\n"
     ]
    }
   ],
   "source": [
    "if (li > 15 & fb > 15) {\n",
    "  sms <- 2 * (li + fb)\n",
    "} else if (li < 10 & li < 10) {\n",
    "  sms <- 0.5 * (li + fb)\n",
    "} else {\n",
    "  sms <- li + fb\n",
    "}\n",
    "print(sms)"
   ]
  },
  {
   "cell_type": "markdown",
   "metadata": {},
   "source": [
    "### While Loops \n",
    "\n",
    "Ahora abordemos el tema de While Loops, que son estructuras como las if-else, que evaluan una condición, solo que en este caso la instrucción se ejecuta una y otra vez o lo que se le como \"de forma recursiva\" siempre y cuando la condición sea TRUE. La sintaxis es la siguiente:\n",
    "                \n",
    "                                             while(condición){\n",
    "                                                expresión\n",
    "                                             }\n",
    "                                             \n",
    "Veamos un ejemplo sencillo, hagamos que R incremente un contador hasta el número 7:"
   ]
  },
  {
   "cell_type": "code",
   "execution_count": 33,
   "metadata": {},
   "outputs": [
    {
     "name": "stdout",
     "output_type": "stream",
     "text": [
      "[1] \"Contador igual a 1\"\n",
      "[1] \"Contador igual a 2\"\n",
      "[1] \"Contador igual a 3\"\n",
      "[1] \"Contador igual a 4\"\n",
      "[1] \"Contador igual a 5\"\n",
      "[1] \"Contador igual a 6\"\n",
      "[1] \"Contador igual a 7\"\n"
     ]
    },
    {
     "data": {
      "text/html": [
       "8"
      ],
      "text/latex": [
       "8"
      ],
      "text/markdown": [
       "8"
      ],
      "text/plain": [
       "[1] 8"
      ]
     },
     "metadata": {},
     "output_type": "display_data"
    }
   ],
   "source": [
    "ctr <- 1\n",
    "while(ctr <= 7){\n",
    "    print(paste(\"Contador igual a\", ctr))\n",
    "    ctr <- ctr + 1\n",
    "}\n",
    "\n",
    "ctr"
   ]
  },
  {
   "cell_type": "markdown",
   "metadata": {},
   "source": [
    "Como podrás ver el contador se incrementó hasta el 8, momento en el que la condición ya no se cumple y por lo tando el while loop se detiene. Pero, ¿qué pasaría si no incrementamos el contador?"
   ]
  },
  {
   "cell_type": "code",
   "execution_count": 35,
   "metadata": {},
   "outputs": [],
   "source": [
    "ctr <- 0\n",
    "while(ctr <= 7){\n",
    "    print(paste(\"Contador igual a\", ctr))\n",
    "}\n"
   ]
  },
  {
   "cell_type": "markdown",
   "metadata": {},
   "source": [
    "Aquí en Jupyter no se observa el efecto, pero intenten copiar el código en su consola de RStudio. <br>\n",
    "\n",
    "\n",
    "\n",
    "\n",
    "\n",
    "\n",
    "Como podrás ver el código se ejecuta sin fin, para salir del programa solo presiona la tecla esc de tu teclado. Lo que tienes que tener en cuenta es que es importantisimo que tu loop tenga un fin, de otro modo simplemente seguirá ejecutandose sin propósito.<br>\n",
    "\n",
    "Una de las herramientas de las que disponemos para salir de un loop es el comando `break` este comando le indica al computador que debe detenerse de ejecutar el loop. A continuación un ejemplo:"
   ]
  },
  {
   "cell_type": "code",
   "execution_count": 36,
   "metadata": {},
   "outputs": [
    {
     "name": "stdout",
     "output_type": "stream",
     "text": [
      "[1] \"Contador igual a 1\"\n",
      "[1] \"Contador igual a 2\"\n",
      "[1] \"Contador igual a 3\"\n",
      "[1] \"Contador igual a 4\"\n"
     ]
    },
    {
     "data": {
      "text/html": [
       "5"
      ],
      "text/latex": [
       "5"
      ],
      "text/markdown": [
       "5"
      ],
      "text/plain": [
       "[1] 5"
      ]
     },
     "metadata": {},
     "output_type": "display_data"
    }
   ],
   "source": [
    "ctr <- 1\n",
    "while(ctr <= 7){\n",
    "    if(ctr %% 5 == 0){\n",
    "        break\n",
    "    }\n",
    "    print(paste(\"Contador igual a\", ctr))\n",
    "    ctr <- ctr + 1\n",
    "}\n",
    "ctr"
   ]
  },
  {
   "cell_type": "markdown",
   "metadata": {},
   "source": [
    "Cómo podemos ver el contador se actualizó hasta el 5 ya que el residuo de esa división es igual a 0 por lo que se ejecutó el comando `break`, haciendo que el loop se detenga. Así que ahora práctiquemos con los while loops. Creemos una variable llamada **velocidad** con el valor de 100, hagamos un while loop que nos diga \"No tan rápido!\" siempre y cuando nuestra variable **velocidad** sea menor a 50. Después de cada alerta, disminuyamos nuestra velocidad por 7 y por último imprimer nuestra velocidad final"
   ]
  },
  {
   "cell_type": "code",
   "execution_count": 37,
   "metadata": {},
   "outputs": [
    {
     "name": "stdout",
     "output_type": "stream",
     "text": [
      "[1] \"No tan rápido!\"\n",
      "[1] \"No tan rápido!\"\n",
      "[1] \"No tan rápido!\"\n",
      "[1] \"No tan rápido!\"\n",
      "[1] \"No tan rápido!\"\n",
      "[1] \"No tan rápido!\"\n",
      "[1] \"No tan rápido!\"\n",
      "[1] \"No tan rápido!\"\n"
     ]
    },
    {
     "data": {
      "text/html": [
       "44"
      ],
      "text/latex": [
       "44"
      ],
      "text/markdown": [
       "44"
      ],
      "text/plain": [
       "[1] 44"
      ]
     },
     "metadata": {},
     "output_type": "display_data"
    }
   ],
   "source": [
    "# Crea la variable velocidad con valor de 100\n",
    "velocidad <- 100\n",
    "\n",
    "# Codifica el while loop\n",
    "\n",
    "while (velocidad > 50 ) {\n",
    "  print(\"No tan rápido!\")\n",
    "  velocidad <- velocidad - 7\n",
    "}\n",
    "\n",
    "# Imprime la velocidad\n",
    "velocidad"
   ]
  },
  {
   "cell_type": "markdown",
   "metadata": {},
   "source": [
    "Ahora añade unos cuantos enunciados condicionales a tu while loop:\n",
    "\n",
    "- Hagamos que el loop nos indique qué velocidad tenemos\n",
    "- Si tu velocidad es mayor de 70 imprime \"Desacelera muchisimo!\" y disminuye la velocidad por 12\n",
    "- De cualquier otro modo imprime \"No tan rápido!\" y desacelera 6 "
   ]
  },
  {
   "cell_type": "code",
   "execution_count": 38,
   "metadata": {},
   "outputs": [
    {
     "name": "stdout",
     "output_type": "stream",
     "text": [
      "[1] \"Tu velocidad es 100\"\n",
      "[1] \"Desacelera muchisimo!\"\n",
      "[1] \"Tu velocidad es 89\"\n",
      "[1] \"Desacelera muchisimo!\"\n",
      "[1] \"Tu velocidad es 78\"\n",
      "[1] \"Desacelera muchisimo!\"\n",
      "[1] \"Tu velocidad es 67\"\n",
      "[1] \"No tan rápido!\"\n",
      "[1] \"Tu velocidad es 61\"\n",
      "[1] \"No tan rápido!\"\n",
      "[1] \"Tu velocidad es 55\"\n",
      "[1] \"No tan rápido!\"\n"
     ]
    }
   ],
   "source": [
    "# Crea la variable velocidad con valor de 100\n",
    "velocidad <- 100\n",
    "\n",
    "# Codifica el while loop\n",
    "\n",
    "while (velocidad > 50) {\n",
    "  print(paste(\"Tu velocidad es\",velocidad))\n",
    "  if (velocidad > 70) {\n",
    "    print(\"Desacelera muchisimo!\")\n",
    "    velocidad <- velocidad - 11\n",
    "  } else {\n",
    "    print(\"No tan rápido!\")\n",
    "    velocidad <- velocidad - 6\n",
    "  }\n",
    "}"
   ]
  },
  {
   "cell_type": "markdown",
   "metadata": {},
   "source": [
    "Ahora hagamos lo contrario! Empecemos con una velocidad de 0 e incrementemos nuestra velocidad por 5 e imprimamos nuestra velocidad y cuando la velocidad llegue a 80 terminemos el loop"
   ]
  },
  {
   "cell_type": "code",
   "execution_count": 39,
   "metadata": {},
   "outputs": [
    {
     "name": "stdout",
     "output_type": "stream",
     "text": [
      "[1] \"Tu velocidad es 0\"\n",
      "[1] \"Tu velocidad es 5\"\n",
      "[1] \"Tu velocidad es 10\"\n",
      "[1] \"Tu velocidad es 15\"\n",
      "[1] \"Tu velocidad es 20\"\n",
      "[1] \"Tu velocidad es 25\"\n",
      "[1] \"Tu velocidad es 30\"\n",
      "[1] \"Tu velocidad es 35\"\n",
      "[1] \"Tu velocidad es 40\"\n",
      "[1] \"Tu velocidad es 45\"\n",
      "[1] \"Tu velocidad es 50\"\n",
      "[1] \"Tu velocidad es 55\"\n",
      "[1] \"Tu velocidad es 60\"\n",
      "[1] \"Tu velocidad es 65\"\n",
      "[1] \"Tu velocidad es 70\"\n",
      "[1] \"Tu velocidad es 75\"\n"
     ]
    }
   ],
   "source": [
    "velocidad <- 0\n",
    "\n",
    "while(velocidad <= 80){\n",
    "    if(velocidad == 80){\n",
    "        break\n",
    "    }\n",
    "    print(paste(\"Tu velocidad es\",velocidad))\n",
    "    velocidad <- velocidad + 5\n",
    "}"
   ]
  },
  {
   "cell_type": "markdown",
   "metadata": {},
   "source": [
    "Ahora iniciemos un nuevo contador llamado **i** con el número 1, si **i** es igual o menor a 10, imprime **i * 3**. Si, 3 * 1 es divisible por 8, termina el loop con un break, pero imprime el último valor"
   ]
  },
  {
   "cell_type": "code",
   "execution_count": 40,
   "metadata": {},
   "outputs": [
    {
     "name": "stdout",
     "output_type": "stream",
     "text": [
      "[1] 3\n",
      "[1] 6\n",
      "[1] 9\n",
      "[1] 12\n",
      "[1] 15\n",
      "[1] 18\n",
      "[1] 21\n",
      "[1] 24\n"
     ]
    }
   ],
   "source": [
    "# Inicia i con 1 \n",
    "i <- 1\n",
    "\n",
    "# Code the while loop\n",
    "while (i <= 10) {\n",
    "  print(3 * i)\n",
    "  if (( 3 * i )  %% 8 == 0 ) {\n",
    "    break\n",
    "  }\n",
    "  i <- i + 1\n",
    "}"
   ]
  },
  {
   "cell_type": "markdown",
   "metadata": {},
   "source": [
    "### For Loops\n",
    "\n",
    "Otro tipos de loops son los for loops y estos son parecido a los while loops, su sintaxis es la siguiente:\n",
    "\n",
    "                        for(variable in secuencia){\n",
    "                            expresión\n",
    "                        } \n",
    "                        \n",
    "Lo interesante sobre estos loops es que podemos aplicarlos a vectores, matrices, data frames y listas. A continuación un ejemplo en un vector:\n"
   ]
  },
  {
   "cell_type": "code",
   "execution_count": 41,
   "metadata": {},
   "outputs": [
    {
     "data": {
      "text/html": [
       "<style>\n",
       ".list-inline {list-style: none; margin:0; padding: 0}\n",
       ".list-inline>li {display: inline-block}\n",
       ".list-inline>li:not(:last-child)::after {content: \"\\00b7\"; padding: 0 .5ex}\n",
       "</style>\n",
       "<ol class=list-inline><li>'CDMX'</li><li>'Paris'</li><li>'New York'</li><li>'Londres'</li><li>'Tokio'</li><li>'Río de Janeiro'</li></ol>\n"
      ],
      "text/latex": [
       "\\begin{enumerate*}\n",
       "\\item 'CDMX'\n",
       "\\item 'Paris'\n",
       "\\item 'New York'\n",
       "\\item 'Londres'\n",
       "\\item 'Tokio'\n",
       "\\item 'Río de Janeiro'\n",
       "\\end{enumerate*}\n"
      ],
      "text/markdown": [
       "1. 'CDMX'\n",
       "2. 'Paris'\n",
       "3. 'New York'\n",
       "4. 'Londres'\n",
       "5. 'Tokio'\n",
       "6. 'Río de Janeiro'\n",
       "\n",
       "\n"
      ],
      "text/plain": [
       "[1] \"CDMX\"           \"Paris\"          \"New York\"       \"Londres\"       \n",
       "[5] \"Tokio\"          \"Río de Janeiro\""
      ]
     },
     "metadata": {},
     "output_type": "display_data"
    },
    {
     "name": "stdout",
     "output_type": "stream",
     "text": [
      "[1] \"CDMX\"\n",
      "[1] \"Paris\"\n",
      "[1] \"New York\"\n",
      "[1] \"Londres\"\n",
      "[1] \"Tokio\"\n",
      "[1] \"Río de Janeiro\"\n"
     ]
    }
   ],
   "source": [
    "cities <- c(\"CDMX\", \"Paris\", \"New York\", \"Londres\", \"Tokio\",\n",
    "            \"Río de Janeiro\")\n",
    "\n",
    "cities \n",
    "for(city in cities){\n",
    "    print(city)\n",
    "}"
   ]
  },
  {
   "cell_type": "markdown",
   "metadata": {},
   "source": [
    "Como había dicho también podemos aplicarlo sobre listas, sin ningún problema."
   ]
  },
  {
   "cell_type": "code",
   "execution_count": 42,
   "metadata": {},
   "outputs": [
    {
     "data": {
      "text/html": [
       "<ol>\n",
       "\t<li>'CDMX'</li>\n",
       "\t<li>'Paris'</li>\n",
       "\t<li>'New York'</li>\n",
       "\t<li>'Londres'</li>\n",
       "\t<li>'Tokio'</li>\n",
       "\t<li>'Río de Janeiro'</li>\n",
       "</ol>\n"
      ],
      "text/latex": [
       "\\begin{enumerate}\n",
       "\\item 'CDMX'\n",
       "\\item 'Paris'\n",
       "\\item 'New York'\n",
       "\\item 'Londres'\n",
       "\\item 'Tokio'\n",
       "\\item 'Río de Janeiro'\n",
       "\\end{enumerate}\n"
      ],
      "text/markdown": [
       "1. 'CDMX'\n",
       "2. 'Paris'\n",
       "3. 'New York'\n",
       "4. 'Londres'\n",
       "5. 'Tokio'\n",
       "6. 'Río de Janeiro'\n",
       "\n",
       "\n"
      ],
      "text/plain": [
       "[[1]]\n",
       "[1] \"CDMX\"\n",
       "\n",
       "[[2]]\n",
       "[1] \"Paris\"\n",
       "\n",
       "[[3]]\n",
       "[1] \"New York\"\n",
       "\n",
       "[[4]]\n",
       "[1] \"Londres\"\n",
       "\n",
       "[[5]]\n",
       "[1] \"Tokio\"\n",
       "\n",
       "[[6]]\n",
       "[1] \"Río de Janeiro\"\n"
      ]
     },
     "metadata": {},
     "output_type": "display_data"
    },
    {
     "name": "stdout",
     "output_type": "stream",
     "text": [
      "[1] \"CDMX\"\n",
      "[1] \"Paris\"\n",
      "[1] \"New York\"\n",
      "[1] \"Londres\"\n",
      "[1] \"Tokio\"\n",
      "[1] \"Río de Janeiro\"\n"
     ]
    }
   ],
   "source": [
    "cities <- list(\"CDMX\", \"Paris\", \"New York\", \"Londres\", \"Tokio\",\n",
    "            \"Río de Janeiro\")\n",
    "\n",
    "cities \n",
    "for(city in cities){\n",
    "    print(city)\n",
    "}"
   ]
  },
  {
   "cell_type": "markdown",
   "metadata": {},
   "source": [
    "Al igual que en los while loops, podemos agregar enunciados condicionales para evaluar si imprimiremos el elemento o no. Por ejemplo, podemos imprimir un elemento hasta que uno de estos tenga 7 caracteres "
   ]
  },
  {
   "cell_type": "code",
   "execution_count": 43,
   "metadata": {},
   "outputs": [
    {
     "name": "stdout",
     "output_type": "stream",
     "text": [
      "[1] \"CDMX\"\n",
      "[1] \"Paris\"\n",
      "[1] \"New York\"\n"
     ]
    }
   ],
   "source": [
    "cities <- list(\"CDMX\", \"Paris\", \"New York\", \"Londres\", \"Tokio\",\n",
    "            \"Río de Janeiro\")\n",
    "\n",
    "for(city in cities){\n",
    "    if(nchar(city) == 7){\n",
    "        break\n",
    "    }\n",
    "    print(city)\n",
    "}"
   ]
  },
  {
   "cell_type": "markdown",
   "metadata": {},
   "source": [
    "Pero, ¿qué tal si quisieramos imprimir de la lista, todos menos los elementos con 7 caracteres?<BR>\n",
    "Para eso tenemos el comando `next` que le va a decir al computador que una vez que la condición se cumpla, pase a evaluar el siguiente elemento. Un ejemplo de este comando es el siguiente:"
   ]
  },
  {
   "cell_type": "code",
   "execution_count": 44,
   "metadata": {},
   "outputs": [
    {
     "name": "stdout",
     "output_type": "stream",
     "text": [
      "[1] \"CDMX\"\n",
      "[1] \"Paris\"\n",
      "[1] \"New York\"\n",
      "[1] \"Tokio\"\n",
      "[1] \"Río de Janeiro\"\n"
     ]
    }
   ],
   "source": [
    "for(city in cities){\n",
    "    if(nchar(city) == 7){\n",
    "        next\n",
    "    }\n",
    "    print(city)\n",
    "}"
   ]
  },
  {
   "cell_type": "markdown",
   "metadata": {},
   "source": [
    "Podemos hacer uso de ambos comandos `break` y `next`. También hacer un for loop de otra manera. Por ejemplo, imagina que quisieramos saber en qué posición se encuentra cada elemento de nuestra lista e imprimirlo. Para eso podemos hacer un loop de los siguiente forma:"
   ]
  },
  {
   "cell_type": "code",
   "execution_count": 45,
   "metadata": {},
   "outputs": [
    {
     "name": "stdout",
     "output_type": "stream",
     "text": [
      "[1] \"CDMX\"\n",
      "[1] \"Paris\"\n",
      "[1] \"New York\"\n",
      "[1] \"Londres\"\n",
      "[1] \"Tokio\"\n",
      "[1] \"Río de Janeiro\"\n",
      "[1] \"CDMX se encuentra en la posición 1 del vector cities\"\n",
      "[1] \"Paris se encuentra en la posición 2 del vector cities\"\n",
      "[1] \"New York se encuentra en la posición 3 del vector cities\"\n",
      "[1] \"Londres se encuentra en la posición 4 del vector cities\"\n",
      "[1] \"Tokio se encuentra en la posición 5 del vector cities\"\n",
      "[1] \"Río de Janeiro se encuentra en la posición 6 del vector cities\"\n"
     ]
    }
   ],
   "source": [
    "cities <- c(\"CDMX\", \"Paris\", \"New York\", \"Londres\", \"Tokio\",\n",
    "            \"Río de Janeiro\")\n",
    "\n",
    "for(i in 1:length(cities)){\n",
    "    print(cities[i])\n",
    "}\n",
    "\n",
    "for(i in 1:length(cities)){\n",
    "    print(paste(cities[i],\"se encuentra en la posición\", \n",
    "               i,\"del vector cities\"))\n",
    "}"
   ]
  },
  {
   "cell_type": "markdown",
   "metadata": {},
   "source": [
    "Ahora quiero que practiques el for loop, pero con el vector linkedin que ya hemos utilizado. Haz uso de ambas formar de crear un for loop"
   ]
  },
  {
   "cell_type": "code",
   "execution_count": 46,
   "metadata": {},
   "outputs": [
    {
     "name": "stdout",
     "output_type": "stream",
     "text": [
      "[1] 16\n",
      "[1] 9\n",
      "[1] 13\n",
      "[1] 5\n",
      "[1] 2\n",
      "[1] 17\n",
      "[1] 14\n",
      "Lunes \n",
      "   16 \n",
      "Martes \n",
      "     9 \n",
      "Miércoles \n",
      "       13 \n",
      "Jueves \n",
      "     5 \n",
      "Viernes \n",
      "      2 \n",
      "Sábado \n",
      "    17 \n",
      "Domingo \n",
      "     14 \n"
     ]
    }
   ],
   "source": [
    "# Loop version 1\n",
    "for (views in linkedin) {\n",
    "  print(views)\n",
    "}\n",
    "\n",
    "# Loop version 2\n",
    "for (i in 1:length(linkedin)) {\n",
    "  print(linkedin[i])\n",
    "}"
   ]
  },
  {
   "cell_type": "markdown",
   "metadata": {},
   "source": [
    "Ahora probemos los for loops en listas, a continuación tienes una lista, quiero que realice el for loop en ella de las 2 maneraas que ya exploramos"
   ]
  },
  {
   "cell_type": "code",
   "execution_count": 47,
   "metadata": {},
   "outputs": [
    {
     "name": "stdout",
     "output_type": "stream",
     "text": [
      "[1] 8405837\n",
      "[1] \"Manhattan\"     \"Bronx\"         \"Brooklyn\"      \"Queens\"       \n",
      "[5] \"Staten Island\"\n",
      "[1] FALSE\n",
      "[1] 8405837\n",
      "[1] \"Manhattan\"     \"Bronx\"         \"Brooklyn\"      \"Queens\"       \n",
      "[5] \"Staten Island\"\n",
      "[1] FALSE\n"
     ]
    }
   ],
   "source": [
    "nyc <- list(pop = 8405837, \n",
    "            boroughs = c(\"Manhattan\", \"Bronx\", \"Brooklyn\", \"Queens\", \"Staten Island\"), \n",
    "            capital = FALSE)\n",
    "\n",
    "# Loop version 1\n",
    "for (i in nyc) {\n",
    "  print(i)\n",
    "}\n",
    "\n",
    "# Loop version 2\n",
    "for (i in 1:length(nyc)) {\n",
    "  print(nyc[[i]])\n",
    "}"
   ]
  },
  {
   "cell_type": "markdown",
   "metadata": {},
   "source": [
    "¿Qué tal si probamos con una matriz?"
   ]
  },
  {
   "cell_type": "code",
   "execution_count": 48,
   "metadata": {},
   "outputs": [
    {
     "data": {
      "text/html": [
       "<table>\n",
       "<caption>A matrix: 3 × 3 of type chr</caption>\n",
       "<tbody>\n",
       "\t<tr><td>O </td><td>NA</td><td>X</td></tr>\n",
       "\t<tr><td>NA</td><td>O </td><td>O</td></tr>\n",
       "\t<tr><td>X </td><td>NA</td><td>X</td></tr>\n",
       "</tbody>\n",
       "</table>\n"
      ],
      "text/latex": [
       "A matrix: 3 × 3 of type chr\n",
       "\\begin{tabular}{lll}\n",
       "\t O  & NA & X\\\\\n",
       "\t NA & O  & O\\\\\n",
       "\t X  & NA & X\\\\\n",
       "\\end{tabular}\n"
      ],
      "text/markdown": [
       "\n",
       "A matrix: 3 × 3 of type chr\n",
       "\n",
       "| O  | NA | X |\n",
       "| NA | O  | O |\n",
       "| X  | NA | X |\n",
       "\n"
      ],
      "text/plain": [
       "     [,1] [,2] [,3]\n",
       "[1,] O    NA   X   \n",
       "[2,] NA   O    O   \n",
       "[3,] X    NA   X   "
      ]
     },
     "metadata": {},
     "output_type": "display_data"
    }
   ],
   "source": [
    "\n",
    "gato <- matrix(c(\"O\",NA,\"X\",NA,\"O\",\"O\",\"X\",NA,\"X\"), nrow = 3, ncol = 3, byrow = TRUE)\n",
    "\n",
    "gato\n"
   ]
  },
  {
   "cell_type": "markdown",
   "metadata": {},
   "source": [
    "Para hacer esto necesitaremos hacer un for loop dentro de otro for loop para así sustraer el valor de cada fila y cada columna, de la siguientes forma:\n",
    "\n",
    "                        for (var1 in seq1) {\n",
    "                          for (var2 in seq2) {\n",
    "                             expr\n",
    "                           }\n",
    "                         }\n",
    "                         \n",
    " Probemos cómo podemos hacerlo"
   ]
  },
  {
   "cell_type": "code",
   "execution_count": 49,
   "metadata": {},
   "outputs": [
    {
     "name": "stdout",
     "output_type": "stream",
     "text": [
      "[1] \"En la fila 1 y la columna 1 el tablero contiene O\"\n",
      "[1] \"En la fila 1 y la columna 2 el tablero contiene NA\"\n",
      "[1] \"En la fila 1 y la columna 3 el tablero contiene X\"\n",
      "[1] \"En la fila 2 y la columna 1 el tablero contiene NA\"\n",
      "[1] \"En la fila 2 y la columna 2 el tablero contiene O\"\n",
      "[1] \"En la fila 2 y la columna 3 el tablero contiene O\"\n",
      "[1] \"En la fila 3 y la columna 1 el tablero contiene X\"\n",
      "[1] \"En la fila 3 y la columna 2 el tablero contiene NA\"\n",
      "[1] \"En la fila 3 y la columna 3 el tablero contiene X\"\n"
     ]
    }
   ],
   "source": [
    "for (i in 1:nrow(gato)) {\n",
    "  for (j in 1:ncol(gato)) {\n",
    "    print(paste(\"En la fila\", i,\n",
    "                  \"y la columna\",j,\n",
    "                  \"el tablero contiene\",gato[i,j]))\n",
    "  }\n",
    "}"
   ]
  },
  {
   "cell_type": "markdown",
   "metadata": {},
   "source": [
    "También podemos mezclar los for loops con los if-else, hagamos un for loop con el vector **linkedin** que en caso de tener un número de views mayor a 10, imprima \"¡Eres popular!\" y en el caso contrario un \"¡Necesitas más visibilidad!\" y qué abajo de ese mensaje escriba el número de views."
   ]
  },
  {
   "cell_type": "code",
   "execution_count": 50,
   "metadata": {},
   "outputs": [
    {
     "name": "stdout",
     "output_type": "stream",
     "text": [
      "[1] \"¡Eres popular!\"\n",
      "[1] 16\n",
      "[1] \"¡Necesitas más visibilidad!\"\n",
      "[1] 9\n",
      "[1] \"¡Eres popular!\"\n",
      "[1] 13\n",
      "[1] \"¡Necesitas más visibilidad!\"\n",
      "[1] 5\n",
      "[1] \"¡Necesitas más visibilidad!\"\n",
      "[1] 2\n",
      "[1] \"¡Eres popular!\"\n",
      "[1] 17\n",
      "[1] \"¡Eres popular!\"\n",
      "[1] 14\n"
     ]
    }
   ],
   "source": [
    "for (li in linkedin) {\n",
    "  if ( li > 10) {\n",
    "    print(\"¡Eres popular!\")\n",
    "  } else {\n",
    "    print(\"¡Necesitas más visibilidad!\")\n",
    "  }\n",
    "  print(li)\n",
    "}"
   ]
  },
  {
   "cell_type": "markdown",
   "metadata": {},
   "source": [
    "Ahora añade otras 2 condiciones:\n",
    "\n",
    "- En caso de tener un número de views mayor que 16, imprime \"WOW! Ya no me necesitas, me voy\" y salga del loop\n",
    "- En caso de tener menos de 5 imprima \"¡Qué pena!\" y continúe al siguiente elemento"
   ]
  },
  {
   "cell_type": "code",
   "execution_count": 51,
   "metadata": {},
   "outputs": [
    {
     "name": "stdout",
     "output_type": "stream",
     "text": [
      "[1] \"¡Eres popular!\"\n",
      "[1] 16\n",
      "[1] \"¡Necesitas más visibilidad!\"\n",
      "[1] 9\n",
      "[1] \"¡Eres popular!\"\n",
      "[1] 13\n",
      "[1] \"¡Necesitas más visibilidad!\"\n",
      "[1] 5\n",
      "[1] \"¡Necesitas más visibilidad!\"\n",
      "[1] \"¡Qué pena!\"\n",
      "[1] \"¡Eres popular!\"\n",
      "[1] \"WOW! Ya no me necesitas, me voy\"\n"
     ]
    }
   ],
   "source": [
    "for (li in linkedin) {\n",
    "  if ( li > 10) {\n",
    "    print(\"¡Eres popular!\")\n",
    "  } else {\n",
    "    print(\"¡Necesitas más visibilidad!\")\n",
    "  }\n",
    "    # Añade la primera condición\n",
    "  if ( li > 16) {\n",
    "    print(\"WOW! Ya no me necesitas, me voy\")\n",
    "    break\n",
    "  } \n",
    "    # Añade la segunda condición\n",
    "   if (li < 5) {\n",
    "    print(\"¡Qué pena!\")\n",
    "    next\n",
    "  }   \n",
    "  print(li)\n",
    "}"
   ]
  },
  {
   "cell_type": "markdown",
   "metadata": {},
   "source": [
    "Ahora haz un for loop para contar el número de letras en el string \"Club de Ciencias & Open Lab\". Vamos a guardar ese string en una variable llamada **ccol** y vamos a separarla por ti usando una función llamada `strsplit()` y guardarla en la variable **letras**"
   ]
  },
  {
   "cell_type": "code",
   "execution_count": 52,
   "metadata": {},
   "outputs": [
    {
     "data": {
      "text/html": [
       "'club de ciencias y open lab'"
      ],
      "text/latex": [
       "'club de ciencias y open lab'"
      ],
      "text/markdown": [
       "'club de ciencias y open lab'"
      ],
      "text/plain": [
       "[1] \"club de ciencias y open lab\""
      ]
     },
     "metadata": {},
     "output_type": "display_data"
    },
    {
     "data": {
      "text/html": [
       "<style>\n",
       ".list-inline {list-style: none; margin:0; padding: 0}\n",
       ".list-inline>li {display: inline-block}\n",
       ".list-inline>li:not(:last-child)::after {content: \"\\00b7\"; padding: 0 .5ex}\n",
       "</style>\n",
       "<ol class=list-inline><li>'c'</li><li>'l'</li><li>'u'</li><li>'b'</li><li>' '</li><li>'d'</li><li>'e'</li><li>' '</li><li>'c'</li><li>'i'</li><li>'e'</li><li>'n'</li><li>'c'</li><li>'i'</li><li>'a'</li><li>'s'</li><li>' '</li><li>'y'</li><li>' '</li><li>'o'</li><li>'p'</li><li>'e'</li><li>'n'</li><li>' '</li><li>'l'</li><li>'a'</li><li>'b'</li></ol>\n"
      ],
      "text/latex": [
       "\\begin{enumerate*}\n",
       "\\item 'c'\n",
       "\\item 'l'\n",
       "\\item 'u'\n",
       "\\item 'b'\n",
       "\\item ' '\n",
       "\\item 'd'\n",
       "\\item 'e'\n",
       "\\item ' '\n",
       "\\item 'c'\n",
       "\\item 'i'\n",
       "\\item 'e'\n",
       "\\item 'n'\n",
       "\\item 'c'\n",
       "\\item 'i'\n",
       "\\item 'a'\n",
       "\\item 's'\n",
       "\\item ' '\n",
       "\\item 'y'\n",
       "\\item ' '\n",
       "\\item 'o'\n",
       "\\item 'p'\n",
       "\\item 'e'\n",
       "\\item 'n'\n",
       "\\item ' '\n",
       "\\item 'l'\n",
       "\\item 'a'\n",
       "\\item 'b'\n",
       "\\end{enumerate*}\n"
      ],
      "text/markdown": [
       "1. 'c'\n",
       "2. 'l'\n",
       "3. 'u'\n",
       "4. 'b'\n",
       "5. ' '\n",
       "6. 'd'\n",
       "7. 'e'\n",
       "8. ' '\n",
       "9. 'c'\n",
       "10. 'i'\n",
       "11. 'e'\n",
       "12. 'n'\n",
       "13. 'c'\n",
       "14. 'i'\n",
       "15. 'a'\n",
       "16. 's'\n",
       "17. ' '\n",
       "18. 'y'\n",
       "19. ' '\n",
       "20. 'o'\n",
       "21. 'p'\n",
       "22. 'e'\n",
       "23. 'n'\n",
       "24. ' '\n",
       "25. 'l'\n",
       "26. 'a'\n",
       "27. 'b'\n",
       "\n",
       "\n"
      ],
      "text/plain": [
       " [1] \"c\" \"l\" \"u\" \"b\" \" \" \"d\" \"e\" \" \" \"c\" \"i\" \"e\" \"n\" \"c\" \"i\" \"a\" \"s\" \" \" \"y\" \" \"\n",
       "[20] \"o\" \"p\" \"e\" \"n\" \" \" \"l\" \"a\" \"b\""
      ]
     },
     "metadata": {},
     "output_type": "display_data"
    }
   ],
   "source": [
    "ccol <- \"club de ciencias y open lab\"\n",
    "letras <- strsplit(ccol, split = \"\")[[1]]\n",
    "ccol\n",
    "letras"
   ]
  },
  {
   "cell_type": "markdown",
   "metadata": {},
   "source": [
    "Para contabilizar el número de caracteres, empieza un contador llamada **count** con el valor de 0"
   ]
  },
  {
   "cell_type": "code",
   "execution_count": 53,
   "metadata": {},
   "outputs": [
    {
     "data": {
      "text/html": [
       "27"
      ],
      "text/latex": [
       "27"
      ],
      "text/markdown": [
       "27"
      ],
      "text/plain": [
       "[1] 27"
      ]
     },
     "metadata": {},
     "output_type": "display_data"
    }
   ],
   "source": [
    "count <- 0\n",
    "for (letra in letras) {\n",
    "    count <- count + 1\n",
    "}\n",
    "count"
   ]
  },
  {
   "cell_type": "markdown",
   "metadata": {},
   "source": [
    "Ahora hagamoslo más interesante, si la letra es una \"c\" entonces aumenta uno el valor del contador y en caso de encontrarse una \"y\" haz que deje de ejecutarse"
   ]
  },
  {
   "cell_type": "code",
   "execution_count": 54,
   "metadata": {},
   "outputs": [
    {
     "name": "stdout",
     "output_type": "stream",
     "text": [
      "[1] 1\n",
      "[1] 1\n",
      "[1] 1\n",
      "[1] 1\n",
      "[1] 1\n",
      "[1] 1\n",
      "[1] 1\n",
      "[1] 1\n",
      "[1] 2\n",
      "[1] 2\n",
      "[1] 2\n",
      "[1] 2\n",
      "[1] 3\n",
      "[1] 3\n",
      "[1] 3\n",
      "[1] 3\n",
      "[1] 3\n"
     ]
    }
   ],
   "source": [
    "count <- 0\n",
    "for (letra in letras) {\n",
    "  if (letra == \"c\"){\n",
    "    count <- count + 1\n",
    "  }\n",
    "  if (letra == \"y\"){\n",
    "    break\n",
    "  }\n",
    "  print(count)\n",
    "}\n"
   ]
  },
  {
   "cell_type": "markdown",
   "metadata": {},
   "source": [
    "Excelente, hasta ahora haz comprendido muy bien los conceptos que hemos abordado, por lo que te felicito. Ahora veamos otra herramienta que puede hacer de tu programación mucho más poderosa y sencilla"
   ]
  },
  {
   "cell_type": "markdown",
   "metadata": {},
   "source": [
    "### Funciones"
   ]
  },
  {
   "cell_type": "markdown",
   "metadata": {},
   "source": [
    "R tiene muchas funciones que podemos usar, hemos utilizado algunas por ejemplo la función `matrix()` para crear matrices o `list()` que utilizamos para crear listas. Las funciones son herramientas predefinidas que nos ayudan a resolver un problema en partícular únicamente proporcionando unas cuantas variables denominadas en R como argumentos. Estos argumentos sirven como inputs que son procesadas en una especie de caja negra, de la cual no tenemos que saber mucho cómo procesa estos argumentos para devolvernos un resultado. <br>\n",
    "Otros ejemplos de estas son `mean()`que nos ayuda a calcular el promedio, `sd()` que nos ayuda a estimar la desviación estandar de un vector de números. "
   ]
  },
  {
   "cell_type": "code",
   "execution_count": 55,
   "metadata": {},
   "outputs": [
    {
     "data": {
      "text/html": [
       "35"
      ],
      "text/latex": [
       "35"
      ],
      "text/markdown": [
       "35"
      ],
      "text/plain": [
       "[1] 35"
      ]
     },
     "metadata": {},
     "output_type": "display_data"
    },
    {
     "data": {
      "text/html": [
       "18.7082869338697"
      ],
      "text/latex": [
       "18.7082869338697"
      ],
      "text/markdown": [
       "18.7082869338697"
      ],
      "text/plain": [
       "[1] 18.70829"
      ]
     },
     "metadata": {},
     "output_type": "display_data"
    }
   ],
   "source": [
    "mean(c(10,20,30,40,50,60))\n",
    "sd(c(10,20,30,40,50,60))"
   ]
  },
  {
   "cell_type": "markdown",
   "metadata": {},
   "source": [
    "Como ves, no tenemos que saber de memoria la formula para calcular la media y la desviación estándar por eso decimos que una función es una especie de caja negra. También podemos usar en la función vectores ya guardados con algun nombres, como es el caso de nuestro vector **linkedin**. Veamos"
   ]
  },
  {
   "cell_type": "code",
   "execution_count": 56,
   "metadata": {},
   "outputs": [
    {
     "data": {
      "text/html": [
       "10.8571428571429"
      ],
      "text/latex": [
       "10.8571428571429"
      ],
      "text/markdown": [
       "10.8571428571429"
      ],
      "text/plain": [
       "[1] 10.85714"
      ]
     },
     "metadata": {},
     "output_type": "display_data"
    },
    {
     "data": {
      "text/html": [
       "5.6987885095159"
      ],
      "text/latex": [
       "5.6987885095159"
      ],
      "text/markdown": [
       "5.6987885095159"
      ],
      "text/plain": [
       "[1] 5.698789"
      ]
     },
     "metadata": {},
     "output_type": "display_data"
    }
   ],
   "source": [
    "mean(linkedin)\n",
    "sd(linkedin)"
   ]
  },
  {
   "cell_type": "markdown",
   "metadata": {},
   "source": [
    "De igual manera podemos almacenar el resultado de nuestra función de nuestra variable para visualizarlo o utilizarlo posteriormente"
   ]
  },
  {
   "cell_type": "code",
   "execution_count": 57,
   "metadata": {},
   "outputs": [
    {
     "data": {
      "text/html": [
       "10.8571428571429"
      ],
      "text/latex": [
       "10.8571428571429"
      ],
      "text/markdown": [
       "10.8571428571429"
      ],
      "text/plain": [
       "[1] 10.85714"
      ]
     },
     "metadata": {},
     "output_type": "display_data"
    },
    {
     "data": {
      "text/html": [
       "5.6987885095159"
      ],
      "text/latex": [
       "5.6987885095159"
      ],
      "text/markdown": [
       "5.6987885095159"
      ],
      "text/plain": [
       "[1] 5.698789"
      ]
     },
     "metadata": {},
     "output_type": "display_data"
    }
   ],
   "source": [
    "media_linkedin <- mean(linkedin)\n",
    "sd_linkedin <- sd(linkedin)\n",
    "media_linkedin \n",
    "sd_linkedin"
   ]
  },
  {
   "cell_type": "markdown",
   "metadata": {},
   "source": [
    "Esta funciones son sencillas, pero habrá algunas que no lo sean tanto, así que para eso podemos usar la función `help()` y brindándole el nombre de nuestra función nos abrirá la documentación pertinente. De igual forma podemos poner un simbolo `?` seguido del nombre de nuestra función"
   ]
  },
  {
   "cell_type": "code",
   "execution_count": 58,
   "metadata": {},
   "outputs": [],
   "source": [
    "help(sd)\n",
    "?sd"
   ]
  },
  {
   "cell_type": "markdown",
   "metadata": {},
   "source": [
    "En la documentación podemos ver los argumentos que y más detalles sobre cada uno de ellos y la función. Otra forma que podemos utilizar para ver los argumentos de una función es con la función `args()`"
   ]
  },
  {
   "cell_type": "code",
   "execution_count": 59,
   "metadata": {},
   "outputs": [
    {
     "data": {
      "text/html": [
       "<pre class=language-r><code>function (x, na.rm = FALSE) \n",
       "NULL</code></pre>"
      ],
      "text/latex": [
       "\\begin{minted}{r}\n",
       "function (x, na.rm = FALSE) \n",
       "NULL\n",
       "\\end{minted}"
      ],
      "text/markdown": [
       "```r\n",
       "function (x, na.rm = FALSE) \n",
       "NULL\n",
       "```"
      ],
      "text/plain": [
       "function (x, na.rm = FALSE) \n",
       "NULL"
      ]
     },
     "metadata": {},
     "output_type": "display_data"
    }
   ],
   "source": [
    "args(sd)"
   ]
  },
  {
   "cell_type": "markdown",
   "metadata": {},
   "source": [
    "Podemos ver de acuerdo con la documentación que `sd()` tiene los argumentos x y na.rm está puesto en FALSE como predeterminado. Esto significa que si nuestros datos tiene valores NA, estos no seran removidos y puede que interfieran con nuestras estimaciones. Ve que ocurre cuando hay NAs en nuestros datos"
   ]
  },
  {
   "cell_type": "code",
   "execution_count": 60,
   "metadata": {},
   "outputs": [
    {
     "data": {
      "text/html": [
       "&lt;NA&gt;"
      ],
      "text/latex": [
       "<NA>"
      ],
      "text/markdown": [
       "&lt;NA&gt;"
      ],
      "text/plain": [
       "[1] NA"
      ]
     },
     "metadata": {},
     "output_type": "display_data"
    }
   ],
   "source": [
    "sd(c(1,2,3,NA,5,3,6,NA))"
   ]
  },
  {
   "cell_type": "markdown",
   "metadata": {},
   "source": [
    "Para remediar esto podemos colocar el argumento na.rm = TRUE y eso hará el cálculo sin que los NA interfieran"
   ]
  },
  {
   "cell_type": "code",
   "execution_count": 61,
   "metadata": {},
   "outputs": [
    {
     "data": {
      "text/html": [
       "1.86189867250253"
      ],
      "text/latex": [
       "1.86189867250253"
      ],
      "text/markdown": [
       "1.86189867250253"
      ],
      "text/plain": [
       "[1] 1.861899"
      ]
     },
     "metadata": {},
     "output_type": "display_data"
    }
   ],
   "source": [
    "sd(c(1,2,3,NA,5,3,6,NA), na.rm = TRUE)"
   ]
  },
  {
   "cell_type": "markdown",
   "metadata": {},
   "source": [
    "El colocar los argumentos en el orden correcto es crucial, como hemos visto, no necesitamos específicar que x es igual al vector que estamos utilizando para la estimación. Pero en caso de querer colocar los argumentos en otro orden, es necesario especificar de qué argumento se trata para que R qué argumento es el que especificamos."
   ]
  },
  {
   "cell_type": "code",
   "execution_count": 62,
   "metadata": {},
   "outputs": [
    {
     "data": {
      "text/html": [
       "1.86189867250253"
      ],
      "text/latex": [
       "1.86189867250253"
      ],
      "text/markdown": [
       "1.86189867250253"
      ],
      "text/plain": [
       "[1] 1.861899"
      ]
     },
     "metadata": {},
     "output_type": "display_data"
    }
   ],
   "source": [
    "sd(na.rm = TRUE, x = c(1,2,3,NA,5,3,6,NA) )"
   ]
  },
  {
   "cell_type": "markdown",
   "metadata": {},
   "source": [
    "De otro modo R, en funciones más complejas, no va a saber como procesar los inputs adecuadamente. Un ejemplo de esto es el siguiente, en la función `mean()`:\n",
    "        \n",
    "                mean(x, trim = 0, na.rm = FALSE, ...)\n",
    "\n",
    "Tenemos los argumentos trim y x qué pasaría si invirtieramos su lugar sin decirle a R a qué argumento pertenece cada valor\n",
    "    "
   ]
  },
  {
   "cell_type": "code",
   "execution_count": 63,
   "metadata": {},
   "outputs": [
    {
     "ename": "ERROR",
     "evalue": "Error in mean.default(0.2, linkedin): 'trim' must be numeric of length one\n",
     "output_type": "error",
     "traceback": [
      "Error in mean.default(0.2, linkedin): 'trim' must be numeric of length one\nTraceback:\n",
      "1. mean(0.2, linkedin)",
      "2. mean.default(0.2, linkedin)",
      "3. stop(\"'trim' must be numeric of length one\")"
     ]
    }
   ],
   "source": [
    "mean(0.2,linkedin)"
   ]
  },
  {
   "cell_type": "markdown",
   "metadata": {},
   "source": [
    "Sin embargo si lo hacemos de las siguiente forma, R será capaz de procesarlo"
   ]
  },
  {
   "cell_type": "code",
   "execution_count": 64,
   "metadata": {},
   "outputs": [
    {
     "data": {
      "text/html": [
       "11.4"
      ],
      "text/latex": [
       "11.4"
      ],
      "text/markdown": [
       "11.4"
      ],
      "text/plain": [
       "[1] 11.4"
      ]
     },
     "metadata": {},
     "output_type": "display_data"
    }
   ],
   "source": [
    "mean(x = linkedin, trim = 0.2,)"
   ]
  },
  {
   "cell_type": "markdown",
   "metadata": {},
   "source": [
    "Cómo verás el código corrió sin problema, pero al especificar trim = 0.2, el resultado cambió. Esto se debe a que trim se deshace de la fracción especificada de los valor utilizado."
   ]
  },
  {
   "cell_type": "markdown",
   "metadata": {},
   "source": [
    "A estas alturas, probablemente tienes una buena comprensión de la diferencia entre los argumentos obligatorios y opcionales. Actualicemos esta diferencia observando por última vez la función `mean ()`:\n",
    "\n",
    "                   mean (x, trim = 0, na.rm = FALSE, ...)\n",
    "                   \n",
    "se requiere x; si no lo especifica, R arrojará un error. trim y na.rm son argumentos opcionales: tienen un valor predeterminado que se usa si los argumentos no se especifican explícitamente.\n",
    "\n",
    "¿Cuál de las siguientes afirmaciones sobre la función `read.table()` es verdadera?\n",
    "\n",
    "- header, sep y quote son argumentos opcionales.\n",
    "- row.names y fileEncoding no tienen valores predeterminados.\n",
    "- read.table (\"myfile.txt\", \"-\", TRUE) arrojará un error.\n",
    "- read.table (\"myfile.txt\", sep = \"-\", header = TRUE) arrojará un error."
   ]
  },
  {
   "cell_type": "markdown",
   "metadata": {},
   "source": [
    "En R no sólo podemos utilizar las funciones que nos brinda el lenguaje o algunas de sus paqueterías, si no, también podemos escribir nuestras propias funciones para resolver problemas que se escapen de las funcionalidades predeterminadas. Para escribir una función la sintaxis es la siguiente:\n",
    "\n",
    "\n",
    "                      mi_función <-  function(arg1, arg2){\n",
    "                          cuerpo de la función\n",
    "                      }\n",
    "                      \n",
    " Veamos cómo podemos hacer nuestra propia función para calcular el triple de un número dado. Llamemos a nuestro función `triple()`"
   ]
  },
  {
   "cell_type": "code",
   "execution_count": 65,
   "metadata": {},
   "outputs": [
    {
     "data": {
      "text/html": [
       "1500"
      ],
      "text/latex": [
       "1500"
      ],
      "text/markdown": [
       "1500"
      ],
      "text/plain": [
       "[1] 1500"
      ]
     },
     "metadata": {},
     "output_type": "display_data"
    }
   ],
   "source": [
    "triple <- function(x){\n",
    "    3 * x\n",
    "}\n",
    "\n",
    "triple(500)"
   ]
  },
  {
   "cell_type": "markdown",
   "metadata": {},
   "source": [
    "También podemos hacerlo de la siguiente manera:"
   ]
  },
  {
   "cell_type": "code",
   "execution_count": 66,
   "metadata": {},
   "outputs": [
    {
     "data": {
      "text/html": [
       "1500"
      ],
      "text/latex": [
       "1500"
      ],
      "text/markdown": [
       "1500"
      ],
      "text/plain": [
       "[1] 1500"
      ]
     },
     "metadata": {},
     "output_type": "display_data"
    }
   ],
   "source": [
    "triple <- function(x){\n",
    "    y <- 3 * x\n",
    "    return(y)\n",
    "}\n",
    "\n",
    "triple(500)"
   ]
  },
  {
   "cell_type": "markdown",
   "metadata": {},
   "source": [
    "El usar el comando `return` no siempre es útil, pero habrá ocasiones en las que nos sea muy útil. Veremos más adelante cuando usar `return` nos será de utilidad.<br>\n",
    "Ahora imaginemos que necesitamos una función para calcular la suma del resultado de a x b y a / b esto lo hariamos de la siguiente manera"
   ]
  },
  {
   "cell_type": "code",
   "execution_count": 67,
   "metadata": {},
   "outputs": [],
   "source": [
    "suma_resultados <- function(a, b){\n",
    "    a*b + a/b\n",
    "}\n"
   ]
  },
  {
   "cell_type": "markdown",
   "metadata": {},
   "source": [
    "Al momento de insertar los números 4 y 2 en nuestra función esta nos regresa el número 10"
   ]
  },
  {
   "cell_type": "code",
   "execution_count": 68,
   "metadata": {},
   "outputs": [
    {
     "data": {
      "text/html": [
       "10"
      ],
      "text/latex": [
       "10"
      ],
      "text/markdown": [
       "10"
      ],
      "text/plain": [
       "[1] 10"
      ]
     },
     "metadata": {},
     "output_type": "display_data"
    }
   ],
   "source": [
    "suma_resultados(4,2)"
   ]
  },
  {
   "cell_type": "markdown",
   "metadata": {},
   "source": [
    "Fijate que si invertimos el orden de los número el resultado cambia porque pasamos de dividir y multiplicar por 2 a hacerlo por 4"
   ]
  },
  {
   "cell_type": "code",
   "execution_count": 69,
   "metadata": {},
   "outputs": [
    {
     "data": {
      "text/html": [
       "8.5"
      ],
      "text/latex": [
       "8.5"
      ],
      "text/markdown": [
       "8.5"
      ],
      "text/plain": [
       "[1] 8.5"
      ]
     },
     "metadata": {},
     "output_type": "display_data"
    }
   ],
   "source": [
    "suma_resultados(2,4)"
   ]
  },
  {
   "cell_type": "markdown",
   "metadata": {},
   "source": [
    "También observa que pasa si sólo añadimos un número en lugar de 2"
   ]
  },
  {
   "cell_type": "code",
   "execution_count": 70,
   "metadata": {},
   "outputs": [
    {
     "ename": "ERROR",
     "evalue": "Error in suma_resultados(2): el argumento \"b\" está ausente, sin valor por omisión\n",
     "output_type": "error",
     "traceback": [
      "Error in suma_resultados(2): el argumento \"b\" está ausente, sin valor por omisión\nTraceback:\n",
      "1. suma_resultados(2)"
     ]
    }
   ],
   "source": [
    "suma_resultados(2)"
   ]
  },
  {
   "cell_type": "markdown",
   "metadata": {},
   "source": [
    "Esto nos regresa un Error `Error in suma_resultados(2): el argumento \"b\" está ausente, sin valor por omisión` esto se debe a que nos falta un argumento y el argumento faltante no tiene un valor predeterminado. Para establecer un valor predeterminado podemos asignarlo con el símbolo `=` después del argumento que queremos volver predeterminado, seguido del valor que queremos poner por default."
   ]
  },
  {
   "cell_type": "code",
   "execution_count": 71,
   "metadata": {},
   "outputs": [],
   "source": [
    "suma_resultados <- function(a, b = 1){\n",
    "    a*b + a/b\n",
    "}"
   ]
  },
  {
   "cell_type": "markdown",
   "metadata": {},
   "source": [
    "veamos que nos regresa esta función ahora"
   ]
  },
  {
   "cell_type": "code",
   "execution_count": 72,
   "metadata": {},
   "outputs": [
    {
     "data": {
      "text/html": [
       "4"
      ],
      "text/latex": [
       "4"
      ],
      "text/markdown": [
       "4"
      ],
      "text/plain": [
       "[1] 4"
      ]
     },
     "metadata": {},
     "output_type": "display_data"
    }
   ],
   "source": [
    "suma_resultados(2)"
   ]
  },
  {
   "cell_type": "markdown",
   "metadata": {},
   "source": [
    "Pero ahora veamos otro caso, qué pasaría si pusieramos en el segundo argumento el valor de 0"
   ]
  },
  {
   "cell_type": "code",
   "execution_count": 73,
   "metadata": {},
   "outputs": [
    {
     "data": {
      "text/html": [
       "Inf"
      ],
      "text/latex": [
       "Inf"
      ],
      "text/markdown": [
       "Inf"
      ],
      "text/plain": [
       "[1] Inf"
      ]
     },
     "metadata": {},
     "output_type": "display_data"
    }
   ],
   "source": [
    "suma_resultados(2,0)"
   ]
  },
  {
   "cell_type": "markdown",
   "metadata": {},
   "source": [
    "Nos regresa un infinito, porque un número dividido entre cero se evalua a infinito. Para remediar este problema, podemos añadir un comando `if` que regrese 0 en caso de que el dividendo sea 0:"
   ]
  },
  {
   "cell_type": "code",
   "execution_count": 74,
   "metadata": {},
   "outputs": [
    {
     "data": {
      "text/html": [
       "0"
      ],
      "text/latex": [
       "0"
      ],
      "text/markdown": [
       "0"
      ],
      "text/plain": [
       "[1] 0"
      ]
     },
     "metadata": {},
     "output_type": "display_data"
    }
   ],
   "source": [
    "suma_resultados <- function(a, b = 1){\n",
    "    if(b == 0){\n",
    "        return(0)\n",
    "    }\n",
    "    a*b + a/b\n",
    "}\n",
    "\n",
    "suma_resultados(2, 0)"
   ]
  },
  {
   "cell_type": "markdown",
   "metadata": {},
   "source": [
    "Ahora ya vimos un ejemplo de cuando el comando `return` nos es útil y de igual forma arreglamos el problema del dividendo igual a 0. Vamos ahora a practicar creando tus propias funciones. <br>\n",
    "Empecemos por hacer una función llamada `potencia()`, que multiple el número que le demos por sí mismo"
   ]
  },
  {
   "cell_type": "code",
   "execution_count": 75,
   "metadata": {},
   "outputs": [],
   "source": [
    "potencia <- function(x){\n",
    "    x*x\n",
    "}"
   ]
  },
  {
   "cell_type": "markdown",
   "metadata": {},
   "source": [
    "Ahora usa tu función con el número 10, te debe devolver un 100"
   ]
  },
  {
   "cell_type": "code",
   "execution_count": 76,
   "metadata": {},
   "outputs": [
    {
     "data": {
      "text/html": [
       "100"
      ],
      "text/latex": [
       "100"
      ],
      "text/markdown": [
       "100"
      ],
      "text/plain": [
       "[1] 100"
      ]
     },
     "metadata": {},
     "output_type": "display_data"
    }
   ],
   "source": [
    "potencia(10)"
   ]
  },
  {
   "cell_type": "markdown",
   "metadata": {},
   "source": [
    "Ahora has una función llamada `sum_abs` que haga la suma de los valores absolutos de 2 número."
   ]
  },
  {
   "cell_type": "code",
   "execution_count": 77,
   "metadata": {},
   "outputs": [],
   "source": [
    "sum_abs <- function (x, y){\n",
    "  sum(abs(x) +abs(y))\n",
    "}\n"
   ]
  },
  {
   "cell_type": "markdown",
   "metadata": {},
   "source": [
    "Ahora usa tu función con los número -10 y 30, debe regresarte 40"
   ]
  },
  {
   "cell_type": "code",
   "execution_count": 78,
   "metadata": {},
   "outputs": [
    {
     "data": {
      "text/html": [
       "40"
      ],
      "text/latex": [
       "40"
      ],
      "text/markdown": [
       "40"
      ],
      "text/plain": [
       "[1] 40"
      ]
     },
     "metadata": {},
     "output_type": "display_data"
    }
   ],
   "source": [
    "sum_abs(-10,30)"
   ]
  },
  {
   "cell_type": "markdown",
   "metadata": {},
   "source": [
    "Abrá ocasiones en qué las funciones no nos requieran argumentos. Imagina una función que nos regrese un valor aleatorio del 1 a 6 para simular el lanzamiento de un dado"
   ]
  },
  {
   "cell_type": "code",
   "execution_count": 79,
   "metadata": {},
   "outputs": [
    {
     "data": {
      "text/html": [
       "6"
      ],
      "text/latex": [
       "6"
      ],
      "text/markdown": [
       "6"
      ],
      "text/plain": [
       "[1] 6"
      ]
     },
     "metadata": {},
     "output_type": "display_data"
    }
   ],
   "source": [
    "lanza_dado <- function() {\n",
    "  numero <- sample(1:6, size = 1)\n",
    "  numero\n",
    "}\n",
    "\n",
    "lanza_dado()"
   ]
  },
  {
   "cell_type": "markdown",
   "metadata": {},
   "source": [
    "Programemos una función llamada `hello` que no requiera de argumentos, que imprima un \"¡Hola!\" y nos regrese el valor TRUE"
   ]
  },
  {
   "cell_type": "code",
   "execution_count": 80,
   "metadata": {},
   "outputs": [
    {
     "name": "stdout",
     "output_type": "stream",
     "text": [
      "[1] \"¡Hola!\"\n"
     ]
    },
    {
     "data": {
      "text/html": [
       "TRUE"
      ],
      "text/latex": [
       "TRUE"
      ],
      "text/markdown": [
       "TRUE"
      ],
      "text/plain": [
       "[1] TRUE"
      ]
     },
     "metadata": {},
     "output_type": "display_data"
    }
   ],
   "source": [
    "hello <- function(){\n",
    "  print(\"¡Hola!\")\n",
    "  return(TRUE)\n",
    "}\n",
    "hello()"
   ]
  },
  {
   "cell_type": "markdown",
   "metadata": {},
   "source": [
    "Ahora retomemos nuestra función `potencia()` hagamos, que además de devolvernos el resultado, esta tenga un argumento llamado info que sea igual a TRUE por default, y que nos imprima el mensaje \"x a la segunda potencia es igual a y\" donde x sea el número que usamos de input y y el resultado."
   ]
  },
  {
   "cell_type": "code",
   "execution_count": 81,
   "metadata": {},
   "outputs": [
    {
     "name": "stdout",
     "output_type": "stream",
     "text": [
      "[1] \"2 a la segunda potencia es igual a 4\"\n"
     ]
    },
    {
     "data": {
      "text/html": [
       "4"
      ],
      "text/latex": [
       "4"
      ],
      "text/markdown": [
       "4"
      ],
      "text/plain": [
       "[1] 4"
      ]
     },
     "metadata": {},
     "output_type": "display_data"
    }
   ],
   "source": [
    "pow_two <- function(x, info = TRUE) {\n",
    "  y <- x ^ 2\n",
    "  if(info == TRUE){\n",
    "  print(paste(x, \"a la segunda potencia es igual a\", y))\n",
    "  }\n",
    "  \n",
    "  return(y)\n",
    "}\n",
    "pow_two(2)"
   ]
  },
  {
   "cell_type": "markdown",
   "metadata": {},
   "source": [
    "Otra cosa que debemos tomar en cuenta es lo que se conoce el enfoque de la función. Esto implica que las variables que se definen dentro de una función no son accesibles fuera de esa función. Intente ejecutar el siguiente código y vea si comprende los resultados:"
   ]
  },
  {
   "cell_type": "code",
   "execution_count": 82,
   "metadata": {},
   "outputs": [
    {
     "data": {
      "text/html": [
       "16"
      ],
      "text/latex": [
       "16"
      ],
      "text/markdown": [
       "16"
      ],
      "text/plain": [
       "[1] 16"
      ]
     },
     "metadata": {},
     "output_type": "display_data"
    },
    {
     "ename": "ERROR",
     "evalue": "Error in eval(expr, envir, enclos): objeto 'y' no encontrado\n",
     "output_type": "error",
     "traceback": [
      "Error in eval(expr, envir, enclos): objeto 'y' no encontrado\nTraceback:\n"
     ]
    }
   ],
   "source": [
    "pow_two <- function(x) {\n",
    "  y <- x ^ 2\n",
    "  return(y)\n",
    "}\n",
    "pow_two(4)\n",
    "y\n",
    "x"
   ]
  },
  {
   "cell_type": "markdown",
   "metadata": {},
   "source": [
    "`y` se definió dentro de la función `pow_two ()` y, por lo tanto, no es accesible fuera de esa función. Esto también es cierto para los argumentos de la función, por supuesto - `x` en este caso. <br>\n",
    "¿Qué afirmación es correcta sobre el siguiente fragmento de código?"
   ]
  },
  {
   "cell_type": "code",
   "execution_count": 83,
   "metadata": {},
   "outputs": [],
   "source": [
    "two_dice <- function() {\n",
    "  possibilities <- 1:6\n",
    "  dice1 <- sample(possibilities, size = 1)\n",
    "  dice2 <- sample(possibilities, size = 1)\n",
    "  dice1 + dice2\n",
    "}"
   ]
  },
  {
   "cell_type": "markdown",
   "metadata": {},
   "source": [
    "- Ejecutar two_dice () causa un error.\n",
    "- Al ejecutar res <- two_dice (), los contenidos de dice1 y dice2 -están disponibles fuera de la función.\n",
    "- Cualquiera sea la forma de llamar a la función two_dice (), R no tendrá acceso a dice1 y dice2 fuera de la función."
   ]
  },
  {
   "cell_type": "markdown",
   "metadata": {},
   "source": [
    "Otro factor importante a considerar es que una función de R por si mísma no podrá modificar el valor de una variable. Observa el siguiente ejemplo:"
   ]
  },
  {
   "cell_type": "code",
   "execution_count": 84,
   "metadata": {},
   "outputs": [
    {
     "data": {
      "text/html": [
       "15"
      ],
      "text/latex": [
       "15"
      ],
      "text/markdown": [
       "15"
      ],
      "text/plain": [
       "[1] 15"
      ]
     },
     "metadata": {},
     "output_type": "display_data"
    },
    {
     "data": {
      "text/html": [
       "5"
      ],
      "text/latex": [
       "5"
      ],
      "text/markdown": [
       "5"
      ],
      "text/plain": [
       "[1] 5"
      ]
     },
     "metadata": {},
     "output_type": "display_data"
    }
   ],
   "source": [
    "triple <- function(x) {\n",
    "  x <- 3*x\n",
    "  x\n",
    "}\n",
    "a <- 5\n",
    "triple(a)\n",
    "a"
   ]
  },
  {
   "cell_type": "markdown",
   "metadata": {},
   "source": [
    "Dentro de la función `triple ()`, el argumento x se sobrescribe con su valor multiplicado por tres. Luego se devuelve esta nueva x. Si llamas a esta función con una variable **a** igual a 5, obtiene 15. Pero, ¿cambió el valor de **a**? Si R pasara **a** a `triple ()` por referencia, la anulación de la x dentro de la función pasaría a la variable **a**, fuera de la función. Los objetos R que pasa a una función nunca pueden cambiar a menos que haga una asignación explícita. **a** permanece igual a 5, incluso después de llamar a `triple(a)`.\n",
    "\n",
    "¿Cuál de las siguientes afirmaciones es falsa acerca del siguiente código?"
   ]
  },
  {
   "cell_type": "code",
   "execution_count": 85,
   "metadata": {},
   "outputs": [],
   "source": [
    "increment <- function(x, inc = 1) {\n",
    "  x <- x + inc\n",
    "  x\n",
    "}\n",
    "count <- 5\n",
    "a <- increment(count, 2)\n",
    "b <- increment(count)\n",
    "count <- increment(count, 2)\n"
   ]
  },
  {
   "cell_type": "markdown",
   "metadata": {},
   "source": [
    "- **a** y **b** son iguales a 7 y 6 respectivamente después de ejecutar este bloque de código.\n",
    "- Después de la primera llamada de `increment()`, donde se define **a**, **a** es igual a 7 y **count** igual a 5.\n",
    "- Al final, **count** será igual a 10.\n",
    "- En la última expresión, el valor de **count** se cambió realmente debido a la asignación explícita."
   ]
  },
  {
   "cell_type": "markdown",
   "metadata": {},
   "source": [
    "¿Recuerdas cómo usamos loops para acceder a los valores de los vectores facebook y linkedin? Ahora hagamos algo parecido haciendo uso de una función llamada `interpreta()` que tome como argumentos **views** y siga las siguientes condiciones:\n",
    "\n",
    "- Si views es mayor de 15 imprime \"¡ERES POPULAR!\" y regrese el número de vies\n",
    "- De lo contrario, imprime \"Necesitas más visibilidad :(\" y regresa un 0\n",
    "\n",
    "Después llama a esta función con el primer valor de **linkedin** y otra vez con el segundo valor de **facebook**"
   ]
  },
  {
   "cell_type": "code",
   "execution_count": 86,
   "metadata": {},
   "outputs": [
    {
     "name": "stdout",
     "output_type": "stream",
     "text": [
      "[1] \"¡ERES POPULAR!\"\n"
     ]
    },
    {
     "data": {
      "text/html": [
       "<strong>Lunes:</strong> 16"
      ],
      "text/latex": [
       "\\textbf{Lunes:} 16"
      ],
      "text/markdown": [
       "**Lunes:** 16"
      ],
      "text/plain": [
       "Lunes \n",
       "   16 "
      ]
     },
     "metadata": {},
     "output_type": "display_data"
    },
    {
     "name": "stdout",
     "output_type": "stream",
     "text": [
      "[1] \"Necesitas más visibilidad :(\"\n"
     ]
    },
    {
     "data": {
      "text/html": [
       "0"
      ],
      "text/latex": [
       "0"
      ],
      "text/markdown": [
       "0"
      ],
      "text/plain": [
       "[1] 0"
      ]
     },
     "metadata": {},
     "output_type": "display_data"
    }
   ],
   "source": [
    "# Define la función interpreta\n",
    "interpreta <- function(views) {\n",
    "  if (views > 15) {\n",
    "  \n",
    "  print(\"¡ERES POPULAR!\")\n",
    "  return(views)\n",
    "  \n",
    "  } else {\n",
    "  \n",
    "  print(\"Necesitas más visibilidad :(\")\n",
    "  return(0)\n",
    "\n",
    "  }\n",
    "}\n",
    "\n",
    "interpreta(linkedin[1])\n",
    "interpreta(facebook[2])\n"
   ]
  },
  {
   "cell_type": "markdown",
   "metadata": {},
   "source": [
    "En este ejercicio, escribirá otra función que utilizará la función `interpreta()` para interpretar todos los datos de sus vistas de perfil diarias dentro de un vector. Llamela **interpreta_todo**.<br>\n",
    "Además, su función devolverá la suma de las vistas en días populares, si se le solicita. Un for loop es ideal para iterar sobre todos los elementos del vector. La capacidad de devolver la suma de vistas en días populares es algo que puede codificar a través de un argumento de función con un valor predeterminado.<br>\n",
    "\n",
    "- Añade un argumento llamado **suma** que sea TRUE por default\n",
    "- Dentro de la función inicia un contador a 0\n",
    "- Haz un for loop que repase todas las views de los vectores y sume al contador el resultado de la función `interpreta(v)`\n",
    "- Después Si suma es igual a TRUE que regrese el número del contador, de lo contrario que regrese NULL\n",
    "\n",
    "Después de costruirla, llama esta función con los vectores linkedin y facebook, colocando en uno de ellos suma = FALSE"
   ]
  },
  {
   "cell_type": "code",
   "execution_count": 88,
   "metadata": {},
   "outputs": [
    {
     "name": "stdout",
     "output_type": "stream",
     "text": [
      "[1] \"¡ERES POPULAR!\"\n",
      "[1] \"Necesitas más visibilidad :(\"\n",
      "[1] \"Necesitas más visibilidad :(\"\n",
      "[1] \"Necesitas más visibilidad :(\"\n",
      "[1] \"Necesitas más visibilidad :(\"\n",
      "[1] \"¡ERES POPULAR!\"\n",
      "[1] \"Necesitas más visibilidad :(\"\n"
     ]
    },
    {
     "data": {
      "text/html": [
       "33"
      ],
      "text/latex": [
       "33"
      ],
      "text/markdown": [
       "33"
      ],
      "text/plain": [
       "[1] 33"
      ]
     },
     "metadata": {},
     "output_type": "display_data"
    },
    {
     "name": "stdout",
     "output_type": "stream",
     "text": [
      "[1] \"¡ERES POPULAR!\"\n",
      "[1] \"Necesitas más visibilidad :(\"\n",
      "[1] \"Necesitas más visibilidad :(\"\n",
      "[1] \"¡ERES POPULAR!\"\n",
      "[1] \"Necesitas más visibilidad :(\"\n",
      "[1] \"Necesitas más visibilidad :(\"\n",
      "[1] \"Necesitas más visibilidad :(\"\n"
     ]
    },
    {
     "data": {
      "text/plain": [
       "NULL"
      ]
     },
     "metadata": {},
     "output_type": "display_data"
    }
   ],
   "source": [
    "interpreta_todo <- function(views, suma = TRUE) {\n",
    "  count <- 0\n",
    "\n",
    "  for (v in views) {\n",
    "  \n",
    "  count <- count + interpreta(v)\n",
    "\n",
    "  }\n",
    "\n",
    "  if (suma == TRUE) {\n",
    "  \n",
    "  return(count)\n",
    "  \n",
    "  } else {\n",
    "  \n",
    "  return(NULL)\n",
    "  \n",
    "  }\n",
    "}\n",
    "\n",
    "interpreta_todo(linkedin)\n",
    "interpreta_todo(facebook, suma = FALSE)"
   ]
  },
  {
   "cell_type": "markdown",
   "metadata": {},
   "source": [
    "### Paqueterías de R\n",
    "\n",
    "Como ya viste, R tiene muchas funciones que podemos utilizar para hacer muy sencilla la estimación de ciertos valores, pero, ¿de dónde vienen esas funciones? Esas funciones son cargadas en tu sesión en objeto llamados paqueterías, que no son más que un montón de funciones que alguien más se tomó el tiempo de construir para que tú y los demás usuarios de la comunidad las utilicen. Las funciones que ya vimos forman parte de la paquetería llamada base qué es cargada de forma predeterminada cada vez que inicias tu consola de R, pero hay muchas paqueterías más que podemos utilizar, por ejemplo, `ggplot2` que se utiliza para construir unas gama muy extensa de gráficas para visualizar datos. <br>\n",
    "\n",
    "Para sumarle estas funcionalidades a R necesitas primero instalarlas con el comando `install.packages(\"Nombre de la paqueteria\")` <br>\n",
    "\n",
    "Cuando iniciamos una sesió en R se carga 7 paquetería por default, para visualizarlas podemos hacer uso de la función `search()` que nos dará una vista de las paquetería cargadas. Entre ellas se encuentran las paqueterías por default `base`, `utils`entre otras que nos permiten usar las funciones que hemos visto sin necesidad se cargarlas con anterioridad de forma manual.<br>\n",
    "Para cargar las paquetería adicionales que instalemos usamos la función `library(Nombre de la paquetería)`. Si intentamos cargar una paquetería que no ha sido instalado aún, R nos regresará un error. También tenemos la función `require(\"Nombre de la paquetería\")`que nos regresa TRUE o FALSE dependiendo de si la paquetería fue instalado y cargada correctamente.<br>\n",
    "\n",
    "Probemos este nuevo conocimiento para verificar si ggplot2 está instalado, en caso de no estarlo, ejecuta el siguiente código"
   ]
  },
  {
   "cell_type": "code",
   "execution_count": null,
   "metadata": {},
   "outputs": [],
   "source": [
    "install.packages(\"ggplot2\")"
   ]
  },
  {
   "cell_type": "markdown",
   "metadata": {},
   "source": [
    "Ahora carguemos la paquetería `ggplot2`"
   ]
  },
  {
   "cell_type": "code",
   "execution_count": 89,
   "metadata": {},
   "outputs": [],
   "source": [
    "library(ggplot2)"
   ]
  },
  {
   "cell_type": "markdown",
   "metadata": {},
   "source": [
    "Ahora probemos la función `qplot()`que nos brinda esta paquetería con uno de los data frames que nos proporciona R por default, llamado mtcars"
   ]
  },
  {
   "cell_type": "code",
   "execution_count": 90,
   "metadata": {},
   "outputs": [
    {
     "data": {
      "image/png": "[encoded data removed]",
      "text/plain": [
       "plot without title"
      ]
     },
     "metadata": {
      "image/png": {
       "height": 420,
       "width": 420
      },
      "text/plain": {
       "height": 420,
       "width": 420
      }
     },
     "output_type": "display_data"
    }
   ],
   "source": [
    "qplot(mtcars$wt, mtcars$hp)\n"
   ]
  }
 ],
 "metadata": {
  "kernelspec": {
   "display_name": "R",
   "language": "R",
   "name": "ir"
  },
  "language_info": {
   "codemirror_mode": "r",
   "file_extension": ".r",
   "mimetype": "text/x-r-source",
   "name": "R",
   "pygments_lexer": "r",
   "version": "3.6.2"
  }
 },
 "nbformat": 4,
 "nbformat_minor": 4
}
