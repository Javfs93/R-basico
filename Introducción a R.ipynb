{
 "cells": [
  {
   "cell_type": "markdown",
   "metadata": {},
   "source": [
    "# Bienvenidos al curso de R básico con CCOL \n",
    "Impartido por Javier Fernández <br>\n",
    "Conecta conmigo en mi Linkedin: https://www.linkedin.com/in/qfbtjavierfernandezsegura/<br>\n",
    "Síguenos en nuestras redes sociales: https://www.facebook.com/CCOLMX/ \n",
    "\n",
    "En este curso abordaremos los principios básicos del lenguaje de programación R, el cual es un proyecto open source (gratuito y extensible) que se especializa en computo estadístico y la elaboración de gráficas. \n",
    "\n",
    "El lenguaje R es muy fácil de aprender y utilizar, así que al final de éstas sesiones, tengo la esperanza de que tengas una noción mucho más clara del lenguaje para que puedas leerlo y escribirlo e incluso comiences a utilizarlo en tu trabajo, escuela o proyectos de investigación. \n",
    "\n",
    "Iniciemos por lo más básico, ¿vale? <br>\n",
    "Empecemos por instalar R y RStudio en tu computadora, esto lo podrás hacer a través de estos url<br> R:   https://cran.r-project.org/ <br> Rstudio: https://rstudio.com/products/rstudio/download/#download <br>\n",
    "Un tutorial de cómo instalarlos podrás encontrarlo aquí https://medium.com/datos-y-ciencia/tutorial-instalaci%C3%B3n-r-y-rstudio-563771a29289 \n",
    "\n",
    "Perfecto! Una vez instalado abran RStudio, den click en Archivo -> Nuevo -> Script y comencemos a jugar con R.\n",
    "\n",
    "### Aritmética con R\n",
    "\n",
    "R puede ser utilizado como una calculadora, solo basta con ingresar los números y los operadores de suma (+), resta (-), multiplicación (*), división (/) y presionar ctrl (o cmd en mac) seguido de la tecla enter para ejecutar la operación"
   ]
  },
  {
   "cell_type": "code",
   "execution_count": 1,
   "metadata": {},
   "outputs": [
    {
     "data": {
      "text/html": [
       "7"
      ],
      "text/latex": [
       "7"
      ],
      "text/markdown": [
       "7"
      ],
      "text/plain": [
       "[1] 7"
      ]
     },
     "metadata": {},
     "output_type": "display_data"
    },
    {
     "data": {
      "text/html": [
       "18"
      ],
      "text/latex": [
       "18"
      ],
      "text/markdown": [
       "18"
      ],
      "text/plain": [
       "[1] 18"
      ]
     },
     "metadata": {},
     "output_type": "display_data"
    },
    {
     "data": {
      "text/html": [
       "10"
      ],
      "text/latex": [
       "10"
      ],
      "text/markdown": [
       "10"
      ],
      "text/plain": [
       "[1] 10"
      ]
     },
     "metadata": {},
     "output_type": "display_data"
    },
    {
     "data": {
      "text/html": [
       "0"
      ],
      "text/latex": [
       "0"
      ],
      "text/markdown": [
       "0"
      ],
      "text/plain": [
       "[1] 0"
      ]
     },
     "metadata": {},
     "output_type": "display_data"
    },
    {
     "data": {
      "text/html": [
       "15"
      ],
      "text/latex": [
       "15"
      ],
      "text/markdown": [
       "15"
      ],
      "text/plain": [
       "[1] 15"
      ]
     },
     "metadata": {},
     "output_type": "display_data"
    },
    {
     "data": {
      "text/html": [
       "5"
      ],
      "text/latex": [
       "5"
      ],
      "text/markdown": [
       "5"
      ],
      "text/plain": [
       "[1] 5"
      ]
     },
     "metadata": {},
     "output_type": "display_data"
    }
   ],
   "source": [
    "# Probemos unas operaciones sencillas\n",
    "3 + 4\n",
    "6 + 12\n",
    "5 + 5 \n",
    "5 - 5 \n",
    "3 * 5\n",
    "(5 + 5) / 2 "
   ]
  },
  {
   "cell_type": "markdown",
   "metadata": {},
   "source": [
    "También podemos hacer operaciones un poco más elaboradas como calcular la raíz cuadrada, hacer operaciones con pi, potenciar un número con otro, calcular el exponencial, el logaritmo o incluso convertir un valor en absoluto con los siguientes operadores"
   ]
  },
  {
   "cell_type": "code",
   "execution_count": 2,
   "metadata": {},
   "outputs": [
    {
     "data": {
      "text/html": [
       "23.2379000772445"
      ],
      "text/latex": [
       "23.2379000772445"
      ],
      "text/markdown": [
       "23.2379000772445"
      ],
      "text/plain": [
       "[1] 23.2379"
      ]
     },
     "metadata": {},
     "output_type": "display_data"
    },
    {
     "data": {
      "text/html": [
       "148.413159102577"
      ],
      "text/latex": [
       "148.413159102577"
      ],
      "text/markdown": [
       "148.413159102577"
      ],
      "text/plain": [
       "[1] 148.4132"
      ]
     },
     "metadata": {},
     "output_type": "display_data"
    },
    {
     "data": {
      "text/html": [
       "9765625"
      ],
      "text/latex": [
       "9765625"
      ],
      "text/markdown": [
       "9765625"
      ],
      "text/plain": [
       "[1] 9765625"
      ]
     },
     "metadata": {},
     "output_type": "display_data"
    },
    {
     "data": {
      "text/html": [
       "3.14159265358979"
      ],
      "text/latex": [
       "3.14159265358979"
      ],
      "text/markdown": [
       "3.14159265358979"
      ],
      "text/plain": [
       "[1] 3.141593"
      ]
     },
     "metadata": {},
     "output_type": "display_data"
    },
    {
     "data": {
      "text/html": [
       "1.1447298858494"
      ],
      "text/latex": [
       "1.1447298858494"
      ],
      "text/markdown": [
       "1.1447298858494"
      ],
      "text/plain": [
       "[1] 1.14473"
      ]
     },
     "metadata": {},
     "output_type": "display_data"
    },
    {
     "data": {
      "text/html": [
       "33.5"
      ],
      "text/latex": [
       "33.5"
      ],
      "text/markdown": [
       "33.5"
      ],
      "text/plain": [
       "[1] 33.5"
      ]
     },
     "metadata": {},
     "output_type": "display_data"
    }
   ],
   "source": [
    "# Raíz cuadrada\n",
    "sqrt(540)\n",
    "\n",
    "# Exponencial\n",
    "exp(5)\n",
    "\n",
    "# Potenciación\n",
    "5 ^ 10\n",
    "\n",
    "# pi\n",
    "pi\n",
    "\n",
    "# logaritmo\n",
    "log(pi)\n",
    "\n",
    "# valores absolutos\n",
    "abs(-33.5)\n"
   ]
  },
  {
   "cell_type": "markdown",
   "metadata": {},
   "source": [
    "Ahora sabemos como utilizar R como una calculadora, escribiendo las operaciones y ejecutandolas para imprimirlas en la consola de Rstudio.\n",
    "\n",
    "Muchas veces durante su trabajo con programación van a necesitar el guardar algunos de los resultados de esas operaciones en valores que se les conoce como **variables**.\n",
    "\n",
    "Estas variables te permiten guardar valores u objetos para que puedas acceder a ellos fácilmente después sin tener que ejecutar la operación nuevamente.\n",
    "\n",
    "Hagamos la prueba con un el área de un círculo, como sabremos de nuestras clases de geometría el área se calcula como Pi x radio al cuadrado.  Así que calculemos el area de un circulo con radio de 5 y guardemos ese valor en una variable que se llame **adc** por área del círculo.\n",
    "\n",
    "Para hacer esto ponemos el nombre de la variable seguido del simbolo  <-  y después escribimos nuestra operación.\n",
    "Este símbolo se puede colocar fácilmente con alt + - ó con los simbolos < y - uno despues del otro.\n",
    "\n",
    "Después para acceder al valor guardado en nuestra variable basta con poner el nombre de nuestra variable et voilà! el valor se imprimirá en nuestra consola tras ejecutar."
   ]
  },
  {
   "cell_type": "code",
   "execution_count": 3,
   "metadata": {},
   "outputs": [
    {
     "data": {
      "text/html": [
       "78.5398163397448"
      ],
      "text/latex": [
       "78.5398163397448"
      ],
      "text/markdown": [
       "78.5398163397448"
      ],
      "text/plain": [
       "[1] 78.53982"
      ]
     },
     "metadata": {},
     "output_type": "display_data"
    }
   ],
   "source": [
    "adc  <-  pi * (5^2)\n",
    "adc"
   ]
  },
  {
   "cell_type": "markdown",
   "metadata": {},
   "source": [
    "Para poner en práctica estos principios básicos quiero que hagas lo siguiente:\n",
    "\n",
    "- Asigna el valor 5 a la variable **manzanas** e imprímela\n",
    "- Asigna el valor 6 a la variable **naranjas** e imprímela"
   ]
  },
  {
   "cell_type": "markdown",
   "metadata": {},
   "source": [
    "Además de sólo guardar y mostrar los valores en tus variables, puedes hacer operaciones aritméticas con la variables, prueba sumando manzanas y naranjas."
   ]
  },
  {
   "cell_type": "markdown",
   "metadata": {},
   "source": [
    "Ahora asigna esa operación a la variable **frutas** e imprimelas. <br>\n",
    "\n",
    "Excelente, ahora que has aprendido sobre como hacer aritmética con R quiero que aprendamos sobre los tipos de datos básicos que tiene R.\n",
    "\n",
    "### Tipos de datos básicos\n",
    "\n",
    "R puede trabajar con muchos tipos de datos los básicos y más utilizados son:<br>\n",
    "\n",
    "- Numeric \n",
    "\n",
    "y estos a su vez se dividen en floats (decimales) e integers (enteros)\n",
    "\n",
    "- Boolean\n",
    "\n",
    "Estos se les conoce como valores lógicos y son TRUE o FALSE\n",
    "\n",
    "- Character\n",
    "\n",
    "Estos son texto o cadenas de texto\n",
    "\n",
    "   "
   ]
  },
  {
   "cell_type": "code",
   "execution_count": 4,
   "metadata": {},
   "outputs": [],
   "source": [
    "a  <-  43\n",
    "\n",
    "b <- \"Cinco\"\n",
    "\n",
    "c <- TRUE\n",
    "\n",
    "d <- FALSE"
   ]
  },
  {
   "cell_type": "markdown",
   "metadata": {},
   "source": [
    "Si quisieramos saber qué tipo de valor está guardado en una variable, podemos hacer uso de la función class(Nombre de la variable). Por ejemplo:\n"
   ]
  },
  {
   "cell_type": "code",
   "execution_count": 5,
   "metadata": {},
   "outputs": [
    {
     "data": {
      "text/html": [
       "'numeric'"
      ],
      "text/latex": [
       "'numeric'"
      ],
      "text/markdown": [
       "'numeric'"
      ],
      "text/plain": [
       "[1] \"numeric\""
      ]
     },
     "metadata": {},
     "output_type": "display_data"
    },
    {
     "data": {
      "text/html": [
       "'character'"
      ],
      "text/latex": [
       "'character'"
      ],
      "text/markdown": [
       "'character'"
      ],
      "text/plain": [
       "[1] \"character\""
      ]
     },
     "metadata": {},
     "output_type": "display_data"
    },
    {
     "data": {
      "text/html": [
       "'logical'"
      ],
      "text/latex": [
       "'logical'"
      ],
      "text/markdown": [
       "'logical'"
      ],
      "text/plain": [
       "[1] \"logical\""
      ]
     },
     "metadata": {},
     "output_type": "display_data"
    },
    {
     "data": {
      "text/html": [
       "'logical'"
      ],
      "text/latex": [
       "'logical'"
      ],
      "text/markdown": [
       "'logical'"
      ],
      "text/plain": [
       "[1] \"logical\""
      ]
     },
     "metadata": {},
     "output_type": "display_data"
    }
   ],
   "source": [
    "class(a)\n",
    "class(b)\n",
    "class(c)\n",
    "class(d)"
   ]
  },
  {
   "cell_type": "markdown",
   "metadata": {},
   "source": [
    "Si quisieramos hacer operaciones con ellos por ejemplo **a + b** osea 43 más cinco"
   ]
  },
  {
   "cell_type": "code",
   "execution_count": 6,
   "metadata": {},
   "outputs": [
    {
     "ename": "ERROR",
     "evalue": "Error in a + b: argumento no-numérico para operador binario\n",
     "output_type": "error",
     "traceback": [
      "Error in a + b: argumento no-numérico para operador binario\nTraceback:\n"
     ]
    }
   ],
   "source": [
    "a + b"
   ]
  },
  {
   "cell_type": "markdown",
   "metadata": {},
   "source": [
    "R nos va a marcar un error ya que no son del mismo tipo de dato. Pero si por ejemplo ejecutamos "
   ]
  },
  {
   "cell_type": "code",
   "execution_count": 7,
   "metadata": {},
   "outputs": [
    {
     "data": {
      "text/html": [
       "1"
      ],
      "text/latex": [
       "1"
      ],
      "text/markdown": [
       "1"
      ],
      "text/plain": [
       "[1] 1"
      ]
     },
     "metadata": {},
     "output_type": "display_data"
    }
   ],
   "source": [
    "c + d"
   ]
  },
  {
   "cell_type": "markdown",
   "metadata": {},
   "source": [
    "Nos regresa un 1 ya que nos permite ejecutar la operación booleana sin problema alguno. <br>\n",
    "\n",
    "En más de una ocasión vamos a necesitar acomodar una serie de números o caracteres uno seguido del otro. Para eso utilizamos objectos que en R se les conoce como **vectores**\n",
    "\n",
    "### Vectores\n",
    "\n",
    "Para iniciar un vector la sintaxis es la siguiente: <br>\n",
    "\n",
    "c(1,2,3,4) <br>\n",
    "\n",
    "En caso de usar caracteres necesitaras encerrarlos entre comillas dobles<br>\n",
    "\n",
    "c(\"a\",\"b\",\"c\",\"d\") <br>\n",
    "\n",
    "Intenta creando un vectores con los siguientes valores: <br>\n",
    "\n",
    "Un vector llamado **numericos** con los valores 7,8,9 y 10 <br>\n",
    "Un vector llamado **caracteres** con las letras CCOL <br>\n",
    "Un vector llamado **booleanos** con los valores TRUE, FALSE,TRUE,TRUE <br>\n",
    "    "
   ]
  },
  {
   "cell_type": "markdown",
   "metadata": {},
   "source": [
    "Ahora hagamos un ejercicio con vectores. \n",
    "Imagina que vas a un casino una semana de lunes a viernes y que jugaste poker y ruleta. Decidiste colectar lo que ganaste y perdiste en los 5 dias.\n",
    "\n",
    "En el poker: <br>\n",
    "\n",
    "- El Lunes ganaste 140 \n",
    "- El Martes perdiste 50\n",
    "- El Miércoles ganaste 20\n",
    "- EL Jueves perdiste 120\n",
    "- El Viernes ganaste 240\n",
    "\n",
    "En la ruleta: <br>\n",
    "\n",
    "- El Lunes perdiste 24\n",
    "- El Martes perdiste 50\n",
    "- El Miércoles ganaste 100\n",
    "- El Jueves perdiste 350\n",
    "- El Viernes ganaste 10\n",
    "\n",
    "Para poder utilizar estos valores crea 2 vectores uno que se llame **ruleta** y otro que se llame **poker**"
   ]
  },
  {
   "cell_type": "code",
   "execution_count": 8,
   "metadata": {},
   "outputs": [],
   "source": [
    "poker <- c(140, -50, 20, -120, 240)\n",
    "\n",
    "ruleta <- c(-24,-50,100,-350,10)"
   ]
  },
  {
   "cell_type": "code",
   "execution_count": 9,
   "metadata": {},
   "outputs": [
    {
     "data": {
      "text/html": [
       "<style>\n",
       ".list-inline {list-style: none; margin:0; padding: 0}\n",
       ".list-inline>li {display: inline-block}\n",
       ".list-inline>li:not(:last-child)::after {content: \"\\00b7\"; padding: 0 .5ex}\n",
       "</style>\n",
       "<ol class=list-inline><li>140</li><li>-50</li><li>20</li><li>-120</li><li>240</li></ol>\n"
      ],
      "text/latex": [
       "\\begin{enumerate*}\n",
       "\\item 140\n",
       "\\item -50\n",
       "\\item 20\n",
       "\\item -120\n",
       "\\item 240\n",
       "\\end{enumerate*}\n"
      ],
      "text/markdown": [
       "1. 140\n",
       "2. -50\n",
       "3. 20\n",
       "4. -120\n",
       "5. 240\n",
       "\n",
       "\n"
      ],
      "text/plain": [
       "[1]  140  -50   20 -120  240"
      ]
     },
     "metadata": {},
     "output_type": "display_data"
    },
    {
     "data": {
      "text/html": [
       "<style>\n",
       ".list-inline {list-style: none; margin:0; padding: 0}\n",
       ".list-inline>li {display: inline-block}\n",
       ".list-inline>li:not(:last-child)::after {content: \"\\00b7\"; padding: 0 .5ex}\n",
       "</style>\n",
       "<ol class=list-inline><li>-24</li><li>-50</li><li>100</li><li>-350</li><li>10</li></ol>\n"
      ],
      "text/latex": [
       "\\begin{enumerate*}\n",
       "\\item -24\n",
       "\\item -50\n",
       "\\item 100\n",
       "\\item -350\n",
       "\\item 10\n",
       "\\end{enumerate*}\n"
      ],
      "text/markdown": [
       "1. -24\n",
       "2. -50\n",
       "3. 100\n",
       "4. -350\n",
       "5. 10\n",
       "\n",
       "\n"
      ],
      "text/plain": [
       "[1]  -24  -50  100 -350   10"
      ]
     },
     "metadata": {},
     "output_type": "display_data"
    }
   ],
   "source": [
    "poker\n",
    "ruleta"
   ]
  },
  {
   "cell_type": "markdown",
   "metadata": {},
   "source": [
    "Ahora crea un vector llamado **dias** con los días de la semana en que jugaste"
   ]
  },
  {
   "cell_type": "code",
   "execution_count": 10,
   "metadata": {},
   "outputs": [],
   "source": [
    "dias <- c(\"Lunes\",\"Martes\",\"Miércoles\",\"Jueves\",\"Viernes\")"
   ]
  },
  {
   "cell_type": "markdown",
   "metadata": {},
   "source": [
    "Como una lista de número no nos dice mucho, empecemos por rotular estos número con la función `names(Nombre del objeto)` podemos extraer el encabezado de un vector"
   ]
  },
  {
   "cell_type": "code",
   "execution_count": 11,
   "metadata": {},
   "outputs": [
    {
     "data": {
      "text/plain": [
       "NULL"
      ]
     },
     "metadata": {},
     "output_type": "display_data"
    },
    {
     "data": {
      "text/plain": [
       "NULL"
      ]
     },
     "metadata": {},
     "output_type": "display_data"
    },
    {
     "data": {
      "text/plain": [
       "NULL"
      ]
     },
     "metadata": {},
     "output_type": "display_data"
    }
   ],
   "source": [
    "names(poker)\n",
    "names(ruleta)\n",
    "names(dias)"
   ]
  },
  {
   "cell_type": "markdown",
   "metadata": {},
   "source": [
    "Como podrás los vectores aun no tienen encabezados, por lo que podemos añadirselos, asignandole a names(Objecto) un vector con el titulo de cada valor, en este caso el vector **dias** que ya creamos. "
   ]
  },
  {
   "cell_type": "code",
   "execution_count": 12,
   "metadata": {},
   "outputs": [],
   "source": [
    "names(poker)  <- dias\n",
    "names(ruleta) <- dias    "
   ]
  },
  {
   "cell_type": "code",
   "execution_count": 13,
   "metadata": {},
   "outputs": [
    {
     "data": {
      "text/html": [
       "<style>\n",
       ".list-inline {list-style: none; margin:0; padding: 0}\n",
       ".list-inline>li {display: inline-block}\n",
       ".list-inline>li:not(:last-child)::after {content: \"\\00b7\"; padding: 0 .5ex}\n",
       "</style>\n",
       "<ol class=list-inline><li>'Lunes'</li><li>'Martes'</li><li>'Miércoles'</li><li>'Jueves'</li><li>'Viernes'</li></ol>\n"
      ],
      "text/latex": [
       "\\begin{enumerate*}\n",
       "\\item 'Lunes'\n",
       "\\item 'Martes'\n",
       "\\item 'Miércoles'\n",
       "\\item 'Jueves'\n",
       "\\item 'Viernes'\n",
       "\\end{enumerate*}\n"
      ],
      "text/markdown": [
       "1. 'Lunes'\n",
       "2. 'Martes'\n",
       "3. 'Miércoles'\n",
       "4. 'Jueves'\n",
       "5. 'Viernes'\n",
       "\n",
       "\n"
      ],
      "text/plain": [
       "[1] \"Lunes\"     \"Martes\"    \"Miércoles\" \"Jueves\"    \"Viernes\"  "
      ]
     },
     "metadata": {},
     "output_type": "display_data"
    },
    {
     "data": {
      "text/html": [
       "<style>\n",
       ".list-inline {list-style: none; margin:0; padding: 0}\n",
       ".list-inline>li {display: inline-block}\n",
       ".list-inline>li:not(:last-child)::after {content: \"\\00b7\"; padding: 0 .5ex}\n",
       "</style>\n",
       "<ol class=list-inline><li>'Lunes'</li><li>'Martes'</li><li>'Miércoles'</li><li>'Jueves'</li><li>'Viernes'</li></ol>\n"
      ],
      "text/latex": [
       "\\begin{enumerate*}\n",
       "\\item 'Lunes'\n",
       "\\item 'Martes'\n",
       "\\item 'Miércoles'\n",
       "\\item 'Jueves'\n",
       "\\item 'Viernes'\n",
       "\\end{enumerate*}\n"
      ],
      "text/markdown": [
       "1. 'Lunes'\n",
       "2. 'Martes'\n",
       "3. 'Miércoles'\n",
       "4. 'Jueves'\n",
       "5. 'Viernes'\n",
       "\n",
       "\n"
      ],
      "text/plain": [
       "[1] \"Lunes\"     \"Martes\"    \"Miércoles\" \"Jueves\"    \"Viernes\"  "
      ]
     },
     "metadata": {},
     "output_type": "display_data"
    }
   ],
   "source": [
    "names(poker)\n",
    "names(ruleta)"
   ]
  },
  {
   "cell_type": "markdown",
   "metadata": {},
   "source": [
    "Ahora veamos como luce nuestros vectores **poker** y **ruleta**"
   ]
  },
  {
   "cell_type": "code",
   "execution_count": 14,
   "metadata": {},
   "outputs": [
    {
     "data": {
      "text/html": [
       "<style>\n",
       ".dl-inline {width: auto; margin:0; padding: 0}\n",
       ".dl-inline>dt, .dl-inline>dd {float: none; width: auto; display: inline-block}\n",
       ".dl-inline>dt::after {content: \":\\0020\"; padding-right: .5ex}\n",
       ".dl-inline>dt:not(:first-of-type) {padding-left: .5ex}\n",
       "</style><dl class=dl-inline><dt>Lunes</dt><dd>140</dd><dt>Martes</dt><dd>-50</dd><dt>Miércoles</dt><dd>20</dd><dt>Jueves</dt><dd>-120</dd><dt>Viernes</dt><dd>240</dd></dl>\n"
      ],
      "text/latex": [
       "\\begin{description*}\n",
       "\\item[Lunes] 140\n",
       "\\item[Martes] -50\n",
       "\\item[Miércoles] 20\n",
       "\\item[Jueves] -120\n",
       "\\item[Viernes] 240\n",
       "\\end{description*}\n"
      ],
      "text/markdown": [
       "Lunes\n",
       ":   140Martes\n",
       ":   -50Miércoles\n",
       ":   20Jueves\n",
       ":   -120Viernes\n",
       ":   240\n",
       "\n"
      ],
      "text/plain": [
       "    Lunes    Martes Miércoles    Jueves   Viernes \n",
       "      140       -50        20      -120       240 "
      ]
     },
     "metadata": {},
     "output_type": "display_data"
    },
    {
     "data": {
      "text/html": [
       "<style>\n",
       ".dl-inline {width: auto; margin:0; padding: 0}\n",
       ".dl-inline>dt, .dl-inline>dd {float: none; width: auto; display: inline-block}\n",
       ".dl-inline>dt::after {content: \":\\0020\"; padding-right: .5ex}\n",
       ".dl-inline>dt:not(:first-of-type) {padding-left: .5ex}\n",
       "</style><dl class=dl-inline><dt>Lunes</dt><dd>-24</dd><dt>Martes</dt><dd>-50</dd><dt>Miércoles</dt><dd>100</dd><dt>Jueves</dt><dd>-350</dd><dt>Viernes</dt><dd>10</dd></dl>\n"
      ],
      "text/latex": [
       "\\begin{description*}\n",
       "\\item[Lunes] -24\n",
       "\\item[Martes] -50\n",
       "\\item[Miércoles] 100\n",
       "\\item[Jueves] -350\n",
       "\\item[Viernes] 10\n",
       "\\end{description*}\n"
      ],
      "text/markdown": [
       "Lunes\n",
       ":   -24Martes\n",
       ":   -50Miércoles\n",
       ":   100Jueves\n",
       ":   -350Viernes\n",
       ":   10\n",
       "\n"
      ],
      "text/plain": [
       "    Lunes    Martes Miércoles    Jueves   Viernes \n",
       "      -24       -50       100      -350        10 "
      ]
     },
     "metadata": {},
     "output_type": "display_data"
    }
   ],
   "source": [
    "poker\n",
    "ruleta"
   ]
  },
  {
   "cell_type": "markdown",
   "metadata": {},
   "source": [
    "Otra cosa interesante de los vectores es que, siempre y cuando sean numéricos, podemos hacer operaciones con ellos, veamos"
   ]
  },
  {
   "cell_type": "code",
   "execution_count": 15,
   "metadata": {},
   "outputs": [
    {
     "data": {
      "text/html": [
       "<style>\n",
       ".dl-inline {width: auto; margin:0; padding: 0}\n",
       ".dl-inline>dt, .dl-inline>dd {float: none; width: auto; display: inline-block}\n",
       ".dl-inline>dt::after {content: \":\\0020\"; padding-right: .5ex}\n",
       ".dl-inline>dt:not(:first-of-type) {padding-left: .5ex}\n",
       "</style><dl class=dl-inline><dt>Lunes</dt><dd>116</dd><dt>Martes</dt><dd>-100</dd><dt>Miércoles</dt><dd>120</dd><dt>Jueves</dt><dd>-470</dd><dt>Viernes</dt><dd>250</dd></dl>\n"
      ],
      "text/latex": [
       "\\begin{description*}\n",
       "\\item[Lunes] 116\n",
       "\\item[Martes] -100\n",
       "\\item[Miércoles] 120\n",
       "\\item[Jueves] -470\n",
       "\\item[Viernes] 250\n",
       "\\end{description*}\n"
      ],
      "text/markdown": [
       "Lunes\n",
       ":   116Martes\n",
       ":   -100Miércoles\n",
       ":   120Jueves\n",
       ":   -470Viernes\n",
       ":   250\n",
       "\n"
      ],
      "text/plain": [
       "    Lunes    Martes Miércoles    Jueves   Viernes \n",
       "      116      -100       120      -470       250 "
      ]
     },
     "metadata": {},
     "output_type": "display_data"
    }
   ],
   "source": [
    "poker + ruleta"
   ]
  },
  {
   "cell_type": "markdown",
   "metadata": {},
   "source": [
    "Como vemos podemos apreciar cuanto es lo que ganamos y perdimos en cada días. Y ¿si quisieramos hacer la sumatoria de cada juego por separado? podríamos hacer lo siguiente: <br>\n",
    "Ver el vector poker"
   ]
  },
  {
   "cell_type": "code",
   "execution_count": 16,
   "metadata": {},
   "outputs": [
    {
     "data": {
      "text/html": [
       "<style>\n",
       ".dl-inline {width: auto; margin:0; padding: 0}\n",
       ".dl-inline>dt, .dl-inline>dd {float: none; width: auto; display: inline-block}\n",
       ".dl-inline>dt::after {content: \":\\0020\"; padding-right: .5ex}\n",
       ".dl-inline>dt:not(:first-of-type) {padding-left: .5ex}\n",
       "</style><dl class=dl-inline><dt>Lunes</dt><dd>140</dd><dt>Martes</dt><dd>-50</dd><dt>Miércoles</dt><dd>20</dd><dt>Jueves</dt><dd>-120</dd><dt>Viernes</dt><dd>240</dd></dl>\n"
      ],
      "text/latex": [
       "\\begin{description*}\n",
       "\\item[Lunes] 140\n",
       "\\item[Martes] -50\n",
       "\\item[Miércoles] 20\n",
       "\\item[Jueves] -120\n",
       "\\item[Viernes] 240\n",
       "\\end{description*}\n"
      ],
      "text/markdown": [
       "Lunes\n",
       ":   140Martes\n",
       ":   -50Miércoles\n",
       ":   20Jueves\n",
       ":   -120Viernes\n",
       ":   240\n",
       "\n"
      ],
      "text/plain": [
       "    Lunes    Martes Miércoles    Jueves   Viernes \n",
       "      140       -50        20      -120       240 "
      ]
     },
     "metadata": {},
     "output_type": "display_data"
    }
   ],
   "source": [
    "poker"
   ]
  },
  {
   "cell_type": "markdown",
   "metadata": {},
   "source": [
    "Y luego hacer la aritmética"
   ]
  },
  {
   "cell_type": "code",
   "execution_count": 17,
   "metadata": {},
   "outputs": [
    {
     "data": {
      "text/html": [
       "230"
      ],
      "text/latex": [
       "230"
      ],
      "text/markdown": [
       "230"
      ],
      "text/plain": [
       "[1] 230"
      ]
     },
     "metadata": {},
     "output_type": "display_data"
    }
   ],
   "source": [
    "140-50+20-120+240"
   ]
  },
  {
   "cell_type": "markdown",
   "metadata": {},
   "source": [
    "Pero, seamos honesto, eso es muy lento y muy propenso a errores, imagínate que tuvieras un vector con miles de números. ¡Qué flojera! Pero, afortunadamente, R cuenta con una función llamada `sum()` que nos ayuda a hacer la sumatoria de todos los elementos de un vector numérico de forma muy práctica"
   ]
  },
  {
   "cell_type": "code",
   "execution_count": 18,
   "metadata": {},
   "outputs": [
    {
     "data": {
      "text/html": [
       "230"
      ],
      "text/latex": [
       "230"
      ],
      "text/markdown": [
       "230"
      ],
      "text/plain": [
       "[1] 230"
      ]
     },
     "metadata": {},
     "output_type": "display_data"
    }
   ],
   "source": [
    "sum(poker)"
   ]
  },
  {
   "cell_type": "markdown",
   "metadata": {},
   "source": [
    "Ahora que ya sabes esto, quiero que hagas los siguiente:<br>\n",
    "- Calcula el total ganado en poker y guárdalo como **total_poker**\n",
    "- Haz lo mismo para ruleta y guárdalo como **total_ruleta**\n",
    "- Luego haz el cálculo de lo ganado en total durante la semana, tanto en poker como en ruleta.\n",
    "\n",
    "¿Qué valor te da? ¿Ganaste o perdiste dinero?"
   ]
  },
  {
   "cell_type": "markdown",
   "metadata": {},
   "source": [
    "Bien, ¿y si quisieramos comparar en cual juego nos fue mejor? <br>\n",
    "Para eso podemos usar los símbolos:<br>\n",
    "- mayor que ( < )\n",
    "- menor que ( > )\n",
    "- igual que ( == )\n",
    "- distinto que ( != ) <br>\n",
    "\n",
    "Podemos preguntarle a R, por ejemplo, ¿Ganamos lo mismo en poker que en ruleta?"
   ]
  },
  {
   "cell_type": "code",
   "execution_count": 19,
   "metadata": {},
   "outputs": [],
   "source": [
    "total_poker <-sum(poker)\n",
    "total_ruleta <-sum(ruleta)"
   ]
  },
  {
   "cell_type": "code",
   "execution_count": 20,
   "metadata": {},
   "outputs": [
    {
     "data": {
      "text/html": [
       "FALSE"
      ],
      "text/latex": [
       "FALSE"
      ],
      "text/markdown": [
       "FALSE"
      ],
      "text/plain": [
       "[1] FALSE"
      ]
     },
     "metadata": {},
     "output_type": "display_data"
    }
   ],
   "source": [
    "total_poker == total_ruleta"
   ]
  },
  {
   "cell_type": "markdown",
   "metadata": {},
   "source": [
    "Entonces, de ser así probemos a ver si ganamos más en ruleta que en poker"
   ]
  },
  {
   "cell_type": "code",
   "execution_count": 21,
   "metadata": {},
   "outputs": [
    {
     "data": {
      "text/html": [
       "FALSE"
      ],
      "text/latex": [
       "FALSE"
      ],
      "text/markdown": [
       "FALSE"
      ],
      "text/plain": [
       "[1] FALSE"
      ]
     },
     "metadata": {},
     "output_type": "display_data"
    }
   ],
   "source": [
    "total_poker < total_ruleta"
   ]
  },
  {
   "cell_type": "markdown",
   "metadata": {},
   "source": [
    "OK, veamos el caso contrario"
   ]
  },
  {
   "cell_type": "code",
   "execution_count": 22,
   "metadata": {},
   "outputs": [
    {
     "data": {
      "text/html": [
       "TRUE"
      ],
      "text/latex": [
       "TRUE"
      ],
      "text/markdown": [
       "TRUE"
      ],
      "text/plain": [
       "[1] TRUE"
      ]
     },
     "metadata": {},
     "output_type": "display_data"
    }
   ],
   "source": [
    "total_poker > total_ruleta"
   ]
  },
  {
   "cell_type": "markdown",
   "metadata": {},
   "source": [
    "Como vemos, con unas sencillas operaciones de lógica podemos determinar si un valor es identico, distinto, mayor o menor que otro.\n",
    "¡Genial! ahora, ¿qué harías si quisieras seleccionar un valor específico de un vector? <br>\n",
    "Bueno, para eso podemos usar la siguiente notación:<br>\n",
    "                       \n",
    "      nombredelvector[número o nombre de la posición]\n",
    "                    \n",
    "Veamos un ejemplo        "
   ]
  },
  {
   "cell_type": "code",
   "execution_count": 23,
   "metadata": {},
   "outputs": [
    {
     "data": {
      "text/html": [
       "<strong>Miércoles:</strong> 20"
      ],
      "text/latex": [
       "\\textbf{Miércoles:} 20"
      ],
      "text/markdown": [
       "**Miércoles:** 20"
      ],
      "text/plain": [
       "Miércoles \n",
       "       20 "
      ]
     },
     "metadata": {},
     "output_type": "display_data"
    },
    {
     "data": {
      "text/html": [
       "<strong>Jueves:</strong> -120"
      ],
      "text/latex": [
       "\\textbf{Jueves:} -120"
      ],
      "text/markdown": [
       "**Jueves:** -120"
      ],
      "text/plain": [
       "Jueves \n",
       "  -120 "
      ]
     },
     "metadata": {},
     "output_type": "display_data"
    }
   ],
   "source": [
    "poker[3]\n",
    "poker[\"Jueves\"]"
   ]
  },
  {
   "cell_type": "markdown",
   "metadata": {},
   "source": [
    "Como ves, es muy fácil seleccionar un elemento de un vector. En caso de querer hacer la selección de múltiples elementos, puedes dentro de los corchetes poner otro vector de número con las posiciones que quieras seleccionar. Por ejemplo, elijamos el lunes, miercoles y viernes"
   ]
  },
  {
   "cell_type": "code",
   "execution_count": 24,
   "metadata": {},
   "outputs": [
    {
     "data": {
      "text/html": [
       "<style>\n",
       ".dl-inline {width: auto; margin:0; padding: 0}\n",
       ".dl-inline>dt, .dl-inline>dd {float: none; width: auto; display: inline-block}\n",
       ".dl-inline>dt::after {content: \":\\0020\"; padding-right: .5ex}\n",
       ".dl-inline>dt:not(:first-of-type) {padding-left: .5ex}\n",
       "</style><dl class=dl-inline><dt>Lunes</dt><dd>140</dd><dt>Miércoles</dt><dd>20</dd><dt>Viernes</dt><dd>240</dd></dl>\n"
      ],
      "text/latex": [
       "\\begin{description*}\n",
       "\\item[Lunes] 140\n",
       "\\item[Miércoles] 20\n",
       "\\item[Viernes] 240\n",
       "\\end{description*}\n"
      ],
      "text/markdown": [
       "Lunes\n",
       ":   140Miércoles\n",
       ":   20Viernes\n",
       ":   240\n",
       "\n"
      ],
      "text/plain": [
       "    Lunes Miércoles   Viernes \n",
       "      140        20       240 "
      ]
     },
     "metadata": {},
     "output_type": "display_data"
    }
   ],
   "source": [
    "poker[c(1,3,5)]"
   ]
  },
  {
   "cell_type": "markdown",
   "metadata": {},
   "source": [
    "De quererlo hacer con número consecutivos puede usar la notación:<br>\n",
    "\n",
    "       nombre del vector[numeroinicial:numerofinal]\n",
    "                 \n",
    "Veamos, elijamos de martes a jueves"
   ]
  },
  {
   "cell_type": "code",
   "execution_count": 25,
   "metadata": {},
   "outputs": [
    {
     "data": {
      "text/html": [
       "<style>\n",
       ".dl-inline {width: auto; margin:0; padding: 0}\n",
       ".dl-inline>dt, .dl-inline>dd {float: none; width: auto; display: inline-block}\n",
       ".dl-inline>dt::after {content: \":\\0020\"; padding-right: .5ex}\n",
       ".dl-inline>dt:not(:first-of-type) {padding-left: .5ex}\n",
       "</style><dl class=dl-inline><dt>Martes</dt><dd>-50</dd><dt>Miércoles</dt><dd>20</dd><dt>Jueves</dt><dd>-120</dd></dl>\n"
      ],
      "text/latex": [
       "\\begin{description*}\n",
       "\\item[Martes] -50\n",
       "\\item[Miércoles] 20\n",
       "\\item[Jueves] -120\n",
       "\\end{description*}\n"
      ],
      "text/markdown": [
       "Martes\n",
       ":   -50Miércoles\n",
       ":   20Jueves\n",
       ":   -120\n",
       "\n"
      ],
      "text/plain": [
       "   Martes Miércoles    Jueves \n",
       "      -50        20      -120 "
      ]
     },
     "metadata": {},
     "output_type": "display_data"
    }
   ],
   "source": [
    "poker[2:4]"
   ]
  },
  {
   "cell_type": "markdown",
   "metadata": {},
   "source": [
    "¡Excelente! Como ves es muy sencillo, ahora me gustaría que hicieras el siguiente ejercicio:<br>\n",
    "- Con el vector **ruleta** selecciona los valores de Lunes, Martes y Jueves y guardarlos en un vector llamado **LMJ** e imprimelos\n",
    "- Con el vector poker selecciona Lunes, Martes y Miércoles y guárdalos como **LMM*\n",
    "- Calcula la media del vector **LMM** \n",
    "\n",
    "Para calcular la media existe una función llamada `mean()`, se usa tal y como se usa `sum()`"
   ]
  },
  {
   "cell_type": "markdown",
   "metadata": {},
   "source": [
    "Ahora continuemos con algo interesante, ¿Qué tal si quisiera saber en qué dias gane y en cuales perdí? Bueno, para determinar eso necesitamos saber si lo que ganamos en cierto día es más que 0, entonces podemos hacer esa operación en R de la siguiente forma"
   ]
  },
  {
   "cell_type": "code",
   "execution_count": 26,
   "metadata": {},
   "outputs": [
    {
     "data": {
      "text/html": [
       "<style>\n",
       ".dl-inline {width: auto; margin:0; padding: 0}\n",
       ".dl-inline>dt, .dl-inline>dd {float: none; width: auto; display: inline-block}\n",
       ".dl-inline>dt::after {content: \":\\0020\"; padding-right: .5ex}\n",
       ".dl-inline>dt:not(:first-of-type) {padding-left: .5ex}\n",
       "</style><dl class=dl-inline><dt>Lunes</dt><dd>TRUE</dd><dt>Martes</dt><dd>FALSE</dd><dt>Miércoles</dt><dd>TRUE</dd><dt>Jueves</dt><dd>FALSE</dd><dt>Viernes</dt><dd>TRUE</dd></dl>\n"
      ],
      "text/latex": [
       "\\begin{description*}\n",
       "\\item[Lunes] TRUE\n",
       "\\item[Martes] FALSE\n",
       "\\item[Miércoles] TRUE\n",
       "\\item[Jueves] FALSE\n",
       "\\item[Viernes] TRUE\n",
       "\\end{description*}\n"
      ],
      "text/markdown": [
       "Lunes\n",
       ":   TRUEMartes\n",
       ":   FALSEMiércoles\n",
       ":   TRUEJueves\n",
       ":   FALSEViernes\n",
       ":   TRUE\n",
       "\n"
      ],
      "text/plain": [
       "    Lunes    Martes Miércoles    Jueves   Viernes \n",
       "     TRUE     FALSE      TRUE     FALSE      TRUE "
      ]
     },
     "metadata": {},
     "output_type": "display_data"
    }
   ],
   "source": [
    "poker > 0"
   ]
  },
  {
   "cell_type": "markdown",
   "metadata": {},
   "source": [
    "¡Sencillito! Entonces podemos hacer esas mismas operaciones, para saber los días, por ejemplo, en que perdimos :( <br>\n",
    "Inténtalo\n"
   ]
  },
  {
   "cell_type": "markdown",
   "metadata": {},
   "source": [
    "Ahora probemos guardar el resultado de los días en que perdimos en el poker en un vector llamado **perdidas** y seleccionemos usando la notación que ya conocemos para seleccionar elementos de vectores, solo que en lugar de un número o el nombre de un encabezado, coloquemos el nombre del nuevo vector. ¿Qué resultado esperarías?"
   ]
  },
  {
   "cell_type": "code",
   "execution_count": 27,
   "metadata": {},
   "outputs": [
    {
     "data": {
      "text/html": [
       "<style>\n",
       ".dl-inline {width: auto; margin:0; padding: 0}\n",
       ".dl-inline>dt, .dl-inline>dd {float: none; width: auto; display: inline-block}\n",
       ".dl-inline>dt::after {content: \":\\0020\"; padding-right: .5ex}\n",
       ".dl-inline>dt:not(:first-of-type) {padding-left: .5ex}\n",
       "</style><dl class=dl-inline><dt>Martes</dt><dd>-50</dd><dt>Jueves</dt><dd>-120</dd></dl>\n"
      ],
      "text/latex": [
       "\\begin{description*}\n",
       "\\item[Martes] -50\n",
       "\\item[Jueves] -120\n",
       "\\end{description*}\n"
      ],
      "text/markdown": [
       "Martes\n",
       ":   -50Jueves\n",
       ":   -120\n",
       "\n"
      ],
      "text/plain": [
       "Martes Jueves \n",
       "   -50   -120 "
      ]
     },
     "metadata": {},
     "output_type": "display_data"
    }
   ],
   "source": [
    "perdidas <- poker < 0\n",
    "poker[perdidas]"
   ]
  },
  {
   "cell_type": "markdown",
   "metadata": {},
   "source": [
    "### Matrices"
   ]
  },
  {
   "cell_type": "markdown",
   "metadata": {},
   "source": [
    "Ahora veremos otro tipo de objeto utilizado en R, que consiste de una colección de elementos del mismo tipo de dato (númerico, carácter y lógicos) acomodados en un arreglo fijo de columnas y filas, o 2 dimensiones. Para construir una matriz en R usamos la función `matrix()` <br>\n",
    "A continuación un ejemplo"
   ]
  },
  {
   "cell_type": "code",
   "execution_count": 28,
   "metadata": {},
   "outputs": [
    {
     "data": {
      "text/html": [
       "<table>\n",
       "<caption>A matrix: 3 × 3 of type int</caption>\n",
       "<tbody>\n",
       "\t<tr><td>1</td><td>2</td><td>3</td></tr>\n",
       "\t<tr><td>4</td><td>5</td><td>6</td></tr>\n",
       "\t<tr><td>7</td><td>8</td><td>9</td></tr>\n",
       "</tbody>\n",
       "</table>\n"
      ],
      "text/latex": [
       "A matrix: 3 × 3 of type int\n",
       "\\begin{tabular}{lll}\n",
       "\t 1 & 2 & 3\\\\\n",
       "\t 4 & 5 & 6\\\\\n",
       "\t 7 & 8 & 9\\\\\n",
       "\\end{tabular}\n"
      ],
      "text/markdown": [
       "\n",
       "A matrix: 3 × 3 of type int\n",
       "\n",
       "| 1 | 2 | 3 |\n",
       "| 4 | 5 | 6 |\n",
       "| 7 | 8 | 9 |\n",
       "\n"
      ],
      "text/plain": [
       "     [,1] [,2] [,3]\n",
       "[1,] 1    2    3   \n",
       "[2,] 4    5    6   \n",
       "[3,] 7    8    9   "
      ]
     },
     "metadata": {},
     "output_type": "display_data"
    }
   ],
   "source": [
    "matrix(1:9, byrow = TRUE, nrow = 3)\n"
   ]
  },
  {
   "cell_type": "markdown",
   "metadata": {},
   "source": [
    "Para prácticar con la construcción y manipulación de matrices, hagamos el siguiente ejercicio con los números de las ganacias en taquilla de las películas de Star Wars en Estados Unidos y fuera de Estados Unidos. Estos están guardados en los siguientes vectores"
   ]
  },
  {
   "cell_type": "code",
   "execution_count": 29,
   "metadata": {},
   "outputs": [],
   "source": [
    "new_hope <- c(460.998, 314.4)\n",
    "empire_strikes <- c(290.475, 247.900)\n",
    "return_jedi <- c(309.306, 165.8)"
   ]
  },
  {
   "cell_type": "markdown",
   "metadata": {},
   "source": [
    "Guarda esos 3 vectores en una variable llamada **box_office**. <br>\n",
    "Ahora construye una matriz de 3 filas con cada una de las películas y llámala **starwars_matrix**"
   ]
  },
  {
   "cell_type": "code",
   "execution_count": 30,
   "metadata": {},
   "outputs": [],
   "source": [
    "box_office <- c(new_hope, empire_strikes, return_jedi)\n",
    "starwars_matrix <- matrix(box_office, nrow= 3, byrow = TRUE)"
   ]
  },
  {
   "cell_type": "code",
   "execution_count": 31,
   "metadata": {},
   "outputs": [
    {
     "data": {
      "text/html": [
       "<style>\n",
       ".list-inline {list-style: none; margin:0; padding: 0}\n",
       ".list-inline>li {display: inline-block}\n",
       ".list-inline>li:not(:last-child)::after {content: \"\\00b7\"; padding: 0 .5ex}\n",
       "</style>\n",
       "<ol class=list-inline><li>460.998</li><li>314.4</li><li>290.475</li><li>247.9</li><li>309.306</li><li>165.8</li></ol>\n"
      ],
      "text/latex": [
       "\\begin{enumerate*}\n",
       "\\item 460.998\n",
       "\\item 314.4\n",
       "\\item 290.475\n",
       "\\item 247.9\n",
       "\\item 309.306\n",
       "\\item 165.8\n",
       "\\end{enumerate*}\n"
      ],
      "text/markdown": [
       "1. 460.998\n",
       "2. 314.4\n",
       "3. 290.475\n",
       "4. 247.9\n",
       "5. 309.306\n",
       "6. 165.8\n",
       "\n",
       "\n"
      ],
      "text/plain": [
       "[1] 460.998 314.400 290.475 247.900 309.306 165.800"
      ]
     },
     "metadata": {},
     "output_type": "display_data"
    }
   ],
   "source": [
    "box_office"
   ]
  },
  {
   "cell_type": "code",
   "execution_count": 32,
   "metadata": {},
   "outputs": [
    {
     "data": {
      "text/html": [
       "<table>\n",
       "<caption>A matrix: 3 × 2 of type dbl</caption>\n",
       "<tbody>\n",
       "\t<tr><td>460.998</td><td>314.4</td></tr>\n",
       "\t<tr><td>290.475</td><td>247.9</td></tr>\n",
       "\t<tr><td>309.306</td><td>165.8</td></tr>\n",
       "</tbody>\n",
       "</table>\n"
      ],
      "text/latex": [
       "A matrix: 3 × 2 of type dbl\n",
       "\\begin{tabular}{ll}\n",
       "\t 460.998 & 314.4\\\\\n",
       "\t 290.475 & 247.9\\\\\n",
       "\t 309.306 & 165.8\\\\\n",
       "\\end{tabular}\n"
      ],
      "text/markdown": [
       "\n",
       "A matrix: 3 × 2 of type dbl\n",
       "\n",
       "| 460.998 | 314.4 |\n",
       "| 290.475 | 247.9 |\n",
       "| 309.306 | 165.8 |\n",
       "\n"
      ],
      "text/plain": [
       "     [,1]    [,2] \n",
       "[1,] 460.998 314.4\n",
       "[2,] 290.475 247.9\n",
       "[3,] 309.306 165.8"
      ]
     },
     "metadata": {},
     "output_type": "display_data"
    }
   ],
   "source": [
    "starwars_matrix"
   ]
  },
  {
   "cell_type": "markdown",
   "metadata": {},
   "source": [
    "Con la función `colnames()` podemos extraer los nombres de las columnas de una matriz y con la función `rownames()` podemos ver los nombres de filas, o como vimos en el caso de los vectores, podemos añadirle nombres.<br> Añade los títulos de filas y columnas con los siguientes vectores:"
   ]
  },
  {
   "cell_type": "code",
   "execution_count": 33,
   "metadata": {},
   "outputs": [],
   "source": [
    "region <- c(\"US\", \"non-US\")\n",
    "titles <- c(\"A New Hope\", \"The Empire Strikes Back\", \"Return of the Jedi\")"
   ]
  },
  {
   "cell_type": "markdown",
   "metadata": {},
   "source": [
    "Ahora imprime la matriz, debe verse así:\n",
    "\n",
    "                                 US  non-US\n",
    "    A New Hope              460.998  314.4\n",
    "    The Empire Strikes Back 290.475  247.9\n",
    "    Return of the Jedi      309.306  165.8\n",
    "    "
   ]
  },
  {
   "cell_type": "code",
   "execution_count": 34,
   "metadata": {},
   "outputs": [
    {
     "data": {
      "text/html": [
       "<table>\n",
       "<caption>A matrix: 3 × 2 of type dbl</caption>\n",
       "<thead>\n",
       "\t<tr><th></th><th scope=col>US</th><th scope=col>non-US</th></tr>\n",
       "</thead>\n",
       "<tbody>\n",
       "\t<tr><th scope=row>A New Hope</th><td>460.998</td><td>314.4</td></tr>\n",
       "\t<tr><th scope=row>The Empire Strikes Back</th><td>290.475</td><td>247.9</td></tr>\n",
       "\t<tr><th scope=row>Return of the Jedi</th><td>309.306</td><td>165.8</td></tr>\n",
       "</tbody>\n",
       "</table>\n"
      ],
      "text/latex": [
       "A matrix: 3 × 2 of type dbl\n",
       "\\begin{tabular}{r|ll}\n",
       "  & US & non-US\\\\\n",
       "\\hline\n",
       "\tA New Hope & 460.998 & 314.4\\\\\n",
       "\tThe Empire Strikes Back & 290.475 & 247.9\\\\\n",
       "\tReturn of the Jedi & 309.306 & 165.8\\\\\n",
       "\\end{tabular}\n"
      ],
      "text/markdown": [
       "\n",
       "A matrix: 3 × 2 of type dbl\n",
       "\n",
       "| <!--/--> | US | non-US |\n",
       "|---|---|---|\n",
       "| A New Hope | 460.998 | 314.4 |\n",
       "| The Empire Strikes Back | 290.475 | 247.9 |\n",
       "| Return of the Jedi | 309.306 | 165.8 |\n",
       "\n"
      ],
      "text/plain": [
       "                        US      non-US\n",
       "A New Hope              460.998 314.4 \n",
       "The Empire Strikes Back 290.475 247.9 \n",
       "Return of the Jedi      309.306 165.8 "
      ]
     },
     "metadata": {},
     "output_type": "display_data"
    }
   ],
   "source": [
    "rownames(starwars_matrix) <- titles\n",
    "colnames(starwars_matrix) <- region\n",
    "starwars_matrix"
   ]
  },
  {
   "cell_type": "markdown",
   "metadata": {},
   "source": [
    "También podemos hacer la suma de los valores de las filas con la función `rowSums()` probemos la función"
   ]
  },
  {
   "cell_type": "code",
   "execution_count": 35,
   "metadata": {},
   "outputs": [
    {
     "data": {
      "text/html": [
       "<style>\n",
       ".dl-inline {width: auto; margin:0; padding: 0}\n",
       ".dl-inline>dt, .dl-inline>dd {float: none; width: auto; display: inline-block}\n",
       ".dl-inline>dt::after {content: \":\\0020\"; padding-right: .5ex}\n",
       ".dl-inline>dt:not(:first-of-type) {padding-left: .5ex}\n",
       "</style><dl class=dl-inline><dt>A New Hope</dt><dd>775.398</dd><dt>The Empire Strikes Back</dt><dd>538.375</dd><dt>Return of the Jedi</dt><dd>475.106</dd></dl>\n"
      ],
      "text/latex": [
       "\\begin{description*}\n",
       "\\item[A New Hope] 775.398\n",
       "\\item[The Empire Strikes Back] 538.375\n",
       "\\item[Return of the Jedi] 475.106\n",
       "\\end{description*}\n"
      ],
      "text/markdown": [
       "A New Hope\n",
       ":   775.398The Empire Strikes Back\n",
       ":   538.375Return of the Jedi\n",
       ":   475.106\n",
       "\n"
      ],
      "text/plain": [
       "             A New Hope The Empire Strikes Back      Return of the Jedi \n",
       "                775.398                 538.375                 475.106 "
      ]
     },
     "metadata": {},
     "output_type": "display_data"
    }
   ],
   "source": [
    "rowSums(starwars_matrix)"
   ]
  },
  {
   "cell_type": "markdown",
   "metadata": {},
   "source": [
    "Guardemos los resultados en una variable llamada **totales**"
   ]
  },
  {
   "cell_type": "code",
   "execution_count": 36,
   "metadata": {},
   "outputs": [],
   "source": [
    "totales <- rowSums(starwars_matrix)"
   ]
  },
  {
   "cell_type": "markdown",
   "metadata": {},
   "source": [
    "Exploremos ahora una función llamada `cbind()` que conjuga matrices o vectores juntos por columnas. <br> Probemosla"
   ]
  },
  {
   "cell_type": "code",
   "execution_count": 37,
   "metadata": {},
   "outputs": [
    {
     "data": {
      "text/html": [
       "<table>\n",
       "<caption>A matrix: 3 × 3 of type dbl</caption>\n",
       "<thead>\n",
       "\t<tr><th></th><th scope=col>US</th><th scope=col>non-US</th><th scope=col>totales</th></tr>\n",
       "</thead>\n",
       "<tbody>\n",
       "\t<tr><th scope=row>A New Hope</th><td>460.998</td><td>314.4</td><td>775.398</td></tr>\n",
       "\t<tr><th scope=row>The Empire Strikes Back</th><td>290.475</td><td>247.9</td><td>538.375</td></tr>\n",
       "\t<tr><th scope=row>Return of the Jedi</th><td>309.306</td><td>165.8</td><td>475.106</td></tr>\n",
       "</tbody>\n",
       "</table>\n"
      ],
      "text/latex": [
       "A matrix: 3 × 3 of type dbl\n",
       "\\begin{tabular}{r|lll}\n",
       "  & US & non-US & totales\\\\\n",
       "\\hline\n",
       "\tA New Hope & 460.998 & 314.4 & 775.398\\\\\n",
       "\tThe Empire Strikes Back & 290.475 & 247.9 & 538.375\\\\\n",
       "\tReturn of the Jedi & 309.306 & 165.8 & 475.106\\\\\n",
       "\\end{tabular}\n"
      ],
      "text/markdown": [
       "\n",
       "A matrix: 3 × 3 of type dbl\n",
       "\n",
       "| <!--/--> | US | non-US | totales |\n",
       "|---|---|---|---|\n",
       "| A New Hope | 460.998 | 314.4 | 775.398 |\n",
       "| The Empire Strikes Back | 290.475 | 247.9 | 538.375 |\n",
       "| Return of the Jedi | 309.306 | 165.8 | 475.106 |\n",
       "\n"
      ],
      "text/plain": [
       "                        US      non-US totales\n",
       "A New Hope              460.998 314.4  775.398\n",
       "The Empire Strikes Back 290.475 247.9  538.375\n",
       "Return of the Jedi      309.306 165.8  475.106"
      ]
     },
     "metadata": {},
     "output_type": "display_data"
    }
   ],
   "source": [
    "cbind(starwars_matrix, totales)"
   ]
  },
  {
   "cell_type": "markdown",
   "metadata": {},
   "source": [
    "Guardemos esa matriz como **starwars_total**. <br> Ahora para que práctiquemos, construye la siguiente matriz y guardalo como **starwars_matrix2**:\n",
    "\n",
    "                            US non-US\n",
    "    The Phantom Menace   474.5  552.5\n",
    "    Attack of the Clones 310.7  338.7\n",
    "    Revenge of the Sith  380.3  468.5"
   ]
  },
  {
   "cell_type": "code",
   "execution_count": 38,
   "metadata": {},
   "outputs": [
    {
     "data": {
      "text/html": [
       "<table>\n",
       "<caption>A matrix: 3 × 2 of type dbl</caption>\n",
       "<thead>\n",
       "\t<tr><th></th><th scope=col>US</th><th scope=col>non-US</th></tr>\n",
       "</thead>\n",
       "<tbody>\n",
       "\t<tr><th scope=row>The Phantom Menace</th><td>474.5</td><td>552.5</td></tr>\n",
       "\t<tr><th scope=row>Attack of the Clones</th><td>310.7</td><td>338.7</td></tr>\n",
       "\t<tr><th scope=row>Revenge of the Sith</th><td>380.3</td><td>468.5</td></tr>\n",
       "</tbody>\n",
       "</table>\n"
      ],
      "text/latex": [
       "A matrix: 3 × 2 of type dbl\n",
       "\\begin{tabular}{r|ll}\n",
       "  & US & non-US\\\\\n",
       "\\hline\n",
       "\tThe Phantom Menace & 474.5 & 552.5\\\\\n",
       "\tAttack of the Clones & 310.7 & 338.7\\\\\n",
       "\tRevenge of the Sith & 380.3 & 468.5\\\\\n",
       "\\end{tabular}\n"
      ],
      "text/markdown": [
       "\n",
       "A matrix: 3 × 2 of type dbl\n",
       "\n",
       "| <!--/--> | US | non-US |\n",
       "|---|---|---|\n",
       "| The Phantom Menace | 474.5 | 552.5 |\n",
       "| Attack of the Clones | 310.7 | 338.7 |\n",
       "| Revenge of the Sith | 380.3 | 468.5 |\n",
       "\n"
      ],
      "text/plain": [
       "                     US    non-US\n",
       "The Phantom Menace   474.5 552.5 \n",
       "Attack of the Clones 310.7 338.7 \n",
       "Revenge of the Sith  380.3 468.5 "
      ]
     },
     "metadata": {},
     "output_type": "display_data"
    }
   ],
   "source": [
    "The_Phantom_Menace <- c(474.500, 552.500)\n",
    "Attack_of_the_clones <- c(310.700, 338.700)\n",
    "Revenge_of_the_Sith  <-  c(380.300, 468.500)\n",
    "taquilla <- c(The_Phantom_Menace, Attack_of_the_clones, Revenge_of_the_Sith)\n",
    "titles2 <- c(\"The Phantom Menace\", \"Attack of the Clones\", \"Revenge of the Sith\")\n",
    "starwars_matrix2 <- matrix(taquilla, nrow = 3, byrow = TRUE)\n",
    "colnames(starwars_matrix2) <- region\n",
    "rownames(starwars_matrix2) <- titles2\n",
    "starwars_matrix2"
   ]
  },
  {
   "cell_type": "markdown",
   "metadata": {},
   "source": [
    "Si quisieramos unir las filas de uno con el otro, podemos usar la función `rbind(matriz1, matriz2, ...)` "
   ]
  },
  {
   "cell_type": "code",
   "execution_count": 39,
   "metadata": {},
   "outputs": [
    {
     "data": {
      "text/html": [
       "<table>\n",
       "<caption>A matrix: 6 × 2 of type dbl</caption>\n",
       "<thead>\n",
       "\t<tr><th></th><th scope=col>US</th><th scope=col>non-US</th></tr>\n",
       "</thead>\n",
       "<tbody>\n",
       "\t<tr><th scope=row>A New Hope</th><td>460.998</td><td>314.4</td></tr>\n",
       "\t<tr><th scope=row>The Empire Strikes Back</th><td>290.475</td><td>247.9</td></tr>\n",
       "\t<tr><th scope=row>Return of the Jedi</th><td>309.306</td><td>165.8</td></tr>\n",
       "\t<tr><th scope=row>The Phantom Menace</th><td>474.500</td><td>552.5</td></tr>\n",
       "\t<tr><th scope=row>Attack of the Clones</th><td>310.700</td><td>338.7</td></tr>\n",
       "\t<tr><th scope=row>Revenge of the Sith</th><td>380.300</td><td>468.5</td></tr>\n",
       "</tbody>\n",
       "</table>\n"
      ],
      "text/latex": [
       "A matrix: 6 × 2 of type dbl\n",
       "\\begin{tabular}{r|ll}\n",
       "  & US & non-US\\\\\n",
       "\\hline\n",
       "\tA New Hope & 460.998 & 314.4\\\\\n",
       "\tThe Empire Strikes Back & 290.475 & 247.9\\\\\n",
       "\tReturn of the Jedi & 309.306 & 165.8\\\\\n",
       "\tThe Phantom Menace & 474.500 & 552.5\\\\\n",
       "\tAttack of the Clones & 310.700 & 338.7\\\\\n",
       "\tRevenge of the Sith & 380.300 & 468.5\\\\\n",
       "\\end{tabular}\n"
      ],
      "text/markdown": [
       "\n",
       "A matrix: 6 × 2 of type dbl\n",
       "\n",
       "| <!--/--> | US | non-US |\n",
       "|---|---|---|\n",
       "| A New Hope | 460.998 | 314.4 |\n",
       "| The Empire Strikes Back | 290.475 | 247.9 |\n",
       "| Return of the Jedi | 309.306 | 165.8 |\n",
       "| The Phantom Menace | 474.500 | 552.5 |\n",
       "| Attack of the Clones | 310.700 | 338.7 |\n",
       "| Revenge of the Sith | 380.300 | 468.5 |\n",
       "\n"
      ],
      "text/plain": [
       "                        US      non-US\n",
       "A New Hope              460.998 314.4 \n",
       "The Empire Strikes Back 290.475 247.9 \n",
       "Return of the Jedi      309.306 165.8 \n",
       "The Phantom Menace      474.500 552.5 \n",
       "Attack of the Clones    310.700 338.7 \n",
       "Revenge of the Sith     380.300 468.5 "
      ]
     },
     "metadata": {},
     "output_type": "display_data"
    }
   ],
   "source": [
    "rbind(starwars_matrix, starwars_matrix2)"
   ]
  },
  {
   "cell_type": "markdown",
   "metadata": {},
   "source": [
    "Guardemos esa matrix como **starwars_todas**"
   ]
  },
  {
   "cell_type": "code",
   "execution_count": 40,
   "metadata": {},
   "outputs": [],
   "source": [
    "starwars_todas <- rbind(starwars_matrix, starwars_matrix2)"
   ]
  },
  {
   "cell_type": "markdown",
   "metadata": {},
   "source": [
    "Y así como existe una función para sumar filas, también podemos sumar columnas con la función `colSums()`.<br> Probemosla con nuestra nueva matriz"
   ]
  },
  {
   "cell_type": "code",
   "execution_count": 41,
   "metadata": {},
   "outputs": [
    {
     "data": {
      "text/html": [
       "<style>\n",
       ".dl-inline {width: auto; margin:0; padding: 0}\n",
       ".dl-inline>dt, .dl-inline>dd {float: none; width: auto; display: inline-block}\n",
       ".dl-inline>dt::after {content: \":\\0020\"; padding-right: .5ex}\n",
       ".dl-inline>dt:not(:first-of-type) {padding-left: .5ex}\n",
       "</style><dl class=dl-inline><dt>US</dt><dd>2226.279</dd><dt>non-US</dt><dd>2087.8</dd></dl>\n"
      ],
      "text/latex": [
       "\\begin{description*}\n",
       "\\item[US] 2226.279\n",
       "\\item[non-US] 2087.8\n",
       "\\end{description*}\n"
      ],
      "text/markdown": [
       "US\n",
       ":   2226.279non-US\n",
       ":   2087.8\n",
       "\n"
      ],
      "text/plain": [
       "      US   non-US \n",
       "2226.279 2087.800 "
      ]
     },
     "metadata": {},
     "output_type": "display_data"
    }
   ],
   "source": [
    "colSums(starwars_todas)\n"
   ]
  },
  {
   "cell_type": "markdown",
   "metadata": {},
   "source": [
    "Ahora pongámos a prueba lo aprendido con la construcción de una matriz como la siguiente: <br>\n",
    "\n",
    "                                US   non-US  totales\n",
    "    A New Hope               460.998  314.400  775.398\n",
    "    The Empire Strikes Back  290.475  247.919  538.394\n",
    "    Return of the Jedi       309.306  165.800  475.106\n",
    "    The Phantom Menace       474.500  552.500 1027.000\n",
    "    Attack of the Clones     310.700  338.700  649.400\n",
    "    Revenge of the Sith      380.300  468.500  848.800\n",
    "    totales_globales         2226.279 2087.819 4314.098\n",
    "\n",
    "Y guardalo como **starwars_totales**\n"
   ]
  },
  {
   "cell_type": "code",
   "execution_count": 42,
   "metadata": {},
   "outputs": [
    {
     "data": {
      "text/html": [
       "<table>\n",
       "<caption>A matrix: 7 × 3 of type dbl</caption>\n",
       "<thead>\n",
       "\t<tr><th></th><th scope=col>US</th><th scope=col>non-US</th><th scope=col>totales</th></tr>\n",
       "</thead>\n",
       "<tbody>\n",
       "\t<tr><th scope=row>A New Hope</th><td> 460.998</td><td> 314.4</td><td> 775.398</td></tr>\n",
       "\t<tr><th scope=row>The Empire Strikes Back</th><td> 290.475</td><td> 247.9</td><td> 538.375</td></tr>\n",
       "\t<tr><th scope=row>Return of the Jedi</th><td> 309.306</td><td> 165.8</td><td> 475.106</td></tr>\n",
       "\t<tr><th scope=row>The Phantom Menace</th><td> 474.500</td><td> 552.5</td><td>1027.000</td></tr>\n",
       "\t<tr><th scope=row>Attack of the Clones</th><td> 310.700</td><td> 338.7</td><td> 649.400</td></tr>\n",
       "\t<tr><th scope=row>Revenge of the Sith</th><td> 380.300</td><td> 468.5</td><td> 848.800</td></tr>\n",
       "\t<tr><th scope=row>totales_globales</th><td>2226.279</td><td>2087.8</td><td>4314.079</td></tr>\n",
       "</tbody>\n",
       "</table>\n"
      ],
      "text/latex": [
       "A matrix: 7 × 3 of type dbl\n",
       "\\begin{tabular}{r|lll}\n",
       "  & US & non-US & totales\\\\\n",
       "\\hline\n",
       "\tA New Hope &  460.998 &  314.4 &  775.398\\\\\n",
       "\tThe Empire Strikes Back &  290.475 &  247.9 &  538.375\\\\\n",
       "\tReturn of the Jedi &  309.306 &  165.8 &  475.106\\\\\n",
       "\tThe Phantom Menace &  474.500 &  552.5 & 1027.000\\\\\n",
       "\tAttack of the Clones &  310.700 &  338.7 &  649.400\\\\\n",
       "\tRevenge of the Sith &  380.300 &  468.5 &  848.800\\\\\n",
       "\ttotales\\_globales & 2226.279 & 2087.8 & 4314.079\\\\\n",
       "\\end{tabular}\n"
      ],
      "text/markdown": [
       "\n",
       "A matrix: 7 × 3 of type dbl\n",
       "\n",
       "| <!--/--> | US | non-US | totales |\n",
       "|---|---|---|---|\n",
       "| A New Hope |  460.998 |  314.4 |  775.398 |\n",
       "| The Empire Strikes Back |  290.475 |  247.9 |  538.375 |\n",
       "| Return of the Jedi |  309.306 |  165.8 |  475.106 |\n",
       "| The Phantom Menace |  474.500 |  552.5 | 1027.000 |\n",
       "| Attack of the Clones |  310.700 |  338.7 |  649.400 |\n",
       "| Revenge of the Sith |  380.300 |  468.5 |  848.800 |\n",
       "| totales_globales | 2226.279 | 2087.8 | 4314.079 |\n",
       "\n"
      ],
      "text/plain": [
       "                        US       non-US totales \n",
       "A New Hope               460.998  314.4  775.398\n",
       "The Empire Strikes Back  290.475  247.9  538.375\n",
       "Return of the Jedi       309.306  165.8  475.106\n",
       "The Phantom Menace       474.500  552.5 1027.000\n",
       "Attack of the Clones     310.700  338.7  649.400\n",
       "Revenge of the Sith      380.300  468.5  848.800\n",
       "totales_globales        2226.279 2087.8 4314.079"
      ]
     },
     "metadata": {},
     "output_type": "display_data"
    }
   ],
   "source": [
    "totales_globales <- colSums(starwars_todas)\n",
    "starwars_globales <- rbind(starwars_todas, totales_globales)\n",
    "totales <- rowSums(starwars_globales)\n",
    "starwars_totales <- cbind(starwars_globales, totales)\n",
    "starwars_totales\n"
   ]
  },
  {
   "cell_type": "markdown",
   "metadata": {},
   "source": [
    "¡Genial! Ahora, ¿cómo haríamos la selección de un elemento dentro de una matriz? Bien, pues de una forma muy similar a la de los vectores, con el nombres del objeto seguido de corchetes o brackets `[]`pero al ser una matriz un objeto de 2 dimensiones debemos seleccionar de la siguiente forma:<br> \n",
    "\n",
    "            NombreMatriz[NúmeroFila,NúmeroColuma]\n",
    "            \n",
    "En caso de querer seleccionar todas las filas o todas la columnas, dejamos el espacio en blanco, ya sea antes o después de la coma, respectivamente. <br>\n",
    "\n",
    "Probemoslo seleccionando las ganancias de todas la peliculas fuera de los US."
   ]
  },
  {
   "cell_type": "code",
   "execution_count": 43,
   "metadata": {},
   "outputs": [
    {
     "data": {
      "text/html": [
       "<style>\n",
       ".dl-inline {width: auto; margin:0; padding: 0}\n",
       ".dl-inline>dt, .dl-inline>dd {float: none; width: auto; display: inline-block}\n",
       ".dl-inline>dt::after {content: \":\\0020\"; padding-right: .5ex}\n",
       ".dl-inline>dt:not(:first-of-type) {padding-left: .5ex}\n",
       "</style><dl class=dl-inline><dt>A New Hope</dt><dd>314.4</dd><dt>The Empire Strikes Back</dt><dd>247.9</dd><dt>Return of the Jedi</dt><dd>165.8</dd><dt>The Phantom Menace</dt><dd>552.5</dd><dt>Attack of the Clones</dt><dd>338.7</dd><dt>Revenge of the Sith</dt><dd>468.5</dd></dl>\n"
      ],
      "text/latex": [
       "\\begin{description*}\n",
       "\\item[A New Hope] 314.4\n",
       "\\item[The Empire Strikes Back] 247.9\n",
       "\\item[Return of the Jedi] 165.8\n",
       "\\item[The Phantom Menace] 552.5\n",
       "\\item[Attack of the Clones] 338.7\n",
       "\\item[Revenge of the Sith] 468.5\n",
       "\\end{description*}\n"
      ],
      "text/markdown": [
       "A New Hope\n",
       ":   314.4The Empire Strikes Back\n",
       ":   247.9Return of the Jedi\n",
       ":   165.8The Phantom Menace\n",
       ":   552.5Attack of the Clones\n",
       ":   338.7Revenge of the Sith\n",
       ":   468.5\n",
       "\n"
      ],
      "text/plain": [
       "             A New Hope The Empire Strikes Back      Return of the Jedi \n",
       "                  314.4                   247.9                   165.8 \n",
       "     The Phantom Menace    Attack of the Clones     Revenge of the Sith \n",
       "                  552.5                   338.7                   468.5 "
      ]
     },
     "metadata": {},
     "output_type": "display_data"
    }
   ],
   "source": [
    "starwars_todas[ ,2]"
   ]
  },
  {
   "cell_type": "markdown",
   "metadata": {},
   "source": [
    "Podemos así, hacer cálculos con esos valores, por ejemplo, podemos cálcular la media o el total"
   ]
  },
  {
   "cell_type": "code",
   "execution_count": 44,
   "metadata": {},
   "outputs": [
    {
     "data": {
      "text/html": [
       "347.966666666667"
      ],
      "text/latex": [
       "347.966666666667"
      ],
      "text/markdown": [
       "347.966666666667"
      ],
      "text/plain": [
       "[1] 347.9667"
      ]
     },
     "metadata": {},
     "output_type": "display_data"
    },
    {
     "data": {
      "text/html": [
       "2087.8"
      ],
      "text/latex": [
       "2087.8"
      ],
      "text/markdown": [
       "2087.8"
      ],
      "text/plain": [
       "[1] 2087.8"
      ]
     },
     "metadata": {},
     "output_type": "display_data"
    }
   ],
   "source": [
    "mean(starwars_todas[ ,2])\n",
    "sum(starwars_todas[ ,2])"
   ]
  },
  {
   "cell_type": "markdown",
   "metadata": {},
   "source": [
    "También podemos hacer aritmética con estas matrices, por ejemplo, imaginemos que el boleto vale en promedio 5 dolares por persona, entonces podemos dividir la ganancia entre el costo y obtener el número de visitantes"
   ]
  },
  {
   "cell_type": "code",
   "execution_count": 45,
   "metadata": {},
   "outputs": [
    {
     "data": {
      "text/html": [
       "<table>\n",
       "<caption>A matrix: 6 × 2 of type dbl</caption>\n",
       "<thead>\n",
       "\t<tr><th></th><th scope=col>US</th><th scope=col>non-US</th></tr>\n",
       "</thead>\n",
       "<tbody>\n",
       "\t<tr><th scope=row>A New Hope</th><td>92.1996</td><td> 62.88</td></tr>\n",
       "\t<tr><th scope=row>The Empire Strikes Back</th><td>58.0950</td><td> 49.58</td></tr>\n",
       "\t<tr><th scope=row>Return of the Jedi</th><td>61.8612</td><td> 33.16</td></tr>\n",
       "\t<tr><th scope=row>The Phantom Menace</th><td>94.9000</td><td>110.50</td></tr>\n",
       "\t<tr><th scope=row>Attack of the Clones</th><td>62.1400</td><td> 67.74</td></tr>\n",
       "\t<tr><th scope=row>Revenge of the Sith</th><td>76.0600</td><td> 93.70</td></tr>\n",
       "</tbody>\n",
       "</table>\n"
      ],
      "text/latex": [
       "A matrix: 6 × 2 of type dbl\n",
       "\\begin{tabular}{r|ll}\n",
       "  & US & non-US\\\\\n",
       "\\hline\n",
       "\tA New Hope & 92.1996 &  62.88\\\\\n",
       "\tThe Empire Strikes Back & 58.0950 &  49.58\\\\\n",
       "\tReturn of the Jedi & 61.8612 &  33.16\\\\\n",
       "\tThe Phantom Menace & 94.9000 & 110.50\\\\\n",
       "\tAttack of the Clones & 62.1400 &  67.74\\\\\n",
       "\tRevenge of the Sith & 76.0600 &  93.70\\\\\n",
       "\\end{tabular}\n"
      ],
      "text/markdown": [
       "\n",
       "A matrix: 6 × 2 of type dbl\n",
       "\n",
       "| <!--/--> | US | non-US |\n",
       "|---|---|---|\n",
       "| A New Hope | 92.1996 |  62.88 |\n",
       "| The Empire Strikes Back | 58.0950 |  49.58 |\n",
       "| Return of the Jedi | 61.8612 |  33.16 |\n",
       "| The Phantom Menace | 94.9000 | 110.50 |\n",
       "| Attack of the Clones | 62.1400 |  67.74 |\n",
       "| Revenge of the Sith | 76.0600 |  93.70 |\n",
       "\n"
      ],
      "text/plain": [
       "                        US      non-US\n",
       "A New Hope              92.1996  62.88\n",
       "The Empire Strikes Back 58.0950  49.58\n",
       "Return of the Jedi      61.8612  33.16\n",
       "The Phantom Menace      94.9000 110.50\n",
       "Attack of the Clones    62.1400  67.74\n",
       "Revenge of the Sith     76.0600  93.70"
      ]
     },
     "metadata": {},
     "output_type": "display_data"
    }
   ],
   "source": [
    "starwars_todas / 5"
   ]
  },
  {
   "cell_type": "markdown",
   "metadata": {},
   "source": [
    "Ahora tú calcula la média de visitante en estados unidos"
   ]
  },
  {
   "cell_type": "code",
   "execution_count": 46,
   "metadata": {},
   "outputs": [
    {
     "data": {
      "text/html": [
       "71.9013166666667"
      ],
      "text/latex": [
       "71.9013166666667"
      ],
      "text/markdown": [
       "71.9013166666667"
      ],
      "text/plain": [
       "[1] 71.90132"
      ]
     },
     "metadata": {},
     "output_type": "display_data"
    }
   ],
   "source": [
    "visitantes <- starwars_todas / 5\n",
    "mean(visitantes)"
   ]
  },
  {
   "cell_type": "markdown",
   "metadata": {},
   "source": [
    "### Factores"
   ]
  },
  {
   "cell_type": "markdown",
   "metadata": {},
   "source": [
    "El término factor se refiere a un tipo de dato estadísticos utilizado para almacenar variables categóricas. La diferencia entre una variable categórica y una variable continua es que una variable categórica puede pertenecer a un número limitado de categorías. Una variable continua, por otro lado, puede corresponder a un número infinito de valores.<br>\n",
    "\n",
    "Es importante que R sepa si se trata de una variable continua o categórica, ya que los modelos estadísticos que desarrollará en el futuro tratan a ambos tipos de manera diferente.<br>\n",
    " \n",
    "Un buen ejemplo de una variable categórica es el sexo. En muchas circunstancias, puede limitar las categorías de sexo a \"Masculino\" o \"Femenino\". (A veces puede necesitar diferentes categorías. Por ejemplo, es posible que deba considerar la variación cromosómica, los animales hermafroditas o las diferentes normas culturales, pero siempre tendrá un número finito de categorías).\n",
    "\n",
    "Para convertir una variable a factor usamos la función factor de la siguiente forma:<br>\n",
    "\n",
    "                    factor(NombreVariable) \n",
    "                    \n",
    " Experimentemos con los siguientes vector\n"
   ]
  },
  {
   "cell_type": "code",
   "execution_count": 47,
   "metadata": {},
   "outputs": [],
   "source": [
    "sexo <- c(\"Hombre\",\"Mujer\",\"Hombre\",\"Mujer\",\"Mujer\",\"Hombre\")\n",
    "animales <- c(\"Elefante\",\"Jirafa\",\"Burro\",\"Caballo\")\n",
    "temperaturas <- c(\"Alta\",\"Baja\",\"Alta\",\"Media\",\"Baja\")"
   ]
  },
  {
   "cell_type": "code",
   "execution_count": 48,
   "metadata": {},
   "outputs": [
    {
     "data": {
      "text/html": [
       "<style>\n",
       ".list-inline {list-style: none; margin:0; padding: 0}\n",
       ".list-inline>li {display: inline-block}\n",
       ".list-inline>li:not(:last-child)::after {content: \"\\00b7\"; padding: 0 .5ex}\n",
       "</style>\n",
       "<ol class=list-inline><li>Hombre</li><li>Mujer</li><li>Hombre</li><li>Mujer</li><li>Mujer</li><li>Hombre</li></ol>\n",
       "\n",
       "<details>\n",
       "\t<summary style=display:list-item;cursor:pointer>\n",
       "\t\t<strong>Levels</strong>:\n",
       "\t</summary>\n",
       "\t<style>\n",
       "\t.list-inline {list-style: none; margin:0; padding: 0}\n",
       "\t.list-inline>li {display: inline-block}\n",
       "\t.list-inline>li:not(:last-child)::after {content: \"\\00b7\"; padding: 0 .5ex}\n",
       "\t</style>\n",
       "\t<ol class=list-inline><li>'Hombre'</li><li>'Mujer'</li></ol>\n",
       "</details>"
      ],
      "text/latex": [
       "\\begin{enumerate*}\n",
       "\\item Hombre\n",
       "\\item Mujer\n",
       "\\item Hombre\n",
       "\\item Mujer\n",
       "\\item Mujer\n",
       "\\item Hombre\n",
       "\\end{enumerate*}\n",
       "\n",
       "\\emph{Levels}: \\begin{enumerate*}\n",
       "\\item 'Hombre'\n",
       "\\item 'Mujer'\n",
       "\\end{enumerate*}\n"
      ],
      "text/markdown": [
       "1. Hombre\n",
       "2. Mujer\n",
       "3. Hombre\n",
       "4. Mujer\n",
       "5. Mujer\n",
       "6. Hombre\n",
       "\n",
       "\n",
       "\n",
       "**Levels**: 1. 'Hombre'\n",
       "2. 'Mujer'\n",
       "\n",
       "\n"
      ],
      "text/plain": [
       "[1] Hombre Mujer  Hombre Mujer  Mujer  Hombre\n",
       "Levels: Hombre Mujer"
      ]
     },
     "metadata": {},
     "output_type": "display_data"
    },
    {
     "data": {
      "text/html": [
       "<style>\n",
       ".list-inline {list-style: none; margin:0; padding: 0}\n",
       ".list-inline>li {display: inline-block}\n",
       ".list-inline>li:not(:last-child)::after {content: \"\\00b7\"; padding: 0 .5ex}\n",
       "</style>\n",
       "<ol class=list-inline><li>Elefante</li><li>Jirafa</li><li>Burro</li><li>Caballo</li></ol>\n",
       "\n",
       "<details>\n",
       "\t<summary style=display:list-item;cursor:pointer>\n",
       "\t\t<strong>Levels</strong>:\n",
       "\t</summary>\n",
       "\t<style>\n",
       "\t.list-inline {list-style: none; margin:0; padding: 0}\n",
       "\t.list-inline>li {display: inline-block}\n",
       "\t.list-inline>li:not(:last-child)::after {content: \"\\00b7\"; padding: 0 .5ex}\n",
       "\t</style>\n",
       "\t<ol class=list-inline><li>'Burro'</li><li>'Caballo'</li><li>'Elefante'</li><li>'Jirafa'</li></ol>\n",
       "</details>"
      ],
      "text/latex": [
       "\\begin{enumerate*}\n",
       "\\item Elefante\n",
       "\\item Jirafa\n",
       "\\item Burro\n",
       "\\item Caballo\n",
       "\\end{enumerate*}\n",
       "\n",
       "\\emph{Levels}: \\begin{enumerate*}\n",
       "\\item 'Burro'\n",
       "\\item 'Caballo'\n",
       "\\item 'Elefante'\n",
       "\\item 'Jirafa'\n",
       "\\end{enumerate*}\n"
      ],
      "text/markdown": [
       "1. Elefante\n",
       "2. Jirafa\n",
       "3. Burro\n",
       "4. Caballo\n",
       "\n",
       "\n",
       "\n",
       "**Levels**: 1. 'Burro'\n",
       "2. 'Caballo'\n",
       "3. 'Elefante'\n",
       "4. 'Jirafa'\n",
       "\n",
       "\n"
      ],
      "text/plain": [
       "[1] Elefante Jirafa   Burro    Caballo \n",
       "Levels: Burro Caballo Elefante Jirafa"
      ]
     },
     "metadata": {},
     "output_type": "display_data"
    },
    {
     "data": {
      "text/html": [
       "<style>\n",
       ".list-inline {list-style: none; margin:0; padding: 0}\n",
       ".list-inline>li {display: inline-block}\n",
       ".list-inline>li:not(:last-child)::after {content: \"\\00b7\"; padding: 0 .5ex}\n",
       "</style>\n",
       "<ol class=list-inline><li>Alta</li><li>Baja</li><li>Alta</li><li>Media</li><li>Baja</li></ol>\n",
       "\n",
       "<details>\n",
       "\t<summary style=display:list-item;cursor:pointer>\n",
       "\t\t<strong>Levels</strong>:\n",
       "\t</summary>\n",
       "\t<style>\n",
       "\t.list-inline {list-style: none; margin:0; padding: 0}\n",
       "\t.list-inline>li {display: inline-block}\n",
       "\t.list-inline>li:not(:last-child)::after {content: \"\\00b7\"; padding: 0 .5ex}\n",
       "\t</style>\n",
       "\t<ol class=list-inline><li>'Alta'</li><li>'Baja'</li><li>'Media'</li></ol>\n",
       "</details>"
      ],
      "text/latex": [
       "\\begin{enumerate*}\n",
       "\\item Alta\n",
       "\\item Baja\n",
       "\\item Alta\n",
       "\\item Media\n",
       "\\item Baja\n",
       "\\end{enumerate*}\n",
       "\n",
       "\\emph{Levels}: \\begin{enumerate*}\n",
       "\\item 'Alta'\n",
       "\\item 'Baja'\n",
       "\\item 'Media'\n",
       "\\end{enumerate*}\n"
      ],
      "text/markdown": [
       "1. Alta\n",
       "2. Baja\n",
       "3. Alta\n",
       "4. Media\n",
       "5. Baja\n",
       "\n",
       "\n",
       "\n",
       "**Levels**: 1. 'Alta'\n",
       "2. 'Baja'\n",
       "3. 'Media'\n",
       "\n",
       "\n"
      ],
      "text/plain": [
       "[1] Alta  Baja  Alta  Media Baja \n",
       "Levels: Alta Baja Media"
      ]
     },
     "metadata": {},
     "output_type": "display_data"
    }
   ],
   "source": [
    "factor(sexo)\n",
    "factor(animales)\n",
    "factor(temperaturas)"
   ]
  },
  {
   "cell_type": "markdown",
   "metadata": {},
   "source": [
    "Si quisieramos ver únicamente los Levels de nuestro factor, podemos hacerlo muy facil con la función `levels()` de la siguiente forma:\n",
    "\n",
    "                   levels(NombreDelFactor)"
   ]
  },
  {
   "cell_type": "code",
   "execution_count": 49,
   "metadata": {},
   "outputs": [
    {
     "data": {
      "text/html": [
       "<style>\n",
       ".list-inline {list-style: none; margin:0; padding: 0}\n",
       ".list-inline>li {display: inline-block}\n",
       ".list-inline>li:not(:last-child)::after {content: \"\\00b7\"; padding: 0 .5ex}\n",
       "</style>\n",
       "<ol class=list-inline><li>'Burro'</li><li>'Caballo'</li><li>'Elefante'</li><li>'Jirafa'</li></ol>\n"
      ],
      "text/latex": [
       "\\begin{enumerate*}\n",
       "\\item 'Burro'\n",
       "\\item 'Caballo'\n",
       "\\item 'Elefante'\n",
       "\\item 'Jirafa'\n",
       "\\end{enumerate*}\n"
      ],
      "text/markdown": [
       "1. 'Burro'\n",
       "2. 'Caballo'\n",
       "3. 'Elefante'\n",
       "4. 'Jirafa'\n",
       "\n",
       "\n"
      ],
      "text/plain": [
       "[1] \"Burro\"    \"Caballo\"  \"Elefante\" \"Jirafa\"  "
      ]
     },
     "metadata": {},
     "output_type": "display_data"
    }
   ],
   "source": [
    "animales <- factor(animales)\n",
    "levels(animales)"
   ]
  },
  {
   "cell_type": "markdown",
   "metadata": {},
   "source": [
    "Pero algunas veces, categorías como el sexo van a estar codificados como M para mujer Y H para hombre."
   ]
  },
  {
   "cell_type": "code",
   "execution_count": 50,
   "metadata": {},
   "outputs": [],
   "source": [
    "sexo <- c(\"H\", \"M\", \"M\", \"H\", \"M\")"
   ]
  },
  {
   "cell_type": "code",
   "execution_count": 51,
   "metadata": {},
   "outputs": [
    {
     "data": {
      "text/html": [
       "<style>\n",
       ".list-inline {list-style: none; margin:0; padding: 0}\n",
       ".list-inline>li {display: inline-block}\n",
       ".list-inline>li:not(:last-child)::after {content: \"\\00b7\"; padding: 0 .5ex}\n",
       "</style>\n",
       "<ol class=list-inline><li>H</li><li>M</li><li>M</li><li>H</li><li>M</li></ol>\n",
       "\n",
       "<details>\n",
       "\t<summary style=display:list-item;cursor:pointer>\n",
       "\t\t<strong>Levels</strong>:\n",
       "\t</summary>\n",
       "\t<style>\n",
       "\t.list-inline {list-style: none; margin:0; padding: 0}\n",
       "\t.list-inline>li {display: inline-block}\n",
       "\t.list-inline>li:not(:last-child)::after {content: \"\\00b7\"; padding: 0 .5ex}\n",
       "\t</style>\n",
       "\t<ol class=list-inline><li>'H'</li><li>'M'</li></ol>\n",
       "</details>"
      ],
      "text/latex": [
       "\\begin{enumerate*}\n",
       "\\item H\n",
       "\\item M\n",
       "\\item M\n",
       "\\item H\n",
       "\\item M\n",
       "\\end{enumerate*}\n",
       "\n",
       "\\emph{Levels}: \\begin{enumerate*}\n",
       "\\item 'H'\n",
       "\\item 'M'\n",
       "\\end{enumerate*}\n"
      ],
      "text/markdown": [
       "1. H\n",
       "2. M\n",
       "3. M\n",
       "4. H\n",
       "5. M\n",
       "\n",
       "\n",
       "\n",
       "**Levels**: 1. 'H'\n",
       "2. 'M'\n",
       "\n",
       "\n"
      ],
      "text/plain": [
       "[1] H M M H M\n",
       "Levels: H M"
      ]
     },
     "metadata": {},
     "output_type": "display_data"
    }
   ],
   "source": [
    "factor_sexo <- factor(sexo)\n",
    "factor_sexo"
   ]
  },
  {
   "cell_type": "markdown",
   "metadata": {},
   "source": [
    "Pero si quisieramos modificar eso podemos hacer lo siguiente:"
   ]
  },
  {
   "cell_type": "code",
   "execution_count": 52,
   "metadata": {},
   "outputs": [
    {
     "data": {
      "text/html": [
       "<style>\n",
       ".list-inline {list-style: none; margin:0; padding: 0}\n",
       ".list-inline>li {display: inline-block}\n",
       ".list-inline>li:not(:last-child)::after {content: \"\\00b7\"; padding: 0 .5ex}\n",
       "</style>\n",
       "<ol class=list-inline><li>Hombre</li><li>Mujer</li><li>Mujer</li><li>Hombre</li><li>Mujer</li></ol>\n",
       "\n",
       "<details>\n",
       "\t<summary style=display:list-item;cursor:pointer>\n",
       "\t\t<strong>Levels</strong>:\n",
       "\t</summary>\n",
       "\t<style>\n",
       "\t.list-inline {list-style: none; margin:0; padding: 0}\n",
       "\t.list-inline>li {display: inline-block}\n",
       "\t.list-inline>li:not(:last-child)::after {content: \"\\00b7\"; padding: 0 .5ex}\n",
       "\t</style>\n",
       "\t<ol class=list-inline><li>'Hombre'</li><li>'Mujer'</li></ol>\n",
       "</details>"
      ],
      "text/latex": [
       "\\begin{enumerate*}\n",
       "\\item Hombre\n",
       "\\item Mujer\n",
       "\\item Mujer\n",
       "\\item Hombre\n",
       "\\item Mujer\n",
       "\\end{enumerate*}\n",
       "\n",
       "\\emph{Levels}: \\begin{enumerate*}\n",
       "\\item 'Hombre'\n",
       "\\item 'Mujer'\n",
       "\\end{enumerate*}\n"
      ],
      "text/markdown": [
       "1. Hombre\n",
       "2. Mujer\n",
       "3. Mujer\n",
       "4. Hombre\n",
       "5. Mujer\n",
       "\n",
       "\n",
       "\n",
       "**Levels**: 1. 'Hombre'\n",
       "2. 'Mujer'\n",
       "\n",
       "\n"
      ],
      "text/plain": [
       "[1] Hombre Mujer  Mujer  Hombre Mujer \n",
       "Levels: Hombre Mujer"
      ]
     },
     "metadata": {},
     "output_type": "display_data"
    }
   ],
   "source": [
    "levels(factor_sexo) <- c(\"Hombre\",\"Mujer\")\n",
    "factor_sexo"
   ]
  },
  {
   "cell_type": "markdown",
   "metadata": {},
   "source": [
    "Igual podemos hacer hacer de forma muy sencilla resúmenes con la función `summary()` de la siguiente manera: \n",
    "\n",
    "               summary(NombreDeLaVariable)\n",
    " \n",
    " Por ejemplo:"
   ]
  },
  {
   "cell_type": "code",
   "execution_count": 53,
   "metadata": {},
   "outputs": [
    {
     "data": {
      "text/html": [
       "<style>\n",
       ".dl-inline {width: auto; margin:0; padding: 0}\n",
       ".dl-inline>dt, .dl-inline>dd {float: none; width: auto; display: inline-block}\n",
       ".dl-inline>dt::after {content: \":\\0020\"; padding-right: .5ex}\n",
       ".dl-inline>dt:not(:first-of-type) {padding-left: .5ex}\n",
       "</style><dl class=dl-inline><dt>Hombre</dt><dd>2</dd><dt>Mujer</dt><dd>3</dd></dl>\n"
      ],
      "text/latex": [
       "\\begin{description*}\n",
       "\\item[Hombre] 2\n",
       "\\item[Mujer] 3\n",
       "\\end{description*}\n"
      ],
      "text/markdown": [
       "Hombre\n",
       ":   2Mujer\n",
       ":   3\n",
       "\n"
      ],
      "text/plain": [
       "Hombre  Mujer \n",
       "     2      3 "
      ]
     },
     "metadata": {},
     "output_type": "display_data"
    },
    {
     "data": {
      "text/plain": [
       "   Length     Class      Mode \n",
       "        5 character character "
      ]
     },
     "metadata": {},
     "output_type": "display_data"
    }
   ],
   "source": [
    "summary(factor_sexo)\n",
    "summary(temperaturas)"
   ]
  },
  {
   "cell_type": "markdown",
   "metadata": {},
   "source": [
    "Ahora prueba haciendo la selección del vector factor_sexo y guarda cada uno de los niveles como variables **Hombre** y **Mujer** "
   ]
  },
  {
   "cell_type": "code",
   "execution_count": 54,
   "metadata": {},
   "outputs": [],
   "source": [
    "Hombre <- factor_sexo[1]\n",
    "Mujer <- factor_sexo[2]"
   ]
  },
  {
   "cell_type": "markdown",
   "metadata": {},
   "source": [
    "¿Qué pasa si los comparamos?"
   ]
  },
  {
   "cell_type": "code",
   "execution_count": 55,
   "metadata": {},
   "outputs": [
    {
     "name": "stderr",
     "output_type": "stream",
     "text": [
      "Warning message in Ops.factor(Hombre, Mujer):\n",
      "“‘<’ not meaningful for factors”\n"
     ]
    },
    {
     "data": {
      "text/html": [
       "&lt;NA&gt;"
      ],
      "text/latex": [
       "<NA>"
      ],
      "text/markdown": [
       "&lt;NA&gt;"
      ],
      "text/plain": [
       "[1] NA"
      ]
     },
     "metadata": {},
     "output_type": "display_data"
    }
   ],
   "source": [
    "Hombre < Mujer"
   ]
  },
  {
   "cell_type": "markdown",
   "metadata": {},
   "source": [
    "Como podrás ver, no se pueden hacer comparaciones con factores, así que debes procurar tener muy en cuenta si los valores con los que estás tratando son factores o no. <br>\n",
    "\n",
    "Ahora práctiquemos, crea un vector llamada **rendimiento** para almacenar las pruebas a 5 analistas, cuyos resultados  nos dicen los rendimientos con la que trabajan.\n",
    "\n",
    "- Analista 1 es medio\n",
    "- Analista 2 es bajo\n",
    "- Analista 3 es bajo\n",
    "- Analista 4 es medio\n",
    "- Analista 5 es alto\n",
    "\n",
    "No es necesario, aún, que especifiques que es un factor"
   ]
  },
  {
   "cell_type": "code",
   "execution_count": 56,
   "metadata": {},
   "outputs": [],
   "source": [
    "rendimiento <- c(\"medio\",\"bajo\",\"bajo\",\"medio\",\"alto\")"
   ]
  },
  {
   "cell_type": "markdown",
   "metadata": {},
   "source": [
    "Ahora convierte la variable a factor y guardala como **factor_rendimiento**, imprímela y saca un resumen"
   ]
  },
  {
   "cell_type": "code",
   "execution_count": 57,
   "metadata": {},
   "outputs": [
    {
     "data": {
      "text/html": [
       "<style>\n",
       ".list-inline {list-style: none; margin:0; padding: 0}\n",
       ".list-inline>li {display: inline-block}\n",
       ".list-inline>li:not(:last-child)::after {content: \"\\00b7\"; padding: 0 .5ex}\n",
       "</style>\n",
       "<ol class=list-inline><li>medio</li><li>bajo</li><li>bajo</li><li>medio</li><li>alto</li></ol>\n",
       "\n",
       "<details>\n",
       "\t<summary style=display:list-item;cursor:pointer>\n",
       "\t\t<strong>Levels</strong>:\n",
       "\t</summary>\n",
       "\t<style>\n",
       "\t.list-inline {list-style: none; margin:0; padding: 0}\n",
       "\t.list-inline>li {display: inline-block}\n",
       "\t.list-inline>li:not(:last-child)::after {content: \"\\00b7\"; padding: 0 .5ex}\n",
       "\t</style>\n",
       "\t<ol class=list-inline><li>'alto'</li><li>'bajo'</li><li>'medio'</li></ol>\n",
       "</details>"
      ],
      "text/latex": [
       "\\begin{enumerate*}\n",
       "\\item medio\n",
       "\\item bajo\n",
       "\\item bajo\n",
       "\\item medio\n",
       "\\item alto\n",
       "\\end{enumerate*}\n",
       "\n",
       "\\emph{Levels}: \\begin{enumerate*}\n",
       "\\item 'alto'\n",
       "\\item 'bajo'\n",
       "\\item 'medio'\n",
       "\\end{enumerate*}\n"
      ],
      "text/markdown": [
       "1. medio\n",
       "2. bajo\n",
       "3. bajo\n",
       "4. medio\n",
       "5. alto\n",
       "\n",
       "\n",
       "\n",
       "**Levels**: 1. 'alto'\n",
       "2. 'bajo'\n",
       "3. 'medio'\n",
       "\n",
       "\n"
      ],
      "text/plain": [
       "[1] medio bajo  bajo  medio alto \n",
       "Levels: alto bajo medio"
      ]
     },
     "metadata": {},
     "output_type": "display_data"
    },
    {
     "data": {
      "text/html": [
       "<style>\n",
       ".dl-inline {width: auto; margin:0; padding: 0}\n",
       ".dl-inline>dt, .dl-inline>dd {float: none; width: auto; display: inline-block}\n",
       ".dl-inline>dt::after {content: \":\\0020\"; padding-right: .5ex}\n",
       ".dl-inline>dt:not(:first-of-type) {padding-left: .5ex}\n",
       "</style><dl class=dl-inline><dt>alto</dt><dd>1</dd><dt>bajo</dt><dd>2</dd><dt>medio</dt><dd>2</dd></dl>\n"
      ],
      "text/latex": [
       "\\begin{description*}\n",
       "\\item[alto] 1\n",
       "\\item[bajo] 2\n",
       "\\item[medio] 2\n",
       "\\end{description*}\n"
      ],
      "text/markdown": [
       "alto\n",
       ":   1bajo\n",
       ":   2medio\n",
       ":   2\n",
       "\n"
      ],
      "text/plain": [
       " alto  bajo medio \n",
       "    1     2     2 "
      ]
     },
     "metadata": {},
     "output_type": "display_data"
    }
   ],
   "source": [
    "factor_rendimiento <- factor(rendimiento)\n",
    "factor_rendimiento\n",
    "summary(factor_rendimiento)"
   ]
  },
  {
   "cell_type": "markdown",
   "metadata": {},
   "source": [
    "¿Qué vemos en los niveles?<br> \n",
    "<br> \n",
    "<br> \n",
    "<br> \n",
    "\n",
    "\n",
    "\n",
    "¿Qué si quisieramos cambiar el orden de los nivel? <br> \n",
    "Por fortuna la función `factor()`nos admite más de un argumento (los argumentos son las cosas con las que computa una función) Veamos los argumentos que admite `factor()` poniendo ?factor."
   ]
  },
  {
   "cell_type": "code",
   "execution_count": 58,
   "metadata": {},
   "outputs": [],
   "source": [
    "?factor"
   ]
  },
  {
   "cell_type": "code",
   "execution_count": 59,
   "metadata": {},
   "outputs": [
    {
     "data": {
      "text/html": [
       "<style>\n",
       ".list-inline {list-style: none; margin:0; padding: 0}\n",
       ".list-inline>li {display: inline-block}\n",
       ".list-inline>li:not(:last-child)::after {content: \"\\00b7\"; padding: 0 .5ex}\n",
       "</style>\n",
       "<ol class=list-inline><li>medio</li><li>bajo</li><li>bajo</li><li>medio</li><li>alto</li></ol>\n",
       "\n",
       "<details>\n",
       "\t<summary style=display:list-item;cursor:pointer>\n",
       "\t\t<strong>Levels</strong>:\n",
       "\t</summary>\n",
       "\t<style>\n",
       "\t.list-inline {list-style: none; margin:0; padding: 0}\n",
       "\t.list-inline>li {display: inline-block}\n",
       "\t.list-inline>li:not(:last-child)::after {content: \"\\00b7\"; padding: 0 .5ex}\n",
       "\t</style>\n",
       "\t<ol class=list-inline><li>'bajo'</li><li>'medio'</li><li>'alto'</li></ol>\n",
       "</details>"
      ],
      "text/latex": [
       "\\begin{enumerate*}\n",
       "\\item medio\n",
       "\\item bajo\n",
       "\\item bajo\n",
       "\\item medio\n",
       "\\item alto\n",
       "\\end{enumerate*}\n",
       "\n",
       "\\emph{Levels}: \\begin{enumerate*}\n",
       "\\item 'bajo'\n",
       "\\item 'medio'\n",
       "\\item 'alto'\n",
       "\\end{enumerate*}\n"
      ],
      "text/markdown": [
       "1. medio\n",
       "2. bajo\n",
       "3. bajo\n",
       "4. medio\n",
       "5. alto\n",
       "\n",
       "\n",
       "\n",
       "**Levels**: 1. 'bajo'\n",
       "2. 'medio'\n",
       "3. 'alto'\n",
       "\n",
       "\n"
      ],
      "text/plain": [
       "[1] medio bajo  bajo  medio alto \n",
       "Levels: bajo < medio < alto"
      ]
     },
     "metadata": {},
     "output_type": "display_data"
    }
   ],
   "source": [
    "factor_rendimiento <- factor(rendimiento,\n",
    "                       ordered = TRUE,\n",
    "                       levels = c(\"bajo\", \"medio\", \"alto\"))\n",
    "factor_rendimiento"
   ]
  },
  {
   "cell_type": "code",
   "execution_count": 60,
   "metadata": {},
   "outputs": [
    {
     "data": {
      "text/html": [
       "<style>\n",
       ".dl-inline {width: auto; margin:0; padding: 0}\n",
       ".dl-inline>dt, .dl-inline>dd {float: none; width: auto; display: inline-block}\n",
       ".dl-inline>dt::after {content: \":\\0020\"; padding-right: .5ex}\n",
       ".dl-inline>dt:not(:first-of-type) {padding-left: .5ex}\n",
       "</style><dl class=dl-inline><dt>bajo</dt><dd>2</dd><dt>medio</dt><dd>2</dd><dt>alto</dt><dd>1</dd></dl>\n"
      ],
      "text/latex": [
       "\\begin{description*}\n",
       "\\item[bajo] 2\n",
       "\\item[medio] 2\n",
       "\\item[alto] 1\n",
       "\\end{description*}\n"
      ],
      "text/markdown": [
       "bajo\n",
       ":   2medio\n",
       ":   2alto\n",
       ":   1\n",
       "\n"
      ],
      "text/plain": [
       " bajo medio  alto \n",
       "    2     2     1 "
      ]
     },
     "metadata": {},
     "output_type": "display_data"
    }
   ],
   "source": [
    "summary(factor_rendimiento)"
   ]
  },
  {
   "cell_type": "markdown",
   "metadata": {},
   "source": [
    "Algo importante de tener nuestros factores ordenados es que nos permite hacer comparaciones por ejemplo, respóndeme usando R lo siguiente. \n",
    "Es el analista 4 mejor que el analista 2?"
   ]
  },
  {
   "cell_type": "code",
   "execution_count": 61,
   "metadata": {},
   "outputs": [
    {
     "data": {
      "text/html": [
       "FALSE"
      ],
      "text/latex": [
       "FALSE"
      ],
      "text/markdown": [
       "FALSE"
      ],
      "text/plain": [
       "[1] FALSE"
      ]
     },
     "metadata": {},
     "output_type": "display_data"
    }
   ],
   "source": [
    "analista2 <- factor_rendimiento[2]\n",
    "analista4 <- factor_rendimiento[4]\n",
    "analista2 > analista4"
   ]
  },
  {
   "cell_type": "markdown",
   "metadata": {},
   "source": [
    "\n",
    "### Data Frames \n",
    "\n",
    "Puedes recordar cuando hablamos sobre matrices que todos los elementos que se colocan en una matriz deben ser del mismo tipo. Entonces, el conjunto de datos en Star Wars solo contenía elementos numéricos. Pero al hacer un estudio se hacen diferentes preguntas que pueden tener diferentes tipos de valores.<br>\n",
    "En un estudio de mercado, por ejemplo, a menudo tienes preguntas como:\n",
    "\n",
    "- '¿Estás casado?' o preguntas 'sí / no' (lógico)\n",
    "- '¿Cuantos años tienes?' (numérico)\n",
    "- ¿Cuál es su opinión sobre este producto? u otras preguntas 'abiertas' (personaje)\n",
    "\n",
    "El resultado, es decir, las respuestas de los encuestados a las preguntas formuladas anteriormente, es un conjunto de datos de diferentes tipos de datos. A menudo se encontrará trabajando con conjuntos de datos que contienen diferentes tipos de datos en lugar de solo uno.\n",
    "\n",
    "Un data frame tiene las variables de un conjunto de datos como columnas y las observaciones como filas. Este será un concepto familiar para quienes provengan de diferentes paquetes de software estadístico como SAS o SPSS.\n",
    "\n",
    "Un ejemplo de un data frame lo podemos ver al teclear y ejecutar `mtcars` "
   ]
  },
  {
   "cell_type": "code",
   "execution_count": 62,
   "metadata": {},
   "outputs": [
    {
     "data": {
      "text/html": [
       "<table>\n",
       "<caption>A data.frame: 32 × 11</caption>\n",
       "<thead>\n",
       "\t<tr><th></th><th scope=col>mpg</th><th scope=col>cyl</th><th scope=col>disp</th><th scope=col>hp</th><th scope=col>drat</th><th scope=col>wt</th><th scope=col>qsec</th><th scope=col>vs</th><th scope=col>am</th><th scope=col>gear</th><th scope=col>carb</th></tr>\n",
       "\t<tr><th></th><th scope=col>&lt;dbl&gt;</th><th scope=col>&lt;dbl&gt;</th><th scope=col>&lt;dbl&gt;</th><th scope=col>&lt;dbl&gt;</th><th scope=col>&lt;dbl&gt;</th><th scope=col>&lt;dbl&gt;</th><th scope=col>&lt;dbl&gt;</th><th scope=col>&lt;dbl&gt;</th><th scope=col>&lt;dbl&gt;</th><th scope=col>&lt;dbl&gt;</th><th scope=col>&lt;dbl&gt;</th></tr>\n",
       "</thead>\n",
       "<tbody>\n",
       "\t<tr><th scope=row>Mazda RX4</th><td>21.0</td><td>6</td><td>160.0</td><td>110</td><td>3.90</td><td>2.620</td><td>16.46</td><td>0</td><td>1</td><td>4</td><td>4</td></tr>\n",
       "\t<tr><th scope=row>Mazda RX4 Wag</th><td>21.0</td><td>6</td><td>160.0</td><td>110</td><td>3.90</td><td>2.875</td><td>17.02</td><td>0</td><td>1</td><td>4</td><td>4</td></tr>\n",
       "\t<tr><th scope=row>Datsun 710</th><td>22.8</td><td>4</td><td>108.0</td><td> 93</td><td>3.85</td><td>2.320</td><td>18.61</td><td>1</td><td>1</td><td>4</td><td>1</td></tr>\n",
       "\t<tr><th scope=row>Hornet 4 Drive</th><td>21.4</td><td>6</td><td>258.0</td><td>110</td><td>3.08</td><td>3.215</td><td>19.44</td><td>1</td><td>0</td><td>3</td><td>1</td></tr>\n",
       "\t<tr><th scope=row>Hornet Sportabout</th><td>18.7</td><td>8</td><td>360.0</td><td>175</td><td>3.15</td><td>3.440</td><td>17.02</td><td>0</td><td>0</td><td>3</td><td>2</td></tr>\n",
       "\t<tr><th scope=row>Valiant</th><td>18.1</td><td>6</td><td>225.0</td><td>105</td><td>2.76</td><td>3.460</td><td>20.22</td><td>1</td><td>0</td><td>3</td><td>1</td></tr>\n",
       "\t<tr><th scope=row>Duster 360</th><td>14.3</td><td>8</td><td>360.0</td><td>245</td><td>3.21</td><td>3.570</td><td>15.84</td><td>0</td><td>0</td><td>3</td><td>4</td></tr>\n",
       "\t<tr><th scope=row>Merc 240D</th><td>24.4</td><td>4</td><td>146.7</td><td> 62</td><td>3.69</td><td>3.190</td><td>20.00</td><td>1</td><td>0</td><td>4</td><td>2</td></tr>\n",
       "\t<tr><th scope=row>Merc 230</th><td>22.8</td><td>4</td><td>140.8</td><td> 95</td><td>3.92</td><td>3.150</td><td>22.90</td><td>1</td><td>0</td><td>4</td><td>2</td></tr>\n",
       "\t<tr><th scope=row>Merc 280</th><td>19.2</td><td>6</td><td>167.6</td><td>123</td><td>3.92</td><td>3.440</td><td>18.30</td><td>1</td><td>0</td><td>4</td><td>4</td></tr>\n",
       "\t<tr><th scope=row>Merc 280C</th><td>17.8</td><td>6</td><td>167.6</td><td>123</td><td>3.92</td><td>3.440</td><td>18.90</td><td>1</td><td>0</td><td>4</td><td>4</td></tr>\n",
       "\t<tr><th scope=row>Merc 450SE</th><td>16.4</td><td>8</td><td>275.8</td><td>180</td><td>3.07</td><td>4.070</td><td>17.40</td><td>0</td><td>0</td><td>3</td><td>3</td></tr>\n",
       "\t<tr><th scope=row>Merc 450SL</th><td>17.3</td><td>8</td><td>275.8</td><td>180</td><td>3.07</td><td>3.730</td><td>17.60</td><td>0</td><td>0</td><td>3</td><td>3</td></tr>\n",
       "\t<tr><th scope=row>Merc 450SLC</th><td>15.2</td><td>8</td><td>275.8</td><td>180</td><td>3.07</td><td>3.780</td><td>18.00</td><td>0</td><td>0</td><td>3</td><td>3</td></tr>\n",
       "\t<tr><th scope=row>Cadillac Fleetwood</th><td>10.4</td><td>8</td><td>472.0</td><td>205</td><td>2.93</td><td>5.250</td><td>17.98</td><td>0</td><td>0</td><td>3</td><td>4</td></tr>\n",
       "\t<tr><th scope=row>Lincoln Continental</th><td>10.4</td><td>8</td><td>460.0</td><td>215</td><td>3.00</td><td>5.424</td><td>17.82</td><td>0</td><td>0</td><td>3</td><td>4</td></tr>\n",
       "\t<tr><th scope=row>Chrysler Imperial</th><td>14.7</td><td>8</td><td>440.0</td><td>230</td><td>3.23</td><td>5.345</td><td>17.42</td><td>0</td><td>0</td><td>3</td><td>4</td></tr>\n",
       "\t<tr><th scope=row>Fiat 128</th><td>32.4</td><td>4</td><td> 78.7</td><td> 66</td><td>4.08</td><td>2.200</td><td>19.47</td><td>1</td><td>1</td><td>4</td><td>1</td></tr>\n",
       "\t<tr><th scope=row>Honda Civic</th><td>30.4</td><td>4</td><td> 75.7</td><td> 52</td><td>4.93</td><td>1.615</td><td>18.52</td><td>1</td><td>1</td><td>4</td><td>2</td></tr>\n",
       "\t<tr><th scope=row>Toyota Corolla</th><td>33.9</td><td>4</td><td> 71.1</td><td> 65</td><td>4.22</td><td>1.835</td><td>19.90</td><td>1</td><td>1</td><td>4</td><td>1</td></tr>\n",
       "\t<tr><th scope=row>Toyota Corona</th><td>21.5</td><td>4</td><td>120.1</td><td> 97</td><td>3.70</td><td>2.465</td><td>20.01</td><td>1</td><td>0</td><td>3</td><td>1</td></tr>\n",
       "\t<tr><th scope=row>Dodge Challenger</th><td>15.5</td><td>8</td><td>318.0</td><td>150</td><td>2.76</td><td>3.520</td><td>16.87</td><td>0</td><td>0</td><td>3</td><td>2</td></tr>\n",
       "\t<tr><th scope=row>AMC Javelin</th><td>15.2</td><td>8</td><td>304.0</td><td>150</td><td>3.15</td><td>3.435</td><td>17.30</td><td>0</td><td>0</td><td>3</td><td>2</td></tr>\n",
       "\t<tr><th scope=row>Camaro Z28</th><td>13.3</td><td>8</td><td>350.0</td><td>245</td><td>3.73</td><td>3.840</td><td>15.41</td><td>0</td><td>0</td><td>3</td><td>4</td></tr>\n",
       "\t<tr><th scope=row>Pontiac Firebird</th><td>19.2</td><td>8</td><td>400.0</td><td>175</td><td>3.08</td><td>3.845</td><td>17.05</td><td>0</td><td>0</td><td>3</td><td>2</td></tr>\n",
       "\t<tr><th scope=row>Fiat X1-9</th><td>27.3</td><td>4</td><td> 79.0</td><td> 66</td><td>4.08</td><td>1.935</td><td>18.90</td><td>1</td><td>1</td><td>4</td><td>1</td></tr>\n",
       "\t<tr><th scope=row>Porsche 914-2</th><td>26.0</td><td>4</td><td>120.3</td><td> 91</td><td>4.43</td><td>2.140</td><td>16.70</td><td>0</td><td>1</td><td>5</td><td>2</td></tr>\n",
       "\t<tr><th scope=row>Lotus Europa</th><td>30.4</td><td>4</td><td> 95.1</td><td>113</td><td>3.77</td><td>1.513</td><td>16.90</td><td>1</td><td>1</td><td>5</td><td>2</td></tr>\n",
       "\t<tr><th scope=row>Ford Pantera L</th><td>15.8</td><td>8</td><td>351.0</td><td>264</td><td>4.22</td><td>3.170</td><td>14.50</td><td>0</td><td>1</td><td>5</td><td>4</td></tr>\n",
       "\t<tr><th scope=row>Ferrari Dino</th><td>19.7</td><td>6</td><td>145.0</td><td>175</td><td>3.62</td><td>2.770</td><td>15.50</td><td>0</td><td>1</td><td>5</td><td>6</td></tr>\n",
       "\t<tr><th scope=row>Maserati Bora</th><td>15.0</td><td>8</td><td>301.0</td><td>335</td><td>3.54</td><td>3.570</td><td>14.60</td><td>0</td><td>1</td><td>5</td><td>8</td></tr>\n",
       "\t<tr><th scope=row>Volvo 142E</th><td>21.4</td><td>4</td><td>121.0</td><td>109</td><td>4.11</td><td>2.780</td><td>18.60</td><td>1</td><td>1</td><td>4</td><td>2</td></tr>\n",
       "</tbody>\n",
       "</table>\n"
      ],
      "text/latex": [
       "A data.frame: 32 × 11\n",
       "\\begin{tabular}{r|lllllllllll}\n",
       "  & mpg & cyl & disp & hp & drat & wt & qsec & vs & am & gear & carb\\\\\n",
       "  & <dbl> & <dbl> & <dbl> & <dbl> & <dbl> & <dbl> & <dbl> & <dbl> & <dbl> & <dbl> & <dbl>\\\\\n",
       "\\hline\n",
       "\tMazda RX4 & 21.0 & 6 & 160.0 & 110 & 3.90 & 2.620 & 16.46 & 0 & 1 & 4 & 4\\\\\n",
       "\tMazda RX4 Wag & 21.0 & 6 & 160.0 & 110 & 3.90 & 2.875 & 17.02 & 0 & 1 & 4 & 4\\\\\n",
       "\tDatsun 710 & 22.8 & 4 & 108.0 &  93 & 3.85 & 2.320 & 18.61 & 1 & 1 & 4 & 1\\\\\n",
       "\tHornet 4 Drive & 21.4 & 6 & 258.0 & 110 & 3.08 & 3.215 & 19.44 & 1 & 0 & 3 & 1\\\\\n",
       "\tHornet Sportabout & 18.7 & 8 & 360.0 & 175 & 3.15 & 3.440 & 17.02 & 0 & 0 & 3 & 2\\\\\n",
       "\tValiant & 18.1 & 6 & 225.0 & 105 & 2.76 & 3.460 & 20.22 & 1 & 0 & 3 & 1\\\\\n",
       "\tDuster 360 & 14.3 & 8 & 360.0 & 245 & 3.21 & 3.570 & 15.84 & 0 & 0 & 3 & 4\\\\\n",
       "\tMerc 240D & 24.4 & 4 & 146.7 &  62 & 3.69 & 3.190 & 20.00 & 1 & 0 & 4 & 2\\\\\n",
       "\tMerc 230 & 22.8 & 4 & 140.8 &  95 & 3.92 & 3.150 & 22.90 & 1 & 0 & 4 & 2\\\\\n",
       "\tMerc 280 & 19.2 & 6 & 167.6 & 123 & 3.92 & 3.440 & 18.30 & 1 & 0 & 4 & 4\\\\\n",
       "\tMerc 280C & 17.8 & 6 & 167.6 & 123 & 3.92 & 3.440 & 18.90 & 1 & 0 & 4 & 4\\\\\n",
       "\tMerc 450SE & 16.4 & 8 & 275.8 & 180 & 3.07 & 4.070 & 17.40 & 0 & 0 & 3 & 3\\\\\n",
       "\tMerc 450SL & 17.3 & 8 & 275.8 & 180 & 3.07 & 3.730 & 17.60 & 0 & 0 & 3 & 3\\\\\n",
       "\tMerc 450SLC & 15.2 & 8 & 275.8 & 180 & 3.07 & 3.780 & 18.00 & 0 & 0 & 3 & 3\\\\\n",
       "\tCadillac Fleetwood & 10.4 & 8 & 472.0 & 205 & 2.93 & 5.250 & 17.98 & 0 & 0 & 3 & 4\\\\\n",
       "\tLincoln Continental & 10.4 & 8 & 460.0 & 215 & 3.00 & 5.424 & 17.82 & 0 & 0 & 3 & 4\\\\\n",
       "\tChrysler Imperial & 14.7 & 8 & 440.0 & 230 & 3.23 & 5.345 & 17.42 & 0 & 0 & 3 & 4\\\\\n",
       "\tFiat 128 & 32.4 & 4 &  78.7 &  66 & 4.08 & 2.200 & 19.47 & 1 & 1 & 4 & 1\\\\\n",
       "\tHonda Civic & 30.4 & 4 &  75.7 &  52 & 4.93 & 1.615 & 18.52 & 1 & 1 & 4 & 2\\\\\n",
       "\tToyota Corolla & 33.9 & 4 &  71.1 &  65 & 4.22 & 1.835 & 19.90 & 1 & 1 & 4 & 1\\\\\n",
       "\tToyota Corona & 21.5 & 4 & 120.1 &  97 & 3.70 & 2.465 & 20.01 & 1 & 0 & 3 & 1\\\\\n",
       "\tDodge Challenger & 15.5 & 8 & 318.0 & 150 & 2.76 & 3.520 & 16.87 & 0 & 0 & 3 & 2\\\\\n",
       "\tAMC Javelin & 15.2 & 8 & 304.0 & 150 & 3.15 & 3.435 & 17.30 & 0 & 0 & 3 & 2\\\\\n",
       "\tCamaro Z28 & 13.3 & 8 & 350.0 & 245 & 3.73 & 3.840 & 15.41 & 0 & 0 & 3 & 4\\\\\n",
       "\tPontiac Firebird & 19.2 & 8 & 400.0 & 175 & 3.08 & 3.845 & 17.05 & 0 & 0 & 3 & 2\\\\\n",
       "\tFiat X1-9 & 27.3 & 4 &  79.0 &  66 & 4.08 & 1.935 & 18.90 & 1 & 1 & 4 & 1\\\\\n",
       "\tPorsche 914-2 & 26.0 & 4 & 120.3 &  91 & 4.43 & 2.140 & 16.70 & 0 & 1 & 5 & 2\\\\\n",
       "\tLotus Europa & 30.4 & 4 &  95.1 & 113 & 3.77 & 1.513 & 16.90 & 1 & 1 & 5 & 2\\\\\n",
       "\tFord Pantera L & 15.8 & 8 & 351.0 & 264 & 4.22 & 3.170 & 14.50 & 0 & 1 & 5 & 4\\\\\n",
       "\tFerrari Dino & 19.7 & 6 & 145.0 & 175 & 3.62 & 2.770 & 15.50 & 0 & 1 & 5 & 6\\\\\n",
       "\tMaserati Bora & 15.0 & 8 & 301.0 & 335 & 3.54 & 3.570 & 14.60 & 0 & 1 & 5 & 8\\\\\n",
       "\tVolvo 142E & 21.4 & 4 & 121.0 & 109 & 4.11 & 2.780 & 18.60 & 1 & 1 & 4 & 2\\\\\n",
       "\\end{tabular}\n"
      ],
      "text/markdown": [
       "\n",
       "A data.frame: 32 × 11\n",
       "\n",
       "| <!--/--> | mpg &lt;dbl&gt; | cyl &lt;dbl&gt; | disp &lt;dbl&gt; | hp &lt;dbl&gt; | drat &lt;dbl&gt; | wt &lt;dbl&gt; | qsec &lt;dbl&gt; | vs &lt;dbl&gt; | am &lt;dbl&gt; | gear &lt;dbl&gt; | carb &lt;dbl&gt; |\n",
       "|---|---|---|---|---|---|---|---|---|---|---|---|\n",
       "| Mazda RX4 | 21.0 | 6 | 160.0 | 110 | 3.90 | 2.620 | 16.46 | 0 | 1 | 4 | 4 |\n",
       "| Mazda RX4 Wag | 21.0 | 6 | 160.0 | 110 | 3.90 | 2.875 | 17.02 | 0 | 1 | 4 | 4 |\n",
       "| Datsun 710 | 22.8 | 4 | 108.0 |  93 | 3.85 | 2.320 | 18.61 | 1 | 1 | 4 | 1 |\n",
       "| Hornet 4 Drive | 21.4 | 6 | 258.0 | 110 | 3.08 | 3.215 | 19.44 | 1 | 0 | 3 | 1 |\n",
       "| Hornet Sportabout | 18.7 | 8 | 360.0 | 175 | 3.15 | 3.440 | 17.02 | 0 | 0 | 3 | 2 |\n",
       "| Valiant | 18.1 | 6 | 225.0 | 105 | 2.76 | 3.460 | 20.22 | 1 | 0 | 3 | 1 |\n",
       "| Duster 360 | 14.3 | 8 | 360.0 | 245 | 3.21 | 3.570 | 15.84 | 0 | 0 | 3 | 4 |\n",
       "| Merc 240D | 24.4 | 4 | 146.7 |  62 | 3.69 | 3.190 | 20.00 | 1 | 0 | 4 | 2 |\n",
       "| Merc 230 | 22.8 | 4 | 140.8 |  95 | 3.92 | 3.150 | 22.90 | 1 | 0 | 4 | 2 |\n",
       "| Merc 280 | 19.2 | 6 | 167.6 | 123 | 3.92 | 3.440 | 18.30 | 1 | 0 | 4 | 4 |\n",
       "| Merc 280C | 17.8 | 6 | 167.6 | 123 | 3.92 | 3.440 | 18.90 | 1 | 0 | 4 | 4 |\n",
       "| Merc 450SE | 16.4 | 8 | 275.8 | 180 | 3.07 | 4.070 | 17.40 | 0 | 0 | 3 | 3 |\n",
       "| Merc 450SL | 17.3 | 8 | 275.8 | 180 | 3.07 | 3.730 | 17.60 | 0 | 0 | 3 | 3 |\n",
       "| Merc 450SLC | 15.2 | 8 | 275.8 | 180 | 3.07 | 3.780 | 18.00 | 0 | 0 | 3 | 3 |\n",
       "| Cadillac Fleetwood | 10.4 | 8 | 472.0 | 205 | 2.93 | 5.250 | 17.98 | 0 | 0 | 3 | 4 |\n",
       "| Lincoln Continental | 10.4 | 8 | 460.0 | 215 | 3.00 | 5.424 | 17.82 | 0 | 0 | 3 | 4 |\n",
       "| Chrysler Imperial | 14.7 | 8 | 440.0 | 230 | 3.23 | 5.345 | 17.42 | 0 | 0 | 3 | 4 |\n",
       "| Fiat 128 | 32.4 | 4 |  78.7 |  66 | 4.08 | 2.200 | 19.47 | 1 | 1 | 4 | 1 |\n",
       "| Honda Civic | 30.4 | 4 |  75.7 |  52 | 4.93 | 1.615 | 18.52 | 1 | 1 | 4 | 2 |\n",
       "| Toyota Corolla | 33.9 | 4 |  71.1 |  65 | 4.22 | 1.835 | 19.90 | 1 | 1 | 4 | 1 |\n",
       "| Toyota Corona | 21.5 | 4 | 120.1 |  97 | 3.70 | 2.465 | 20.01 | 1 | 0 | 3 | 1 |\n",
       "| Dodge Challenger | 15.5 | 8 | 318.0 | 150 | 2.76 | 3.520 | 16.87 | 0 | 0 | 3 | 2 |\n",
       "| AMC Javelin | 15.2 | 8 | 304.0 | 150 | 3.15 | 3.435 | 17.30 | 0 | 0 | 3 | 2 |\n",
       "| Camaro Z28 | 13.3 | 8 | 350.0 | 245 | 3.73 | 3.840 | 15.41 | 0 | 0 | 3 | 4 |\n",
       "| Pontiac Firebird | 19.2 | 8 | 400.0 | 175 | 3.08 | 3.845 | 17.05 | 0 | 0 | 3 | 2 |\n",
       "| Fiat X1-9 | 27.3 | 4 |  79.0 |  66 | 4.08 | 1.935 | 18.90 | 1 | 1 | 4 | 1 |\n",
       "| Porsche 914-2 | 26.0 | 4 | 120.3 |  91 | 4.43 | 2.140 | 16.70 | 0 | 1 | 5 | 2 |\n",
       "| Lotus Europa | 30.4 | 4 |  95.1 | 113 | 3.77 | 1.513 | 16.90 | 1 | 1 | 5 | 2 |\n",
       "| Ford Pantera L | 15.8 | 8 | 351.0 | 264 | 4.22 | 3.170 | 14.50 | 0 | 1 | 5 | 4 |\n",
       "| Ferrari Dino | 19.7 | 6 | 145.0 | 175 | 3.62 | 2.770 | 15.50 | 0 | 1 | 5 | 6 |\n",
       "| Maserati Bora | 15.0 | 8 | 301.0 | 335 | 3.54 | 3.570 | 14.60 | 0 | 1 | 5 | 8 |\n",
       "| Volvo 142E | 21.4 | 4 | 121.0 | 109 | 4.11 | 2.780 | 18.60 | 1 | 1 | 4 | 2 |\n",
       "\n"
      ],
      "text/plain": [
       "                    mpg  cyl disp  hp  drat wt    qsec  vs am gear carb\n",
       "Mazda RX4           21.0 6   160.0 110 3.90 2.620 16.46 0  1  4    4   \n",
       "Mazda RX4 Wag       21.0 6   160.0 110 3.90 2.875 17.02 0  1  4    4   \n",
       "Datsun 710          22.8 4   108.0  93 3.85 2.320 18.61 1  1  4    1   \n",
       "Hornet 4 Drive      21.4 6   258.0 110 3.08 3.215 19.44 1  0  3    1   \n",
       "Hornet Sportabout   18.7 8   360.0 175 3.15 3.440 17.02 0  0  3    2   \n",
       "Valiant             18.1 6   225.0 105 2.76 3.460 20.22 1  0  3    1   \n",
       "Duster 360          14.3 8   360.0 245 3.21 3.570 15.84 0  0  3    4   \n",
       "Merc 240D           24.4 4   146.7  62 3.69 3.190 20.00 1  0  4    2   \n",
       "Merc 230            22.8 4   140.8  95 3.92 3.150 22.90 1  0  4    2   \n",
       "Merc 280            19.2 6   167.6 123 3.92 3.440 18.30 1  0  4    4   \n",
       "Merc 280C           17.8 6   167.6 123 3.92 3.440 18.90 1  0  4    4   \n",
       "Merc 450SE          16.4 8   275.8 180 3.07 4.070 17.40 0  0  3    3   \n",
       "Merc 450SL          17.3 8   275.8 180 3.07 3.730 17.60 0  0  3    3   \n",
       "Merc 450SLC         15.2 8   275.8 180 3.07 3.780 18.00 0  0  3    3   \n",
       "Cadillac Fleetwood  10.4 8   472.0 205 2.93 5.250 17.98 0  0  3    4   \n",
       "Lincoln Continental 10.4 8   460.0 215 3.00 5.424 17.82 0  0  3    4   \n",
       "Chrysler Imperial   14.7 8   440.0 230 3.23 5.345 17.42 0  0  3    4   \n",
       "Fiat 128            32.4 4    78.7  66 4.08 2.200 19.47 1  1  4    1   \n",
       "Honda Civic         30.4 4    75.7  52 4.93 1.615 18.52 1  1  4    2   \n",
       "Toyota Corolla      33.9 4    71.1  65 4.22 1.835 19.90 1  1  4    1   \n",
       "Toyota Corona       21.5 4   120.1  97 3.70 2.465 20.01 1  0  3    1   \n",
       "Dodge Challenger    15.5 8   318.0 150 2.76 3.520 16.87 0  0  3    2   \n",
       "AMC Javelin         15.2 8   304.0 150 3.15 3.435 17.30 0  0  3    2   \n",
       "Camaro Z28          13.3 8   350.0 245 3.73 3.840 15.41 0  0  3    4   \n",
       "Pontiac Firebird    19.2 8   400.0 175 3.08 3.845 17.05 0  0  3    2   \n",
       "Fiat X1-9           27.3 4    79.0  66 4.08 1.935 18.90 1  1  4    1   \n",
       "Porsche 914-2       26.0 4   120.3  91 4.43 2.140 16.70 0  1  5    2   \n",
       "Lotus Europa        30.4 4    95.1 113 3.77 1.513 16.90 1  1  5    2   \n",
       "Ford Pantera L      15.8 8   351.0 264 4.22 3.170 14.50 0  1  5    4   \n",
       "Ferrari Dino        19.7 6   145.0 175 3.62 2.770 15.50 0  1  5    6   \n",
       "Maserati Bora       15.0 8   301.0 335 3.54 3.570 14.60 0  1  5    8   \n",
       "Volvo 142E          21.4 4   121.0 109 4.11 2.780 18.60 1  1  4    2   "
      ]
     },
     "metadata": {},
     "output_type": "display_data"
    }
   ],
   "source": [
    "mtcars"
   ]
  },
  {
   "cell_type": "markdown",
   "metadata": {},
   "source": [
    "Trabajar con grandes conjuntos de datos no es raro en el análisis de datos. Cuando se trabaja con conjuntos de datos y data frames(extremadamente) grandes, su primera tarea como analista de datos es desarrollar una comprensión clara de su estructura y elementos principales. Por lo tanto, a menudo es útil mostrar solo una pequeña parte de todo el conjunto de datos.\n",
    "\n",
    "Entonces, ¿cómo hacer esto en R? Bueno, la función `head()` le permite mostrar las primeras observaciones de un marco de datos. Del mismo modo, la función `tail()` imprime las últimas observaciones en su conjunto de datos.\n",
    "\n",
    "Tanto `head()` como `tail()` imprimen una línea superior llamada 'encabezado', que contiene los nombres de las diferentes variables en su conjunto de datos.\n",
    "\n",
    "Probemos estas funciones con el data frame mtcars"
   ]
  },
  {
   "cell_type": "code",
   "execution_count": 63,
   "metadata": {},
   "outputs": [
    {
     "data": {
      "text/html": [
       "<table>\n",
       "<caption>A data.frame: 6 × 11</caption>\n",
       "<thead>\n",
       "\t<tr><th></th><th scope=col>mpg</th><th scope=col>cyl</th><th scope=col>disp</th><th scope=col>hp</th><th scope=col>drat</th><th scope=col>wt</th><th scope=col>qsec</th><th scope=col>vs</th><th scope=col>am</th><th scope=col>gear</th><th scope=col>carb</th></tr>\n",
       "\t<tr><th></th><th scope=col>&lt;dbl&gt;</th><th scope=col>&lt;dbl&gt;</th><th scope=col>&lt;dbl&gt;</th><th scope=col>&lt;dbl&gt;</th><th scope=col>&lt;dbl&gt;</th><th scope=col>&lt;dbl&gt;</th><th scope=col>&lt;dbl&gt;</th><th scope=col>&lt;dbl&gt;</th><th scope=col>&lt;dbl&gt;</th><th scope=col>&lt;dbl&gt;</th><th scope=col>&lt;dbl&gt;</th></tr>\n",
       "</thead>\n",
       "<tbody>\n",
       "\t<tr><th scope=row>Mazda RX4</th><td>21.0</td><td>6</td><td>160</td><td>110</td><td>3.90</td><td>2.620</td><td>16.46</td><td>0</td><td>1</td><td>4</td><td>4</td></tr>\n",
       "\t<tr><th scope=row>Mazda RX4 Wag</th><td>21.0</td><td>6</td><td>160</td><td>110</td><td>3.90</td><td>2.875</td><td>17.02</td><td>0</td><td>1</td><td>4</td><td>4</td></tr>\n",
       "\t<tr><th scope=row>Datsun 710</th><td>22.8</td><td>4</td><td>108</td><td> 93</td><td>3.85</td><td>2.320</td><td>18.61</td><td>1</td><td>1</td><td>4</td><td>1</td></tr>\n",
       "\t<tr><th scope=row>Hornet 4 Drive</th><td>21.4</td><td>6</td><td>258</td><td>110</td><td>3.08</td><td>3.215</td><td>19.44</td><td>1</td><td>0</td><td>3</td><td>1</td></tr>\n",
       "\t<tr><th scope=row>Hornet Sportabout</th><td>18.7</td><td>8</td><td>360</td><td>175</td><td>3.15</td><td>3.440</td><td>17.02</td><td>0</td><td>0</td><td>3</td><td>2</td></tr>\n",
       "\t<tr><th scope=row>Valiant</th><td>18.1</td><td>6</td><td>225</td><td>105</td><td>2.76</td><td>3.460</td><td>20.22</td><td>1</td><td>0</td><td>3</td><td>1</td></tr>\n",
       "</tbody>\n",
       "</table>\n"
      ],
      "text/latex": [
       "A data.frame: 6 × 11\n",
       "\\begin{tabular}{r|lllllllllll}\n",
       "  & mpg & cyl & disp & hp & drat & wt & qsec & vs & am & gear & carb\\\\\n",
       "  & <dbl> & <dbl> & <dbl> & <dbl> & <dbl> & <dbl> & <dbl> & <dbl> & <dbl> & <dbl> & <dbl>\\\\\n",
       "\\hline\n",
       "\tMazda RX4 & 21.0 & 6 & 160 & 110 & 3.90 & 2.620 & 16.46 & 0 & 1 & 4 & 4\\\\\n",
       "\tMazda RX4 Wag & 21.0 & 6 & 160 & 110 & 3.90 & 2.875 & 17.02 & 0 & 1 & 4 & 4\\\\\n",
       "\tDatsun 710 & 22.8 & 4 & 108 &  93 & 3.85 & 2.320 & 18.61 & 1 & 1 & 4 & 1\\\\\n",
       "\tHornet 4 Drive & 21.4 & 6 & 258 & 110 & 3.08 & 3.215 & 19.44 & 1 & 0 & 3 & 1\\\\\n",
       "\tHornet Sportabout & 18.7 & 8 & 360 & 175 & 3.15 & 3.440 & 17.02 & 0 & 0 & 3 & 2\\\\\n",
       "\tValiant & 18.1 & 6 & 225 & 105 & 2.76 & 3.460 & 20.22 & 1 & 0 & 3 & 1\\\\\n",
       "\\end{tabular}\n"
      ],
      "text/markdown": [
       "\n",
       "A data.frame: 6 × 11\n",
       "\n",
       "| <!--/--> | mpg &lt;dbl&gt; | cyl &lt;dbl&gt; | disp &lt;dbl&gt; | hp &lt;dbl&gt; | drat &lt;dbl&gt; | wt &lt;dbl&gt; | qsec &lt;dbl&gt; | vs &lt;dbl&gt; | am &lt;dbl&gt; | gear &lt;dbl&gt; | carb &lt;dbl&gt; |\n",
       "|---|---|---|---|---|---|---|---|---|---|---|---|\n",
       "| Mazda RX4 | 21.0 | 6 | 160 | 110 | 3.90 | 2.620 | 16.46 | 0 | 1 | 4 | 4 |\n",
       "| Mazda RX4 Wag | 21.0 | 6 | 160 | 110 | 3.90 | 2.875 | 17.02 | 0 | 1 | 4 | 4 |\n",
       "| Datsun 710 | 22.8 | 4 | 108 |  93 | 3.85 | 2.320 | 18.61 | 1 | 1 | 4 | 1 |\n",
       "| Hornet 4 Drive | 21.4 | 6 | 258 | 110 | 3.08 | 3.215 | 19.44 | 1 | 0 | 3 | 1 |\n",
       "| Hornet Sportabout | 18.7 | 8 | 360 | 175 | 3.15 | 3.440 | 17.02 | 0 | 0 | 3 | 2 |\n",
       "| Valiant | 18.1 | 6 | 225 | 105 | 2.76 | 3.460 | 20.22 | 1 | 0 | 3 | 1 |\n",
       "\n"
      ],
      "text/plain": [
       "                  mpg  cyl disp hp  drat wt    qsec  vs am gear carb\n",
       "Mazda RX4         21.0 6   160  110 3.90 2.620 16.46 0  1  4    4   \n",
       "Mazda RX4 Wag     21.0 6   160  110 3.90 2.875 17.02 0  1  4    4   \n",
       "Datsun 710        22.8 4   108   93 3.85 2.320 18.61 1  1  4    1   \n",
       "Hornet 4 Drive    21.4 6   258  110 3.08 3.215 19.44 1  0  3    1   \n",
       "Hornet Sportabout 18.7 8   360  175 3.15 3.440 17.02 0  0  3    2   \n",
       "Valiant           18.1 6   225  105 2.76 3.460 20.22 1  0  3    1   "
      ]
     },
     "metadata": {},
     "output_type": "display_data"
    },
    {
     "data": {
      "text/html": [
       "<table>\n",
       "<caption>A data.frame: 6 × 11</caption>\n",
       "<thead>\n",
       "\t<tr><th></th><th scope=col>mpg</th><th scope=col>cyl</th><th scope=col>disp</th><th scope=col>hp</th><th scope=col>drat</th><th scope=col>wt</th><th scope=col>qsec</th><th scope=col>vs</th><th scope=col>am</th><th scope=col>gear</th><th scope=col>carb</th></tr>\n",
       "\t<tr><th></th><th scope=col>&lt;dbl&gt;</th><th scope=col>&lt;dbl&gt;</th><th scope=col>&lt;dbl&gt;</th><th scope=col>&lt;dbl&gt;</th><th scope=col>&lt;dbl&gt;</th><th scope=col>&lt;dbl&gt;</th><th scope=col>&lt;dbl&gt;</th><th scope=col>&lt;dbl&gt;</th><th scope=col>&lt;dbl&gt;</th><th scope=col>&lt;dbl&gt;</th><th scope=col>&lt;dbl&gt;</th></tr>\n",
       "</thead>\n",
       "<tbody>\n",
       "\t<tr><th scope=row>Porsche 914-2</th><td>26.0</td><td>4</td><td>120.3</td><td> 91</td><td>4.43</td><td>2.140</td><td>16.7</td><td>0</td><td>1</td><td>5</td><td>2</td></tr>\n",
       "\t<tr><th scope=row>Lotus Europa</th><td>30.4</td><td>4</td><td> 95.1</td><td>113</td><td>3.77</td><td>1.513</td><td>16.9</td><td>1</td><td>1</td><td>5</td><td>2</td></tr>\n",
       "\t<tr><th scope=row>Ford Pantera L</th><td>15.8</td><td>8</td><td>351.0</td><td>264</td><td>4.22</td><td>3.170</td><td>14.5</td><td>0</td><td>1</td><td>5</td><td>4</td></tr>\n",
       "\t<tr><th scope=row>Ferrari Dino</th><td>19.7</td><td>6</td><td>145.0</td><td>175</td><td>3.62</td><td>2.770</td><td>15.5</td><td>0</td><td>1</td><td>5</td><td>6</td></tr>\n",
       "\t<tr><th scope=row>Maserati Bora</th><td>15.0</td><td>8</td><td>301.0</td><td>335</td><td>3.54</td><td>3.570</td><td>14.6</td><td>0</td><td>1</td><td>5</td><td>8</td></tr>\n",
       "\t<tr><th scope=row>Volvo 142E</th><td>21.4</td><td>4</td><td>121.0</td><td>109</td><td>4.11</td><td>2.780</td><td>18.6</td><td>1</td><td>1</td><td>4</td><td>2</td></tr>\n",
       "</tbody>\n",
       "</table>\n"
      ],
      "text/latex": [
       "A data.frame: 6 × 11\n",
       "\\begin{tabular}{r|lllllllllll}\n",
       "  & mpg & cyl & disp & hp & drat & wt & qsec & vs & am & gear & carb\\\\\n",
       "  & <dbl> & <dbl> & <dbl> & <dbl> & <dbl> & <dbl> & <dbl> & <dbl> & <dbl> & <dbl> & <dbl>\\\\\n",
       "\\hline\n",
       "\tPorsche 914-2 & 26.0 & 4 & 120.3 &  91 & 4.43 & 2.140 & 16.7 & 0 & 1 & 5 & 2\\\\\n",
       "\tLotus Europa & 30.4 & 4 &  95.1 & 113 & 3.77 & 1.513 & 16.9 & 1 & 1 & 5 & 2\\\\\n",
       "\tFord Pantera L & 15.8 & 8 & 351.0 & 264 & 4.22 & 3.170 & 14.5 & 0 & 1 & 5 & 4\\\\\n",
       "\tFerrari Dino & 19.7 & 6 & 145.0 & 175 & 3.62 & 2.770 & 15.5 & 0 & 1 & 5 & 6\\\\\n",
       "\tMaserati Bora & 15.0 & 8 & 301.0 & 335 & 3.54 & 3.570 & 14.6 & 0 & 1 & 5 & 8\\\\\n",
       "\tVolvo 142E & 21.4 & 4 & 121.0 & 109 & 4.11 & 2.780 & 18.6 & 1 & 1 & 4 & 2\\\\\n",
       "\\end{tabular}\n"
      ],
      "text/markdown": [
       "\n",
       "A data.frame: 6 × 11\n",
       "\n",
       "| <!--/--> | mpg &lt;dbl&gt; | cyl &lt;dbl&gt; | disp &lt;dbl&gt; | hp &lt;dbl&gt; | drat &lt;dbl&gt; | wt &lt;dbl&gt; | qsec &lt;dbl&gt; | vs &lt;dbl&gt; | am &lt;dbl&gt; | gear &lt;dbl&gt; | carb &lt;dbl&gt; |\n",
       "|---|---|---|---|---|---|---|---|---|---|---|---|\n",
       "| Porsche 914-2 | 26.0 | 4 | 120.3 |  91 | 4.43 | 2.140 | 16.7 | 0 | 1 | 5 | 2 |\n",
       "| Lotus Europa | 30.4 | 4 |  95.1 | 113 | 3.77 | 1.513 | 16.9 | 1 | 1 | 5 | 2 |\n",
       "| Ford Pantera L | 15.8 | 8 | 351.0 | 264 | 4.22 | 3.170 | 14.5 | 0 | 1 | 5 | 4 |\n",
       "| Ferrari Dino | 19.7 | 6 | 145.0 | 175 | 3.62 | 2.770 | 15.5 | 0 | 1 | 5 | 6 |\n",
       "| Maserati Bora | 15.0 | 8 | 301.0 | 335 | 3.54 | 3.570 | 14.6 | 0 | 1 | 5 | 8 |\n",
       "| Volvo 142E | 21.4 | 4 | 121.0 | 109 | 4.11 | 2.780 | 18.6 | 1 | 1 | 4 | 2 |\n",
       "\n"
      ],
      "text/plain": [
       "               mpg  cyl disp  hp  drat wt    qsec vs am gear carb\n",
       "Porsche 914-2  26.0 4   120.3  91 4.43 2.140 16.7 0  1  5    2   \n",
       "Lotus Europa   30.4 4    95.1 113 3.77 1.513 16.9 1  1  5    2   \n",
       "Ford Pantera L 15.8 8   351.0 264 4.22 3.170 14.5 0  1  5    4   \n",
       "Ferrari Dino   19.7 6   145.0 175 3.62 2.770 15.5 0  1  5    6   \n",
       "Maserati Bora  15.0 8   301.0 335 3.54 3.570 14.6 0  1  5    8   \n",
       "Volvo 142E     21.4 4   121.0 109 4.11 2.780 18.6 1  1  4    2   "
      ]
     },
     "metadata": {},
     "output_type": "display_data"
    }
   ],
   "source": [
    "head(mtcars)\n",
    "tail(mtcars)"
   ]
  },
  {
   "cell_type": "markdown",
   "metadata": {},
   "source": [
    "Como podrás ver nos devuelve las primeras y últimas 6 observaciones del data frame, esto lo podemos modificar. por ejemplo, si quisieramos ver los primeros 10 podemos agregar un segundo argumento con el número específico de filas a desplegar"
   ]
  },
  {
   "cell_type": "code",
   "execution_count": 64,
   "metadata": {},
   "outputs": [
    {
     "data": {
      "text/html": [
       "<table>\n",
       "<caption>A data.frame: 10 × 11</caption>\n",
       "<thead>\n",
       "\t<tr><th></th><th scope=col>mpg</th><th scope=col>cyl</th><th scope=col>disp</th><th scope=col>hp</th><th scope=col>drat</th><th scope=col>wt</th><th scope=col>qsec</th><th scope=col>vs</th><th scope=col>am</th><th scope=col>gear</th><th scope=col>carb</th></tr>\n",
       "\t<tr><th></th><th scope=col>&lt;dbl&gt;</th><th scope=col>&lt;dbl&gt;</th><th scope=col>&lt;dbl&gt;</th><th scope=col>&lt;dbl&gt;</th><th scope=col>&lt;dbl&gt;</th><th scope=col>&lt;dbl&gt;</th><th scope=col>&lt;dbl&gt;</th><th scope=col>&lt;dbl&gt;</th><th scope=col>&lt;dbl&gt;</th><th scope=col>&lt;dbl&gt;</th><th scope=col>&lt;dbl&gt;</th></tr>\n",
       "</thead>\n",
       "<tbody>\n",
       "\t<tr><th scope=row>Mazda RX4</th><td>21.0</td><td>6</td><td>160.0</td><td>110</td><td>3.90</td><td>2.620</td><td>16.46</td><td>0</td><td>1</td><td>4</td><td>4</td></tr>\n",
       "\t<tr><th scope=row>Mazda RX4 Wag</th><td>21.0</td><td>6</td><td>160.0</td><td>110</td><td>3.90</td><td>2.875</td><td>17.02</td><td>0</td><td>1</td><td>4</td><td>4</td></tr>\n",
       "\t<tr><th scope=row>Datsun 710</th><td>22.8</td><td>4</td><td>108.0</td><td> 93</td><td>3.85</td><td>2.320</td><td>18.61</td><td>1</td><td>1</td><td>4</td><td>1</td></tr>\n",
       "\t<tr><th scope=row>Hornet 4 Drive</th><td>21.4</td><td>6</td><td>258.0</td><td>110</td><td>3.08</td><td>3.215</td><td>19.44</td><td>1</td><td>0</td><td>3</td><td>1</td></tr>\n",
       "\t<tr><th scope=row>Hornet Sportabout</th><td>18.7</td><td>8</td><td>360.0</td><td>175</td><td>3.15</td><td>3.440</td><td>17.02</td><td>0</td><td>0</td><td>3</td><td>2</td></tr>\n",
       "\t<tr><th scope=row>Valiant</th><td>18.1</td><td>6</td><td>225.0</td><td>105</td><td>2.76</td><td>3.460</td><td>20.22</td><td>1</td><td>0</td><td>3</td><td>1</td></tr>\n",
       "\t<tr><th scope=row>Duster 360</th><td>14.3</td><td>8</td><td>360.0</td><td>245</td><td>3.21</td><td>3.570</td><td>15.84</td><td>0</td><td>0</td><td>3</td><td>4</td></tr>\n",
       "\t<tr><th scope=row>Merc 240D</th><td>24.4</td><td>4</td><td>146.7</td><td> 62</td><td>3.69</td><td>3.190</td><td>20.00</td><td>1</td><td>0</td><td>4</td><td>2</td></tr>\n",
       "\t<tr><th scope=row>Merc 230</th><td>22.8</td><td>4</td><td>140.8</td><td> 95</td><td>3.92</td><td>3.150</td><td>22.90</td><td>1</td><td>0</td><td>4</td><td>2</td></tr>\n",
       "\t<tr><th scope=row>Merc 280</th><td>19.2</td><td>6</td><td>167.6</td><td>123</td><td>3.92</td><td>3.440</td><td>18.30</td><td>1</td><td>0</td><td>4</td><td>4</td></tr>\n",
       "</tbody>\n",
       "</table>\n"
      ],
      "text/latex": [
       "A data.frame: 10 × 11\n",
       "\\begin{tabular}{r|lllllllllll}\n",
       "  & mpg & cyl & disp & hp & drat & wt & qsec & vs & am & gear & carb\\\\\n",
       "  & <dbl> & <dbl> & <dbl> & <dbl> & <dbl> & <dbl> & <dbl> & <dbl> & <dbl> & <dbl> & <dbl>\\\\\n",
       "\\hline\n",
       "\tMazda RX4 & 21.0 & 6 & 160.0 & 110 & 3.90 & 2.620 & 16.46 & 0 & 1 & 4 & 4\\\\\n",
       "\tMazda RX4 Wag & 21.0 & 6 & 160.0 & 110 & 3.90 & 2.875 & 17.02 & 0 & 1 & 4 & 4\\\\\n",
       "\tDatsun 710 & 22.8 & 4 & 108.0 &  93 & 3.85 & 2.320 & 18.61 & 1 & 1 & 4 & 1\\\\\n",
       "\tHornet 4 Drive & 21.4 & 6 & 258.0 & 110 & 3.08 & 3.215 & 19.44 & 1 & 0 & 3 & 1\\\\\n",
       "\tHornet Sportabout & 18.7 & 8 & 360.0 & 175 & 3.15 & 3.440 & 17.02 & 0 & 0 & 3 & 2\\\\\n",
       "\tValiant & 18.1 & 6 & 225.0 & 105 & 2.76 & 3.460 & 20.22 & 1 & 0 & 3 & 1\\\\\n",
       "\tDuster 360 & 14.3 & 8 & 360.0 & 245 & 3.21 & 3.570 & 15.84 & 0 & 0 & 3 & 4\\\\\n",
       "\tMerc 240D & 24.4 & 4 & 146.7 &  62 & 3.69 & 3.190 & 20.00 & 1 & 0 & 4 & 2\\\\\n",
       "\tMerc 230 & 22.8 & 4 & 140.8 &  95 & 3.92 & 3.150 & 22.90 & 1 & 0 & 4 & 2\\\\\n",
       "\tMerc 280 & 19.2 & 6 & 167.6 & 123 & 3.92 & 3.440 & 18.30 & 1 & 0 & 4 & 4\\\\\n",
       "\\end{tabular}\n"
      ],
      "text/markdown": [
       "\n",
       "A data.frame: 10 × 11\n",
       "\n",
       "| <!--/--> | mpg &lt;dbl&gt; | cyl &lt;dbl&gt; | disp &lt;dbl&gt; | hp &lt;dbl&gt; | drat &lt;dbl&gt; | wt &lt;dbl&gt; | qsec &lt;dbl&gt; | vs &lt;dbl&gt; | am &lt;dbl&gt; | gear &lt;dbl&gt; | carb &lt;dbl&gt; |\n",
       "|---|---|---|---|---|---|---|---|---|---|---|---|\n",
       "| Mazda RX4 | 21.0 | 6 | 160.0 | 110 | 3.90 | 2.620 | 16.46 | 0 | 1 | 4 | 4 |\n",
       "| Mazda RX4 Wag | 21.0 | 6 | 160.0 | 110 | 3.90 | 2.875 | 17.02 | 0 | 1 | 4 | 4 |\n",
       "| Datsun 710 | 22.8 | 4 | 108.0 |  93 | 3.85 | 2.320 | 18.61 | 1 | 1 | 4 | 1 |\n",
       "| Hornet 4 Drive | 21.4 | 6 | 258.0 | 110 | 3.08 | 3.215 | 19.44 | 1 | 0 | 3 | 1 |\n",
       "| Hornet Sportabout | 18.7 | 8 | 360.0 | 175 | 3.15 | 3.440 | 17.02 | 0 | 0 | 3 | 2 |\n",
       "| Valiant | 18.1 | 6 | 225.0 | 105 | 2.76 | 3.460 | 20.22 | 1 | 0 | 3 | 1 |\n",
       "| Duster 360 | 14.3 | 8 | 360.0 | 245 | 3.21 | 3.570 | 15.84 | 0 | 0 | 3 | 4 |\n",
       "| Merc 240D | 24.4 | 4 | 146.7 |  62 | 3.69 | 3.190 | 20.00 | 1 | 0 | 4 | 2 |\n",
       "| Merc 230 | 22.8 | 4 | 140.8 |  95 | 3.92 | 3.150 | 22.90 | 1 | 0 | 4 | 2 |\n",
       "| Merc 280 | 19.2 | 6 | 167.6 | 123 | 3.92 | 3.440 | 18.30 | 1 | 0 | 4 | 4 |\n",
       "\n"
      ],
      "text/plain": [
       "                  mpg  cyl disp  hp  drat wt    qsec  vs am gear carb\n",
       "Mazda RX4         21.0 6   160.0 110 3.90 2.620 16.46 0  1  4    4   \n",
       "Mazda RX4 Wag     21.0 6   160.0 110 3.90 2.875 17.02 0  1  4    4   \n",
       "Datsun 710        22.8 4   108.0  93 3.85 2.320 18.61 1  1  4    1   \n",
       "Hornet 4 Drive    21.4 6   258.0 110 3.08 3.215 19.44 1  0  3    1   \n",
       "Hornet Sportabout 18.7 8   360.0 175 3.15 3.440 17.02 0  0  3    2   \n",
       "Valiant           18.1 6   225.0 105 2.76 3.460 20.22 1  0  3    1   \n",
       "Duster 360        14.3 8   360.0 245 3.21 3.570 15.84 0  0  3    4   \n",
       "Merc 240D         24.4 4   146.7  62 3.69 3.190 20.00 1  0  4    2   \n",
       "Merc 230          22.8 4   140.8  95 3.92 3.150 22.90 1  0  4    2   \n",
       "Merc 280          19.2 6   167.6 123 3.92 3.440 18.30 1  0  4    4   "
      ]
     },
     "metadata": {},
     "output_type": "display_data"
    }
   ],
   "source": [
    "head(mtcars,10)"
   ]
  },
  {
   "cell_type": "markdown",
   "metadata": {},
   "source": [
    "Otro método que se usa a menudo para obtener una visión general rápida de sus datos es la función `str()`. La función `str()` le muestra la estructura de su conjunto de datos. Para un data frame te dice:\n",
    "\n",
    "- El número total de observaciones (por ejemplo, 32 tipos de automóviles)\n",
    "- El número total de variables (por ejemplo, 11 características del automóvil)\n",
    "- Una lista completa de los nombres de las variables (por ejemplo, mpg, cyl, etc...)\n",
    "- El tipo de datos de cada variable (por ejemplo, num)\n",
    "- Las primeras observaciones\n",
    "\n",
    "La aplicación de la función `str()` suele ser lo primero que hace al recibir un nuevo conjunto de datos o data frame. Es una excelente manera de obtener más información sobre su conjunto de datos antes de sumergirse en el análisis real.<br>\n",
    "\n",
    "Probemos esta función"
   ]
  },
  {
   "cell_type": "code",
   "execution_count": 65,
   "metadata": {},
   "outputs": [
    {
     "name": "stdout",
     "output_type": "stream",
     "text": [
      "'data.frame':\t32 obs. of  11 variables:\n",
      " $ mpg : num  21 21 22.8 21.4 18.7 18.1 14.3 24.4 22.8 19.2 ...\n",
      " $ cyl : num  6 6 4 6 8 6 8 4 4 6 ...\n",
      " $ disp: num  160 160 108 258 360 ...\n",
      " $ hp  : num  110 110 93 110 175 105 245 62 95 123 ...\n",
      " $ drat: num  3.9 3.9 3.85 3.08 3.15 2.76 3.21 3.69 3.92 3.92 ...\n",
      " $ wt  : num  2.62 2.88 2.32 3.21 3.44 ...\n",
      " $ qsec: num  16.5 17 18.6 19.4 17 ...\n",
      " $ vs  : num  0 0 1 1 0 1 0 1 1 1 ...\n",
      " $ am  : num  1 1 1 0 0 0 0 0 0 0 ...\n",
      " $ gear: num  4 4 4 3 3 3 3 4 4 4 ...\n",
      " $ carb: num  4 4 1 1 2 1 4 2 2 4 ...\n"
     ]
    }
   ],
   "source": [
    "str(mtcars)"
   ]
  },
  {
   "cell_type": "markdown",
   "metadata": {},
   "source": [
    "Dado que el uso de conjuntos de datos integrados no es ni siquiera la mitad de la diversión de crear tus propios conjuntos de datos, hablaremos de como desarrollar conjunto de datos personalmente.<br>\n",
    "\n",
    "Como primer objetivo, construyamos un data frame que describa las características principales de ocho planetas en nuestro sistema solar. Las características principales de un planeta son:\n",
    "\n",
    "- El tipo de planeta (terrestre o gaseoso).\n",
    "- El diámetro del planeta en relación con el diámetro de la   Tierra.\n",
    "- La rotación del planeta a través del sol en relación con   la de la Tierra.\n",
    "- Si el planeta tiene anillos o no (VERDADERO o FALSO).\n",
    "\n",
    "Después de hacer una investigación rápida en Wikipedia https://en.wikipedia.org/wiki/Planet, se pueden crear los vectores necesarios: nombre, tipo, diámetro, rotación y anillos; Estos vectores ya los he codificado para ahorrar tiempo. El primer elemento en cada uno de estos vectores corresponde a la primera observación.\n",
    "\n",
    "Construye un data frame con la función `data.frame()`. Como argumentos, pasa los vectores de antes: se convertirán en las diferentes columnas de su marco de datos. Debido a que cada columna tiene la misma longitud, los vectores que pasa también deben tener la misma longitud. Pero no olvides que es posible (y probable) que contengan diferentes tipos de datos. Guarda el data frame en una variable llamada **planetas** e imprímelo"
   ]
  },
  {
   "cell_type": "code",
   "execution_count": 66,
   "metadata": {},
   "outputs": [],
   "source": [
    "nombre <- c(\"Mercurio\", \"Venus\", \"Tierra\", \"Marte\", \"Jupiter\", \"Saturno\", \"Urano\", \"Neptuno\")\n",
    "tipo <- c(\"Terrestre\", \"Terrestre\", \"Terrestre\", \n",
    "          \"Terrestre\", \"Gaseoso\", \"Gaseoso\", \"Gaseoso\", \"Gaseoso\")\n",
    "diametro <- c(0.382, 0.949, 1, 0.532, 11.209, 9.449, 4.007, 3.883)\n",
    "rotacion <- c(58.64, -243.02, 1, 1.03, 0.41, 0.43, -0.72, 0.67)\n",
    "anillos <- c(FALSE, FALSE, FALSE, FALSE, TRUE, TRUE, TRUE, TRUE)\n"
   ]
  },
  {
   "cell_type": "code",
   "execution_count": 67,
   "metadata": {},
   "outputs": [
    {
     "data": {
      "text/html": [
       "<table>\n",
       "<caption>A data.frame: 8 × 5</caption>\n",
       "<thead>\n",
       "\t<tr><th scope=col>nombre</th><th scope=col>tipo</th><th scope=col>diametro</th><th scope=col>rotacion</th><th scope=col>anillos</th></tr>\n",
       "\t<tr><th scope=col>&lt;fct&gt;</th><th scope=col>&lt;fct&gt;</th><th scope=col>&lt;dbl&gt;</th><th scope=col>&lt;dbl&gt;</th><th scope=col>&lt;lgl&gt;</th></tr>\n",
       "</thead>\n",
       "<tbody>\n",
       "\t<tr><td>Mercurio</td><td>Terrestre</td><td> 0.382</td><td>  58.64</td><td>FALSE</td></tr>\n",
       "\t<tr><td>Venus   </td><td>Terrestre</td><td> 0.949</td><td>-243.02</td><td>FALSE</td></tr>\n",
       "\t<tr><td>Tierra  </td><td>Terrestre</td><td> 1.000</td><td>   1.00</td><td>FALSE</td></tr>\n",
       "\t<tr><td>Marte   </td><td>Terrestre</td><td> 0.532</td><td>   1.03</td><td>FALSE</td></tr>\n",
       "\t<tr><td>Jupiter </td><td>Gaseoso  </td><td>11.209</td><td>   0.41</td><td> TRUE</td></tr>\n",
       "\t<tr><td>Saturno </td><td>Gaseoso  </td><td> 9.449</td><td>   0.43</td><td> TRUE</td></tr>\n",
       "\t<tr><td>Urano   </td><td>Gaseoso  </td><td> 4.007</td><td>  -0.72</td><td> TRUE</td></tr>\n",
       "\t<tr><td>Neptuno </td><td>Gaseoso  </td><td> 3.883</td><td>   0.67</td><td> TRUE</td></tr>\n",
       "</tbody>\n",
       "</table>\n"
      ],
      "text/latex": [
       "A data.frame: 8 × 5\n",
       "\\begin{tabular}{lllll}\n",
       " nombre & tipo & diametro & rotacion & anillos\\\\\n",
       " <fct> & <fct> & <dbl> & <dbl> & <lgl>\\\\\n",
       "\\hline\n",
       "\t Mercurio & Terrestre &  0.382 &   58.64 & FALSE\\\\\n",
       "\t Venus    & Terrestre &  0.949 & -243.02 & FALSE\\\\\n",
       "\t Tierra   & Terrestre &  1.000 &    1.00 & FALSE\\\\\n",
       "\t Marte    & Terrestre &  0.532 &    1.03 & FALSE\\\\\n",
       "\t Jupiter  & Gaseoso   & 11.209 &    0.41 &  TRUE\\\\\n",
       "\t Saturno  & Gaseoso   &  9.449 &    0.43 &  TRUE\\\\\n",
       "\t Urano    & Gaseoso   &  4.007 &   -0.72 &  TRUE\\\\\n",
       "\t Neptuno  & Gaseoso   &  3.883 &    0.67 &  TRUE\\\\\n",
       "\\end{tabular}\n"
      ],
      "text/markdown": [
       "\n",
       "A data.frame: 8 × 5\n",
       "\n",
       "| nombre &lt;fct&gt; | tipo &lt;fct&gt; | diametro &lt;dbl&gt; | rotacion &lt;dbl&gt; | anillos &lt;lgl&gt; |\n",
       "|---|---|---|---|---|\n",
       "| Mercurio | Terrestre |  0.382 |   58.64 | FALSE |\n",
       "| Venus    | Terrestre |  0.949 | -243.02 | FALSE |\n",
       "| Tierra   | Terrestre |  1.000 |    1.00 | FALSE |\n",
       "| Marte    | Terrestre |  0.532 |    1.03 | FALSE |\n",
       "| Jupiter  | Gaseoso   | 11.209 |    0.41 |  TRUE |\n",
       "| Saturno  | Gaseoso   |  9.449 |    0.43 |  TRUE |\n",
       "| Urano    | Gaseoso   |  4.007 |   -0.72 |  TRUE |\n",
       "| Neptuno  | Gaseoso   |  3.883 |    0.67 |  TRUE |\n",
       "\n"
      ],
      "text/plain": [
       "  nombre   tipo      diametro rotacion anillos\n",
       "1 Mercurio Terrestre  0.382     58.64  FALSE  \n",
       "2 Venus    Terrestre  0.949   -243.02  FALSE  \n",
       "3 Tierra   Terrestre  1.000      1.00  FALSE  \n",
       "4 Marte    Terrestre  0.532      1.03  FALSE  \n",
       "5 Jupiter  Gaseoso   11.209      0.41   TRUE  \n",
       "6 Saturno  Gaseoso    9.449      0.43   TRUE  \n",
       "7 Urano    Gaseoso    4.007     -0.72   TRUE  \n",
       "8 Neptuno  Gaseoso    3.883      0.67   TRUE  "
      ]
     },
     "metadata": {},
     "output_type": "display_data"
    }
   ],
   "source": [
    "planetas <- data.frame(nombre,tipo,diametro,rotacion,anillos)\n",
    "planetas"
   ]
  },
  {
   "cell_type": "markdown",
   "metadata": {},
   "source": [
    "Checa su estructura"
   ]
  },
  {
   "cell_type": "code",
   "execution_count": 68,
   "metadata": {},
   "outputs": [
    {
     "name": "stdout",
     "output_type": "stream",
     "text": [
      "'data.frame':\t8 obs. of  5 variables:\n",
      " $ nombre  : Factor w/ 8 levels \"Jupiter\",\"Marte\",..: 3 8 6 2 1 5 7 4\n",
      " $ tipo    : Factor w/ 2 levels \"Gaseoso\",\"Terrestre\": 2 2 2 2 1 1 1 1\n",
      " $ diametro: num  0.382 0.949 1 0.532 11.209 ...\n",
      " $ rotacion: num  58.64 -243.02 1 1.03 0.41 ...\n",
      " $ anillos : logi  FALSE FALSE FALSE FALSE TRUE TRUE ...\n"
     ]
    }
   ],
   "source": [
    "str(planetas)"
   ]
  },
  {
   "cell_type": "markdown",
   "metadata": {},
   "source": [
    "Similar a los vectores y las matrices, selecciona elementos de un data frame con la ayuda de corchetes []. Al usar una coma, puede indicar qué seleccionar de las filas y las columnas, respectivamente. Por ejemplo:\n",
    "\n",
    "- my_df[1,2] selecciona el valor en la primera fila y la segunda columna en my_df.\n",
    "- my_df[1: 3,2: 4] selecciona las filas 1, 2, 3 y las columnas 2, 3, 4 en my_df.\n",
    "\n",
    "A veces desea seleccionar todos los elementos de una fila o columna. Por ejemplo, my_df[1,] selecciona todos los elementos de la primera fila. Ahora apliquemos esta técnica en planetas"
   ]
  },
  {
   "cell_type": "code",
   "execution_count": 69,
   "metadata": {},
   "outputs": [
    {
     "data": {
      "text/html": [
       "0.382"
      ],
      "text/latex": [
       "0.382"
      ],
      "text/markdown": [
       "0.382"
      ],
      "text/plain": [
       "[1] 0.382"
      ]
     },
     "metadata": {},
     "output_type": "display_data"
    },
    {
     "data": {
      "text/html": [
       "<table>\n",
       "<caption>A data.frame: 1 × 5</caption>\n",
       "<thead>\n",
       "\t<tr><th></th><th scope=col>nombre</th><th scope=col>tipo</th><th scope=col>diametro</th><th scope=col>rotacion</th><th scope=col>anillos</th></tr>\n",
       "\t<tr><th></th><th scope=col>&lt;fct&gt;</th><th scope=col>&lt;fct&gt;</th><th scope=col>&lt;dbl&gt;</th><th scope=col>&lt;dbl&gt;</th><th scope=col>&lt;lgl&gt;</th></tr>\n",
       "</thead>\n",
       "<tbody>\n",
       "\t<tr><th scope=row>4</th><td>Marte</td><td>Terrestre</td><td>0.532</td><td>1.03</td><td>FALSE</td></tr>\n",
       "</tbody>\n",
       "</table>\n"
      ],
      "text/latex": [
       "A data.frame: 1 × 5\n",
       "\\begin{tabular}{r|lllll}\n",
       "  & nombre & tipo & diametro & rotacion & anillos\\\\\n",
       "  & <fct> & <fct> & <dbl> & <dbl> & <lgl>\\\\\n",
       "\\hline\n",
       "\t4 & Marte & Terrestre & 0.532 & 1.03 & FALSE\\\\\n",
       "\\end{tabular}\n"
      ],
      "text/markdown": [
       "\n",
       "A data.frame: 1 × 5\n",
       "\n",
       "| <!--/--> | nombre &lt;fct&gt; | tipo &lt;fct&gt; | diametro &lt;dbl&gt; | rotacion &lt;dbl&gt; | anillos &lt;lgl&gt; |\n",
       "|---|---|---|---|---|---|\n",
       "| 4 | Marte | Terrestre | 0.532 | 1.03 | FALSE |\n",
       "\n"
      ],
      "text/plain": [
       "  nombre tipo      diametro rotacion anillos\n",
       "4 Marte  Terrestre 0.532    1.03     FALSE  "
      ]
     },
     "metadata": {},
     "output_type": "display_data"
    }
   ],
   "source": [
    "# Imprime el diámetro de Mercurio (fila 1, columna 3)\n",
    "planetas[1,3]\n",
    "# Imprime los datos para Marte (toda la cuarta fila)\n",
    "planetas[4,]"
   ]
  },
  {
   "cell_type": "markdown",
   "metadata": {},
   "source": [
    "En lugar de usar números para seleccionar elementos de un data frame, también puede usar los nombres de las variables para seleccionar columnas de un marco de datos.\n",
    "\n",
    "Suponga que desea seleccionar los primeros tres elementos de la columna 'tipo'. Una forma de hacer esto es:\n",
    "\n",
    "                  planetas_df [1: 3,2]\n",
    "                    \n",
    "Una posible desventaja de este enfoque es que debe conocer (o buscar) el número de columna 'tipo', lo que se vuelve difícil si tiene muchas variables. A menudo es más fácil usar el nombre de la variable:\n",
    "\n",
    "                planets_df [1: 3, \"tipo\"]\n",
    "Práctiquemos"
   ]
  },
  {
   "cell_type": "code",
   "execution_count": 70,
   "metadata": {},
   "outputs": [
    {
     "data": {
      "text/html": [
       "<style>\n",
       ".list-inline {list-style: none; margin:0; padding: 0}\n",
       ".list-inline>li {display: inline-block}\n",
       ".list-inline>li:not(:last-child)::after {content: \"\\00b7\"; padding: 0 .5ex}\n",
       "</style>\n",
       "<ol class=list-inline><li>0.382</li><li>0.949</li><li>1</li><li>0.532</li><li>11.209</li></ol>\n"
      ],
      "text/latex": [
       "\\begin{enumerate*}\n",
       "\\item 0.382\n",
       "\\item 0.949\n",
       "\\item 1\n",
       "\\item 0.532\n",
       "\\item 11.209\n",
       "\\end{enumerate*}\n"
      ],
      "text/markdown": [
       "1. 0.382\n",
       "2. 0.949\n",
       "3. 1\n",
       "4. 0.532\n",
       "5. 11.209\n",
       "\n",
       "\n"
      ],
      "text/plain": [
       "[1]  0.382  0.949  1.000  0.532 11.209"
      ]
     },
     "metadata": {},
     "output_type": "display_data"
    }
   ],
   "source": [
    "# Selecciona los primeros 5 valores de la columna \n",
    "# de diámetro\n",
    "planetas[1:5, \"diametro\"]"
   ]
  },
  {
   "cell_type": "markdown",
   "metadata": {},
   "source": [
    "A menudo querrás seleccionar una columna completa, es decir, una variable específica de un data frame. Si desea seleccionar todos los elementos de la variable 'diámetro', por ejemplo, ambos harán el truco:\n",
    "\n",
    "                        planetas[, 3]\n",
    "                              ó\n",
    "                   planetas[, \"diámetro\"]\n",
    "                   \n",
    "Sin embargo, hay un atajo. Si sus columnas tienen nombres, puede usar el signo $:\n",
    "\n",
    "                     planetas$diámetro\n",
    "                     \n",
    "Probemoslo"
   ]
  },
  {
   "cell_type": "code",
   "execution_count": 71,
   "metadata": {},
   "outputs": [],
   "source": [
    "# Selecciona la variable anillos de planetas y guardala como\n",
    "# anillos\n",
    "\n",
    "\n",
    "# Imprime la variable"
   ]
  },
  {
   "cell_type": "markdown",
   "metadata": {},
   "source": [
    "Probablemente recuerdes de la escuela secundaria que algunos planetas de nuestro sistema solar tienen anillos y otros no. Lamentablemente no puedes recordar sus nombres. ¿Podría R ayudarnos?\n",
    "\n",
    "Si escribe anillos en la consola, obtendrás:\n",
    "\n",
    "         [1] FALSE FALSE FALSE FALSE TRUE TRUE                          TRUE TRUE\n",
    "         \n",
    "Esto significa que las primeras cuatro observaciones (o planetas) no tienen un anillo (FALSE), pero las otras cuatro sí (TRUE). Sin embargo, no obtienes una buena visión general de los nombres de estos planetas, su diámetro, etc. Tratemos de usar el vector **anillos** para seleccionar los datos de los cuatro planetas con anillos."
   ]
  },
  {
   "cell_type": "code",
   "execution_count": 72,
   "metadata": {},
   "outputs": [
    {
     "ename": "ERROR",
     "evalue": "Error in eval(expr, envir, enclos): objeto 'planeta' no encontrado\n",
     "output_type": "error",
     "traceback": [
      "Error in eval(expr, envir, enclos): objeto 'planeta' no encontrado\nTraceback:\n"
     ]
    }
   ],
   "source": [
    "# selecciona todas las columnas para planetas con anillos\n",
    "planeta[anillos, ]"
   ]
  },
  {
   "cell_type": "markdown",
   "metadata": {},
   "source": [
    "Entonces, ¿qué aprendiste exactamente de este ejercicio? Seleccionaste un subconjunto de un data frame (planetas) en función de si cierta condición era verdadera (anillos o no anillos) y logró extraer todos los datos relevantes.<br>\n",
    "\n",
    "Ahora, avancemos un nivel y usemos la función `subset()`. Deberias ver que la función `subset()`funciona como un atajo para hacer exactamente lo mismo que hizo en los ejercicios anteriores.\n",
    "\n",
    "        subset(my_df, subset = alguna_condición)\n",
    "        \n",
    "El primer argumento de `subset()` especifica el conjunto de datos para el que desea un subconjunto. Al agregar el segundo argumento, le da a R la información y las condiciones necesarias para seleccionar el subconjunto correcto.\n",
    "\n",
    "El siguiente código le dará exactamente el mismo resultado que obtuvo en el ejercicio anterior, pero esta vez, ¡no necesitamos el vector **anillos**!"
   ]
  },
  {
   "cell_type": "code",
   "execution_count": 73,
   "metadata": {},
   "outputs": [
    {
     "data": {
      "text/html": [
       "<table>\n",
       "<caption>A data.frame: 4 × 5</caption>\n",
       "<thead>\n",
       "\t<tr><th></th><th scope=col>nombre</th><th scope=col>tipo</th><th scope=col>diametro</th><th scope=col>rotacion</th><th scope=col>anillos</th></tr>\n",
       "\t<tr><th></th><th scope=col>&lt;fct&gt;</th><th scope=col>&lt;fct&gt;</th><th scope=col>&lt;dbl&gt;</th><th scope=col>&lt;dbl&gt;</th><th scope=col>&lt;lgl&gt;</th></tr>\n",
       "</thead>\n",
       "<tbody>\n",
       "\t<tr><th scope=row>5</th><td>Jupiter</td><td>Gaseoso</td><td>11.209</td><td> 0.41</td><td>TRUE</td></tr>\n",
       "\t<tr><th scope=row>6</th><td>Saturno</td><td>Gaseoso</td><td> 9.449</td><td> 0.43</td><td>TRUE</td></tr>\n",
       "\t<tr><th scope=row>7</th><td>Urano  </td><td>Gaseoso</td><td> 4.007</td><td>-0.72</td><td>TRUE</td></tr>\n",
       "\t<tr><th scope=row>8</th><td>Neptuno</td><td>Gaseoso</td><td> 3.883</td><td> 0.67</td><td>TRUE</td></tr>\n",
       "</tbody>\n",
       "</table>\n"
      ],
      "text/latex": [
       "A data.frame: 4 × 5\n",
       "\\begin{tabular}{r|lllll}\n",
       "  & nombre & tipo & diametro & rotacion & anillos\\\\\n",
       "  & <fct> & <fct> & <dbl> & <dbl> & <lgl>\\\\\n",
       "\\hline\n",
       "\t5 & Jupiter & Gaseoso & 11.209 &  0.41 & TRUE\\\\\n",
       "\t6 & Saturno & Gaseoso &  9.449 &  0.43 & TRUE\\\\\n",
       "\t7 & Urano   & Gaseoso &  4.007 & -0.72 & TRUE\\\\\n",
       "\t8 & Neptuno & Gaseoso &  3.883 &  0.67 & TRUE\\\\\n",
       "\\end{tabular}\n"
      ],
      "text/markdown": [
       "\n",
       "A data.frame: 4 × 5\n",
       "\n",
       "| <!--/--> | nombre &lt;fct&gt; | tipo &lt;fct&gt; | diametro &lt;dbl&gt; | rotacion &lt;dbl&gt; | anillos &lt;lgl&gt; |\n",
       "|---|---|---|---|---|---|\n",
       "| 5 | Jupiter | Gaseoso | 11.209 |  0.41 | TRUE |\n",
       "| 6 | Saturno | Gaseoso |  9.449 |  0.43 | TRUE |\n",
       "| 7 | Urano   | Gaseoso |  4.007 | -0.72 | TRUE |\n",
       "| 8 | Neptuno | Gaseoso |  3.883 |  0.67 | TRUE |\n",
       "\n"
      ],
      "text/plain": [
       "  nombre  tipo    diametro rotacion anillos\n",
       "5 Jupiter Gaseoso 11.209    0.41    TRUE   \n",
       "6 Saturno Gaseoso  9.449    0.43    TRUE   \n",
       "7 Urano   Gaseoso  4.007   -0.72    TRUE   \n",
       "8 Neptuno Gaseoso  3.883    0.67    TRUE   "
      ]
     },
     "metadata": {},
     "output_type": "display_data"
    }
   ],
   "source": [
    "subset(planetas, subset = anillos)"
   ]
  },
  {
   "cell_type": "markdown",
   "metadata": {},
   "source": [
    "Ahora un ejercicio, usa `subset()` en **planetas** para seleccionar planetas que tengan un diámetro menor que la Tierra. Debido a que la variable de diámetro es una medida relativa del diámetro del planeta Tierra, su condición es diámetro < 1."
   ]
  },
  {
   "cell_type": "code",
   "execution_count": 74,
   "metadata": {},
   "outputs": [
    {
     "ename": "ERROR",
     "evalue": "Error in subset(planeta, subset = diametro < 1): objeto 'planeta' no encontrado\n",
     "output_type": "error",
     "traceback": [
      "Error in subset(planeta, subset = diametro < 1): objeto 'planeta' no encontrado\nTraceback:\n",
      "1. subset(planeta, subset = diametro < 1)"
     ]
    }
   ],
   "source": [
    "subset(planeta, subset = diametro < 1)"
   ]
  },
  {
   "cell_type": "markdown",
   "metadata": {},
   "source": [
    "Hacer y crear clasificaciones es uno de los asuntos favoritos de la humanidad. Estas clasificaciones pueden ser útiles (las mejores universidades del mundo), entretenidas (las estrellas de cine más influyentes) o inútiles (el mejor cosplay del 2020).\n",
    "\n",
    "En el análisis de datos, puedes ordenar sus datos de acuerdo con una determinada variable en el conjunto de datos. En R, esto se hace con la ayuda de la función `order()`.\n",
    "\n",
    "`order()` es una función que le brinda la posición clasificada de cada elemento cuando se aplica a una variable, como un vector, por ejemplo:"
   ]
  },
  {
   "cell_type": "code",
   "execution_count": 75,
   "metadata": {},
   "outputs": [
    {
     "data": {
      "text/html": [
       "<style>\n",
       ".list-inline {list-style: none; margin:0; padding: 0}\n",
       ".list-inline>li {display: inline-block}\n",
       ".list-inline>li:not(:last-child)::after {content: \"\\00b7\"; padding: 0 .5ex}\n",
       "</style>\n",
       "<ol class=list-inline><li>2</li><li>1</li><li>3</li></ol>\n"
      ],
      "text/latex": [
       "\\begin{enumerate*}\n",
       "\\item 2\n",
       "\\item 1\n",
       "\\item 3\n",
       "\\end{enumerate*}\n"
      ],
      "text/markdown": [
       "1. 2\n",
       "2. 1\n",
       "3. 3\n",
       "\n",
       "\n"
      ],
      "text/plain": [
       "[1] 2 1 3"
      ]
     },
     "metadata": {},
     "output_type": "display_data"
    }
   ],
   "source": [
    "a <- c (100, 10, 1000)\n",
    "order(a) "
   ]
  },
  {
   "cell_type": "markdown",
   "metadata": {},
   "source": [
    "10, que es el segundo elemento en a, es el elemento más pequeño, por lo que 2 viene primero en el resultado de `order(a)`. 100, que es el primer elemento en a, es el segundo elemento más pequeño, por lo que 1 ocupa el segundo lugar en la salida del `order(a)`.\n",
    "Esto significa que podemos usar el resultado de `order(a)` para reorganizar:"
   ]
  },
  {
   "cell_type": "code",
   "execution_count": 76,
   "metadata": {},
   "outputs": [
    {
     "data": {
      "text/html": [
       "<style>\n",
       ".list-inline {list-style: none; margin:0; padding: 0}\n",
       ".list-inline>li {display: inline-block}\n",
       ".list-inline>li:not(:last-child)::after {content: \"\\00b7\"; padding: 0 .5ex}\n",
       "</style>\n",
       "<ol class=list-inline><li>10</li><li>100</li><li>1000</li></ol>\n"
      ],
      "text/latex": [
       "\\begin{enumerate*}\n",
       "\\item 10\n",
       "\\item 100\n",
       "\\item 1000\n",
       "\\end{enumerate*}\n"
      ],
      "text/markdown": [
       "1. 10\n",
       "2. 100\n",
       "3. 1000\n",
       "\n",
       "\n"
      ],
      "text/plain": [
       "[1]   10  100 1000"
      ]
     },
     "metadata": {},
     "output_type": "display_data"
    }
   ],
   "source": [
    "a[order(a)]"
   ]
  },
  {
   "cell_type": "markdown",
   "metadata": {},
   "source": [
    "Bien, ahora que comprendes la función `order()`, hagamos algo útil con ella. Imaginemos que necesitamos reorganizar tu data frame de modo que comience con el planeta más pequeño y termine con el más grande. Un reordenamiento de la columna 'diámetro'.\n",
    "¿Cómo le harías?"
   ]
  },
  {
   "cell_type": "code",
   "execution_count": 77,
   "metadata": {},
   "outputs": [
    {
     "data": {
      "text/html": [
       "<table>\n",
       "<caption>A data.frame: 8 × 5</caption>\n",
       "<thead>\n",
       "\t<tr><th></th><th scope=col>nombre</th><th scope=col>tipo</th><th scope=col>diametro</th><th scope=col>rotacion</th><th scope=col>anillos</th></tr>\n",
       "\t<tr><th></th><th scope=col>&lt;fct&gt;</th><th scope=col>&lt;fct&gt;</th><th scope=col>&lt;dbl&gt;</th><th scope=col>&lt;dbl&gt;</th><th scope=col>&lt;lgl&gt;</th></tr>\n",
       "</thead>\n",
       "<tbody>\n",
       "\t<tr><th scope=row>1</th><td>Mercurio</td><td>Terrestre</td><td> 0.382</td><td>  58.64</td><td>FALSE</td></tr>\n",
       "\t<tr><th scope=row>4</th><td>Marte   </td><td>Terrestre</td><td> 0.532</td><td>   1.03</td><td>FALSE</td></tr>\n",
       "\t<tr><th scope=row>2</th><td>Venus   </td><td>Terrestre</td><td> 0.949</td><td>-243.02</td><td>FALSE</td></tr>\n",
       "\t<tr><th scope=row>3</th><td>Tierra  </td><td>Terrestre</td><td> 1.000</td><td>   1.00</td><td>FALSE</td></tr>\n",
       "\t<tr><th scope=row>8</th><td>Neptuno </td><td>Gaseoso  </td><td> 3.883</td><td>   0.67</td><td> TRUE</td></tr>\n",
       "\t<tr><th scope=row>7</th><td>Urano   </td><td>Gaseoso  </td><td> 4.007</td><td>  -0.72</td><td> TRUE</td></tr>\n",
       "\t<tr><th scope=row>6</th><td>Saturno </td><td>Gaseoso  </td><td> 9.449</td><td>   0.43</td><td> TRUE</td></tr>\n",
       "\t<tr><th scope=row>5</th><td>Jupiter </td><td>Gaseoso  </td><td>11.209</td><td>   0.41</td><td> TRUE</td></tr>\n",
       "</tbody>\n",
       "</table>\n"
      ],
      "text/latex": [
       "A data.frame: 8 × 5\n",
       "\\begin{tabular}{r|lllll}\n",
       "  & nombre & tipo & diametro & rotacion & anillos\\\\\n",
       "  & <fct> & <fct> & <dbl> & <dbl> & <lgl>\\\\\n",
       "\\hline\n",
       "\t1 & Mercurio & Terrestre &  0.382 &   58.64 & FALSE\\\\\n",
       "\t4 & Marte    & Terrestre &  0.532 &    1.03 & FALSE\\\\\n",
       "\t2 & Venus    & Terrestre &  0.949 & -243.02 & FALSE\\\\\n",
       "\t3 & Tierra   & Terrestre &  1.000 &    1.00 & FALSE\\\\\n",
       "\t8 & Neptuno  & Gaseoso   &  3.883 &    0.67 &  TRUE\\\\\n",
       "\t7 & Urano    & Gaseoso   &  4.007 &   -0.72 &  TRUE\\\\\n",
       "\t6 & Saturno  & Gaseoso   &  9.449 &    0.43 &  TRUE\\\\\n",
       "\t5 & Jupiter  & Gaseoso   & 11.209 &    0.41 &  TRUE\\\\\n",
       "\\end{tabular}\n"
      ],
      "text/markdown": [
       "\n",
       "A data.frame: 8 × 5\n",
       "\n",
       "| <!--/--> | nombre &lt;fct&gt; | tipo &lt;fct&gt; | diametro &lt;dbl&gt; | rotacion &lt;dbl&gt; | anillos &lt;lgl&gt; |\n",
       "|---|---|---|---|---|---|\n",
       "| 1 | Mercurio | Terrestre |  0.382 |   58.64 | FALSE |\n",
       "| 4 | Marte    | Terrestre |  0.532 |    1.03 | FALSE |\n",
       "| 2 | Venus    | Terrestre |  0.949 | -243.02 | FALSE |\n",
       "| 3 | Tierra   | Terrestre |  1.000 |    1.00 | FALSE |\n",
       "| 8 | Neptuno  | Gaseoso   |  3.883 |    0.67 |  TRUE |\n",
       "| 7 | Urano    | Gaseoso   |  4.007 |   -0.72 |  TRUE |\n",
       "| 6 | Saturno  | Gaseoso   |  9.449 |    0.43 |  TRUE |\n",
       "| 5 | Jupiter  | Gaseoso   | 11.209 |    0.41 |  TRUE |\n",
       "\n"
      ],
      "text/plain": [
       "  nombre   tipo      diametro rotacion anillos\n",
       "1 Mercurio Terrestre  0.382     58.64  FALSE  \n",
       "4 Marte    Terrestre  0.532      1.03  FALSE  \n",
       "2 Venus    Terrestre  0.949   -243.02  FALSE  \n",
       "3 Tierra   Terrestre  1.000      1.00  FALSE  \n",
       "8 Neptuno  Gaseoso    3.883      0.67   TRUE  \n",
       "7 Urano    Gaseoso    4.007     -0.72   TRUE  \n",
       "6 Saturno  Gaseoso    9.449      0.43   TRUE  \n",
       "5 Jupiter  Gaseoso   11.209      0.41   TRUE  "
      ]
     },
     "metadata": {},
     "output_type": "display_data"
    }
   ],
   "source": [
    "# Usa order() para crear las posiciones\n",
    "posiciones <- order(planetas$diametro) \n",
    "\n",
    "# Usa posiciones para acomodar los planetas por diámetro\n",
    "planetas[posiciones, ]"
   ]
  },
  {
   "cell_type": "markdown",
   "metadata": {},
   "source": [
    "En este punto del curso ya está familiarizado con:\n",
    "\n",
    "- Vectores (matriz unidimensional): puede contener valores numéricos, de caracteres o lógicos. Todos los elementos en un vector tienen el mismo tipo de datos.\n",
    "- Matrices (matriz bidimensional): puede contener valores numéricos, de caracteres o lógicos. Todos los elementos en una matriz tienen el mismo tipo de datos.\n",
    "- Data frames (objetos bidimensionales): pueden contener valores numéricos, de caracteres o lógicos. Dentro de una columna, todos los elementos tienen el mismo tipo de datos, pero diferentes columnas pueden ser de diferentes tipos de datos."
   ]
  },
  {
   "cell_type": "markdown",
   "metadata": {},
   "source": [
    "### Listas\n",
    "Una lista en R es similar a su lista de tareas pendientes en el trabajo o la escuela: los diferentes elementos en esa lista probablemente tienen diferente duración, características y tipo de actividad que debe realizarse.\n",
    "\n",
    "Una lista en R le permite reunir una variedad de objetos bajo un nombre (es decir, el nombre de la lista) de forma ordenada. Estos objetos pueden ser matrices, vectores, marcos de datos, incluso otras listas, etc. Ni siquiera se requiere que estos objetos estén relacionados entre sí de ninguna manera.¡Puedes almacenar prácticamente cualquier información en ella!<br>\n",
    "\n",
    "¡Creemos nuestra primera lista! Para construir una lista, use la función `list()`:\n",
    "\n",
    "           mi_lista <- list(componente1, componente2 ...)\n",
    "\n",
    "Construye una lista, llamada **lista**, que contenga las variables **vector**, **matriz** y **df** como componentes de la lista.\n",
    "           \n",
    "\n"
   ]
  },
  {
   "cell_type": "code",
   "execution_count": 78,
   "metadata": {},
   "outputs": [],
   "source": [
    "vector <- 1:10 \n",
    "matriz <- matrix(1:9, ncol = 3)\n",
    "df <- mtcars[1:10,]\n",
    "\n",
    "# Construye la lista con estos diferentes elementos:\n",
    "lista<- list(vector, matrix, df)"
   ]
  },
  {
   "cell_type": "code",
   "execution_count": 79,
   "metadata": {},
   "outputs": [
    {
     "data": {
      "text/html": [
       "<ol>\n",
       "\t<li><style>\n",
       ".list-inline {list-style: none; margin:0; padding: 0}\n",
       ".list-inline>li {display: inline-block}\n",
       ".list-inline>li:not(:last-child)::after {content: \"\\00b7\"; padding: 0 .5ex}\n",
       "</style>\n",
       "<ol class=list-inline><li>1</li><li>2</li><li>3</li><li>4</li><li>5</li><li>6</li><li>7</li><li>8</li><li>9</li><li>10</li></ol>\n",
       "</li>\n",
       "\t<li><pre class=language-r><code>function (data = NA, nrow = 1, ncol = 1, byrow = FALSE, dimnames = NULL) \n",
       "{\n",
       "<span style=white-space:pre-wrap>    if (is.object(data) || !is.atomic(data)) </span>\n",
       "<span style=white-space:pre-wrap>        data &lt;- as.vector(data)</span>\n",
       "<span style=white-space:pre-wrap>    .Internal(matrix(data, nrow, ncol, byrow, dimnames, missing(nrow), </span>\n",
       "<span style=white-space:pre-wrap>        missing(ncol)))</span>\n",
       "}</code></pre></li>\n",
       "\t<li><table>\n",
       "<caption>A data.frame: 10 × 11</caption>\n",
       "<thead>\n",
       "\t<tr><th></th><th scope=col>mpg</th><th scope=col>cyl</th><th scope=col>disp</th><th scope=col>hp</th><th scope=col>drat</th><th scope=col>wt</th><th scope=col>qsec</th><th scope=col>vs</th><th scope=col>am</th><th scope=col>gear</th><th scope=col>carb</th></tr>\n",
       "\t<tr><th></th><th scope=col>&lt;dbl&gt;</th><th scope=col>&lt;dbl&gt;</th><th scope=col>&lt;dbl&gt;</th><th scope=col>&lt;dbl&gt;</th><th scope=col>&lt;dbl&gt;</th><th scope=col>&lt;dbl&gt;</th><th scope=col>&lt;dbl&gt;</th><th scope=col>&lt;dbl&gt;</th><th scope=col>&lt;dbl&gt;</th><th scope=col>&lt;dbl&gt;</th><th scope=col>&lt;dbl&gt;</th></tr>\n",
       "</thead>\n",
       "<tbody>\n",
       "\t<tr><th scope=row>Mazda RX4</th><td>21.0</td><td>6</td><td>160.0</td><td>110</td><td>3.90</td><td>2.620</td><td>16.46</td><td>0</td><td>1</td><td>4</td><td>4</td></tr>\n",
       "\t<tr><th scope=row>Mazda RX4 Wag</th><td>21.0</td><td>6</td><td>160.0</td><td>110</td><td>3.90</td><td>2.875</td><td>17.02</td><td>0</td><td>1</td><td>4</td><td>4</td></tr>\n",
       "\t<tr><th scope=row>Datsun 710</th><td>22.8</td><td>4</td><td>108.0</td><td> 93</td><td>3.85</td><td>2.320</td><td>18.61</td><td>1</td><td>1</td><td>4</td><td>1</td></tr>\n",
       "\t<tr><th scope=row>Hornet 4 Drive</th><td>21.4</td><td>6</td><td>258.0</td><td>110</td><td>3.08</td><td>3.215</td><td>19.44</td><td>1</td><td>0</td><td>3</td><td>1</td></tr>\n",
       "\t<tr><th scope=row>Hornet Sportabout</th><td>18.7</td><td>8</td><td>360.0</td><td>175</td><td>3.15</td><td>3.440</td><td>17.02</td><td>0</td><td>0</td><td>3</td><td>2</td></tr>\n",
       "\t<tr><th scope=row>Valiant</th><td>18.1</td><td>6</td><td>225.0</td><td>105</td><td>2.76</td><td>3.460</td><td>20.22</td><td>1</td><td>0</td><td>3</td><td>1</td></tr>\n",
       "\t<tr><th scope=row>Duster 360</th><td>14.3</td><td>8</td><td>360.0</td><td>245</td><td>3.21</td><td>3.570</td><td>15.84</td><td>0</td><td>0</td><td>3</td><td>4</td></tr>\n",
       "\t<tr><th scope=row>Merc 240D</th><td>24.4</td><td>4</td><td>146.7</td><td> 62</td><td>3.69</td><td>3.190</td><td>20.00</td><td>1</td><td>0</td><td>4</td><td>2</td></tr>\n",
       "\t<tr><th scope=row>Merc 230</th><td>22.8</td><td>4</td><td>140.8</td><td> 95</td><td>3.92</td><td>3.150</td><td>22.90</td><td>1</td><td>0</td><td>4</td><td>2</td></tr>\n",
       "\t<tr><th scope=row>Merc 280</th><td>19.2</td><td>6</td><td>167.6</td><td>123</td><td>3.92</td><td>3.440</td><td>18.30</td><td>1</td><td>0</td><td>4</td><td>4</td></tr>\n",
       "</tbody>\n",
       "</table>\n",
       "</li>\n",
       "</ol>\n"
      ],
      "text/latex": [
       "\\begin{enumerate}\n",
       "\\item \\begin{enumerate*}\n",
       "\\item 1\n",
       "\\item 2\n",
       "\\item 3\n",
       "\\item 4\n",
       "\\item 5\n",
       "\\item 6\n",
       "\\item 7\n",
       "\\item 8\n",
       "\\item 9\n",
       "\\item 10\n",
       "\\end{enumerate*}\n",
       "\n",
       "\\item \\begin{minted}{r}\n",
       "function (data = NA, nrow = 1, ncol = 1, byrow = FALSE, dimnames = NULL) \n",
       "\\{\n",
       "    if (is.object(data) \\textbar{}\\textbar{} !is.atomic(data)) \n",
       "        data <- as.vector(data)\n",
       "    .Internal(matrix(data, nrow, ncol, byrow, dimnames, missing(nrow), \n",
       "        missing(ncol)))\n",
       "\\}\n",
       "\\end{minted}\n",
       "\\item A data.frame: 10 × 11\n",
       "\\begin{tabular}{r|lllllllllll}\n",
       "  & mpg & cyl & disp & hp & drat & wt & qsec & vs & am & gear & carb\\\\\n",
       "  & <dbl> & <dbl> & <dbl> & <dbl> & <dbl> & <dbl> & <dbl> & <dbl> & <dbl> & <dbl> & <dbl>\\\\\n",
       "\\hline\n",
       "\tMazda RX4 & 21.0 & 6 & 160.0 & 110 & 3.90 & 2.620 & 16.46 & 0 & 1 & 4 & 4\\\\\n",
       "\tMazda RX4 Wag & 21.0 & 6 & 160.0 & 110 & 3.90 & 2.875 & 17.02 & 0 & 1 & 4 & 4\\\\\n",
       "\tDatsun 710 & 22.8 & 4 & 108.0 &  93 & 3.85 & 2.320 & 18.61 & 1 & 1 & 4 & 1\\\\\n",
       "\tHornet 4 Drive & 21.4 & 6 & 258.0 & 110 & 3.08 & 3.215 & 19.44 & 1 & 0 & 3 & 1\\\\\n",
       "\tHornet Sportabout & 18.7 & 8 & 360.0 & 175 & 3.15 & 3.440 & 17.02 & 0 & 0 & 3 & 2\\\\\n",
       "\tValiant & 18.1 & 6 & 225.0 & 105 & 2.76 & 3.460 & 20.22 & 1 & 0 & 3 & 1\\\\\n",
       "\tDuster 360 & 14.3 & 8 & 360.0 & 245 & 3.21 & 3.570 & 15.84 & 0 & 0 & 3 & 4\\\\\n",
       "\tMerc 240D & 24.4 & 4 & 146.7 &  62 & 3.69 & 3.190 & 20.00 & 1 & 0 & 4 & 2\\\\\n",
       "\tMerc 230 & 22.8 & 4 & 140.8 &  95 & 3.92 & 3.150 & 22.90 & 1 & 0 & 4 & 2\\\\\n",
       "\tMerc 280 & 19.2 & 6 & 167.6 & 123 & 3.92 & 3.440 & 18.30 & 1 & 0 & 4 & 4\\\\\n",
       "\\end{tabular}\n",
       "\n",
       "\\end{enumerate}\n"
      ],
      "text/markdown": [
       "1. 1. 1\n",
       "2. 2\n",
       "3. 3\n",
       "4. 4\n",
       "5. 5\n",
       "6. 6\n",
       "7. 7\n",
       "8. 8\n",
       "9. 9\n",
       "10. 10\n",
       "\n",
       "\n",
       "\n",
       "2. ```r\n",
       "function (data = NA, nrow = 1, ncol = 1, byrow = FALSE, dimnames = NULL) \n",
       "{\n",
       "    if (is.object(data) || !is.atomic(data)) \n",
       "        data <- as.vector(data)\n",
       "    .Internal(matrix(data, nrow, ncol, byrow, dimnames, missing(nrow), \n",
       "        missing(ncol)))\n",
       "}\n",
       "```\n",
       "3. \n",
       "A data.frame: 10 × 11\n",
       "\n",
       "| <!--/--> | mpg &lt;dbl&gt; | cyl &lt;dbl&gt; | disp &lt;dbl&gt; | hp &lt;dbl&gt; | drat &lt;dbl&gt; | wt &lt;dbl&gt; | qsec &lt;dbl&gt; | vs &lt;dbl&gt; | am &lt;dbl&gt; | gear &lt;dbl&gt; | carb &lt;dbl&gt; |\n",
       "|---|---|---|---|---|---|---|---|---|---|---|---|\n",
       "| Mazda RX4 | 21.0 | 6 | 160.0 | 110 | 3.90 | 2.620 | 16.46 | 0 | 1 | 4 | 4 |\n",
       "| Mazda RX4 Wag | 21.0 | 6 | 160.0 | 110 | 3.90 | 2.875 | 17.02 | 0 | 1 | 4 | 4 |\n",
       "| Datsun 710 | 22.8 | 4 | 108.0 |  93 | 3.85 | 2.320 | 18.61 | 1 | 1 | 4 | 1 |\n",
       "| Hornet 4 Drive | 21.4 | 6 | 258.0 | 110 | 3.08 | 3.215 | 19.44 | 1 | 0 | 3 | 1 |\n",
       "| Hornet Sportabout | 18.7 | 8 | 360.0 | 175 | 3.15 | 3.440 | 17.02 | 0 | 0 | 3 | 2 |\n",
       "| Valiant | 18.1 | 6 | 225.0 | 105 | 2.76 | 3.460 | 20.22 | 1 | 0 | 3 | 1 |\n",
       "| Duster 360 | 14.3 | 8 | 360.0 | 245 | 3.21 | 3.570 | 15.84 | 0 | 0 | 3 | 4 |\n",
       "| Merc 240D | 24.4 | 4 | 146.7 |  62 | 3.69 | 3.190 | 20.00 | 1 | 0 | 4 | 2 |\n",
       "| Merc 230 | 22.8 | 4 | 140.8 |  95 | 3.92 | 3.150 | 22.90 | 1 | 0 | 4 | 2 |\n",
       "| Merc 280 | 19.2 | 6 | 167.6 | 123 | 3.92 | 3.440 | 18.30 | 1 | 0 | 4 | 4 |\n",
       "\n",
       "\n",
       "\n",
       "\n"
      ],
      "text/plain": [
       "[[1]]\n",
       " [1]  1  2  3  4  5  6  7  8  9 10\n",
       "\n",
       "[[2]]\n",
       "function (data = NA, nrow = 1, ncol = 1, byrow = FALSE, dimnames = NULL) \n",
       "{\n",
       "    if (is.object(data) || !is.atomic(data)) \n",
       "        data <- as.vector(data)\n",
       "    .Internal(matrix(data, nrow, ncol, byrow, dimnames, missing(nrow), \n",
       "        missing(ncol)))\n",
       "}\n",
       "<bytecode: 0x7f8845927858>\n",
       "<environment: namespace:base>\n",
       "\n",
       "[[3]]\n",
       "                   mpg cyl  disp  hp drat    wt  qsec vs am gear carb\n",
       "Mazda RX4         21.0   6 160.0 110 3.90 2.620 16.46  0  1    4    4\n",
       "Mazda RX4 Wag     21.0   6 160.0 110 3.90 2.875 17.02  0  1    4    4\n",
       "Datsun 710        22.8   4 108.0  93 3.85 2.320 18.61  1  1    4    1\n",
       "Hornet 4 Drive    21.4   6 258.0 110 3.08 3.215 19.44  1  0    3    1\n",
       "Hornet Sportabout 18.7   8 360.0 175 3.15 3.440 17.02  0  0    3    2\n",
       "Valiant           18.1   6 225.0 105 2.76 3.460 20.22  1  0    3    1\n",
       "Duster 360        14.3   8 360.0 245 3.21 3.570 15.84  0  0    3    4\n",
       "Merc 240D         24.4   4 146.7  62 3.69 3.190 20.00  1  0    4    2\n",
       "Merc 230          22.8   4 140.8  95 3.92 3.150 22.90  1  0    4    2\n",
       "Merc 280          19.2   6 167.6 123 3.92 3.440 18.30  1  0    4    4\n"
      ]
     },
     "metadata": {},
     "output_type": "display_data"
    }
   ],
   "source": [
    "lista"
   ]
  },
  {
   "cell_type": "markdown",
   "metadata": {},
   "source": [
    "Al igual que en su lista de tareas pendientes, debe evitar no saber o recordar qué significan los componentes de su lista. Es por eso que debes darles nombres:\n",
    "\n",
    "            lista <- list(nombre1 = comp1,\n",
    "                          nombre2 = comp2)\n",
    "\n",
    "Esto crea una lista con componentes que se denominan nombre1, nombre2, etc. Si desea nombrar sus listas después de haberlas creado, puede usar la función `names()` como lo hiciste con los vectores. Los siguientes comandos son totalmente equivalentes a la asignación anterior:\n",
    "\n",
    "                lista <- list(comp1, comp2)\n",
    "           names(lista) <- c (\"nombre1\", \"nombre2\")\n",
    "\n",
    "Ahora añade a tu lista anterior los nombres **vector**, **matriz** y **df** e imprímela"
   ]
  },
  {
   "cell_type": "code",
   "execution_count": 80,
   "metadata": {},
   "outputs": [
    {
     "data": {
      "text/html": [
       "<dl>\n",
       "\t<dt>$vector</dt>\n",
       "\t\t<dd><style>\n",
       ".list-inline {list-style: none; margin:0; padding: 0}\n",
       ".list-inline>li {display: inline-block}\n",
       ".list-inline>li:not(:last-child)::after {content: \"\\00b7\"; padding: 0 .5ex}\n",
       "</style>\n",
       "<ol class=list-inline><li>1</li><li>2</li><li>3</li><li>4</li><li>5</li><li>6</li><li>7</li><li>8</li><li>9</li><li>10</li></ol>\n",
       "</dd>\n",
       "\t<dt>$matriz</dt>\n",
       "\t\t<dd><pre class=language-r><code>function (data = NA, nrow = 1, ncol = 1, byrow = FALSE, dimnames = NULL) \n",
       "{\n",
       "<span style=white-space:pre-wrap>    if (is.object(data) || !is.atomic(data)) </span>\n",
       "<span style=white-space:pre-wrap>        data &lt;- as.vector(data)</span>\n",
       "<span style=white-space:pre-wrap>    .Internal(matrix(data, nrow, ncol, byrow, dimnames, missing(nrow), </span>\n",
       "<span style=white-space:pre-wrap>        missing(ncol)))</span>\n",
       "}</code></pre></dd>\n",
       "\t<dt>$df</dt>\n",
       "\t\t<dd><table>\n",
       "<caption>A data.frame: 10 × 11</caption>\n",
       "<thead>\n",
       "\t<tr><th></th><th scope=col>mpg</th><th scope=col>cyl</th><th scope=col>disp</th><th scope=col>hp</th><th scope=col>drat</th><th scope=col>wt</th><th scope=col>qsec</th><th scope=col>vs</th><th scope=col>am</th><th scope=col>gear</th><th scope=col>carb</th></tr>\n",
       "\t<tr><th></th><th scope=col>&lt;dbl&gt;</th><th scope=col>&lt;dbl&gt;</th><th scope=col>&lt;dbl&gt;</th><th scope=col>&lt;dbl&gt;</th><th scope=col>&lt;dbl&gt;</th><th scope=col>&lt;dbl&gt;</th><th scope=col>&lt;dbl&gt;</th><th scope=col>&lt;dbl&gt;</th><th scope=col>&lt;dbl&gt;</th><th scope=col>&lt;dbl&gt;</th><th scope=col>&lt;dbl&gt;</th></tr>\n",
       "</thead>\n",
       "<tbody>\n",
       "\t<tr><th scope=row>Mazda RX4</th><td>21.0</td><td>6</td><td>160.0</td><td>110</td><td>3.90</td><td>2.620</td><td>16.46</td><td>0</td><td>1</td><td>4</td><td>4</td></tr>\n",
       "\t<tr><th scope=row>Mazda RX4 Wag</th><td>21.0</td><td>6</td><td>160.0</td><td>110</td><td>3.90</td><td>2.875</td><td>17.02</td><td>0</td><td>1</td><td>4</td><td>4</td></tr>\n",
       "\t<tr><th scope=row>Datsun 710</th><td>22.8</td><td>4</td><td>108.0</td><td> 93</td><td>3.85</td><td>2.320</td><td>18.61</td><td>1</td><td>1</td><td>4</td><td>1</td></tr>\n",
       "\t<tr><th scope=row>Hornet 4 Drive</th><td>21.4</td><td>6</td><td>258.0</td><td>110</td><td>3.08</td><td>3.215</td><td>19.44</td><td>1</td><td>0</td><td>3</td><td>1</td></tr>\n",
       "\t<tr><th scope=row>Hornet Sportabout</th><td>18.7</td><td>8</td><td>360.0</td><td>175</td><td>3.15</td><td>3.440</td><td>17.02</td><td>0</td><td>0</td><td>3</td><td>2</td></tr>\n",
       "\t<tr><th scope=row>Valiant</th><td>18.1</td><td>6</td><td>225.0</td><td>105</td><td>2.76</td><td>3.460</td><td>20.22</td><td>1</td><td>0</td><td>3</td><td>1</td></tr>\n",
       "\t<tr><th scope=row>Duster 360</th><td>14.3</td><td>8</td><td>360.0</td><td>245</td><td>3.21</td><td>3.570</td><td>15.84</td><td>0</td><td>0</td><td>3</td><td>4</td></tr>\n",
       "\t<tr><th scope=row>Merc 240D</th><td>24.4</td><td>4</td><td>146.7</td><td> 62</td><td>3.69</td><td>3.190</td><td>20.00</td><td>1</td><td>0</td><td>4</td><td>2</td></tr>\n",
       "\t<tr><th scope=row>Merc 230</th><td>22.8</td><td>4</td><td>140.8</td><td> 95</td><td>3.92</td><td>3.150</td><td>22.90</td><td>1</td><td>0</td><td>4</td><td>2</td></tr>\n",
       "\t<tr><th scope=row>Merc 280</th><td>19.2</td><td>6</td><td>167.6</td><td>123</td><td>3.92</td><td>3.440</td><td>18.30</td><td>1</td><td>0</td><td>4</td><td>4</td></tr>\n",
       "</tbody>\n",
       "</table>\n",
       "</dd>\n",
       "</dl>\n"
      ],
      "text/latex": [
       "\\begin{description}\n",
       "\\item[\\$vector] \\begin{enumerate*}\n",
       "\\item 1\n",
       "\\item 2\n",
       "\\item 3\n",
       "\\item 4\n",
       "\\item 5\n",
       "\\item 6\n",
       "\\item 7\n",
       "\\item 8\n",
       "\\item 9\n",
       "\\item 10\n",
       "\\end{enumerate*}\n",
       "\n",
       "\\item[\\$matriz] \\begin{minted}{r}\n",
       "function (data = NA, nrow = 1, ncol = 1, byrow = FALSE, dimnames = NULL) \n",
       "\\{\n",
       "    if (is.object(data) \\textbar{}\\textbar{} !is.atomic(data)) \n",
       "        data <- as.vector(data)\n",
       "    .Internal(matrix(data, nrow, ncol, byrow, dimnames, missing(nrow), \n",
       "        missing(ncol)))\n",
       "\\}\n",
       "\\end{minted}\n",
       "\\item[\\$df] A data.frame: 10 × 11\n",
       "\\begin{tabular}{r|lllllllllll}\n",
       "  & mpg & cyl & disp & hp & drat & wt & qsec & vs & am & gear & carb\\\\\n",
       "  & <dbl> & <dbl> & <dbl> & <dbl> & <dbl> & <dbl> & <dbl> & <dbl> & <dbl> & <dbl> & <dbl>\\\\\n",
       "\\hline\n",
       "\tMazda RX4 & 21.0 & 6 & 160.0 & 110 & 3.90 & 2.620 & 16.46 & 0 & 1 & 4 & 4\\\\\n",
       "\tMazda RX4 Wag & 21.0 & 6 & 160.0 & 110 & 3.90 & 2.875 & 17.02 & 0 & 1 & 4 & 4\\\\\n",
       "\tDatsun 710 & 22.8 & 4 & 108.0 &  93 & 3.85 & 2.320 & 18.61 & 1 & 1 & 4 & 1\\\\\n",
       "\tHornet 4 Drive & 21.4 & 6 & 258.0 & 110 & 3.08 & 3.215 & 19.44 & 1 & 0 & 3 & 1\\\\\n",
       "\tHornet Sportabout & 18.7 & 8 & 360.0 & 175 & 3.15 & 3.440 & 17.02 & 0 & 0 & 3 & 2\\\\\n",
       "\tValiant & 18.1 & 6 & 225.0 & 105 & 2.76 & 3.460 & 20.22 & 1 & 0 & 3 & 1\\\\\n",
       "\tDuster 360 & 14.3 & 8 & 360.0 & 245 & 3.21 & 3.570 & 15.84 & 0 & 0 & 3 & 4\\\\\n",
       "\tMerc 240D & 24.4 & 4 & 146.7 &  62 & 3.69 & 3.190 & 20.00 & 1 & 0 & 4 & 2\\\\\n",
       "\tMerc 230 & 22.8 & 4 & 140.8 &  95 & 3.92 & 3.150 & 22.90 & 1 & 0 & 4 & 2\\\\\n",
       "\tMerc 280 & 19.2 & 6 & 167.6 & 123 & 3.92 & 3.440 & 18.30 & 1 & 0 & 4 & 4\\\\\n",
       "\\end{tabular}\n",
       "\n",
       "\\end{description}\n"
      ],
      "text/markdown": [
       "$vector\n",
       ":   1. 1\n",
       "2. 2\n",
       "3. 3\n",
       "4. 4\n",
       "5. 5\n",
       "6. 6\n",
       "7. 7\n",
       "8. 8\n",
       "9. 9\n",
       "10. 10\n",
       "\n",
       "\n",
       "\n",
       "$matriz\n",
       ":   ```r\n",
       "function (data = NA, nrow = 1, ncol = 1, byrow = FALSE, dimnames = NULL) \n",
       "{\n",
       "    if (is.object(data) || !is.atomic(data)) \n",
       "        data <- as.vector(data)\n",
       "    .Internal(matrix(data, nrow, ncol, byrow, dimnames, missing(nrow), \n",
       "        missing(ncol)))\n",
       "}\n",
       "```\n",
       "$df\n",
       ":   \n",
       "A data.frame: 10 × 11\n",
       "\n",
       "| <!--/--> | mpg &lt;dbl&gt; | cyl &lt;dbl&gt; | disp &lt;dbl&gt; | hp &lt;dbl&gt; | drat &lt;dbl&gt; | wt &lt;dbl&gt; | qsec &lt;dbl&gt; | vs &lt;dbl&gt; | am &lt;dbl&gt; | gear &lt;dbl&gt; | carb &lt;dbl&gt; |\n",
       "|---|---|---|---|---|---|---|---|---|---|---|---|\n",
       "| Mazda RX4 | 21.0 | 6 | 160.0 | 110 | 3.90 | 2.620 | 16.46 | 0 | 1 | 4 | 4 |\n",
       "| Mazda RX4 Wag | 21.0 | 6 | 160.0 | 110 | 3.90 | 2.875 | 17.02 | 0 | 1 | 4 | 4 |\n",
       "| Datsun 710 | 22.8 | 4 | 108.0 |  93 | 3.85 | 2.320 | 18.61 | 1 | 1 | 4 | 1 |\n",
       "| Hornet 4 Drive | 21.4 | 6 | 258.0 | 110 | 3.08 | 3.215 | 19.44 | 1 | 0 | 3 | 1 |\n",
       "| Hornet Sportabout | 18.7 | 8 | 360.0 | 175 | 3.15 | 3.440 | 17.02 | 0 | 0 | 3 | 2 |\n",
       "| Valiant | 18.1 | 6 | 225.0 | 105 | 2.76 | 3.460 | 20.22 | 1 | 0 | 3 | 1 |\n",
       "| Duster 360 | 14.3 | 8 | 360.0 | 245 | 3.21 | 3.570 | 15.84 | 0 | 0 | 3 | 4 |\n",
       "| Merc 240D | 24.4 | 4 | 146.7 |  62 | 3.69 | 3.190 | 20.00 | 1 | 0 | 4 | 2 |\n",
       "| Merc 230 | 22.8 | 4 | 140.8 |  95 | 3.92 | 3.150 | 22.90 | 1 | 0 | 4 | 2 |\n",
       "| Merc 280 | 19.2 | 6 | 167.6 | 123 | 3.92 | 3.440 | 18.30 | 1 | 0 | 4 | 4 |\n",
       "\n",
       "\n",
       "\n",
       "\n"
      ],
      "text/plain": [
       "$vector\n",
       " [1]  1  2  3  4  5  6  7  8  9 10\n",
       "\n",
       "$matriz\n",
       "function (data = NA, nrow = 1, ncol = 1, byrow = FALSE, dimnames = NULL) \n",
       "{\n",
       "    if (is.object(data) || !is.atomic(data)) \n",
       "        data <- as.vector(data)\n",
       "    .Internal(matrix(data, nrow, ncol, byrow, dimnames, missing(nrow), \n",
       "        missing(ncol)))\n",
       "}\n",
       "<bytecode: 0x7f8845927858>\n",
       "<environment: namespace:base>\n",
       "\n",
       "$df\n",
       "                   mpg cyl  disp  hp drat    wt  qsec vs am gear carb\n",
       "Mazda RX4         21.0   6 160.0 110 3.90 2.620 16.46  0  1    4    4\n",
       "Mazda RX4 Wag     21.0   6 160.0 110 3.90 2.875 17.02  0  1    4    4\n",
       "Datsun 710        22.8   4 108.0  93 3.85 2.320 18.61  1  1    4    1\n",
       "Hornet 4 Drive    21.4   6 258.0 110 3.08 3.215 19.44  1  0    3    1\n",
       "Hornet Sportabout 18.7   8 360.0 175 3.15 3.440 17.02  0  0    3    2\n",
       "Valiant           18.1   6 225.0 105 2.76 3.460 20.22  1  0    3    1\n",
       "Duster 360        14.3   8 360.0 245 3.21 3.570 15.84  0  0    3    4\n",
       "Merc 240D         24.4   4 146.7  62 3.69 3.190 20.00  1  0    4    2\n",
       "Merc 230          22.8   4 140.8  95 3.92 3.150 22.90  1  0    4    2\n",
       "Merc 280          19.2   6 167.6 123 3.92 3.440 18.30  1  0    4    4\n"
      ]
     },
     "metadata": {},
     "output_type": "display_data"
    }
   ],
   "source": [
    "names(lista) <- c(\"vector\",\"matriz\", \"df\")\n",
    "lista"
   ]
  },
  {
   "cell_type": "markdown",
   "metadata": {},
   "source": [
    "Para repasar lo que hemos visto hasta ahora quiero que armes los siguientes objetos:\n",
    "\n",
    "- una variable llamada **peli** con el nombre de El resplando\n",
    "- Un vector llamado **act** con los siguientes nombres: \n",
    "        Jack Nicholson\n",
    "        Shelley Duvall\n",
    "        Danny Lloyd\n",
    "        Scatman Crothers\n",
    "        Barry Nelson\n",
    "- Un data frame con 3 columnas: \n",
    "                        puntaje\n",
    "                        fuente\n",
    "                        comentarios\n",
    "  y en cada una de ellas los siguientes valores:\n",
    "  - primera: 4.5, 4.0, 5.0\n",
    "  - segunda: IMDb1,IMDb2,IMDb3\n",
    "  - tercera: La mejor película de terror que he visto,\n",
    "           Una película realmente brillante y aterradora de Stanley Kubrick\n",
    "           Una obra maestra del horror psicológico\n",
    "\n",
    "\n"
   ]
  },
  {
   "cell_type": "code",
   "execution_count": 81,
   "metadata": {},
   "outputs": [
    {
     "data": {
      "text/html": [
       "'El resplandor'"
      ],
      "text/latex": [
       "'El resplandor'"
      ],
      "text/markdown": [
       "'El resplandor'"
      ],
      "text/plain": [
       "[1] \"El resplandor\""
      ]
     },
     "metadata": {},
     "output_type": "display_data"
    },
    {
     "data": {
      "text/html": [
       "<style>\n",
       ".list-inline {list-style: none; margin:0; padding: 0}\n",
       ".list-inline>li {display: inline-block}\n",
       ".list-inline>li:not(:last-child)::after {content: \"\\00b7\"; padding: 0 .5ex}\n",
       "</style>\n",
       "<ol class=list-inline><li>'Jack Nicholson'</li><li>'Shelley Duvall'</li><li>'Danny Lloyd'</li><li>'Scatman Crothers'</li><li>'Barry Nelson'</li></ol>\n"
      ],
      "text/latex": [
       "\\begin{enumerate*}\n",
       "\\item 'Jack Nicholson'\n",
       "\\item 'Shelley Duvall'\n",
       "\\item 'Danny Lloyd'\n",
       "\\item 'Scatman Crothers'\n",
       "\\item 'Barry Nelson'\n",
       "\\end{enumerate*}\n"
      ],
      "text/markdown": [
       "1. 'Jack Nicholson'\n",
       "2. 'Shelley Duvall'\n",
       "3. 'Danny Lloyd'\n",
       "4. 'Scatman Crothers'\n",
       "5. 'Barry Nelson'\n",
       "\n",
       "\n"
      ],
      "text/plain": [
       "[1] \"Jack Nicholson\"   \"Shelley Duvall\"   \"Danny Lloyd\"      \"Scatman Crothers\"\n",
       "[5] \"Barry Nelson\"    "
      ]
     },
     "metadata": {},
     "output_type": "display_data"
    },
    {
     "data": {
      "text/html": [
       "<table>\n",
       "<caption>A data.frame: 3 × 3</caption>\n",
       "<thead>\n",
       "\t<tr><th scope=col>puntaje</th><th scope=col>fuente</th><th scope=col>comentarios</th></tr>\n",
       "\t<tr><th scope=col>&lt;dbl&gt;</th><th scope=col>&lt;fct&gt;</th><th scope=col>&lt;fct&gt;</th></tr>\n",
       "</thead>\n",
       "<tbody>\n",
       "\t<tr><td>4.5</td><td>IMDb1</td><td>La mejor película de terror que he visto                        </td></tr>\n",
       "\t<tr><td>4.0</td><td>IMDB2</td><td>Una película realmente brillante y aterradora de Stanley Kubrick</td></tr>\n",
       "\t<tr><td>5.0</td><td>IMDB3</td><td>Una obra maestra del horror psicológico                         </td></tr>\n",
       "</tbody>\n",
       "</table>\n"
      ],
      "text/latex": [
       "A data.frame: 3 × 3\n",
       "\\begin{tabular}{lll}\n",
       " puntaje & fuente & comentarios\\\\\n",
       " <dbl> & <fct> & <fct>\\\\\n",
       "\\hline\n",
       "\t 4.5 & IMDb1 & La mejor película de terror que he visto                        \\\\\n",
       "\t 4.0 & IMDB2 & Una película realmente brillante y aterradora de Stanley Kubrick\\\\\n",
       "\t 5.0 & IMDB3 & Una obra maestra del horror psicológico                         \\\\\n",
       "\\end{tabular}\n"
      ],
      "text/markdown": [
       "\n",
       "A data.frame: 3 × 3\n",
       "\n",
       "| puntaje &lt;dbl&gt; | fuente &lt;fct&gt; | comentarios &lt;fct&gt; |\n",
       "|---|---|---|\n",
       "| 4.5 | IMDb1 | La mejor película de terror que he visto                         |\n",
       "| 4.0 | IMDB2 | Una película realmente brillante y aterradora de Stanley Kubrick |\n",
       "| 5.0 | IMDB3 | Una obra maestra del horror psicológico                          |\n",
       "\n"
      ],
      "text/plain": [
       "  puntaje fuente\n",
       "1 4.5     IMDb1 \n",
       "2 4.0     IMDB2 \n",
       "3 5.0     IMDB3 \n",
       "  comentarios                                                     \n",
       "1 La mejor película de terror que he visto                        \n",
       "2 Una película realmente brillante y aterradora de Stanley Kubrick\n",
       "3 Una obra maestra del horror psicológico                         "
      ]
     },
     "metadata": {},
     "output_type": "display_data"
    }
   ],
   "source": [
    "peli <- \"El resplandor\"\n",
    "act <- c(\"Jack Nicholson\", \"Shelley Duvall\",\"Danny Lloyd\",\"Scatman Crothers\",\"Barry Nelson\")\n",
    "rev <- data.frame(puntaje = c(4.5,4.0,5.0),\n",
    "                  fuente = c(\"IMDb1\",\"IMDB2\",\"IMDB3\"),\n",
    "                  comentarios = c(\"La mejor película de terror que he visto\",\n",
    "                                  \"Una película realmente brillante y aterradora de Stanley Kubrick\",\n",
    "                                  \"Una obra maestra del horror psicológico\"))\n",
    "\n",
    "peli\n",
    "act\n",
    "rev"
   ]
  },
  {
   "cell_type": "markdown",
   "metadata": {},
   "source": [
    "Ahora construye una lista llamada **el_resplandor** con estos 3 objectos y nombralos:\n",
    "\n",
    "- película\n",
    "- actores\n",
    "- reseñas"
   ]
  },
  {
   "cell_type": "code",
   "execution_count": 82,
   "metadata": {},
   "outputs": [
    {
     "data": {
      "text/html": [
       "<dl>\n",
       "\t<dt>$película</dt>\n",
       "\t\t<dd>'El resplandor'</dd>\n",
       "\t<dt>$actores</dt>\n",
       "\t\t<dd><style>\n",
       ".list-inline {list-style: none; margin:0; padding: 0}\n",
       ".list-inline>li {display: inline-block}\n",
       ".list-inline>li:not(:last-child)::after {content: \"\\00b7\"; padding: 0 .5ex}\n",
       "</style>\n",
       "<ol class=list-inline><li>'Jack Nicholson'</li><li>'Shelley Duvall'</li><li>'Danny Lloyd'</li><li>'Scatman Crothers'</li><li>'Barry Nelson'</li></ol>\n",
       "</dd>\n",
       "\t<dt>$reseñas</dt>\n",
       "\t\t<dd><table>\n",
       "<caption>A data.frame: 3 × 3</caption>\n",
       "<thead>\n",
       "\t<tr><th scope=col>puntaje</th><th scope=col>fuente</th><th scope=col>comentarios</th></tr>\n",
       "\t<tr><th scope=col>&lt;dbl&gt;</th><th scope=col>&lt;fct&gt;</th><th scope=col>&lt;fct&gt;</th></tr>\n",
       "</thead>\n",
       "<tbody>\n",
       "\t<tr><td>4.5</td><td>IMDb1</td><td>La mejor película de terror que he visto                        </td></tr>\n",
       "\t<tr><td>4.0</td><td>IMDB2</td><td>Una película realmente brillante y aterradora de Stanley Kubrick</td></tr>\n",
       "\t<tr><td>5.0</td><td>IMDB3</td><td>Una obra maestra del horror psicológico                         </td></tr>\n",
       "</tbody>\n",
       "</table>\n",
       "</dd>\n",
       "</dl>\n"
      ],
      "text/latex": [
       "\\begin{description}\n",
       "\\item[\\$película] 'El resplandor'\n",
       "\\item[\\$actores] \\begin{enumerate*}\n",
       "\\item 'Jack Nicholson'\n",
       "\\item 'Shelley Duvall'\n",
       "\\item 'Danny Lloyd'\n",
       "\\item 'Scatman Crothers'\n",
       "\\item 'Barry Nelson'\n",
       "\\end{enumerate*}\n",
       "\n",
       "\\item[\\$reseñas] A data.frame: 3 × 3\n",
       "\\begin{tabular}{lll}\n",
       " puntaje & fuente & comentarios\\\\\n",
       " <dbl> & <fct> & <fct>\\\\\n",
       "\\hline\n",
       "\t 4.5 & IMDb1 & La mejor película de terror que he visto                        \\\\\n",
       "\t 4.0 & IMDB2 & Una película realmente brillante y aterradora de Stanley Kubrick\\\\\n",
       "\t 5.0 & IMDB3 & Una obra maestra del horror psicológico                         \\\\\n",
       "\\end{tabular}\n",
       "\n",
       "\\end{description}\n"
      ],
      "text/markdown": [
       "$película\n",
       ":   'El resplandor'\n",
       "$actores\n",
       ":   1. 'Jack Nicholson'\n",
       "2. 'Shelley Duvall'\n",
       "3. 'Danny Lloyd'\n",
       "4. 'Scatman Crothers'\n",
       "5. 'Barry Nelson'\n",
       "\n",
       "\n",
       "\n",
       "$reseñas\n",
       ":   \n",
       "A data.frame: 3 × 3\n",
       "\n",
       "| puntaje &lt;dbl&gt; | fuente &lt;fct&gt; | comentarios &lt;fct&gt; |\n",
       "|---|---|---|\n",
       "| 4.5 | IMDb1 | La mejor película de terror que he visto                         |\n",
       "| 4.0 | IMDB2 | Una película realmente brillante y aterradora de Stanley Kubrick |\n",
       "| 5.0 | IMDB3 | Una obra maestra del horror psicológico                          |\n",
       "\n",
       "\n",
       "\n",
       "\n"
      ],
      "text/plain": [
       "$película\n",
       "[1] \"El resplandor\"\n",
       "\n",
       "$actores\n",
       "[1] \"Jack Nicholson\"   \"Shelley Duvall\"   \"Danny Lloyd\"      \"Scatman Crothers\"\n",
       "[5] \"Barry Nelson\"    \n",
       "\n",
       "$reseñas\n",
       "  puntaje fuente\n",
       "1     4.5  IMDb1\n",
       "2     4.0  IMDB2\n",
       "3     5.0  IMDB3\n",
       "                                                       comentarios\n",
       "1                         La mejor película de terror que he visto\n",
       "2 Una película realmente brillante y aterradora de Stanley Kubrick\n",
       "3                          Una obra maestra del horror psicológico\n"
      ]
     },
     "metadata": {},
     "output_type": "display_data"
    }
   ],
   "source": [
    "el_resplandor <- list(película = peli,\n",
    "                     actores = act,\n",
    "                     reseñas = rev)\n",
    "el_resplandor"
   ]
  },
  {
   "cell_type": "markdown",
   "metadata": {},
   "source": [
    "Las listas a menudo estarán compuestas de numerosos elementos y componentes. Por lo tanto, obtener un solo elemento, múltiples elementos o un componente no siempre es sencillo. <br>\n",
    "Una forma de seleccionar un componente es usar la posición numerada de ese componente. Por ejemplo, para \"agarrar\" el primer componente de la lista **el_resplandor** escriba:\n"
   ]
  },
  {
   "cell_type": "code",
   "execution_count": 83,
   "metadata": {},
   "outputs": [
    {
     "data": {
      "text/html": [
       "'El resplandor'"
      ],
      "text/latex": [
       "'El resplandor'"
      ],
      "text/markdown": [
       "'El resplandor'"
      ],
      "text/plain": [
       "[1] \"El resplandor\""
      ]
     },
     "metadata": {},
     "output_type": "display_data"
    }
   ],
   "source": [
    "el_resplandor[[1]]\n"
   ]
  },
  {
   "cell_type": "markdown",
   "metadata": {},
   "source": [
    "Para seleccionar elementos de vectores, se utilizan corchetes simples, en este caso usamos corchetes dobles.<br>\n",
    "También puede referirse a los nombres de los componentes, con [[ ]] o con el signo $. Ambos seleccionarán el data frame que representa las reseñas:"
   ]
  },
  {
   "cell_type": "code",
   "execution_count": 84,
   "metadata": {},
   "outputs": [
    {
     "data": {
      "text/html": [
       "<table>\n",
       "<caption>A data.frame: 3 × 3</caption>\n",
       "<thead>\n",
       "\t<tr><th scope=col>puntaje</th><th scope=col>fuente</th><th scope=col>comentarios</th></tr>\n",
       "\t<tr><th scope=col>&lt;dbl&gt;</th><th scope=col>&lt;fct&gt;</th><th scope=col>&lt;fct&gt;</th></tr>\n",
       "</thead>\n",
       "<tbody>\n",
       "\t<tr><td>4.5</td><td>IMDb1</td><td>La mejor película de terror que he visto                        </td></tr>\n",
       "\t<tr><td>4.0</td><td>IMDB2</td><td>Una película realmente brillante y aterradora de Stanley Kubrick</td></tr>\n",
       "\t<tr><td>5.0</td><td>IMDB3</td><td>Una obra maestra del horror psicológico                         </td></tr>\n",
       "</tbody>\n",
       "</table>\n"
      ],
      "text/latex": [
       "A data.frame: 3 × 3\n",
       "\\begin{tabular}{lll}\n",
       " puntaje & fuente & comentarios\\\\\n",
       " <dbl> & <fct> & <fct>\\\\\n",
       "\\hline\n",
       "\t 4.5 & IMDb1 & La mejor película de terror que he visto                        \\\\\n",
       "\t 4.0 & IMDB2 & Una película realmente brillante y aterradora de Stanley Kubrick\\\\\n",
       "\t 5.0 & IMDB3 & Una obra maestra del horror psicológico                         \\\\\n",
       "\\end{tabular}\n"
      ],
      "text/markdown": [
       "\n",
       "A data.frame: 3 × 3\n",
       "\n",
       "| puntaje &lt;dbl&gt; | fuente &lt;fct&gt; | comentarios &lt;fct&gt; |\n",
       "|---|---|---|\n",
       "| 4.5 | IMDb1 | La mejor película de terror que he visto                         |\n",
       "| 4.0 | IMDB2 | Una película realmente brillante y aterradora de Stanley Kubrick |\n",
       "| 5.0 | IMDB3 | Una obra maestra del horror psicológico                          |\n",
       "\n"
      ],
      "text/plain": [
       "  puntaje fuente\n",
       "1 4.5     IMDb1 \n",
       "2 4.0     IMDB2 \n",
       "3 5.0     IMDB3 \n",
       "  comentarios                                                     \n",
       "1 La mejor película de terror que he visto                        \n",
       "2 Una película realmente brillante y aterradora de Stanley Kubrick\n",
       "3 Una obra maestra del horror psicológico                         "
      ]
     },
     "metadata": {},
     "output_type": "display_data"
    },
    {
     "data": {
      "text/html": [
       "<table>\n",
       "<caption>A data.frame: 3 × 3</caption>\n",
       "<thead>\n",
       "\t<tr><th scope=col>puntaje</th><th scope=col>fuente</th><th scope=col>comentarios</th></tr>\n",
       "\t<tr><th scope=col>&lt;dbl&gt;</th><th scope=col>&lt;fct&gt;</th><th scope=col>&lt;fct&gt;</th></tr>\n",
       "</thead>\n",
       "<tbody>\n",
       "\t<tr><td>4.5</td><td>IMDb1</td><td>La mejor película de terror que he visto                        </td></tr>\n",
       "\t<tr><td>4.0</td><td>IMDB2</td><td>Una película realmente brillante y aterradora de Stanley Kubrick</td></tr>\n",
       "\t<tr><td>5.0</td><td>IMDB3</td><td>Una obra maestra del horror psicológico                         </td></tr>\n",
       "</tbody>\n",
       "</table>\n"
      ],
      "text/latex": [
       "A data.frame: 3 × 3\n",
       "\\begin{tabular}{lll}\n",
       " puntaje & fuente & comentarios\\\\\n",
       " <dbl> & <fct> & <fct>\\\\\n",
       "\\hline\n",
       "\t 4.5 & IMDb1 & La mejor película de terror que he visto                        \\\\\n",
       "\t 4.0 & IMDB2 & Una película realmente brillante y aterradora de Stanley Kubrick\\\\\n",
       "\t 5.0 & IMDB3 & Una obra maestra del horror psicológico                         \\\\\n",
       "\\end{tabular}\n"
      ],
      "text/markdown": [
       "\n",
       "A data.frame: 3 × 3\n",
       "\n",
       "| puntaje &lt;dbl&gt; | fuente &lt;fct&gt; | comentarios &lt;fct&gt; |\n",
       "|---|---|---|\n",
       "| 4.5 | IMDb1 | La mejor película de terror que he visto                         |\n",
       "| 4.0 | IMDB2 | Una película realmente brillante y aterradora de Stanley Kubrick |\n",
       "| 5.0 | IMDB3 | Una obra maestra del horror psicológico                          |\n",
       "\n"
      ],
      "text/plain": [
       "  puntaje fuente\n",
       "1 4.5     IMDb1 \n",
       "2 4.0     IMDB2 \n",
       "3 5.0     IMDB3 \n",
       "  comentarios                                                     \n",
       "1 La mejor película de terror que he visto                        \n",
       "2 Una película realmente brillante y aterradora de Stanley Kubrick\n",
       "3 Una obra maestra del horror psicológico                         "
      ]
     },
     "metadata": {},
     "output_type": "display_data"
    }
   ],
   "source": [
    "el_resplandor[[\"reseñas\"]]\n",
    "el_resplandor$reseñas"
   ]
  },
  {
   "cell_type": "markdown",
   "metadata": {},
   "source": [
    "Además de seleccionar componentes, a menudo necesita seleccionar elementos específicos de estos componentes. Por ejemplo:"
   ]
  },
  {
   "cell_type": "code",
   "execution_count": 85,
   "metadata": {},
   "outputs": [
    {
     "data": {
      "text/html": [
       "'Jack Nicholson'"
      ],
      "text/latex": [
       "'Jack Nicholson'"
      ],
      "text/markdown": [
       "'Jack Nicholson'"
      ],
      "text/plain": [
       "[1] \"Jack Nicholson\""
      ]
     },
     "metadata": {},
     "output_type": "display_data"
    }
   ],
   "source": [
    "el_resplandor[[2]][1]"
   ]
  },
  {
   "cell_type": "markdown",
   "metadata": {},
   "source": [
    "Selecciona del segundo componente, **actores** (shining_list [[2]]) y dentro de ese componente el primer elemento ([1]). <br>\n",
    "Practica seleccionando el vector de actores y de este elige el 3er elemento"
   ]
  },
  {
   "cell_type": "code",
   "execution_count": 86,
   "metadata": {},
   "outputs": [
    {
     "data": {
      "text/html": [
       "<style>\n",
       ".list-inline {list-style: none; margin:0; padding: 0}\n",
       ".list-inline>li {display: inline-block}\n",
       ".list-inline>li:not(:last-child)::after {content: \"\\00b7\"; padding: 0 .5ex}\n",
       "</style>\n",
       "<ol class=list-inline><li>'Jack Nicholson'</li><li>'Shelley Duvall'</li><li>'Danny Lloyd'</li><li>'Scatman Crothers'</li><li>'Barry Nelson'</li></ol>\n"
      ],
      "text/latex": [
       "\\begin{enumerate*}\n",
       "\\item 'Jack Nicholson'\n",
       "\\item 'Shelley Duvall'\n",
       "\\item 'Danny Lloyd'\n",
       "\\item 'Scatman Crothers'\n",
       "\\item 'Barry Nelson'\n",
       "\\end{enumerate*}\n"
      ],
      "text/markdown": [
       "1. 'Jack Nicholson'\n",
       "2. 'Shelley Duvall'\n",
       "3. 'Danny Lloyd'\n",
       "4. 'Scatman Crothers'\n",
       "5. 'Barry Nelson'\n",
       "\n",
       "\n"
      ],
      "text/plain": [
       "[1] \"Jack Nicholson\"   \"Shelley Duvall\"   \"Danny Lloyd\"      \"Scatman Crothers\"\n",
       "[5] \"Barry Nelson\"    "
      ]
     },
     "metadata": {},
     "output_type": "display_data"
    },
    {
     "data": {
      "text/html": [
       "'Danny Lloyd'"
      ],
      "text/latex": [
       "'Danny Lloyd'"
      ],
      "text/markdown": [
       "'Danny Lloyd'"
      ],
      "text/plain": [
       "[1] \"Danny Lloyd\""
      ]
     },
     "metadata": {},
     "output_type": "display_data"
    }
   ],
   "source": [
    "el_resplandor$actores\n",
    "el_resplandor[[2]][3]"
   ]
  },
  {
   "cell_type": "code",
   "execution_count": null,
   "metadata": {},
   "outputs": [],
   "source": []
  }
 ],
 "metadata": {
  "kernelspec": {
   "display_name": "R",
   "language": "R",
   "name": "ir"
  },
  "language_info": {
   "codemirror_mode": "r",
   "file_extension": ".r",
   "mimetype": "text/x-r-source",
   "name": "R",
   "pygments_lexer": "r",
   "version": "3.6.2"
  }
 },
 "nbformat": 4,
 "nbformat_minor": 4
}
